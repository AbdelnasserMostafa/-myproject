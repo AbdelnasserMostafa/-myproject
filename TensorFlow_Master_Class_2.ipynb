{
  "nbformat": 4,
  "nbformat_minor": 0,
  "metadata": {
    "colab": {
      "name": "TensorFlow Master Class_2.ipynb",
      "provenance": [],
      "collapsed_sections": [],
      "include_colab_link": true
    },
    "kernelspec": {
      "name": "python3",
      "display_name": "Python 3"
    },
    "accelerator": "GPU"
  },
  "cells": [
    {
      "cell_type": "markdown",
      "metadata": {
        "id": "view-in-github",
        "colab_type": "text"
      },
      "source": [
        "<a href=\"https://colab.research.google.com/github/AbdelnasserMostafa/-myproject/blob/master/TensorFlow_Master_Class_2.ipynb\" target=\"_parent\"><img src=\"https://colab.research.google.com/assets/colab-badge.svg\" alt=\"Open In Colab\"/></a>"
      ]
    },
    {
      "cell_type": "code",
      "metadata": {
        "id": "Ov6JfQiVoYo8",
        "colab": {
          "base_uri": "https://localhost:8080/",
          "height": 1000
        },
        "outputId": "52bb03df-6efa-4b4f-f30a-dfa4af9ba346"
      },
      "source": [
        "# Simpoe-Autoencoder\n",
        "\n",
        "import numpy as np\n",
        "import matplotlib.pyplot as plt\n",
        "%matplotlib inline\n",
        "\n",
        "# Create Some Data\n",
        "from sklearn.datasets import make_blobs\n",
        "data = make_blobs(n_samples=100, n_features=3, centers=2, random_state=101)\n",
        "data"
      ],
      "execution_count": null,
      "outputs": [
        {
          "output_type": "execute_result",
          "data": {
            "text/plain": [
              "(array([[  0.99429187,   0.87511711,  -9.99909683],\n",
              "        [  0.65761885,   0.91624771, -10.18458517],\n",
              "        [ -6.48804352,   3.29034852,   6.73159871],\n",
              "        [  0.5815206 ,   2.06249948,  -9.07157495],\n",
              "        [ -7.42442678,   5.30835517,   6.86341624],\n",
              "        [  2.26790487,   0.40816482, -10.17230518],\n",
              "        [  1.62073713,  -0.05416228,  -9.92461083],\n",
              "        [  2.41199108,   1.03683306,  -9.20017913],\n",
              "        [ -7.62441747,   5.87096075,   5.41069708],\n",
              "        [ -7.34160752,   3.671108  ,   7.36634568],\n",
              "        [ -7.56358517,   3.5736335 ,   5.34284552],\n",
              "        [  2.22972735,   1.6514787 ,  -7.43386319],\n",
              "        [ -0.75249891,   2.31574949,  -9.26873428],\n",
              "        [  0.54946324,   0.5581557 ,  -7.88852506],\n",
              "        [ -0.4308995 ,   0.48011452,  -8.47545896],\n",
              "        [ -1.19436032,   2.54705473,  -8.90232874],\n",
              "        [ -0.06318407,   2.4416449 , -11.40312057],\n",
              "        [ -6.70999871,   3.8246846 ,   7.34365184],\n",
              "        [  1.32054601,   2.60559237, -10.47729501],\n",
              "        [  0.15391601,   2.19349145,  -9.8137736 ],\n",
              "        [  0.32833903,   2.43933589,  -9.58711337],\n",
              "        [ -7.01543966,   4.3914134 ,   9.46294692],\n",
              "        [  0.16543782,   1.89916047,  -9.03802666],\n",
              "        [  0.7185004 ,   1.58025637,  -9.24601361],\n",
              "        [ -7.65700277,   1.13777271,   7.33896645],\n",
              "        [ -7.12044288,   4.64758461,   5.7025879 ],\n",
              "        [  1.93475242,   0.29764177, -10.81589403],\n",
              "        [ -6.4220804 ,   2.9760733 ,   5.9578275 ],\n",
              "        [ -7.39003004,   2.67596248,   5.15308172],\n",
              "        [ -7.03832316,   4.56563667,   6.9080243 ],\n",
              "        [ -4.07557669,   3.15827975,   7.17466421],\n",
              "        [ -0.61543385,   1.89810338,  -9.54728879],\n",
              "        [  0.9339379 ,  -0.60481651,  -8.69039341],\n",
              "        [ -4.81755245,   4.40108636,   6.83159809],\n",
              "        [  0.57115017,   2.27751662, -10.99144692],\n",
              "        [ -1.0016875 ,   1.45481168,  -9.84157087],\n",
              "        [  1.7353108 ,   2.05515725, -10.33561537],\n",
              "        [ -8.68467997,   3.42602942,   7.74064767],\n",
              "        [  0.9790905 ,   1.09403369, -10.27859245],\n",
              "        [ -5.79759684,   3.99975626,   5.28641819],\n",
              "        [  2.44569994,   1.61087572,  -7.12752821],\n",
              "        [  1.81046805,   2.37480989, -11.57172776],\n",
              "        [ -6.24790729,   4.71286377,   7.00772091],\n",
              "        [ -8.20249087,   4.507669  ,   5.01040047],\n",
              "        [  1.00918185,   2.44847681,  -9.46167595],\n",
              "        [ -6.78887759,   3.65986315,   6.69035824],\n",
              "        [  0.51876688,   3.39210906,  -6.82454819],\n",
              "        [ -8.40882774,   4.56913524,   5.60134675],\n",
              "        [ -0.44335605,   1.52382915, -10.23516698],\n",
              "        [ -5.24785153,   4.49966814,   8.03764923],\n",
              "        [ -6.13431395,   4.96544332,   6.2300389 ],\n",
              "        [ -1.37811338,   0.25423232,  -9.56535619],\n",
              "        [  0.29639341,   2.06317757,  -7.27566903],\n",
              "        [ -6.17610612,   3.075033  ,   5.27964757],\n",
              "        [ -0.53891248,   2.13413934, -10.65359751],\n",
              "        [ -5.43954882,   4.60333595,   7.00880287],\n",
              "        [  0.85678605,   0.8243512 ,  -9.24182016],\n",
              "        [ -0.65480344,   3.64490698, -10.40190804],\n",
              "        [ -6.05573415,   2.7773348 ,   7.52484115],\n",
              "        [ -0.80584461,   2.02382964,  -9.04448516],\n",
              "        [ -0.2822863 ,   0.6580264 ,  -9.77693397],\n",
              "        [ -5.66674102,   3.16763048,   5.12826615],\n",
              "        [  1.35278283,   0.48747748,  -7.56765133],\n",
              "        [ -6.47593889,   4.94635225,   5.58024423],\n",
              "        [ -6.86800262,   3.73468111,   7.56696814],\n",
              "        [ -6.65886532,   4.40410604,   5.26881157],\n",
              "        [ -7.14994986,   4.91456692,   7.87968128],\n",
              "        [  1.05699629,   0.55026047,  -9.12488396],\n",
              "        [  0.51509708,   0.68050659, -10.81343557],\n",
              "        [ -5.53765102,   2.62442136,   6.67758229],\n",
              "        [ -5.69865986,   5.29135203,   7.60759509],\n",
              "        [  1.16100188,   2.38907142,  -9.81875417],\n",
              "        [  0.47499933,   0.9339037 ,  -8.87174606],\n",
              "        [ -9.30656147,   5.22810174,   6.85594634],\n",
              "        [  1.1112886 ,   0.704398  ,  -8.84366818],\n",
              "        [ -6.16198043,   4.51338238,   3.94147281],\n",
              "        [ -7.80518114,   2.90711167,   7.43205869],\n",
              "        [  0.0760756 ,   0.83523148,  -9.19351984],\n",
              "        [  0.52875302,   1.74119648,  -8.75603028],\n",
              "        [ -5.95090888,   1.65297671,   6.51129114],\n",
              "        [ -5.96070958,   3.99201262,   6.47214495],\n",
              "        [ -5.04581642,   4.99576956,   5.19961789],\n",
              "        [ -7.37241005,   3.45206025,   6.768636  ],\n",
              "        [ -6.78944842,   3.99833476,   7.51229177],\n",
              "        [ -7.55471973,   3.55026388,   5.66470924],\n",
              "        [ -0.66529095,   1.61015124, -10.56716006],\n",
              "        [ -4.54002269,   2.65918125,   5.37145495],\n",
              "        [ -1.3503111 ,   1.74732484,  -9.962986  ],\n",
              "        [  1.01148144,   1.71601719,  -7.73679255],\n",
              "        [ -8.4775757 ,   3.32543613,   5.01187807],\n",
              "        [ -1.29337527,   2.09088685,  -9.40440999],\n",
              "        [ -6.35533268,   3.46502969,   5.25698778],\n",
              "        [ -0.08134593,   1.75689092,  -9.23424015],\n",
              "        [  1.13567847,   1.48631141,  -8.79172846],\n",
              "        [ -6.40192863,   2.93960956,   7.64023642],\n",
              "        [ -6.85482364,   5.79607878,   7.6819934 ],\n",
              "        [ -7.63261577,   3.58015883,   5.73234913],\n",
              "        [ -6.90248768,   2.77693736,   8.39388742],\n",
              "        [ -6.3033601 ,   4.1181198 ,   7.6667101 ],\n",
              "        [ -7.19637228,   3.31445067,   8.4214142 ]]),\n",
              " array([0, 0, 1, 0, 1, 0, 0, 0, 1, 1, 1, 0, 0, 0, 0, 0, 0, 1, 0, 0, 0, 1,\n",
              "        0, 0, 1, 1, 0, 1, 1, 1, 1, 0, 0, 1, 0, 0, 0, 1, 0, 1, 0, 0, 1, 1,\n",
              "        0, 1, 0, 1, 0, 1, 1, 0, 0, 1, 0, 1, 0, 0, 1, 0, 0, 1, 0, 1, 1, 1,\n",
              "        1, 0, 0, 1, 1, 0, 0, 1, 0, 1, 1, 0, 0, 1, 1, 1, 1, 1, 1, 0, 1, 0,\n",
              "        0, 1, 0, 1, 0, 0, 1, 1, 1, 1, 1, 1]))"
            ]
          },
          "metadata": {
            "tags": []
          },
          "execution_count": 1
        }
      ]
    },
    {
      "cell_type": "code",
      "metadata": {
        "id": "JxhExOALpN8J",
        "colab": {
          "base_uri": "https://localhost:8080/",
          "height": 248
        },
        "outputId": "273a9720-2fa4-48a3-a8a2-b5afd099aa73"
      },
      "source": [
        "# Scale the Data\n",
        "from sklearn.preprocessing import MinMaxScaler\n",
        "scaler = MinMaxScaler()\n",
        "scaled_data = scaler.fit_transform(data[0])\n",
        "\n",
        "# data[0]\n",
        "data_x = scaled_data[:, 0]\n",
        "data_y = scaled_data[:, 1]\n",
        "data_z = scaled_data[:, 2]\n",
        "\n",
        "from mpl_toolkits.mplot3d import Axes3D\n",
        "fig = plt.figure()\n",
        "ax = fig.add_subplot(111, projection='3d')"
      ],
      "execution_count": null,
      "outputs": [
        {
          "output_type": "display_data",
          "data": {
            "image/png": "[encoded data removed]",
            "text/plain": [
              "<Figure size 432x288 with 1 Axes>"
            ]
          },
          "metadata": {
            "tags": []
          }
        }
      ]
    },
    {
      "cell_type": "code",
      "metadata": {
        "id": "v_iuGsgvqPS0",
        "colab": {
          "base_uri": "https://localhost:8080/",
          "height": 265
        },
        "outputId": "e7d28483-03ed-4854-b148-961f214b9150"
      },
      "source": [
        "fig = plt.figure()\n",
        "ax = fig.add_subplot(111, projection='3d')\n",
        "ax.scatter(data_x, data_y, data_z, c=data[1])"
      ],
      "execution_count": null,
      "outputs": [
        {
          "output_type": "execute_result",
          "data": {
            "text/plain": [
              "<mpl_toolkits.mplot3d.art3d.Path3DCollection at 0x7fe401883710>"
            ]
          },
          "metadata": {
            "tags": []
          },
          "execution_count": 3
        },
        {
          "output_type": "display_data",
          "data": {
            "image/png": "[encoded data removed]",
            "text/plain": [
              "<Figure size 432x288 with 1 Axes>"
            ]
          },
          "metadata": {
            "tags": []
          }
        }
      ]
    },
    {
      "cell_type": "code",
      "metadata": {
        "id": "fAYFKQsvqjOJ"
      },
      "source": [
        "# The Linear Autoencoder\n",
        "import tensorflow as tf\n",
        "from tensorflow.contrib.layers import fully_connected\n",
        "\n",
        "num_inputs = 3   # 3 dimensional input\n",
        "num_hidden = 2   # 2 dimensional representation\n",
        "num_outputs = num_inputs  # Must be true for an autoencoder!\n",
        "learning_rate = 0.01\n",
        "\n",
        "# Placeholder: No there is not real label here, just X.\n",
        "X = tf.placeholder(tf.float32, shape = [None, num_inputs])\n",
        "\n",
        "# Layers:  Using the fully_connected layers API, we do not provide an activation function!\n",
        "hidden = fully_connected(X, num_hidden, activation_fn=None)\n",
        "outputs = fully_connected(hidden, num_outputs, activation_fn=None)\n",
        "\n",
        "# Loss Function\n",
        "loss = tf.reduce_mean(tf.square(outputs - X))  # MSE\n",
        "\n",
        "# Optimizer\n",
        "Optimizer = tf.train.AdamOptimizer(learning_rate)\n",
        "train = Optimizer.minimize( loss)\n",
        "\n",
        "# Init\n",
        "init = tf.global_variables_initializer()\n",
        "\n",
        "# Running the Session\n",
        "num_steps = 1000\n",
        "with tf.Session() as sess:\n",
        "  sess.run(init)\n",
        "  for iteration in range(num_steps):\n",
        "    sess.run(train, feed_dict = {X: scaled_data})\n",
        "  # Now ask for the hidden layer output (the 2 dimensional output)\n",
        "  output_2d = hidden.eval(feed_dict = {X: scaled_data})"
      ],
      "execution_count": null,
      "outputs": []
    },
    {
      "cell_type": "code",
      "metadata": {
        "id": "AHD3kLWXrb0C",
        "colab": {
          "base_uri": "https://localhost:8080/",
          "height": 34
        },
        "outputId": "0aec0729-bb11-432c-d2cb-bd8b273e3cd9"
      },
      "source": [
        "output_2d.shape"
      ],
      "execution_count": null,
      "outputs": [
        {
          "output_type": "execute_result",
          "data": {
            "text/plain": [
              "(100, 2)"
            ]
          },
          "metadata": {
            "tags": []
          },
          "execution_count": 5
        }
      ]
    },
    {
      "cell_type": "code",
      "metadata": {
        "id": "JyZJL3vSuiRd",
        "colab": {
          "base_uri": "https://localhost:8080/",
          "height": 286
        },
        "outputId": "fef81373-f8a3-4210-d617-cf6f571a3852"
      },
      "source": [
        "plt.scatter(output_2d[:, 0], output_2d[:, 1], c=data[1])"
      ],
      "execution_count": null,
      "outputs": [
        {
          "output_type": "execute_result",
          "data": {
            "text/plain": [
              "<matplotlib.collections.PathCollection at 0x7fe3e96140f0>"
            ]
          },
          "metadata": {
            "tags": []
          },
          "execution_count": 6
        },
        {
          "output_type": "display_data",
          "data": {
            "image/png": "[encoded data removed]",
            "text/plain": [
              "<Figure size 432x288 with 1 Axes>"
            ]
          },
          "metadata": {
            "tags": []
          }
        }
      ]
    },
    {
      "cell_type": "code",
      "metadata": {
        "id": "tGykoHXZuvr8"
      },
      "source": [
        "# Linear Autoencoder for PCA"
      ],
      "execution_count": null,
      "outputs": []
    },
    {
      "cell_type": "code",
      "metadata": {
        "id": "US5tm0zavO-K"
      },
      "source": [
        "# The Data:  Import numpy, matplotlib, and pandas\n",
        "import numpy as np\n",
        "import pandas as pd\n",
        "import matplotlib.pyplot as plt\n",
        "%matplotlib inline"
      ],
      "execution_count": null,
      "outputs": []
    },
    {
      "cell_type": "code",
      "metadata": {
        "id": "KuDEObHiwdUX",
        "colab": {
          "base_uri": "https://localhost:8080/",
          "height": 34
        },
        "outputId": "736918e1-5d95-4efe-9ea3-2a8fffe00d98"
      },
      "source": [
        "!git clone https://github.com/rmlowe/Tensorflow-Bootcamp-master.git"
      ],
      "execution_count": null,
      "outputs": [
        {
          "output_type": "stream",
          "text": [
            "fatal: destination path 'Tensorflow-Bootcamp-master' already exists and is not an empty directory.\n"
          ],
          "name": "stdout"
        }
      ]
    },
    {
      "cell_type": "code",
      "metadata": {
        "id": "PkqD2i4owehs",
        "colab": {
          "base_uri": "https://localhost:8080/",
          "height": 221
        },
        "outputId": "cf683254-4c32-4567-944f-a2a98b9e3dff"
      },
      "source": [
        "df = pd.read_csv('/content/Tensorflow-Bootcamp-master/05-Autoencoders/anonymized_data.csv')\n",
        "df.head()"
      ],
      "execution_count": null,
      "outputs": [
        {
          "output_type": "execute_result",
          "data": {
            "text/html": [
              "<div>\n",
              "<style scoped>\n",
              "    .dataframe tbody tr th:only-of-type {\n",
              "        vertical-align: middle;\n",
              "    }\n",
              "\n",
              "    .dataframe tbody tr th {\n",
              "        vertical-align: top;\n",
              "    }\n",
              "\n",
              "    .dataframe thead th {\n",
              "        text-align: right;\n",
              "    }\n",
              "</style>\n",
              "<table border=\"1\" class=\"dataframe\">\n",
              "  <thead>\n",
              "    <tr style=\"text-align: right;\">\n",
              "      <th></th>\n",
              "      <th>EJWY</th>\n",
              "      <th>VALM</th>\n",
              "      <th>EGXO</th>\n",
              "      <th>HTGR</th>\n",
              "      <th>SKRF</th>\n",
              "      <th>NNSZ</th>\n",
              "      <th>NYLC</th>\n",
              "      <th>GWID</th>\n",
              "      <th>TVUT</th>\n",
              "      <th>CJHI</th>\n",
              "      <th>NVFW</th>\n",
              "      <th>VLBG</th>\n",
              "      <th>IDIX</th>\n",
              "      <th>UVHN</th>\n",
              "      <th>IWOT</th>\n",
              "      <th>LEMB</th>\n",
              "      <th>QMYY</th>\n",
              "      <th>XDGR</th>\n",
              "      <th>ODZS</th>\n",
              "      <th>LNJS</th>\n",
              "      <th>WDRT</th>\n",
              "      <th>LKKS</th>\n",
              "      <th>UOBF</th>\n",
              "      <th>VBHE</th>\n",
              "      <th>FRWU</th>\n",
              "      <th>NDYZ</th>\n",
              "      <th>QSBO</th>\n",
              "      <th>JDUB</th>\n",
              "      <th>TEVK</th>\n",
              "      <th>EZTM</th>\n",
              "      <th>Label</th>\n",
              "    </tr>\n",
              "  </thead>\n",
              "  <tbody>\n",
              "    <tr>\n",
              "      <th>0</th>\n",
              "      <td>-2.032145</td>\n",
              "      <td>1.019576</td>\n",
              "      <td>-9.658715</td>\n",
              "      <td>-6.210495</td>\n",
              "      <td>3.156823</td>\n",
              "      <td>7.457850</td>\n",
              "      <td>-5.313357</td>\n",
              "      <td>8.508296</td>\n",
              "      <td>3.959194</td>\n",
              "      <td>-5.246654</td>\n",
              "      <td>0.454458</td>\n",
              "      <td>-3.855839</td>\n",
              "      <td>-6.248326</td>\n",
              "      <td>4.934422</td>\n",
              "      <td>10.008317</td>\n",
              "      <td>-4.298336</td>\n",
              "      <td>-8.814638</td>\n",
              "      <td>3.817839</td>\n",
              "      <td>2.896091</td>\n",
              "      <td>-5.350594</td>\n",
              "      <td>4.048589</td>\n",
              "      <td>-2.209663</td>\n",
              "      <td>-10.340123</td>\n",
              "      <td>-7.697555</td>\n",
              "      <td>-5.932752</td>\n",
              "      <td>10.872688</td>\n",
              "      <td>0.081321</td>\n",
              "      <td>1.276316</td>\n",
              "      <td>5.281225</td>\n",
              "      <td>-0.516447</td>\n",
              "      <td>0.0</td>\n",
              "    </tr>\n",
              "    <tr>\n",
              "      <th>1</th>\n",
              "      <td>8.306217</td>\n",
              "      <td>6.649376</td>\n",
              "      <td>-0.960333</td>\n",
              "      <td>-4.094799</td>\n",
              "      <td>8.738965</td>\n",
              "      <td>-3.458797</td>\n",
              "      <td>7.016800</td>\n",
              "      <td>6.692765</td>\n",
              "      <td>0.898264</td>\n",
              "      <td>9.337643</td>\n",
              "      <td>-9.003987</td>\n",
              "      <td>-8.940399</td>\n",
              "      <td>6.156711</td>\n",
              "      <td>9.587159</td>\n",
              "      <td>-6.242118</td>\n",
              "      <td>-3.958827</td>\n",
              "      <td>2.793432</td>\n",
              "      <td>-6.120728</td>\n",
              "      <td>5.127779</td>\n",
              "      <td>-2.374059</td>\n",
              "      <td>4.341376</td>\n",
              "      <td>0.851793</td>\n",
              "      <td>-9.678324</td>\n",
              "      <td>-6.071795</td>\n",
              "      <td>1.428194</td>\n",
              "      <td>-8.082792</td>\n",
              "      <td>-0.557089</td>\n",
              "      <td>-7.817282</td>\n",
              "      <td>-8.686722</td>\n",
              "      <td>-6.953100</td>\n",
              "      <td>1.0</td>\n",
              "    </tr>\n",
              "    <tr>\n",
              "      <th>2</th>\n",
              "      <td>6.570842</td>\n",
              "      <td>6.985462</td>\n",
              "      <td>-1.842621</td>\n",
              "      <td>-1.569599</td>\n",
              "      <td>10.039339</td>\n",
              "      <td>-3.623026</td>\n",
              "      <td>8.957619</td>\n",
              "      <td>7.577283</td>\n",
              "      <td>1.541255</td>\n",
              "      <td>7.161509</td>\n",
              "      <td>-7.163735</td>\n",
              "      <td>-7.004002</td>\n",
              "      <td>4.678410</td>\n",
              "      <td>9.168494</td>\n",
              "      <td>-7.139517</td>\n",
              "      <td>-4.774317</td>\n",
              "      <td>4.358969</td>\n",
              "      <td>-6.179764</td>\n",
              "      <td>4.207522</td>\n",
              "      <td>0.508184</td>\n",
              "      <td>4.028944</td>\n",
              "      <td>1.376085</td>\n",
              "      <td>-8.971164</td>\n",
              "      <td>-5.302191</td>\n",
              "      <td>2.898965</td>\n",
              "      <td>-8.746597</td>\n",
              "      <td>-0.520888</td>\n",
              "      <td>-7.350999</td>\n",
              "      <td>-8.925501</td>\n",
              "      <td>-7.051179</td>\n",
              "      <td>1.0</td>\n",
              "    </tr>\n",
              "    <tr>\n",
              "      <th>3</th>\n",
              "      <td>-1.139972</td>\n",
              "      <td>0.579422</td>\n",
              "      <td>-9.526530</td>\n",
              "      <td>-5.744928</td>\n",
              "      <td>4.834355</td>\n",
              "      <td>5.907235</td>\n",
              "      <td>-4.804137</td>\n",
              "      <td>6.798810</td>\n",
              "      <td>5.403670</td>\n",
              "      <td>-7.642857</td>\n",
              "      <td>1.430195</td>\n",
              "      <td>-0.991499</td>\n",
              "      <td>-5.153022</td>\n",
              "      <td>5.491574</td>\n",
              "      <td>9.525384</td>\n",
              "      <td>-7.426677</td>\n",
              "      <td>-8.496024</td>\n",
              "      <td>2.671595</td>\n",
              "      <td>4.386845</td>\n",
              "      <td>-4.692552</td>\n",
              "      <td>3.974559</td>\n",
              "      <td>0.270571</td>\n",
              "      <td>-8.640988</td>\n",
              "      <td>-8.105419</td>\n",
              "      <td>-5.079015</td>\n",
              "      <td>9.351282</td>\n",
              "      <td>0.641759</td>\n",
              "      <td>1.898083</td>\n",
              "      <td>3.904671</td>\n",
              "      <td>1.453499</td>\n",
              "      <td>0.0</td>\n",
              "    </tr>\n",
              "    <tr>\n",
              "      <th>4</th>\n",
              "      <td>-1.738104</td>\n",
              "      <td>0.234729</td>\n",
              "      <td>-11.558768</td>\n",
              "      <td>-7.181332</td>\n",
              "      <td>4.189626</td>\n",
              "      <td>7.765274</td>\n",
              "      <td>-2.189083</td>\n",
              "      <td>7.239925</td>\n",
              "      <td>3.135602</td>\n",
              "      <td>-6.211390</td>\n",
              "      <td>-1.132032</td>\n",
              "      <td>-3.827855</td>\n",
              "      <td>-5.659445</td>\n",
              "      <td>4.374395</td>\n",
              "      <td>8.222426</td>\n",
              "      <td>-6.008160</td>\n",
              "      <td>-8.804945</td>\n",
              "      <td>4.699459</td>\n",
              "      <td>3.988987</td>\n",
              "      <td>-4.276795</td>\n",
              "      <td>3.799633</td>\n",
              "      <td>-0.013973</td>\n",
              "      <td>-9.437110</td>\n",
              "      <td>-6.475267</td>\n",
              "      <td>-5.708377</td>\n",
              "      <td>9.623080</td>\n",
              "      <td>1.802899</td>\n",
              "      <td>1.903705</td>\n",
              "      <td>4.188442</td>\n",
              "      <td>1.522362</td>\n",
              "      <td>0.0</td>\n",
              "    </tr>\n",
              "  </tbody>\n",
              "</table>\n",
              "</div>"
            ],
            "text/plain": [
              "       EJWY      VALM       EGXO      HTGR  ...      JDUB      TEVK      EZTM  Label\n",
              "0 -2.032145  1.019576  -9.658715 -6.210495  ...  1.276316  5.281225 -0.516447    0.0\n",
              "1  8.306217  6.649376  -0.960333 -4.094799  ... -7.817282 -8.686722 -6.953100    1.0\n",
              "2  6.570842  6.985462  -1.842621 -1.569599  ... -7.350999 -8.925501 -7.051179    1.0\n",
              "3 -1.139972  0.579422  -9.526530 -5.744928  ...  1.898083  3.904671  1.453499    0.0\n",
              "4 -1.738104  0.234729 -11.558768 -7.181332  ...  1.903705  4.188442  1.522362    0.0\n",
              "\n",
              "[5 rows x 31 columns]"
            ]
          },
          "metadata": {
            "tags": []
          },
          "execution_count": 23
        }
      ]
    },
    {
      "cell_type": "code",
      "metadata": {
        "id": "y4K8hLEfwkbN",
        "colab": {
          "base_uri": "https://localhost:8080/",
          "height": 637
        },
        "outputId": "3d79630a-0350-410b-965f-1166d4fc1d80"
      },
      "source": [
        "df.info()"
      ],
      "execution_count": null,
      "outputs": [
        {
          "output_type": "stream",
          "text": [
            "<class 'pandas.core.frame.DataFrame'>\n",
            "RangeIndex: 500 entries, 0 to 499\n",
            "Data columns (total 31 columns):\n",
            "EJWY     500 non-null float64\n",
            "VALM     500 non-null float64\n",
            "EGXO     500 non-null float64\n",
            "HTGR     500 non-null float64\n",
            "SKRF     500 non-null float64\n",
            "NNSZ     500 non-null float64\n",
            "NYLC     500 non-null float64\n",
            "GWID     500 non-null float64\n",
            "TVUT     500 non-null float64\n",
            "CJHI     500 non-null float64\n",
            "NVFW     500 non-null float64\n",
            "VLBG     500 non-null float64\n",
            "IDIX     500 non-null float64\n",
            "UVHN     500 non-null float64\n",
            "IWOT     500 non-null float64\n",
            "LEMB     500 non-null float64\n",
            "QMYY     500 non-null float64\n",
            "XDGR     500 non-null float64\n",
            "ODZS     500 non-null float64\n",
            "LNJS     500 non-null float64\n",
            "WDRT     500 non-null float64\n",
            "LKKS     500 non-null float64\n",
            "UOBF     500 non-null float64\n",
            "VBHE     500 non-null float64\n",
            "FRWU     500 non-null float64\n",
            "NDYZ     500 non-null float64\n",
            "QSBO     500 non-null float64\n",
            "JDUB     500 non-null float64\n",
            "TEVK     500 non-null float64\n",
            "EZTM     500 non-null float64\n",
            "Label    500 non-null float64\n",
            "dtypes: float64(31)\n",
            "memory usage: 121.2 KB\n"
          ],
          "name": "stdout"
        }
      ]
    },
    {
      "cell_type": "code",
      "metadata": {
        "id": "7ucTxBH0xbjh",
        "colab": {
          "base_uri": "https://localhost:8080/",
          "height": 378
        },
        "outputId": "b06b145a-6d52-41e3-f178-d0de6f4d5ec1"
      },
      "source": [
        "# Scale the Data\n",
        "# use scikit learning to scale the data with MinMaxScaler. Remember not to scale the Label column. just the data.\n",
        "# Save this scaled data as a new variable called scaled_data **\n",
        "\n",
        "from sklearn.preprocessing import MinMaxScaler\n",
        "scaler = MinMaxScaler()\n",
        "scaled_data = scaler.fit_transform(df.drop('Label',axis=1))\n",
        "\n",
        "# The Linear Autoencoder:\n",
        "import tensorflow as tf\n",
        "from tensorflow.contrib.layers import fully_connected\n",
        "\n",
        "# Fill out the number of inputs to fil the dimensions of the data set and set the hidden number on units to be 2.\n",
        "# Also set the number of outputs to match the number of input.  Also choose a learning_rate value.\n",
        "num_inputs = 3  # 3 dimensional input\n",
        "num_hidden = 2  # 2 dimensional representation \n",
        "num_outputs = num_inputs # Must be true for an autoencoder!\n",
        "learning_rate = 0.01\n",
        "\n",
        "# Placeholder: Create a placeholder for the data called X.\n",
        "X = tf.placeholder(tf.float32, shape=[None, num_inputs])\n",
        "\n",
        "# Layers: Create the hidded layer and the output laryes using the fully_connected.\n",
        "# Remember that to perform PCA there is no activation function.\n",
        "hidden = fully_connected(X, num_hidden, activation_fn=None)\n",
        "outputs = fully_connected(hidden, num_outputs, activation_fn=None)\n",
        "\n",
        "# Loss Function: Create a Mean Squared Error loss function\n",
        "loss = tf.reduce_mean(tf.square(outputs - X))  # MSE\n",
        "\n",
        "# Optimizer: Create an AdamOptimizer designed to minimize the previous loss function\n",
        "optimizer = tf.train.AdamOptimizer(learning_rate)\n",
        "train  = optimizer.minimize( loss)\n",
        "\n",
        "# Init:  Create and instance of a global variable initializer\n",
        "init = tf.global_variables_initializer()\n",
        "\n",
        "# Running the Session\n",
        "# Now create a Tensorflow session that runs the optimizer for at least 1000 steps\n",
        "# You can also use epochs if you prefer, where 1 epoch is defined by one single run through the entire dataset.\n",
        "num_steps = 1000\n",
        "with tf.Session() as sess:\n",
        "    sess.run(init)   \n",
        "    for iteration in range(num_steps):\n",
        "        sess.run(train,feed_dict={X: scaled_data})\n",
        "\n",
        "  # Now create a session that runs the scaled data through the hidden layer.\n",
        "  # You could have also done this in the last step after all the training steps\n",
        "with tf.Session() as sess:\n",
        "    sess.run(init)\n",
        "        \n",
        "    # Now ask for the hidden layer output (the 2 dimensional output)\n",
        "    output_2d = hidden.eval(feed_dict={X: scaled_data})"
      ],
      "execution_count": null,
      "outputs": [
        {
          "output_type": "error",
          "ename": "ValueError",
          "evalue": "ignored",
          "traceback": [
            "\u001b[0;31m---------------------------------------------------------------------------\u001b[0m",
            "\u001b[0;31mValueError\u001b[0m                                Traceback (most recent call last)",
            "\u001b[0;32m<ipython-input-25-66b35e198585>\u001b[0m in \u001b[0;36m<module>\u001b[0;34m()\u001b[0m\n\u001b[1;32m     40\u001b[0m     \u001b[0msess\u001b[0m\u001b[0;34m.\u001b[0m\u001b[0mrun\u001b[0m\u001b[0;34m(\u001b[0m\u001b[0minit\u001b[0m\u001b[0;34m)\u001b[0m\u001b[0;34m\u001b[0m\u001b[0;34m\u001b[0m\u001b[0m\n\u001b[1;32m     41\u001b[0m     \u001b[0;32mfor\u001b[0m \u001b[0miteration\u001b[0m \u001b[0;32min\u001b[0m \u001b[0mrange\u001b[0m\u001b[0;34m(\u001b[0m\u001b[0mnum_steps\u001b[0m\u001b[0;34m)\u001b[0m\u001b[0;34m:\u001b[0m\u001b[0;34m\u001b[0m\u001b[0;34m\u001b[0m\u001b[0m\n\u001b[0;32m---> 42\u001b[0;31m         \u001b[0msess\u001b[0m\u001b[0;34m.\u001b[0m\u001b[0mrun\u001b[0m\u001b[0;34m(\u001b[0m\u001b[0mtrain\u001b[0m\u001b[0;34m,\u001b[0m\u001b[0mfeed_dict\u001b[0m\u001b[0;34m=\u001b[0m\u001b[0;34m{\u001b[0m\u001b[0mX\u001b[0m\u001b[0;34m:\u001b[0m \u001b[0mscaled_data\u001b[0m\u001b[0;34m}\u001b[0m\u001b[0;34m)\u001b[0m\u001b[0;34m\u001b[0m\u001b[0;34m\u001b[0m\u001b[0m\n\u001b[0m\u001b[1;32m     43\u001b[0m \u001b[0;34m\u001b[0m\u001b[0m\n\u001b[1;32m     44\u001b[0m   \u001b[0;31m# Now create a session that runs the scaled data through the hidden layer.\u001b[0m\u001b[0;34m\u001b[0m\u001b[0;34m\u001b[0m\u001b[0;34m\u001b[0m\u001b[0m\n",
            "\u001b[0;32m/usr/local/lib/python3.6/dist-packages/tensorflow/python/client/session.py\u001b[0m in \u001b[0;36mrun\u001b[0;34m(self, fetches, feed_dict, options, run_metadata)\u001b[0m\n\u001b[1;32m    948\u001b[0m     \u001b[0;32mtry\u001b[0m\u001b[0;34m:\u001b[0m\u001b[0;34m\u001b[0m\u001b[0;34m\u001b[0m\u001b[0m\n\u001b[1;32m    949\u001b[0m       result = self._run(None, fetches, feed_dict, options_ptr,\n\u001b[0;32m--> 950\u001b[0;31m                          run_metadata_ptr)\n\u001b[0m\u001b[1;32m    951\u001b[0m       \u001b[0;32mif\u001b[0m \u001b[0mrun_metadata\u001b[0m\u001b[0;34m:\u001b[0m\u001b[0;34m\u001b[0m\u001b[0;34m\u001b[0m\u001b[0m\n\u001b[1;32m    952\u001b[0m         \u001b[0mproto_data\u001b[0m \u001b[0;34m=\u001b[0m \u001b[0mtf_session\u001b[0m\u001b[0;34m.\u001b[0m\u001b[0mTF_GetBuffer\u001b[0m\u001b[0;34m(\u001b[0m\u001b[0mrun_metadata_ptr\u001b[0m\u001b[0;34m)\u001b[0m\u001b[0;34m\u001b[0m\u001b[0;34m\u001b[0m\u001b[0m\n",
            "\u001b[0;32m/usr/local/lib/python3.6/dist-packages/tensorflow/python/client/session.py\u001b[0m in \u001b[0;36m_run\u001b[0;34m(self, handle, fetches, feed_dict, options, run_metadata)\u001b[0m\n\u001b[1;32m   1147\u001b[0m                              \u001b[0;34m'which has shape %r'\u001b[0m \u001b[0;34m%\u001b[0m\u001b[0;34m\u001b[0m\u001b[0;34m\u001b[0m\u001b[0m\n\u001b[1;32m   1148\u001b[0m                              (np_val.shape, subfeed_t.name,\n\u001b[0;32m-> 1149\u001b[0;31m                               str(subfeed_t.get_shape())))\n\u001b[0m\u001b[1;32m   1150\u001b[0m           \u001b[0;32mif\u001b[0m \u001b[0;32mnot\u001b[0m \u001b[0mself\u001b[0m\u001b[0;34m.\u001b[0m\u001b[0mgraph\u001b[0m\u001b[0;34m.\u001b[0m\u001b[0mis_feedable\u001b[0m\u001b[0;34m(\u001b[0m\u001b[0msubfeed_t\u001b[0m\u001b[0;34m)\u001b[0m\u001b[0;34m:\u001b[0m\u001b[0;34m\u001b[0m\u001b[0;34m\u001b[0m\u001b[0m\n\u001b[1;32m   1151\u001b[0m             \u001b[0;32mraise\u001b[0m \u001b[0mValueError\u001b[0m\u001b[0;34m(\u001b[0m\u001b[0;34m'Tensor %s may not be fed.'\u001b[0m \u001b[0;34m%\u001b[0m \u001b[0msubfeed_t\u001b[0m\u001b[0;34m)\u001b[0m\u001b[0;34m\u001b[0m\u001b[0;34m\u001b[0m\u001b[0m\n",
            "\u001b[0;31mValueError\u001b[0m: Cannot feed value of shape (500, 30) for Tensor 'Placeholder_7:0', which has shape '(?, 3)'"
          ]
        }
      ]
    },
    {
      "cell_type": "code",
      "metadata": {
        "id": "vbuRNF21yIqo",
        "colab": {
          "base_uri": "https://localhost:8080/",
          "height": 34
        },
        "outputId": "627e1818-76a9-4fd1-906e-df141d48ca7a"
      },
      "source": [
        "  # Confirm that your output is now 2 dimensional along the previous axis of 40 features\n",
        "  output_2d.shape"
      ],
      "execution_count": null,
      "outputs": [
        {
          "output_type": "execute_result",
          "data": {
            "text/plain": [
              "(100, 2)"
            ]
          },
          "metadata": {
            "tags": []
          },
          "execution_count": 26
        }
      ]
    },
    {
      "cell_type": "code",
      "metadata": {
        "id": "WB-5bkYA4z6a"
      },
      "source": [
        "#plt.scatter(output_2d[:,0],output_2d[:,1],c=df['Label'])"
      ],
      "execution_count": null,
      "outputs": []
    },
    {
      "cell_type": "code",
      "metadata": {
        "id": "uHRrzC4O44kz"
      },
      "source": [
        "# Stacked Autoencoder"
      ],
      "execution_count": null,
      "outputs": []
    },
    {
      "cell_type": "code",
      "metadata": {
        "id": "vdPGdMqx5_uE",
        "colab": {
          "base_uri": "https://localhost:8080/",
          "height": 416
        },
        "outputId": "2de3c7e5-0b4c-471d-cff4-eef00b1e1b9e"
      },
      "source": [
        "import numpy as np\n",
        "import matplotlib.pyplot as plt\n",
        "%matplotlib inline\n",
        "import tensorflow as tf\n",
        "from tensorflow.examples.tutorials.mnist import input_data\n",
        "\n",
        "mnist = input_data.read_data_sets('/content/Tensorflow-Bootcamp-master/03-Convolutional-Neural-Networks/MNIST_data/', one_hot=True)"
      ],
      "execution_count": null,
      "outputs": [
        {
          "output_type": "stream",
          "text": [
            "WARNING:tensorflow:From <ipython-input-2-37629cb5a1cd>:7: read_data_sets (from tensorflow.contrib.learn.python.learn.datasets.mnist) is deprecated and will be removed in a future version.\n",
            "Instructions for updating:\n",
            "Please use alternatives such as official/mnist/dataset.py from tensorflow/models.\n",
            "WARNING:tensorflow:From /usr/local/lib/python3.6/dist-packages/tensorflow/contrib/learn/python/learn/datasets/mnist.py:260: maybe_download (from tensorflow.contrib.learn.python.learn.datasets.base) is deprecated and will be removed in a future version.\n",
            "Instructions for updating:\n",
            "Please write your own downloading logic.\n",
            "WARNING:tensorflow:From /usr/local/lib/python3.6/dist-packages/tensorflow/contrib/learn/python/learn/datasets/mnist.py:262: extract_images (from tensorflow.contrib.learn.python.learn.datasets.mnist) is deprecated and will be removed in a future version.\n",
            "Instructions for updating:\n",
            "Please use tf.data to implement this functionality.\n",
            "Extracting /content/Tensorflow-Bootcamp-master/03-Convolutional-Neural-Networks/MNIST_data/train-images-idx3-ubyte.gz\n",
            "WARNING:tensorflow:From /usr/local/lib/python3.6/dist-packages/tensorflow/contrib/learn/python/learn/datasets/mnist.py:267: extract_labels (from tensorflow.contrib.learn.python.learn.datasets.mnist) is deprecated and will be removed in a future version.\n",
            "Instructions for updating:\n",
            "Please use tf.data to implement this functionality.\n",
            "Extracting /content/Tensorflow-Bootcamp-master/03-Convolutional-Neural-Networks/MNIST_data/train-labels-idx1-ubyte.gz\n",
            "WARNING:tensorflow:From /usr/local/lib/python3.6/dist-packages/tensorflow/contrib/learn/python/learn/datasets/mnist.py:110: dense_to_one_hot (from tensorflow.contrib.learn.python.learn.datasets.mnist) is deprecated and will be removed in a future version.\n",
            "Instructions for updating:\n",
            "Please use tf.one_hot on tensors.\n",
            "Extracting /content/Tensorflow-Bootcamp-master/03-Convolutional-Neural-Networks/MNIST_data/t10k-images-idx3-ubyte.gz\n",
            "Extracting /content/Tensorflow-Bootcamp-master/03-Convolutional-Neural-Networks/MNIST_data/t10k-labels-idx1-ubyte.gz\n",
            "WARNING:tensorflow:From /usr/local/lib/python3.6/dist-packages/tensorflow/contrib/learn/python/learn/datasets/mnist.py:290: DataSet.__init__ (from tensorflow.contrib.learn.python.learn.datasets.mnist) is deprecated and will be removed in a future version.\n",
            "Instructions for updating:\n",
            "Please use alternatives such as official/mnist/dataset.py from tensorflow/models.\n"
          ],
          "name": "stdout"
        }
      ]
    },
    {
      "cell_type": "code",
      "metadata": {
        "id": "DOWitCY96wXn",
        "colab": {
          "base_uri": "https://localhost:8080/",
          "height": 34
        },
        "outputId": "42b531db-621d-4208-f2cd-a170175e36b2"
      },
      "source": [
        "tf.reset_default_graph"
      ],
      "execution_count": null,
      "outputs": [
        {
          "output_type": "execute_result",
          "data": {
            "text/plain": [
              "<function tensorflow.python.framework.ops.reset_default_graph>"
            ]
          },
          "metadata": {
            "tags": []
          },
          "execution_count": 3
        }
      ]
    },
    {
      "cell_type": "code",
      "metadata": {
        "id": "Zqo9Dm3C7Dy-",
        "colab": {
          "base_uri": "https://localhost:8080/",
          "height": 103
        },
        "outputId": "6f2ad703-1125-4045-f2e6-70433b82a897"
      },
      "source": [
        "# Parameters\n",
        "num_inputs = 784 # 28*28\n",
        "neurons_hid1 = 392\n",
        "neurons_hid2 = 196\n",
        "neurons_hid3 = neurons_hid1 # Decoder Begins\n",
        "num_outputs = num_inputs\n",
        "learning_rate = 0.01\n",
        "\n",
        "# Activation function\n",
        "actf =tf.nn.relu\n",
        "\n",
        "# Placeholder\n",
        "X = tf.placeholder(tf.float32, shape=[None, num_inputs])\n",
        "\n",
        "# Weights\n",
        "initializer = tf.variance_scaling_initializer()\n",
        "\n",
        "w1 = tf.Variable(initializer([num_inputs, neurons_hid1]), dtype=tf.float32)\n",
        "w2 = tf.Variable(initializer([neurons_hid1, neurons_hid2]), dtype=tf.float32)\n",
        "w3 = tf.Variable(initializer([neurons_hid2, neurons_hid3]), dtype=tf.float32)\n",
        "w4 = tf.Variable(initializer([neurons_hid3, num_outputs]), dtype=tf.float32)\n",
        "\n",
        "# Biases\n",
        "b1 = tf.Variable(tf.zeros(neurons_hid1))\n",
        "b2 = tf.Variable(tf.zeros(neurons_hid2))\n",
        "b3 = tf.Variable(tf.zeros(neurons_hid3))\n",
        "b4 = tf.Variable(tf.zeros(num_outputs))\n",
        "\n",
        "# Activation Function and Layers\n",
        "act_func = tf.nn.relu\n",
        "hid_layer1 = act_func(tf.matmul(X, w1) + b1)\n",
        "hid_layer2 = act_func(tf.matmul(hid_layer1, w2) + b2)\n",
        "hid_layer3 = act_func(tf.matmul(hid_layer2, w3) + b3)\n",
        "output_layer = tf.matmul(hid_layer3, w4) + b4\n",
        "\n",
        "# Loss Function\n",
        "loss = tf.reduce_mean(tf.square(output_layer - X))\n",
        "\n",
        "# Optimizer\n",
        "# tf.train.RMSPropOptimizer\n",
        "optimizer = tf.train.AdamOptimizer(learning_rate)\n",
        "train = optimizer.minimize(loss)\n",
        "\n",
        "# Initialize Variables\n",
        "init = tf.global_variables_initializer()\n",
        "saver = tf.train.Saver()\n",
        "\n",
        "num_epochs = 5\n",
        "batch_size = 150\n",
        "\n",
        "with tf.Session() as sess:\n",
        "    sess.run(init)\n",
        "    \n",
        "    # Epoch == Entire Training Set\n",
        "    for epoch in range(num_epochs):\n",
        "        \n",
        "        num_batches = mnist.train.num_examples // batch_size\n",
        "        \n",
        "        # 150 batch size\n",
        "        for iteration in range(num_batches):\n",
        "            \n",
        "            X_batch, y_batch = mnist.train.next_batch(batch_size)\n",
        "            sess.run(train, feed_dict={X: X_batch})\n",
        "            \n",
        "        training_loss = loss.eval(feed_dict={X: X_batch})   \n",
        "        \n",
        "        print(\"Epoch {} Complete. Training Loss: {}\".format(epoch,training_loss))\n",
        "     \n",
        "    saver.save(sess, \"./stacked_autoencoder.ckpt\")      "
      ],
      "execution_count": null,
      "outputs": [
        {
          "output_type": "stream",
          "text": [
            "Epoch 0 Complete. Training Loss: 0.0345628559589386\n",
            "Epoch 1 Complete. Training Loss: 0.031782474368810654\n",
            "Epoch 2 Complete. Training Loss: 0.02855057641863823\n",
            "Epoch 3 Complete. Training Loss: 0.027269773185253143\n",
            "Epoch 4 Complete. Training Loss: 0.028827544301748276\n"
          ],
          "name": "stdout"
        }
      ]
    },
    {
      "cell_type": "code",
      "metadata": {
        "id": "S5YKRXR79IVe",
        "colab": {
          "base_uri": "https://localhost:8080/",
          "height": 361
        },
        "outputId": "167f3c81-88fb-43f7-ea9a-37586e02c3de"
      },
      "source": [
        "# Test Autoencoder output on Test Data\n",
        "num_test_images = 10\n",
        "\n",
        "with tf.Session() as sess:\n",
        "    \n",
        "    saver.restore(sess,\"./stacked_autoencoder.ckpt\")\n",
        "    \n",
        "    results = output_layer.eval(feed_dict={X:mnist.test.images[:num_test_images]})"
      ],
      "execution_count": null,
      "outputs": [
        {
          "output_type": "stream",
          "text": [
            "INFO:tensorflow:Restoring parameters from ./stacked_autoencoder.ckpt\n"
          ],
          "name": "stdout"
        },
        {
          "output_type": "error",
          "ename": "ValueError",
          "evalue": "ignored",
          "traceback": [
            "\u001b[0;31m---------------------------------------------------------------------------\u001b[0m",
            "\u001b[0;31mValueError\u001b[0m                                Traceback (most recent call last)",
            "\u001b[0;32m<ipython-input-31-f515893bc02e>\u001b[0m in \u001b[0;36m<module>\u001b[0;34m()\u001b[0m\n\u001b[1;32m      5\u001b[0m     \u001b[0msaver\u001b[0m\u001b[0;34m.\u001b[0m\u001b[0mrestore\u001b[0m\u001b[0;34m(\u001b[0m\u001b[0msess\u001b[0m\u001b[0;34m,\u001b[0m\u001b[0;34m\"./stacked_autoencoder.ckpt\"\u001b[0m\u001b[0;34m)\u001b[0m\u001b[0;34m\u001b[0m\u001b[0;34m\u001b[0m\u001b[0m\n\u001b[1;32m      6\u001b[0m \u001b[0;34m\u001b[0m\u001b[0m\n\u001b[0;32m----> 7\u001b[0;31m     \u001b[0mresults\u001b[0m \u001b[0;34m=\u001b[0m \u001b[0moutput_layer\u001b[0m\u001b[0;34m.\u001b[0m\u001b[0meval\u001b[0m\u001b[0;34m(\u001b[0m\u001b[0mfeed_dict\u001b[0m\u001b[0;34m=\u001b[0m\u001b[0;34m{\u001b[0m\u001b[0mX\u001b[0m\u001b[0;34m:\u001b[0m\u001b[0mmnist\u001b[0m\u001b[0;34m.\u001b[0m\u001b[0mtest\u001b[0m\u001b[0;34m.\u001b[0m\u001b[0mimages\u001b[0m\u001b[0;34m[\u001b[0m\u001b[0;34m:\u001b[0m\u001b[0mnum_test_images\u001b[0m\u001b[0;34m]\u001b[0m\u001b[0;34m}\u001b[0m\u001b[0;34m)\u001b[0m\u001b[0;34m\u001b[0m\u001b[0;34m\u001b[0m\u001b[0m\n\u001b[0m",
            "\u001b[0;32m/usr/local/lib/python3.6/dist-packages/tensorflow/python/framework/ops.py\u001b[0m in \u001b[0;36meval\u001b[0;34m(self, feed_dict, session)\u001b[0m\n\u001b[1;32m    729\u001b[0m \u001b[0;34m\u001b[0m\u001b[0m\n\u001b[1;32m    730\u001b[0m     \"\"\"\n\u001b[0;32m--> 731\u001b[0;31m     \u001b[0;32mreturn\u001b[0m \u001b[0m_eval_using_default_session\u001b[0m\u001b[0;34m(\u001b[0m\u001b[0mself\u001b[0m\u001b[0;34m,\u001b[0m \u001b[0mfeed_dict\u001b[0m\u001b[0;34m,\u001b[0m \u001b[0mself\u001b[0m\u001b[0;34m.\u001b[0m\u001b[0mgraph\u001b[0m\u001b[0;34m,\u001b[0m \u001b[0msession\u001b[0m\u001b[0;34m)\u001b[0m\u001b[0;34m\u001b[0m\u001b[0;34m\u001b[0m\u001b[0m\n\u001b[0m\u001b[1;32m    732\u001b[0m \u001b[0;34m\u001b[0m\u001b[0m\n\u001b[1;32m    733\u001b[0m \u001b[0;34m\u001b[0m\u001b[0m\n",
            "\u001b[0;32m/usr/local/lib/python3.6/dist-packages/tensorflow/python/framework/ops.py\u001b[0m in \u001b[0;36m_eval_using_default_session\u001b[0;34m(tensors, feed_dict, graph, session)\u001b[0m\n\u001b[1;32m   5577\u001b[0m                        \u001b[0;34m\"the tensor's graph is different from the session's \"\u001b[0m\u001b[0;34m\u001b[0m\u001b[0;34m\u001b[0m\u001b[0m\n\u001b[1;32m   5578\u001b[0m                        \"graph.\")\n\u001b[0;32m-> 5579\u001b[0;31m   \u001b[0;32mreturn\u001b[0m \u001b[0msession\u001b[0m\u001b[0;34m.\u001b[0m\u001b[0mrun\u001b[0m\u001b[0;34m(\u001b[0m\u001b[0mtensors\u001b[0m\u001b[0;34m,\u001b[0m \u001b[0mfeed_dict\u001b[0m\u001b[0;34m)\u001b[0m\u001b[0;34m\u001b[0m\u001b[0;34m\u001b[0m\u001b[0m\n\u001b[0m\u001b[1;32m   5580\u001b[0m \u001b[0;34m\u001b[0m\u001b[0m\n\u001b[1;32m   5581\u001b[0m \u001b[0;34m\u001b[0m\u001b[0m\n",
            "\u001b[0;32m/usr/local/lib/python3.6/dist-packages/tensorflow/python/client/session.py\u001b[0m in \u001b[0;36mrun\u001b[0;34m(self, fetches, feed_dict, options, run_metadata)\u001b[0m\n\u001b[1;32m    948\u001b[0m     \u001b[0;32mtry\u001b[0m\u001b[0;34m:\u001b[0m\u001b[0;34m\u001b[0m\u001b[0;34m\u001b[0m\u001b[0m\n\u001b[1;32m    949\u001b[0m       result = self._run(None, fetches, feed_dict, options_ptr,\n\u001b[0;32m--> 950\u001b[0;31m                          run_metadata_ptr)\n\u001b[0m\u001b[1;32m    951\u001b[0m       \u001b[0;32mif\u001b[0m \u001b[0mrun_metadata\u001b[0m\u001b[0;34m:\u001b[0m\u001b[0;34m\u001b[0m\u001b[0;34m\u001b[0m\u001b[0m\n\u001b[1;32m    952\u001b[0m         \u001b[0mproto_data\u001b[0m \u001b[0;34m=\u001b[0m \u001b[0mtf_session\u001b[0m\u001b[0;34m.\u001b[0m\u001b[0mTF_GetBuffer\u001b[0m\u001b[0;34m(\u001b[0m\u001b[0mrun_metadata_ptr\u001b[0m\u001b[0;34m)\u001b[0m\u001b[0;34m\u001b[0m\u001b[0;34m\u001b[0m\u001b[0m\n",
            "\u001b[0;32m/usr/local/lib/python3.6/dist-packages/tensorflow/python/client/session.py\u001b[0m in \u001b[0;36m_run\u001b[0;34m(self, handle, fetches, feed_dict, options, run_metadata)\u001b[0m\n\u001b[1;32m   1147\u001b[0m                              \u001b[0;34m'which has shape %r'\u001b[0m \u001b[0;34m%\u001b[0m\u001b[0;34m\u001b[0m\u001b[0;34m\u001b[0m\u001b[0m\n\u001b[1;32m   1148\u001b[0m                              (np_val.shape, subfeed_t.name,\n\u001b[0;32m-> 1149\u001b[0;31m                               str(subfeed_t.get_shape())))\n\u001b[0m\u001b[1;32m   1150\u001b[0m           \u001b[0;32mif\u001b[0m \u001b[0;32mnot\u001b[0m \u001b[0mself\u001b[0m\u001b[0;34m.\u001b[0m\u001b[0mgraph\u001b[0m\u001b[0;34m.\u001b[0m\u001b[0mis_feedable\u001b[0m\u001b[0;34m(\u001b[0m\u001b[0msubfeed_t\u001b[0m\u001b[0;34m)\u001b[0m\u001b[0;34m:\u001b[0m\u001b[0;34m\u001b[0m\u001b[0;34m\u001b[0m\u001b[0m\n\u001b[1;32m   1151\u001b[0m             \u001b[0;32mraise\u001b[0m \u001b[0mValueError\u001b[0m\u001b[0;34m(\u001b[0m\u001b[0;34m'Tensor %s may not be fed.'\u001b[0m \u001b[0;34m%\u001b[0m \u001b[0msubfeed_t\u001b[0m\u001b[0;34m)\u001b[0m\u001b[0;34m\u001b[0m\u001b[0;34m\u001b[0m\u001b[0m\n",
            "\u001b[0;31mValueError\u001b[0m: Cannot feed value of shape (10, 784) for Tensor 'Placeholder_7:0', which has shape '(?, 3)'"
          ]
        }
      ]
    },
    {
      "cell_type": "code",
      "metadata": {
        "id": "5QozhtOzG_PO",
        "colab": {
          "base_uri": "https://localhost:8080/",
          "height": 471
        },
        "outputId": "ea1abb9f-1739-49f3-c3f7-447bf6fb484d"
      },
      "source": [
        "# Compare original images with their reconstructions\n",
        "f, a = plt.subplots(2, 10, figsize=(20, 4))\n",
        "for i in range(num_test_images):\n",
        "    a[0][i].imshow(np.reshape(mnist.test.images[i], (28, 28)))\n",
        "    a[1][i].imshow(np.reshape(results[i], (28, 28)))"
      ],
      "execution_count": null,
      "outputs": [
        {
          "output_type": "error",
          "ename": "NameError",
          "evalue": "ignored",
          "traceback": [
            "\u001b[0;31m---------------------------------------------------------------------------\u001b[0m",
            "\u001b[0;31mNameError\u001b[0m                                 Traceback (most recent call last)",
            "\u001b[0;32m<ipython-input-33-a760370ef9f1>\u001b[0m in \u001b[0;36m<module>\u001b[0;34m()\u001b[0m\n\u001b[1;32m      2\u001b[0m \u001b[0;32mfor\u001b[0m \u001b[0mi\u001b[0m \u001b[0;32min\u001b[0m \u001b[0mrange\u001b[0m\u001b[0;34m(\u001b[0m\u001b[0mnum_test_images\u001b[0m\u001b[0;34m)\u001b[0m\u001b[0;34m:\u001b[0m\u001b[0;34m\u001b[0m\u001b[0;34m\u001b[0m\u001b[0m\n\u001b[1;32m      3\u001b[0m     \u001b[0ma\u001b[0m\u001b[0;34m[\u001b[0m\u001b[0;36m0\u001b[0m\u001b[0;34m]\u001b[0m\u001b[0;34m[\u001b[0m\u001b[0mi\u001b[0m\u001b[0;34m]\u001b[0m\u001b[0;34m.\u001b[0m\u001b[0mimshow\u001b[0m\u001b[0;34m(\u001b[0m\u001b[0mnp\u001b[0m\u001b[0;34m.\u001b[0m\u001b[0mreshape\u001b[0m\u001b[0;34m(\u001b[0m\u001b[0mmnist\u001b[0m\u001b[0;34m.\u001b[0m\u001b[0mtest\u001b[0m\u001b[0;34m.\u001b[0m\u001b[0mimages\u001b[0m\u001b[0;34m[\u001b[0m\u001b[0mi\u001b[0m\u001b[0;34m]\u001b[0m\u001b[0;34m,\u001b[0m \u001b[0;34m(\u001b[0m\u001b[0;36m28\u001b[0m\u001b[0;34m,\u001b[0m \u001b[0;36m28\u001b[0m\u001b[0;34m)\u001b[0m\u001b[0;34m)\u001b[0m\u001b[0;34m)\u001b[0m\u001b[0;34m\u001b[0m\u001b[0;34m\u001b[0m\u001b[0m\n\u001b[0;32m----> 4\u001b[0;31m     \u001b[0ma\u001b[0m\u001b[0;34m[\u001b[0m\u001b[0;36m1\u001b[0m\u001b[0;34m]\u001b[0m\u001b[0;34m[\u001b[0m\u001b[0mi\u001b[0m\u001b[0;34m]\u001b[0m\u001b[0;34m.\u001b[0m\u001b[0mimshow\u001b[0m\u001b[0;34m(\u001b[0m\u001b[0mnp\u001b[0m\u001b[0;34m.\u001b[0m\u001b[0mreshape\u001b[0m\u001b[0;34m(\u001b[0m\u001b[0mresults\u001b[0m\u001b[0;34m[\u001b[0m\u001b[0mi\u001b[0m\u001b[0;34m]\u001b[0m\u001b[0;34m,\u001b[0m \u001b[0;34m(\u001b[0m\u001b[0;36m28\u001b[0m\u001b[0;34m,\u001b[0m \u001b[0;36m28\u001b[0m\u001b[0;34m)\u001b[0m\u001b[0;34m)\u001b[0m\u001b[0;34m)\u001b[0m\u001b[0;34m\u001b[0m\u001b[0;34m\u001b[0m\u001b[0m\n\u001b[0m",
            "\u001b[0;31mNameError\u001b[0m: name 'results' is not defined"
          ]
        },
        {
          "output_type": "display_data",
          "data": {
            "image/png": "[encoded data removed]",
            "text/plain": [
              "<Figure size 1440x288 with 20 Axes>"
            ]
          },
          "metadata": {
            "tags": []
          }
        }
      ]
    },
    {
      "cell_type": "code",
      "metadata": {
        "id": "bDCvYGXkH4Sf"
      },
      "source": [
        "# GAN"
      ],
      "execution_count": null,
      "outputs": []
    },
    {
      "cell_type": "code",
      "metadata": {
        "id": "pt2pVmm_O5ia",
        "colab": {
          "base_uri": "https://localhost:8080/",
          "height": 86
        },
        "outputId": "25ae32c9-fd48-47c6-d794-30a4f59f0937"
      },
      "source": [
        "import tensorflow as tf\n",
        "import numpy as np\n",
        "import matplotlib.pyplot as plt\n",
        "%matplotlib inline\n",
        "\n",
        "from tensorflow.examples.tutorials.mnist import input_data\n",
        "mnist = input_data.read_data_sets(\"/content/Tensorflow-Bootcamp-master/03-Convolutional-Neural-Networks/MNIST_data/\",one_hot=True)"
      ],
      "execution_count": null,
      "outputs": [
        {
          "output_type": "stream",
          "text": [
            "Extracting /content/Tensorflow-Bootcamp-master/03-Convolutional-Neural-Networks/MNIST_data/train-images-idx3-ubyte.gz\n",
            "Extracting /content/Tensorflow-Bootcamp-master/03-Convolutional-Neural-Networks/MNIST_data/train-labels-idx1-ubyte.gz\n",
            "Extracting /content/Tensorflow-Bootcamp-master/03-Convolutional-Neural-Networks/MNIST_data/t10k-images-idx3-ubyte.gz\n",
            "Extracting /content/Tensorflow-Bootcamp-master/03-Convolutional-Neural-Networks/MNIST_data/t10k-labels-idx1-ubyte.gz\n"
          ],
          "name": "stdout"
        }
      ]
    },
    {
      "cell_type": "code",
      "metadata": {
        "id": "pjn28u8gQJrx",
        "colab": {
          "base_uri": "https://localhost:8080/",
          "height": 286
        },
        "outputId": "870a755d-3a88-4661-a5cd-12101c2ac462"
      },
      "source": [
        "plt.imshow(mnist.train.images[5].reshape(28, 28), cmap='Greys')"
      ],
      "execution_count": null,
      "outputs": [
        {
          "output_type": "execute_result",
          "data": {
            "text/plain": [
              "<matplotlib.image.AxesImage at 0x7f88a0fc65f8>"
            ]
          },
          "metadata": {
            "tags": []
          },
          "execution_count": 5
        },
        {
          "output_type": "display_data",
          "data": {
            "image/png": "[encoded data removed]",
            "text/plain": [
              "<Figure size 432x288 with 1 Axes>"
            ]
          },
          "metadata": {
            "tags": []
          }
        }
      ]
    },
    {
      "cell_type": "code",
      "metadata": {
        "id": "nH0rH0uTQj6Q"
      },
      "source": [
        "# The Generator\n",
        "def generator(z, reuse = None):\n",
        "  with tf.variable_scope('gen', reuse = reuse):\n",
        "    hidden1 = tf.layers.dense(inputs = z, units = 128)\n",
        "    # Leaky ReLu\n",
        "    alpha = 0.01\n",
        "    hidden1 = tf.maximum(alpha * hidden1, hidden1)\n",
        "    hidden2 = tf.layers.dense(inputs = hidden1, units = 128)\n",
        "\n",
        "    hidden2 = tf.maximum(alpha * hidden2, hidden2)\n",
        "    output = tf.layers.dense(hidden2, units = 784, activation = tf.nn.tanh)\n",
        "    return output\n",
        "\n",
        "  # The Discriminator\n",
        "  def discriminator(X, reuse = None):\n",
        "    with tf.variable_scope('dis', reuse = reuse):\n",
        "      hidden1 = tf.layers.dense(inputs = X, units = 128)\n",
        "      # Leaky ReLu\n",
        "      alpha = 0.01\n",
        "      hidden1 = tf.maximum(alpha * hidden1, hidden1)\n",
        "\n",
        "      hidden2 = tf.layers.dense(inputs = hidden1, units = 128)\n",
        "      hidden2 = tf.maximum(alpha * hidden2, hidden2)\n",
        "\n",
        "      logits = tf.layers.dense(hidden2, units = 1)\n",
        "      output = tf.sigmoid(logits)\n",
        "\n",
        "      return output, logits"
      ],
      "execution_count": null,
      "outputs": []
    },
    {
      "cell_type": "code",
      "metadata": {
        "id": "eEMn4MWZUIKW",
        "colab": {
          "base_uri": "https://localhost:8080/",
          "height": 588
        },
        "outputId": "404fd1ba-53ec-479f-8187-1f81105f23e0"
      },
      "source": [
        "# Placeholders\n",
        "real_images = tf.placeholder(tf.float32, shape = [None, 784])\n",
        "z = tf.placeholder(tf.float32, shape = [None, 100])\n",
        "\n",
        "# Generator\n",
        "G = generator(z)\n",
        "\n",
        "# Discriminator\n",
        "D_output_real , D_logits_real = discriminator(real_images)\n",
        "D_output_fake, D_logits_fake = discriminator(G,reuse=True)\n",
        "\n",
        "# Losses\n",
        "def loss_func(logits_in, labels_in):\n",
        "  return tf.reduce_mean(tf.nn.sigmoid_cross_entropy_with_logits(logits = logits_in, labels=labels_in))\n",
        "\n",
        "D_real_loss = loss_func(D_logits_real, tf.ones_like(D_logits_real) * (0.9))\n",
        "D_fake_loss = loss_func(D_logits_fake, tf.zeros_like(D_logits_real))\n",
        "D_loss = D_real_loss + D_fake_loss\n",
        "G_loss = loss_func(D_logits_fake, tf.ones_like(D_logits_fake))\n",
        "\n",
        "# Optimizers\n",
        "learning_rate = 0.001\n",
        "tvars = tf.trainable_variables()\n",
        "d_vars = [var for var in tvars if 'dis' in var.name]\n",
        "g_vars = [var for var in tvars if 'gen' in var.name]\n",
        "print([v.name for v in d_vars])\n",
        "print([v.name for v in g_vars])\n",
        "\n",
        "D_trainer = tf.train.AdamOptimizer(learning_rate).minimize(D_loss, var_list = d_vars)\n",
        "G_trainer = tf.train.AdamOptimizer(learning_rate).minimize(G_loss, var_list = g_vars)\n",
        "\n",
        "# Training Session\n",
        "batch_size = 100\n",
        "epochs = 500\n",
        "init = tf.global_variables_initializer()\n",
        "saver = tf.train.Saver(var_list = g_vars)\n",
        "\n",
        "# Save a sample per epoch\n",
        "samples = []\n",
        "\n",
        "with tf.Session() as sess:\n",
        "  sess.run(init)\n",
        "  # Recall on epoch is an entire run through the training data\n",
        "  for e in range(epochs):\n",
        "    # // indicates classic division\n",
        "    num_batches = mnist.train.num_examples // batch_size\n",
        "    for i in range(num_batches):\n",
        "      # Graph batch for images\n",
        "      batch = mnist.train.next_batch(batch_size)\n",
        "      # Get images, reshape and rescale to pass to D\n",
        "      batch_images = batch[0].reshape((batch_size, 784))\n",
        "      batch_images = batch_images * 2 - 1\n",
        "      # Z (random latent noise data for Generator)\n",
        "      # -1 to 1 because of tanh activation\n",
        "      batch_z = np.random.uniform(-1, 1, size = (batch_size, 100))\n",
        "      # Run optimizers, no need to save outputs, we won't use them\n",
        "      _ = sess.run(D_trainer, feed_dict = {real_images: batch_images, z: batch_z})\n",
        "      _ = sess.run(G_trainer, feed_dict = {z: batch_z})\n",
        "  \n",
        "  print(\"Currently on Epoch {} of {} total...\".format(e+1, epochs))\n",
        "  \n",
        "  # Sample from generator as we're training for viewing afterwords\n",
        "  sample_z = np.random.uniform(-1, 1, size = (1, 100))\n",
        "  gen_sample = sess.run(generator(z, reuse = True), feed_dict = {z: sample_z})\n",
        "  sample.append(gen_sample)"
      ],
      "execution_count": null,
      "outputs": [
        {
          "output_type": "error",
          "ename": "ValueError",
          "evalue": "ignored",
          "traceback": [
            "\u001b[0;31m---------------------------------------------------------------------------\u001b[0m",
            "\u001b[0;31mValueError\u001b[0m                                Traceback (most recent call last)",
            "\u001b[0;32m<ipython-input-13-788162712c39>\u001b[0m in \u001b[0;36m<module>\u001b[0;34m()\u001b[0m\n\u001b[1;32m      3\u001b[0m \u001b[0;34m\u001b[0m\u001b[0m\n\u001b[1;32m      4\u001b[0m \u001b[0;31m# Generator\u001b[0m\u001b[0;34m\u001b[0m\u001b[0;34m\u001b[0m\u001b[0;34m\u001b[0m\u001b[0m\n\u001b[0;32m----> 5\u001b[0;31m \u001b[0mG\u001b[0m \u001b[0;34m=\u001b[0m \u001b[0mgenerator\u001b[0m\u001b[0;34m(\u001b[0m\u001b[0mz\u001b[0m\u001b[0;34m)\u001b[0m\u001b[0;34m\u001b[0m\u001b[0;34m\u001b[0m\u001b[0m\n\u001b[0m\u001b[1;32m      6\u001b[0m \u001b[0;34m\u001b[0m\u001b[0m\n\u001b[1;32m      7\u001b[0m \u001b[0;31m# Discriminator\u001b[0m\u001b[0;34m\u001b[0m\u001b[0;34m\u001b[0m\u001b[0;34m\u001b[0m\u001b[0m\n",
            "\u001b[0;32m<ipython-input-8-ae325a2e4145>\u001b[0m in \u001b[0;36mgenerator\u001b[0;34m(z, reuse)\u001b[0m\n\u001b[1;32m      1\u001b[0m \u001b[0;32mdef\u001b[0m \u001b[0mgenerator\u001b[0m\u001b[0;34m(\u001b[0m\u001b[0mz\u001b[0m\u001b[0;34m,\u001b[0m \u001b[0mreuse\u001b[0m \u001b[0;34m=\u001b[0m \u001b[0;32mNone\u001b[0m\u001b[0;34m)\u001b[0m\u001b[0;34m:\u001b[0m\u001b[0;34m\u001b[0m\u001b[0;34m\u001b[0m\u001b[0m\n\u001b[1;32m      2\u001b[0m   \u001b[0;32mwith\u001b[0m \u001b[0mtf\u001b[0m\u001b[0;34m.\u001b[0m\u001b[0mvariable_scope\u001b[0m\u001b[0;34m(\u001b[0m\u001b[0;34m'gen'\u001b[0m\u001b[0;34m,\u001b[0m \u001b[0mreuse\u001b[0m \u001b[0;34m=\u001b[0m \u001b[0mreuse\u001b[0m\u001b[0;34m)\u001b[0m\u001b[0;34m:\u001b[0m\u001b[0;34m\u001b[0m\u001b[0;34m\u001b[0m\u001b[0m\n\u001b[0;32m----> 3\u001b[0;31m     \u001b[0mhidden1\u001b[0m \u001b[0;34m=\u001b[0m \u001b[0mtf\u001b[0m\u001b[0;34m.\u001b[0m\u001b[0mlayers\u001b[0m\u001b[0;34m.\u001b[0m\u001b[0mdense\u001b[0m\u001b[0;34m(\u001b[0m\u001b[0minputs\u001b[0m \u001b[0;34m=\u001b[0m \u001b[0mz\u001b[0m\u001b[0;34m,\u001b[0m \u001b[0munits\u001b[0m \u001b[0;34m=\u001b[0m \u001b[0;36m128\u001b[0m\u001b[0;34m)\u001b[0m\u001b[0;34m\u001b[0m\u001b[0;34m\u001b[0m\u001b[0m\n\u001b[0m\u001b[1;32m      4\u001b[0m     \u001b[0;31m# Leaky ReLu\u001b[0m\u001b[0;34m\u001b[0m\u001b[0;34m\u001b[0m\u001b[0;34m\u001b[0m\u001b[0m\n\u001b[1;32m      5\u001b[0m     \u001b[0malpha\u001b[0m \u001b[0;34m=\u001b[0m \u001b[0;36m0.01\u001b[0m\u001b[0;34m\u001b[0m\u001b[0;34m\u001b[0m\u001b[0m\n",
            "\u001b[0;32m/usr/local/lib/python3.6/dist-packages/tensorflow/python/util/deprecation.py\u001b[0m in \u001b[0;36mnew_func\u001b[0;34m(*args, **kwargs)\u001b[0m\n\u001b[1;32m    322\u001b[0m               \u001b[0;34m'in a future version'\u001b[0m \u001b[0;32mif\u001b[0m \u001b[0mdate\u001b[0m \u001b[0;32mis\u001b[0m \u001b[0;32mNone\u001b[0m \u001b[0;32melse\u001b[0m \u001b[0;34m(\u001b[0m\u001b[0;34m'after %s'\u001b[0m \u001b[0;34m%\u001b[0m \u001b[0mdate\u001b[0m\u001b[0;34m)\u001b[0m\u001b[0;34m,\u001b[0m\u001b[0;34m\u001b[0m\u001b[0;34m\u001b[0m\u001b[0m\n\u001b[1;32m    323\u001b[0m               instructions)\n\u001b[0;32m--> 324\u001b[0;31m       \u001b[0;32mreturn\u001b[0m \u001b[0mfunc\u001b[0m\u001b[0;34m(\u001b[0m\u001b[0;34m*\u001b[0m\u001b[0margs\u001b[0m\u001b[0;34m,\u001b[0m \u001b[0;34m**\u001b[0m\u001b[0mkwargs\u001b[0m\u001b[0;34m)\u001b[0m\u001b[0;34m\u001b[0m\u001b[0;34m\u001b[0m\u001b[0m\n\u001b[0m\u001b[1;32m    325\u001b[0m     return tf_decorator.make_decorator(\n\u001b[1;32m    326\u001b[0m         \u001b[0mfunc\u001b[0m\u001b[0;34m,\u001b[0m \u001b[0mnew_func\u001b[0m\u001b[0;34m,\u001b[0m \u001b[0;34m'deprecated'\u001b[0m\u001b[0;34m,\u001b[0m\u001b[0;34m\u001b[0m\u001b[0;34m\u001b[0m\u001b[0m\n",
            "\u001b[0;32m/usr/local/lib/python3.6/dist-packages/tensorflow/python/layers/core.py\u001b[0m in \u001b[0;36mdense\u001b[0;34m(inputs, units, activation, use_bias, kernel_initializer, bias_initializer, kernel_regularizer, bias_regularizer, activity_regularizer, kernel_constraint, bias_constraint, trainable, name, reuse)\u001b[0m\n\u001b[1;32m    186\u001b[0m                 \u001b[0m_scope\u001b[0m\u001b[0;34m=\u001b[0m\u001b[0mname\u001b[0m\u001b[0;34m,\u001b[0m\u001b[0;34m\u001b[0m\u001b[0;34m\u001b[0m\u001b[0m\n\u001b[1;32m    187\u001b[0m                 _reuse=reuse)\n\u001b[0;32m--> 188\u001b[0;31m   \u001b[0;32mreturn\u001b[0m \u001b[0mlayer\u001b[0m\u001b[0;34m.\u001b[0m\u001b[0mapply\u001b[0m\u001b[0;34m(\u001b[0m\u001b[0minputs\u001b[0m\u001b[0;34m)\u001b[0m\u001b[0;34m\u001b[0m\u001b[0;34m\u001b[0m\u001b[0m\n\u001b[0m\u001b[1;32m    189\u001b[0m \u001b[0;34m\u001b[0m\u001b[0m\n\u001b[1;32m    190\u001b[0m \u001b[0;34m\u001b[0m\u001b[0m\n",
            "\u001b[0;32m/usr/local/lib/python3.6/dist-packages/tensorflow/python/keras/engine/base_layer.py\u001b[0m in \u001b[0;36mapply\u001b[0;34m(self, inputs, *args, **kwargs)\u001b[0m\n\u001b[1;32m   1477\u001b[0m       \u001b[0mOutput\u001b[0m \u001b[0mtensor\u001b[0m\u001b[0;34m(\u001b[0m\u001b[0ms\u001b[0m\u001b[0;34m)\u001b[0m\u001b[0;34m.\u001b[0m\u001b[0;34m\u001b[0m\u001b[0;34m\u001b[0m\u001b[0m\n\u001b[1;32m   1478\u001b[0m     \"\"\"\n\u001b[0;32m-> 1479\u001b[0;31m     \u001b[0;32mreturn\u001b[0m \u001b[0mself\u001b[0m\u001b[0;34m.\u001b[0m\u001b[0m__call__\u001b[0m\u001b[0;34m(\u001b[0m\u001b[0minputs\u001b[0m\u001b[0;34m,\u001b[0m \u001b[0;34m*\u001b[0m\u001b[0margs\u001b[0m\u001b[0;34m,\u001b[0m \u001b[0;34m**\u001b[0m\u001b[0mkwargs\u001b[0m\u001b[0;34m)\u001b[0m\u001b[0;34m\u001b[0m\u001b[0;34m\u001b[0m\u001b[0m\n\u001b[0m\u001b[1;32m   1480\u001b[0m \u001b[0;34m\u001b[0m\u001b[0m\n\u001b[1;32m   1481\u001b[0m   \u001b[0;34m@\u001b[0m\u001b[0mdoc_controls\u001b[0m\u001b[0;34m.\u001b[0m\u001b[0mfor_subclass_implementers\u001b[0m\u001b[0;34m\u001b[0m\u001b[0;34m\u001b[0m\u001b[0m\n",
            "\u001b[0;32m/usr/local/lib/python3.6/dist-packages/tensorflow/python/layers/base.py\u001b[0m in \u001b[0;36m__call__\u001b[0;34m(self, inputs, *args, **kwargs)\u001b[0m\n\u001b[1;32m    535\u001b[0m \u001b[0;34m\u001b[0m\u001b[0m\n\u001b[1;32m    536\u001b[0m       \u001b[0;31m# Actually call layer\u001b[0m\u001b[0;34m\u001b[0m\u001b[0;34m\u001b[0m\u001b[0;34m\u001b[0m\u001b[0m\n\u001b[0;32m--> 537\u001b[0;31m       \u001b[0moutputs\u001b[0m \u001b[0;34m=\u001b[0m \u001b[0msuper\u001b[0m\u001b[0;34m(\u001b[0m\u001b[0mLayer\u001b[0m\u001b[0;34m,\u001b[0m \u001b[0mself\u001b[0m\u001b[0;34m)\u001b[0m\u001b[0;34m.\u001b[0m\u001b[0m__call__\u001b[0m\u001b[0;34m(\u001b[0m\u001b[0minputs\u001b[0m\u001b[0;34m,\u001b[0m \u001b[0;34m*\u001b[0m\u001b[0margs\u001b[0m\u001b[0;34m,\u001b[0m \u001b[0;34m**\u001b[0m\u001b[0mkwargs\u001b[0m\u001b[0;34m)\u001b[0m\u001b[0;34m\u001b[0m\u001b[0;34m\u001b[0m\u001b[0m\n\u001b[0m\u001b[1;32m    538\u001b[0m \u001b[0;34m\u001b[0m\u001b[0m\n\u001b[1;32m    539\u001b[0m     \u001b[0;32mif\u001b[0m \u001b[0;32mnot\u001b[0m \u001b[0mcontext\u001b[0m\u001b[0;34m.\u001b[0m\u001b[0mexecuting_eagerly\u001b[0m\u001b[0;34m(\u001b[0m\u001b[0;34m)\u001b[0m\u001b[0;34m:\u001b[0m\u001b[0;34m\u001b[0m\u001b[0;34m\u001b[0m\u001b[0m\n",
            "\u001b[0;32m/usr/local/lib/python3.6/dist-packages/tensorflow/python/keras/engine/base_layer.py\u001b[0m in \u001b[0;36m__call__\u001b[0;34m(self, inputs, *args, **kwargs)\u001b[0m\n\u001b[1;32m    589\u001b[0m           \u001b[0;31m# Build layer if applicable (if the `build` method has been\u001b[0m\u001b[0;34m\u001b[0m\u001b[0;34m\u001b[0m\u001b[0;34m\u001b[0m\u001b[0m\n\u001b[1;32m    590\u001b[0m           \u001b[0;31m# overridden).\u001b[0m\u001b[0;34m\u001b[0m\u001b[0;34m\u001b[0m\u001b[0;34m\u001b[0m\u001b[0m\n\u001b[0;32m--> 591\u001b[0;31m           \u001b[0mself\u001b[0m\u001b[0;34m.\u001b[0m\u001b[0m_maybe_build\u001b[0m\u001b[0;34m(\u001b[0m\u001b[0minputs\u001b[0m\u001b[0;34m)\u001b[0m\u001b[0;34m\u001b[0m\u001b[0;34m\u001b[0m\u001b[0m\n\u001b[0m\u001b[1;32m    592\u001b[0m \u001b[0;34m\u001b[0m\u001b[0m\n\u001b[1;32m    593\u001b[0m           \u001b[0;31m# Wrapping `call` function in autograph to allow for dynamic control\u001b[0m\u001b[0;34m\u001b[0m\u001b[0;34m\u001b[0m\u001b[0;34m\u001b[0m\u001b[0m\n",
            "\u001b[0;32m/usr/local/lib/python3.6/dist-packages/tensorflow/python/keras/engine/base_layer.py\u001b[0m in \u001b[0;36m_maybe_build\u001b[0;34m(self, inputs)\u001b[0m\n\u001b[1;32m   1879\u001b[0m       \u001b[0;31m# operations.\u001b[0m\u001b[0;34m\u001b[0m\u001b[0;34m\u001b[0m\u001b[0;34m\u001b[0m\u001b[0m\n\u001b[1;32m   1880\u001b[0m       \u001b[0;32mwith\u001b[0m \u001b[0mtf_utils\u001b[0m\u001b[0;34m.\u001b[0m\u001b[0mmaybe_init_scope\u001b[0m\u001b[0;34m(\u001b[0m\u001b[0mself\u001b[0m\u001b[0;34m)\u001b[0m\u001b[0;34m:\u001b[0m\u001b[0;34m\u001b[0m\u001b[0;34m\u001b[0m\u001b[0m\n\u001b[0;32m-> 1881\u001b[0;31m         \u001b[0mself\u001b[0m\u001b[0;34m.\u001b[0m\u001b[0mbuild\u001b[0m\u001b[0;34m(\u001b[0m\u001b[0minput_shapes\u001b[0m\u001b[0;34m)\u001b[0m\u001b[0;34m\u001b[0m\u001b[0;34m\u001b[0m\u001b[0m\n\u001b[0m\u001b[1;32m   1882\u001b[0m     \u001b[0;31m# We must set self.built since user defined build functions are not\u001b[0m\u001b[0;34m\u001b[0m\u001b[0;34m\u001b[0m\u001b[0;34m\u001b[0m\u001b[0m\n\u001b[1;32m   1883\u001b[0m     \u001b[0;31m# constrained to set self.built.\u001b[0m\u001b[0;34m\u001b[0m\u001b[0;34m\u001b[0m\u001b[0;34m\u001b[0m\u001b[0m\n",
            "\u001b[0;32m/usr/local/lib/python3.6/dist-packages/tensorflow/python/keras/layers/core.py\u001b[0m in \u001b[0;36mbuild\u001b[0;34m(self, input_shape)\u001b[0m\n\u001b[1;32m   1015\u001b[0m         \u001b[0mconstraint\u001b[0m\u001b[0;34m=\u001b[0m\u001b[0mself\u001b[0m\u001b[0;34m.\u001b[0m\u001b[0mkernel_constraint\u001b[0m\u001b[0;34m,\u001b[0m\u001b[0;34m\u001b[0m\u001b[0;34m\u001b[0m\u001b[0m\n\u001b[1;32m   1016\u001b[0m         \u001b[0mdtype\u001b[0m\u001b[0;34m=\u001b[0m\u001b[0mself\u001b[0m\u001b[0;34m.\u001b[0m\u001b[0mdtype\u001b[0m\u001b[0;34m,\u001b[0m\u001b[0;34m\u001b[0m\u001b[0;34m\u001b[0m\u001b[0m\n\u001b[0;32m-> 1017\u001b[0;31m         trainable=True)\n\u001b[0m\u001b[1;32m   1018\u001b[0m     \u001b[0;32mif\u001b[0m \u001b[0mself\u001b[0m\u001b[0;34m.\u001b[0m\u001b[0muse_bias\u001b[0m\u001b[0;34m:\u001b[0m\u001b[0;34m\u001b[0m\u001b[0;34m\u001b[0m\u001b[0m\n\u001b[1;32m   1019\u001b[0m       self.bias = self.add_weight(\n",
            "\u001b[0;32m/usr/local/lib/python3.6/dist-packages/tensorflow/python/layers/base.py\u001b[0m in \u001b[0;36madd_weight\u001b[0;34m(self, name, shape, dtype, initializer, regularizer, trainable, constraint, use_resource, synchronization, aggregation, partitioner, **kwargs)\u001b[0m\n\u001b[1;32m    448\u001b[0m             \u001b[0maggregation\u001b[0m\u001b[0;34m=\u001b[0m\u001b[0maggregation\u001b[0m\u001b[0;34m,\u001b[0m\u001b[0;34m\u001b[0m\u001b[0;34m\u001b[0m\u001b[0m\n\u001b[1;32m    449\u001b[0m             \u001b[0mgetter\u001b[0m\u001b[0;34m=\u001b[0m\u001b[0mvs\u001b[0m\u001b[0;34m.\u001b[0m\u001b[0mget_variable\u001b[0m\u001b[0;34m,\u001b[0m\u001b[0;34m\u001b[0m\u001b[0;34m\u001b[0m\u001b[0m\n\u001b[0;32m--> 450\u001b[0;31m             **kwargs)\n\u001b[0m\u001b[1;32m    451\u001b[0m \u001b[0;34m\u001b[0m\u001b[0m\n\u001b[1;32m    452\u001b[0m         \u001b[0;32mif\u001b[0m \u001b[0mregularizer\u001b[0m\u001b[0;34m:\u001b[0m\u001b[0;34m\u001b[0m\u001b[0;34m\u001b[0m\u001b[0m\n",
            "\u001b[0;32m/usr/local/lib/python3.6/dist-packages/tensorflow/python/keras/engine/base_layer.py\u001b[0m in \u001b[0;36madd_weight\u001b[0;34m(self, name, shape, dtype, initializer, regularizer, trainable, constraint, partitioner, use_resource, synchronization, aggregation, **kwargs)\u001b[0m\n\u001b[1;32m    382\u001b[0m         \u001b[0mcollections\u001b[0m\u001b[0;34m=\u001b[0m\u001b[0mcollections_arg\u001b[0m\u001b[0;34m,\u001b[0m\u001b[0;34m\u001b[0m\u001b[0;34m\u001b[0m\u001b[0m\n\u001b[1;32m    383\u001b[0m         \u001b[0msynchronization\u001b[0m\u001b[0;34m=\u001b[0m\u001b[0msynchronization\u001b[0m\u001b[0;34m,\u001b[0m\u001b[0;34m\u001b[0m\u001b[0;34m\u001b[0m\u001b[0m\n\u001b[0;32m--> 384\u001b[0;31m         aggregation=aggregation)\n\u001b[0m\u001b[1;32m    385\u001b[0m     \u001b[0mbackend\u001b[0m\u001b[0;34m.\u001b[0m\u001b[0mtrack_variable\u001b[0m\u001b[0;34m(\u001b[0m\u001b[0mvariable\u001b[0m\u001b[0;34m)\u001b[0m\u001b[0;34m\u001b[0m\u001b[0;34m\u001b[0m\u001b[0m\n\u001b[1;32m    386\u001b[0m \u001b[0;34m\u001b[0m\u001b[0m\n",
            "\u001b[0;32m/usr/local/lib/python3.6/dist-packages/tensorflow/python/training/tracking/base.py\u001b[0m in \u001b[0;36m_add_variable_with_custom_getter\u001b[0;34m(self, name, shape, dtype, initializer, getter, overwrite, **kwargs_for_getter)\u001b[0m\n\u001b[1;32m    661\u001b[0m         \u001b[0mdtype\u001b[0m\u001b[0;34m=\u001b[0m\u001b[0mdtype\u001b[0m\u001b[0;34m,\u001b[0m\u001b[0;34m\u001b[0m\u001b[0;34m\u001b[0m\u001b[0m\n\u001b[1;32m    662\u001b[0m         \u001b[0minitializer\u001b[0m\u001b[0;34m=\u001b[0m\u001b[0minitializer\u001b[0m\u001b[0;34m,\u001b[0m\u001b[0;34m\u001b[0m\u001b[0;34m\u001b[0m\u001b[0m\n\u001b[0;32m--> 663\u001b[0;31m         **kwargs_for_getter)\n\u001b[0m\u001b[1;32m    664\u001b[0m \u001b[0;34m\u001b[0m\u001b[0m\n\u001b[1;32m    665\u001b[0m     \u001b[0;31m# If we set an initializer and the variable processed it, tracking will not\u001b[0m\u001b[0;34m\u001b[0m\u001b[0;34m\u001b[0m\u001b[0;34m\u001b[0m\u001b[0m\n",
            "\u001b[0;32m/usr/local/lib/python3.6/dist-packages/tensorflow/python/ops/variable_scope.py\u001b[0m in \u001b[0;36mget_variable\u001b[0;34m(name, shape, dtype, initializer, regularizer, trainable, collections, caching_device, partitioner, validate_shape, use_resource, custom_getter, constraint, synchronization, aggregation)\u001b[0m\n\u001b[1;32m   1494\u001b[0m       \u001b[0mconstraint\u001b[0m\u001b[0;34m=\u001b[0m\u001b[0mconstraint\u001b[0m\u001b[0;34m,\u001b[0m\u001b[0;34m\u001b[0m\u001b[0;34m\u001b[0m\u001b[0m\n\u001b[1;32m   1495\u001b[0m       \u001b[0msynchronization\u001b[0m\u001b[0;34m=\u001b[0m\u001b[0msynchronization\u001b[0m\u001b[0;34m,\u001b[0m\u001b[0;34m\u001b[0m\u001b[0;34m\u001b[0m\u001b[0m\n\u001b[0;32m-> 1496\u001b[0;31m       aggregation=aggregation)\n\u001b[0m\u001b[1;32m   1497\u001b[0m \u001b[0;34m\u001b[0m\u001b[0m\n\u001b[1;32m   1498\u001b[0m \u001b[0;34m\u001b[0m\u001b[0m\n",
            "\u001b[0;32m/usr/local/lib/python3.6/dist-packages/tensorflow/python/ops/variable_scope.py\u001b[0m in \u001b[0;36mget_variable\u001b[0;34m(self, var_store, name, shape, dtype, initializer, regularizer, reuse, trainable, collections, caching_device, partitioner, validate_shape, use_resource, custom_getter, constraint, synchronization, aggregation)\u001b[0m\n\u001b[1;32m   1237\u001b[0m           \u001b[0mconstraint\u001b[0m\u001b[0;34m=\u001b[0m\u001b[0mconstraint\u001b[0m\u001b[0;34m,\u001b[0m\u001b[0;34m\u001b[0m\u001b[0;34m\u001b[0m\u001b[0m\n\u001b[1;32m   1238\u001b[0m           \u001b[0msynchronization\u001b[0m\u001b[0;34m=\u001b[0m\u001b[0msynchronization\u001b[0m\u001b[0;34m,\u001b[0m\u001b[0;34m\u001b[0m\u001b[0;34m\u001b[0m\u001b[0m\n\u001b[0;32m-> 1239\u001b[0;31m           aggregation=aggregation)\n\u001b[0m\u001b[1;32m   1240\u001b[0m \u001b[0;34m\u001b[0m\u001b[0m\n\u001b[1;32m   1241\u001b[0m   def _get_partitioned_variable(self,\n",
            "\u001b[0;32m/usr/local/lib/python3.6/dist-packages/tensorflow/python/ops/variable_scope.py\u001b[0m in \u001b[0;36mget_variable\u001b[0;34m(self, name, shape, dtype, initializer, regularizer, reuse, trainable, collections, caching_device, partitioner, validate_shape, use_resource, custom_getter, constraint, synchronization, aggregation)\u001b[0m\n\u001b[1;32m    560\u001b[0m           \u001b[0mconstraint\u001b[0m\u001b[0;34m=\u001b[0m\u001b[0mconstraint\u001b[0m\u001b[0;34m,\u001b[0m\u001b[0;34m\u001b[0m\u001b[0;34m\u001b[0m\u001b[0m\n\u001b[1;32m    561\u001b[0m           \u001b[0msynchronization\u001b[0m\u001b[0;34m=\u001b[0m\u001b[0msynchronization\u001b[0m\u001b[0;34m,\u001b[0m\u001b[0;34m\u001b[0m\u001b[0;34m\u001b[0m\u001b[0m\n\u001b[0;32m--> 562\u001b[0;31m           aggregation=aggregation)\n\u001b[0m\u001b[1;32m    563\u001b[0m \u001b[0;34m\u001b[0m\u001b[0m\n\u001b[1;32m    564\u001b[0m   def _get_partitioned_variable(self,\n",
            "\u001b[0;32m/usr/local/lib/python3.6/dist-packages/tensorflow/python/ops/variable_scope.py\u001b[0m in \u001b[0;36m_true_getter\u001b[0;34m(name, shape, dtype, initializer, regularizer, reuse, trainable, collections, caching_device, partitioner, validate_shape, use_resource, constraint, synchronization, aggregation)\u001b[0m\n\u001b[1;32m    512\u001b[0m           \u001b[0mconstraint\u001b[0m\u001b[0;34m=\u001b[0m\u001b[0mconstraint\u001b[0m\u001b[0;34m,\u001b[0m\u001b[0;34m\u001b[0m\u001b[0;34m\u001b[0m\u001b[0m\n\u001b[1;32m    513\u001b[0m           \u001b[0msynchronization\u001b[0m\u001b[0;34m=\u001b[0m\u001b[0msynchronization\u001b[0m\u001b[0;34m,\u001b[0m\u001b[0;34m\u001b[0m\u001b[0;34m\u001b[0m\u001b[0m\n\u001b[0;32m--> 514\u001b[0;31m           aggregation=aggregation)\n\u001b[0m\u001b[1;32m    515\u001b[0m \u001b[0;34m\u001b[0m\u001b[0m\n\u001b[1;32m    516\u001b[0m     synchronization, aggregation, trainable = (\n",
            "\u001b[0;32m/usr/local/lib/python3.6/dist-packages/tensorflow/python/ops/variable_scope.py\u001b[0m in \u001b[0;36m_get_single_variable\u001b[0;34m(self, name, shape, dtype, initializer, regularizer, partition_info, reuse, trainable, collections, caching_device, validate_shape, use_resource, constraint, synchronization, aggregation)\u001b[0m\n\u001b[1;32m    862\u001b[0m         \u001b[0mtb\u001b[0m \u001b[0;34m=\u001b[0m \u001b[0;34m[\u001b[0m\u001b[0mx\u001b[0m \u001b[0;32mfor\u001b[0m \u001b[0mx\u001b[0m \u001b[0;32min\u001b[0m \u001b[0mtb\u001b[0m \u001b[0;32mif\u001b[0m \u001b[0;34m\"tensorflow/python\"\u001b[0m \u001b[0;32mnot\u001b[0m \u001b[0;32min\u001b[0m \u001b[0mx\u001b[0m\u001b[0;34m[\u001b[0m\u001b[0;36m0\u001b[0m\u001b[0;34m]\u001b[0m\u001b[0;34m]\u001b[0m\u001b[0;34m[\u001b[0m\u001b[0;34m:\u001b[0m\u001b[0;36m5\u001b[0m\u001b[0;34m]\u001b[0m\u001b[0;34m\u001b[0m\u001b[0;34m\u001b[0m\u001b[0m\n\u001b[1;32m    863\u001b[0m         raise ValueError(\"%s Originally defined at:\\n\\n%s\" %\n\u001b[0;32m--> 864\u001b[0;31m                          (err_msg, \"\".join(traceback.format_list(tb))))\n\u001b[0m\u001b[1;32m    865\u001b[0m       \u001b[0mfound_var\u001b[0m \u001b[0;34m=\u001b[0m \u001b[0mself\u001b[0m\u001b[0;34m.\u001b[0m\u001b[0m_vars\u001b[0m\u001b[0;34m[\u001b[0m\u001b[0mname\u001b[0m\u001b[0;34m]\u001b[0m\u001b[0;34m\u001b[0m\u001b[0;34m\u001b[0m\u001b[0m\n\u001b[1;32m    866\u001b[0m       \u001b[0;32mif\u001b[0m \u001b[0;32mnot\u001b[0m \u001b[0mshape\u001b[0m\u001b[0;34m.\u001b[0m\u001b[0mis_compatible_with\u001b[0m\u001b[0;34m(\u001b[0m\u001b[0mfound_var\u001b[0m\u001b[0;34m.\u001b[0m\u001b[0mget_shape\u001b[0m\u001b[0;34m(\u001b[0m\u001b[0;34m)\u001b[0m\u001b[0;34m)\u001b[0m\u001b[0;34m:\u001b[0m\u001b[0;34m\u001b[0m\u001b[0;34m\u001b[0m\u001b[0m\n",
            "\u001b[0;31mValueError\u001b[0m: Variable gen/dense/kernel already exists, disallowed. Did you mean to set reuse=True or reuse=tf.AUTO_REUSE in VarScope? Originally defined at:\n\n  File \"<ipython-input-6-ae325a2e4145>\", line 3, in generator\n    hidden1 = tf.layers.dense(inputs = z, units = 128)\n  File \"<ipython-input-7-de953cec1078>\", line 5, in <module>\n    G = generator(z)\n  File \"/usr/local/lib/python3.6/dist-packages/IPython/core/interactiveshell.py\", line 2882, in run_code\n    exec(code_obj, self.user_global_ns, self.user_ns)\n  File \"/usr/local/lib/python3.6/dist-packages/IPython/core/interactiveshell.py\", line 2822, in run_ast_nodes\n    if self.run_code(code, result):\n  File \"/usr/local/lib/python3.6/dist-packages/IPython/core/interactiveshell.py\", line 2718, in run_cell\n    interactivity=interactivity, compiler=compiler, result=result)\n"
          ]
        }
      ]
    },
    {
      "cell_type": "code",
      "metadata": {
        "id": "6RUsJCSBVxSC",
        "colab": {
          "base_uri": "https://localhost:8080/",
          "height": 234
        },
        "outputId": "d6df2b95-23c8-4365-b5ea-d1215892413d"
      },
      "source": [
        "saver = tf.train.Saver(var_list=g_vars)\n",
        "\n",
        "new_samples = []\n",
        "with tf.Session() as sess:\n",
        "    \n",
        "    saver.restore(sess,'./models/500_epoch_model.ckpt')\n",
        "    \n",
        "    for x in range(5):\n",
        "        sample_z = np.random.uniform(-1,1,size=(1,100))\n",
        "        gen_sample = sess.run(generator(z,reuse=True),feed_dict={z:sample_z})\n",
        "        \n",
        "        new_samples.append(gen_sample)"
      ],
      "execution_count": null,
      "outputs": [
        {
          "output_type": "error",
          "ename": "NameError",
          "evalue": "ignored",
          "traceback": [
            "\u001b[0;31m---------------------------------------------------------------------------\u001b[0m",
            "\u001b[0;31mNameError\u001b[0m                                 Traceback (most recent call last)",
            "\u001b[0;32m<ipython-input-15-6c1538d8ddc8>\u001b[0m in \u001b[0;36m<module>\u001b[0;34m()\u001b[0m\n\u001b[0;32m----> 1\u001b[0;31m \u001b[0msaver\u001b[0m \u001b[0;34m=\u001b[0m \u001b[0mtf\u001b[0m\u001b[0;34m.\u001b[0m\u001b[0mtrain\u001b[0m\u001b[0;34m.\u001b[0m\u001b[0mSaver\u001b[0m\u001b[0;34m(\u001b[0m\u001b[0mvar_list\u001b[0m\u001b[0;34m=\u001b[0m\u001b[0mg_vars\u001b[0m\u001b[0;34m)\u001b[0m\u001b[0;34m\u001b[0m\u001b[0;34m\u001b[0m\u001b[0m\n\u001b[0m\u001b[1;32m      2\u001b[0m \u001b[0;34m\u001b[0m\u001b[0m\n\u001b[1;32m      3\u001b[0m \u001b[0mnew_samples\u001b[0m \u001b[0;34m=\u001b[0m \u001b[0;34m[\u001b[0m\u001b[0;34m]\u001b[0m\u001b[0;34m\u001b[0m\u001b[0;34m\u001b[0m\u001b[0m\n\u001b[1;32m      4\u001b[0m \u001b[0;32mwith\u001b[0m \u001b[0mtf\u001b[0m\u001b[0;34m.\u001b[0m\u001b[0mSession\u001b[0m\u001b[0;34m(\u001b[0m\u001b[0;34m)\u001b[0m \u001b[0;32mas\u001b[0m \u001b[0msess\u001b[0m\u001b[0;34m:\u001b[0m\u001b[0;34m\u001b[0m\u001b[0;34m\u001b[0m\u001b[0m\n\u001b[1;32m      5\u001b[0m \u001b[0;34m\u001b[0m\u001b[0m\n",
            "\u001b[0;31mNameError\u001b[0m: name 'g_vars' is not defined"
          ]
        }
      ]
    },
    {
      "cell_type": "code",
      "metadata": {
        "id": "jkkhkv2febOu"
      },
      "source": [
        ""
      ],
      "execution_count": null,
      "outputs": []
    }
  ]
}