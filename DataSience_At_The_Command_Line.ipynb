{
  "nbformat": 4,
  "nbformat_minor": 0,
  "metadata": {
    "colab": {
      "name": "DataSience_At_The_Command_Line.ipynb",
      "provenance": [],
      "include_colab_link": true
    },
    "kernelspec": {
      "name": "python3",
      "display_name": "Python 3"
    },
    "accelerator": "GPU"
  },
  "cells": [
    {
      "cell_type": "markdown",
      "metadata": {
        "id": "view-in-github",
        "colab_type": "text"
      },
      "source": [
        "<a href=\"https://colab.research.google.com/github/AbdelnasserMostafa/-myproject/blob/master/DataSience_At_The_Command_Line.ipynb\" target=\"_parent\"><img src=\"https://colab.research.google.com/assets/colab-badge.svg\" alt=\"Open In Colab\"/></a>"
      ]
    },
    {
      "cell_type": "code",
      "metadata": {
        "id": "5nzCDdQWqvEu",
        "colab": {
          "base_uri": "https://localhost:8080/",
          "height": 101
        },
        "outputId": "aed57de5-2690-47b0-ab2b-f145580bedcd"
      },
      "source": [
        "!git clone https://github.com/jeroenjanssens/data-science-at-the-command-line"
      ],
      "execution_count": null,
      "outputs": [
        {
          "output_type": "stream",
          "text": [
            "Cloning into 'data-science-at-the-command-line'...\n",
            "remote: Enumerating objects: 2461, done.\u001b[K\n",
            "remote: Total 2461 (delta 0), reused 0 (delta 0), pack-reused 2461\u001b[K\n",
            "Receiving objects: 100% (2461/2461), 16.70 MiB | 33.87 MiB/s, done.\n",
            "Resolving deltas: 100% (795/795), done.\n"
          ],
          "name": "stdout"
        }
      ]
    },
    {
      "cell_type": "code",
      "metadata": {
        "id": "0aDXixGvq52M",
        "colab": {
          "base_uri": "https://localhost:8080/",
          "height": 118
        },
        "outputId": "2fe34b34-aa2a-4316-ff84-daf86c09e944"
      },
      "source": [
        "!ls -la"
      ],
      "execution_count": null,
      "outputs": [
        {
          "output_type": "stream",
          "text": [
            "total 20\n",
            "drwxr-xr-x 1 root root 4096 Jul  3 05:16 .\n",
            "drwxr-xr-x 1 root root 4096 Jul  3 05:12 ..\n",
            "drwxr-xr-x 1 root root 4096 Jun 26 16:07 .config\n",
            "drwxr-xr-x 6 root root 4096 Jul  3 05:16 data-science-at-the-command-line\n",
            "drwxr-xr-x 1 root root 4096 Jun 18 16:14 sample_data\n"
          ],
          "name": "stdout"
        }
      ]
    },
    {
      "cell_type": "code",
      "metadata": {
        "id": "RpC_AIkCrcbm",
        "colab": {
          "base_uri": "https://localhost:8080/",
          "height": 54
        },
        "outputId": "ed185eb6-107a-4a1b-b98a-bfb57adad598"
      },
      "source": [
        "!cd !data-science-at-the-command-line"
      ],
      "execution_count": null,
      "outputs": [
        {
          "output_type": "stream",
          "text": [
            "/bin/bash: line 0: cd: data-science-at-the-command-line: No such file or directory\n"
          ],
          "name": "stdout"
        }
      ]
    },
    {
      "cell_type": "code",
      "metadata": {
        "id": "jnaPJzpgrv3E",
        "colab": {
          "base_uri": "https://localhost:8080/",
          "height": 202
        },
        "outputId": "a9ed45ca-1d0b-4698-ffa2-726cfe1cefa7"
      },
      "source": [
        "ls -la"
      ],
      "execution_count": null,
      "outputs": [
        {
          "output_type": "stream",
          "text": [
            "total 40\n",
            "drwxr-xr-x  6 root root 4096 Jul  3 05:16 \u001b[0m\u001b[01;34m.\u001b[0m/\n",
            "drwxr-xr-x  1 root root 4096 Jul  3 05:16 \u001b[01;34m..\u001b[0m/\n",
            "drwxr-xr-x  5 root root 4096 Jul  3 05:16 \u001b[01;34mbook\u001b[0m/\n",
            "drwxr-xr-x 12 root root 4096 Jul  3 05:16 \u001b[01;34mdata\u001b[0m/\n",
            "drwxr-xr-x  8 root root 4096 Jul  3 05:16 \u001b[01;34m.git\u001b[0m/\n",
            "-rw-r--r--  1 root root   58 Jul  3 05:16 .gitignore\n",
            "-rw-r--r--  1 root root 1522 Jul  3 05:16 LICENSE\n",
            "-rw-r--r--  1 root root  981 Jul  3 05:16 README.md\n",
            "drwxr-xr-x  2 root root 4096 Jul  3 05:16 \u001b[01;34mtools\u001b[0m/\n",
            "-rw-r--r--  1 root root  497 Jul  3 05:16 .travis.yml\n"
          ],
          "name": "stdout"
        }
      ]
    },
    {
      "cell_type": "code",
      "metadata": {
        "id": "IGYa1Owgr8ZT"
      },
      "source": [
        "!cd data/ch01"
      ],
      "execution_count": null,
      "outputs": []
    },
    {
      "cell_type": "code",
      "metadata": {
        "id": "Bm8grn9Dr-M7",
        "colab": {
          "base_uri": "https://localhost:8080/",
          "height": 34
        },
        "outputId": "e06802b3-7f46-4385-8a58-333562c8d6f2"
      },
      "source": [
        " !parallel -j1 --progress --delay 0.1 --results results \"curl -sL \"\\\n",
        "  \"'http://api.nytimes.com/svc/search/v2/articlesearch.json?q=New+York+'\"\\\n",
        "  \"'Fashion+Week&begin_date={1}0101&end_date={1}1231&page={2}&api-key='\"\\\n",
        "  \"NiYAkrIWpSeG6c0HLFDwGdl33Z3cIOGe\" ::: {2009..2013} ::: {0..99} > /dev/null"
      ],
      "execution_count": null,
      "outputs": [
        {
          "output_type": "stream",
          "text": [
            "/bin/bash: parallel: command not found\n"
          ],
          "name": "stdout"
        }
      ]
    },
    {
      "cell_type": "code",
      "metadata": {
        "id": "JmMYRpe2sCgt",
        "colab": {
          "base_uri": "https://localhost:8080/",
          "height": 34
        },
        "outputId": "6ac6c4bb-640b-4b2d-a00e-8da31260d460"
      },
      "source": [
        "!whoami"
      ],
      "execution_count": null,
      "outputs": [
        {
          "output_type": "stream",
          "text": [
            "root\n"
          ],
          "name": "stdout"
        }
      ]
    },
    {
      "cell_type": "code",
      "metadata": {
        "id": "g_0Cp7Ews1qe",
        "colab": {
          "base_uri": "https://localhost:8080/",
          "height": 34
        },
        "outputId": "e5abdd7b-3ad0-42c6-cc74-b425b254603c"
      },
      "source": [
        "!hostname"
      ],
      "execution_count": null,
      "outputs": [
        {
          "output_type": "stream",
          "text": [
            "3bc3442f51ab\n"
          ],
          "name": "stdout"
        }
      ]
    },
    {
      "cell_type": "code",
      "metadata": {
        "id": "DliRDD4dvQ7O",
        "colab": {
          "base_uri": "https://localhost:8080/",
          "height": 34
        },
        "outputId": "5888cb3a-bfbb-4cbe-9d74-d021a4118787"
      },
      "source": [
        "!date"
      ],
      "execution_count": null,
      "outputs": [
        {
          "output_type": "stream",
          "text": [
            "Wed Jul  3 05:27:09 UTC 2019\n"
          ],
          "name": "stdout"
        }
      ]
    },
    {
      "cell_type": "code",
      "metadata": {
        "id": "_dgrK8H2vR7F",
        "colab": {
          "base_uri": "https://localhost:8080/",
          "height": 34
        },
        "outputId": "e969ebec-2507-4c20-a0c6-f29200477237"
      },
      "source": [
        "!echo 'The command line is awesome!' | cowsay"
      ],
      "execution_count": null,
      "outputs": [
        {
          "output_type": "stream",
          "text": [
            "/bin/bash: cowsay: command not found\n"
          ],
          "name": "stdout"
        }
      ]
    },
    {
      "cell_type": "code",
      "metadata": {
        "id": "a0gjuyMPvd9M"
      },
      "source": [
        ""
      ],
      "execution_count": null,
      "outputs": []
    },
    {
      "cell_type": "code",
      "metadata": {
        "id": "yJ9UB0Unve5d"
      },
      "source": [
        ""
      ],
      "execution_count": null,
      "outputs": []
    },
    {
      "cell_type": "code",
      "metadata": {
        "id": "P5Pgw5-Rv9bA"
      },
      "source": [
        ""
      ],
      "execution_count": null,
      "outputs": []
    },
    {
      "cell_type": "code",
      "metadata": {
        "id": "r-ubdWi2xMWo"
      },
      "source": [
        ""
      ],
      "execution_count": null,
      "outputs": []
    },
    {
      "cell_type": "code",
      "metadata": {
        "id": "NY6A8IJ3xSZI"
      },
      "source": [
        ""
      ],
      "execution_count": null,
      "outputs": []
    },
    {
      "cell_type": "code",
      "metadata": {
        "id": "c9MqU89GxxM0"
      },
      "source": [
        ""
      ],
      "execution_count": null,
      "outputs": []
    },
    {
      "cell_type": "code",
      "metadata": {
        "id": "oRH8-RM8x9iT"
      },
      "source": [
        ""
      ],
      "execution_count": null,
      "outputs": []
    },
    {
      "cell_type": "code",
      "metadata": {
        "id": "b7mwTT__yDKr"
      },
      "source": [
        ""
      ],
      "execution_count": null,
      "outputs": []
    },
    {
      "cell_type": "code",
      "metadata": {
        "id": "SIofTFDMyEs7"
      },
      "source": [
        ""
      ],
      "execution_count": null,
      "outputs": []
    }
  ]
}