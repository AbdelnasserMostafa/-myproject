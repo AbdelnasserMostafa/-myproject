{
  "nbformat": 4,
  "nbformat_minor": 0,
  "metadata": {
    "colab": {
      "name": "Deep_Learning_A-Z_Hands_On_Artificial_Neural_Network_course_2.ipynb",
      "provenance": [],
      "collapsed_sections": [
        "9aWlk2d9k4Yy",
        "aLpWPVvIwMFM",
        "sCarpkt39ZiM",
        "WRUeFPpy-qyt",
        "p3ECcwLe_QWv",
        "-43D-zUV_hMU",
        "72ShDiKYjXVg",
        "sypgRRf7urcg"
      ],
      "include_colab_link": true
    },
    "kernelspec": {
      "name": "python3",
      "display_name": "Python 3"
    },
    "accelerator": "GPU"
  },
  "cells": [
    {
      "cell_type": "markdown",
      "metadata": {
        "id": "view-in-github",
        "colab_type": "text"
      },
      "source": [
        "<a href=\"https://colab.research.google.com/github/AbdelnasserMostafa/-myproject/blob/master/Deep_Learning_A_Z_Hands_On_Artificial_Neural_Network_course_2.ipynb\" target=\"_parent\"><img src=\"https://colab.research.google.com/assets/colab-badge.svg\" alt=\"Open In Colab\"/></a>"
      ]
    },
    {
      "cell_type": "code",
      "metadata": {
        "id": "L3WWaK02wd-u"
      },
      "source": [
        "%matplotlib inline\n",
        "from matplotlib import pyplot as plt\n",
        "plt.rcParams['axes.facecolor'] = 'white'\n",
        "#plt.grid(c='grey')\n",
        "plt.style.use('default')\n",
        "%matplotlib inline"
      ],
      "execution_count": null,
      "outputs": []
    },
    {
      "cell_type": "markdown",
      "metadata": {
        "id": "0u1Cd-2ZxEyh"
      },
      "source": [
        "# Softmax classification with cross-entropy\n",
        "\n",
        "\n",
        "The previous section described how to represent classification of 2 classes with the help of the logistic function . For multiclass classification there exists an extension of this logistic function called the softmax function which is used in multinomial logistic regression . What follows will explain the softmax function and how to derive it.\n",
        "\n",
        "# Softmax function\n",
        "The logistic output function described in the previous section can only be used for the classification between two target classes \n",
        "t\n",
        "=\n",
        "1\n",
        " and \n",
        "t\n",
        "=\n",
        "0\n",
        ". This logistic function can be generalized to output a multiclass categorical probability distribution by the softmax function . This softmax function \n",
        "ς\n",
        " takes as input a \n",
        "C\n",
        "-dimensional vector \n",
        "z\n",
        " and outputs a \n",
        "C\n",
        "-dimensional vector \n",
        "y\n",
        " of real values between \n",
        "0\n",
        " and \n",
        "1\n",
        ". This function is a normalized exponential and is defined as:\n",
        "\n",
        "y\n",
        "c\n",
        "=\n",
        "ς\n",
        "(\n",
        "z\n",
        ")\n",
        "c\n",
        "=\n",
        "e\n",
        "z\n",
        "c\n",
        "∑\n",
        "C\n",
        "d\n",
        "=\n",
        "1\n",
        "e\n",
        "z\n",
        "d\n",
        "for\n",
        "c\n",
        "=\n",
        "1\n",
        "⋯\n",
        "C\n",
        "\n",
        "The denominator \n",
        "∑\n",
        "C\n",
        "d\n",
        "=\n",
        "1\n",
        "e\n",
        "z\n",
        "d\n",
        " acts as a regularizer to make sure that \n",
        "∑\n",
        "C\n",
        "c\n",
        "=\n",
        "1\n",
        "y\n",
        "c\n",
        "=\n",
        "1\n",
        ". As the output layer of a neural network, the softmax function can be represented graphically as a layer with \n",
        "C\n",
        " neurons.\n",
        "\n",
        "We can write the probabilities that the class is \n",
        "t\n",
        "=\n",
        "c\n",
        " for \n",
        "c\n",
        "=\n",
        "1\n",
        "…\n",
        "C\n",
        " given input \n",
        "z\n",
        " as:\n",
        "\n",
        "⎡\n",
        "⎢\n",
        "⎢\n",
        "⎣\n",
        "P\n",
        "(\n",
        "t\n",
        "=\n",
        "1\n",
        "|\n",
        "z\n",
        ")\n",
        "⋮\n",
        "P\n",
        "(\n",
        "t\n",
        "=\n",
        "C\n",
        "|\n",
        "z\n",
        ")\n",
        "⎤\n",
        "⎥\n",
        "⎥\n",
        "⎦\n",
        "=\n",
        "⎡\n",
        "⎢\n",
        "⎢\n",
        "⎣\n",
        "ς\n",
        "(\n",
        "z\n",
        ")\n",
        "1\n",
        "⋮\n",
        "ς\n",
        "(\n",
        "z\n",
        ")\n",
        "C\n",
        "⎤\n",
        "⎥\n",
        "⎥\n",
        "⎦\n",
        "=\n",
        "1\n",
        "∑\n",
        "C\n",
        "d\n",
        "=\n",
        "1\n",
        "e\n",
        "z\n",
        "d\n",
        "⎡\n",
        "⎢\n",
        "⎢\n",
        "⎣\n",
        "e\n",
        "z\n",
        "1\n",
        "⋮\n",
        "e\n",
        "z\n",
        "C\n",
        "⎤\n",
        "⎥\n",
        "⎥\n",
        "⎦\n",
        " \n",
        " \n",
        " \n",
        "\n",
        "Where \n",
        "P\n",
        "(\n",
        "t\n",
        "=\n",
        "c\n",
        "|\n",
        "z\n",
        ")\n",
        " is thus the probability that that the class is \n",
        "c\n",
        " given the input \n",
        "z\n",
        ".\n",
        "\n",
        "These probabilities of the output \n",
        "P\n",
        "(\n",
        "t\n",
        "=\n",
        "1\n",
        "|\n",
        "z\n",
        ")\n",
        " for an example system with 2 classes (\n",
        "t\n",
        "=\n",
        "1\n",
        ", \n",
        "t\n",
        "=\n",
        "2\n",
        ") and input \n",
        "z\n",
        "=\n",
        "[\n",
        "z\n",
        "1\n",
        ",\n",
        "z\n",
        "2\n",
        "]\n",
        " are shown in the figure below. The other probability \n",
        "P\n",
        "(\n",
        "t\n",
        "=\n",
        "2\n",
        "|\n",
        "z\n",
        ")\n",
        " will be complementary."
      ]
    },
    {
      "cell_type": "code",
      "metadata": {
        "id": "fAZAUiY9wsid",
        "colab": {
          "base_uri": "https://localhost:8080/",
          "height": 248
        },
        "outputId": "4fbaa109-6b3a-478e-a9d1-0a4ce60503a4"
      },
      "source": [
        "# Import libraries\n",
        "import sys\n",
        "import numpy as np\n",
        "import matplotlib\n",
        "import matplotlib.pyplot as plt\n",
        "from matplotlib.colors import colorConverter, ListedColormap\n",
        "from mpl_toolkits.mplot3d import Axes3D\n",
        "from matplotlib import cm  # Colormaps\n",
        "import seaborn as sns \n",
        "\n",
        "# Set seaborn plotting style\n",
        "sns.set_style('darkgrid')\n",
        "\n",
        "def softmax(z):  # Softmax function\n",
        "  return np.exp(z) / np.sum(np.exp(z))\n",
        "\n",
        "# Plot the softmax output for 2 dimensions for both classes\n",
        "# Plot the output in function of the weights\n",
        "# Define a vector of weights for which we want to plot the output\n",
        "\n",
        "np_of_zs = 200\n",
        "zs = np.linspace(-10, 10, num=np_of_zs)  # input\n",
        "zs_1, zs_2 = np.meshgrid(zs, zs)         # generate grid\n",
        "y = np.zeros((np_of_zs, np_of_zs, 2))    # initialize output\n",
        "\n",
        "# Fill the output matrix for each combination of input z's\n",
        "for i in range(np_of_zs):\n",
        "  for j in range(np_of_zs):\n",
        "    y[i, j, :] = softmax(np.asarray([zs_1[i, j], zs_2[i, j]]))\n",
        "    \n",
        "# Plot the loss function surfaces for both classes\n",
        "with sns.axes_style(\"whitegrid\"):\n",
        "    fig = plt.figure(figsize=(6,4))\n",
        "    # Plot the loss function surface for t=1\n",
        "    ax = fig.gca(projection='3d')\n",
        "surf = ax.plot_surface(\n",
        "    zs_1, zs_2, y[:,:,0], linewidth=0, cmap=cm.magma)\n",
        "ax.view_init(elev=30, azim=70)\n",
        "cbar = fig.colorbar(surf)\n",
        "ax.set_xlabel('$z_1$', fontsize=2)\n",
        "ax.set_ylabel('$z_2$', fontsize=12)\n",
        "ax.set_zlabel('$y_1$', fontsize=12)\n",
        "ax.set_title ('$P(t=1|\\mathbf{z})$')\n",
        "cbar.ax.set_ylabel('$P(t=1|\\mathbf{z})$', fontsize=12)\n",
        "plt.show()"
      ],
      "execution_count": null,
      "outputs": [
        {
          "output_type": "display_data",
          "data": {
            "image/png": "[encoded data removed]",
            "text/plain": [
              "<Figure size 432x288 with 2 Axes>"
            ]
          },
          "metadata": {
            "tags": []
          }
        }
      ]
    },
    {
      "cell_type": "code",
      "metadata": {
        "id": "gJnsybAgyxBc",
        "colab": {
          "base_uri": "https://localhost:8080/",
          "height": 85
        },
        "outputId": "a3dfb115-49f6-4d21-8e4b-718a2500adac"
      },
      "source": [
        "# Versions used\n",
        "print('Python: {}.{}.{}'.format(*sys.version_info[:3]))\n",
        "print('Numpy: {}'.format(np.__version__))\n",
        "print('Matplotlib: {}'.format(matplotlib.__version__))\n",
        "print('Seaborn: {}'.format(sns.__version__))"
      ],
      "execution_count": null,
      "outputs": [
        {
          "output_type": "stream",
          "text": [
            "Python: 3.6.7\n",
            "Numpy: 1.14.6\n",
            "Matplotlib: 3.0.3\n",
            "Seaborn: 0.7.1\n"
          ],
          "name": "stdout"
        }
      ]
    },
    {
      "cell_type": "markdown",
      "metadata": {
        "id": "AZngl2USRW1z"
      },
      "source": [
        "# Part 3 - Recurrent Neural Network (RNN)"
      ]
    },
    {
      "cell_type": "code",
      "metadata": {
        "id": "5EVIHIiL2vKQ",
        "colab": {
          "base_uri": "https://localhost:8080/",
          "height": 344
        },
        "outputId": "59041975-0d26-432a-9bed-390056316ec8"
      },
      "source": [
        "!wget https://sds-platform-private.s3-us-east-2.amazonaws.com/uploads/P16-Recurrent-Neural-Networks.zip"
      ],
      "execution_count": null,
      "outputs": [
        {
          "output_type": "stream",
          "text": [
            "--2019-03-10 06:22:26--  https://sds-platform-private.s3-us-east-2.amazonaws.com/uploads/P16-Recurrent-Neural-Networks.zip\n",
            "Resolving sds-platform-private.s3-us-east-2.amazonaws.com (sds-platform-private.s3-us-east-2.amazonaws.com)... 52.219.100.72\n",
            "Connecting to sds-platform-private.s3-us-east-2.amazonaws.com (sds-platform-private.s3-us-east-2.amazonaws.com)|52.219.100.72|:443... connected.\n",
            "HTTP request sent, awaiting response... 200 OK\n",
            "Length: 24237 (24K) [application/zip]\n",
            "Saving to: ‘P16-Recurrent-Neural-Networks.zip’\n",
            "\n",
            "P16-Recurrent-Neura 100%[===================>]  23.67K   127KB/s    in 0.2s    \n",
            "\n",
            "2019-03-10 06:22:28 (127 KB/s) - ‘P16-Recurrent-Neural-Networks.zip’ saved [24237/24237]\n",
            "\n"
          ],
          "name": "stdout"
        }
      ]
    },
    {
      "cell_type": "code",
      "metadata": {
        "id": "ZQgHNGEmRhLd",
        "colab": {
          "base_uri": "https://localhost:8080/",
          "height": 129
        },
        "outputId": "89596034-7aea-40d6-bcd2-28fb213ffdee"
      },
      "source": [
        "!unzip P16-Recurrent-Neural-Networks.zip"
      ],
      "execution_count": null,
      "outputs": [
        {
          "output_type": "stream",
          "text": [
            "Archive:  P16-Recurrent-Neural-Networks.zip\n",
            "   creating: Recurrent_Neural_Networks/\n",
            "  inflating: Recurrent_Neural_Networks/Google_Stock_Price_Test.csv  \n",
            "  inflating: Recurrent_Neural_Networks/Google_Stock_Price_Train.csv  \n",
            "  inflating: Recurrent_Neural_Networks/rnn.py  \n"
          ],
          "name": "stdout"
        }
      ]
    },
    {
      "cell_type": "code",
      "metadata": {
        "id": "cqgN_847Rpdj"
      },
      "source": [
        "!rm -rf P16-Recurrent-Neural-Networks.zip"
      ],
      "execution_count": null,
      "outputs": []
    },
    {
      "cell_type": "code",
      "metadata": {
        "id": "mioAsPacR2RS",
        "colab": {
          "base_uri": "https://localhost:8080/",
          "height": 363
        },
        "outputId": "629a21ca-3986-44d5-aec2-2aeca7eabcc8"
      },
      "source": [
        "!wget https://sds-platform-private.s3-us-east-2.amazonaws.com/uploads/P16-Homework-Challenge.zip"
      ],
      "execution_count": null,
      "outputs": [
        {
          "output_type": "stream",
          "text": [
            "--2019-03-10 06:26:03--  https://sds-platform-private.s3-us-east-2.amazonaws.com/uploads/P16-Homework-Challenge.zip\n",
            "Resolving sds-platform-private.s3-us-east-2.amazonaws.com (sds-platform-private.s3-us-east-2.amazonaws.com)... 52.219.80.56\n",
            "Connecting to sds-platform-private.s3-us-east-2.amazonaws.com (sds-platform-private.s3-us-east-2.amazonaws.com)|52.219.80.56|:443... connected.\n",
            "HTTP request sent, awaiting response... 200 OK\n",
            "Length: 681041 (665K) [application/zip]\n",
            "Saving to: ‘P16-Homework-Challenge.zip’\n",
            "\n",
            "P16-Homework-Challe 100%[===================>] 665.08K   591KB/s    in 1.1s    \n",
            "\n",
            "2019-03-10 06:26:05 (591 KB/s) - ‘P16-Homework-Challenge.zip’ saved [681041/681041]\n",
            "\n"
          ],
          "name": "stdout"
        }
      ]
    },
    {
      "cell_type": "code",
      "metadata": {
        "id": "gsnQoI2CSJ-g",
        "colab": {
          "base_uri": "https://localhost:8080/",
          "height": 384
        },
        "outputId": "76da5ae0-7ff8-45a1-9a5e-a28f470d973b"
      },
      "source": [
        "!unzip P16-Homework-Challenge.zip"
      ],
      "execution_count": null,
      "outputs": [
        {
          "output_type": "stream",
          "text": [
            "Archive:  P16-Homework-Challenge.zip\n",
            "   creating: Homework_Challenge/\n",
            "  inflating: Homework_Challenge/rnn_20timesteps_1lstmlayers.png  \n",
            "   creating: __MACOSX/\n",
            "   creating: __MACOSX/Homework_Challenge/\n",
            "  inflating: __MACOSX/Homework_Challenge/._rnn_20timesteps_1lstmlayers.png  \n",
            "  inflating: Homework_Challenge/rnn_20timesteps_1lstmlayers.py  \n",
            "  inflating: __MACOSX/Homework_Challenge/._rnn_20timesteps_1lstmlayers.py  \n",
            "  inflating: Homework_Challenge/rnn_20timesteps_4lstmlayers.png  \n",
            "  inflating: __MACOSX/Homework_Challenge/._rnn_20timesteps_4lstmlayers.png  \n",
            "  inflating: Homework_Challenge/rnn_20timesteps_4lstmlayers.py  \n",
            "  inflating: __MACOSX/Homework_Challenge/._rnn_20timesteps_4lstmlayers.py  \n",
            "  inflating: Homework_Challenge/rnn_60timesteps_1lstmlayers.png  \n",
            "  inflating: __MACOSX/Homework_Challenge/._rnn_60timesteps_1lstmlayers.png  \n",
            "  inflating: Homework_Challenge/rnn_60timesteps_1lstmlayers.py  \n",
            "  inflating: __MACOSX/Homework_Challenge/._rnn_60timesteps_1lstmlayers.py  \n",
            "  inflating: Homework_Challenge/rnn_60timesteps_4lstmlayers.png  \n",
            "  inflating: __MACOSX/Homework_Challenge/._rnn_60timesteps_4lstmlayers.png  \n",
            "  inflating: Homework_Challenge/rnn_60timesteps_4lstmlayers.py  \n",
            "  inflating: __MACOSX/Homework_Challenge/._rnn_60timesteps_4lstmlayers.py  \n"
          ],
          "name": "stdout"
        }
      ]
    },
    {
      "cell_type": "code",
      "metadata": {
        "id": "1lTcnZnPSftO"
      },
      "source": [
        "!rm -rf P16-Homework-Challenge.zip"
      ],
      "execution_count": null,
      "outputs": []
    },
    {
      "cell_type": "code",
      "metadata": {
        "id": "MRUcW0o6S0qL",
        "colab": {
          "base_uri": "https://localhost:8080/",
          "height": 34
        },
        "outputId": "bfbdd9bd-6daa-4704-d9aa-337108bf2412"
      },
      "source": [
        "cd Recurrent_Neural_Networks/"
      ],
      "execution_count": null,
      "outputs": [
        {
          "output_type": "stream",
          "text": [
            "/content/Recurrent_Neural_Networks\n"
          ],
          "name": "stdout"
        }
      ]
    },
    {
      "cell_type": "code",
      "metadata": {
        "id": "rjZ6Gab5TDOr",
        "colab": {
          "base_uri": "https://localhost:8080/",
          "height": 34
        },
        "outputId": "a86e86d6-fa1f-4483-d1be-72dde7ce0ceb"
      },
      "source": [
        "pwd"
      ],
      "execution_count": null,
      "outputs": [
        {
          "output_type": "execute_result",
          "data": {
            "text/plain": [
              "'/content/Recurrent_Neural_Networks'"
            ]
          },
          "metadata": {
            "tags": []
          },
          "execution_count": 22
        }
      ]
    },
    {
      "cell_type": "markdown",
      "metadata": {
        "id": "O5rBy-FAWTlM"
      },
      "source": [
        "# Part - 1 - Data Preprocessing"
      ]
    },
    {
      "cell_type": "code",
      "metadata": {
        "id": "OUqvmp31TENC",
        "colab": {
          "base_uri": "https://localhost:8080/",
          "height": 2550
        },
        "outputId": "e1521255-cf98-46ed-dad0-f7bb5b2d3b18"
      },
      "source": [
        "# importing the libraries\n",
        "import numpy as np\n",
        "import matplotlib.pyplot as plt\n",
        "import pandas as pd\n",
        "\n",
        "# Importing the training set (only the training set)\n",
        "dataset_train = pd.read_csv('Google_Stock_Price_Train.csv')\n",
        "training_set = dataset_train.iloc[:, 1:2].values  # 1:2 range 1 to 2 will only have 1 because colums remves\n",
        "\n",
        "print('The following is the Training data dataset:','\\n', dataset_train, '\\n')\n",
        "print('The following is the the Training_set (first column only): ', '\\n', training_set, '\\n')\n",
        "\n",
        "# Feature Scaling\n",
        "from sklearn.preprocessing import MinMaxScaler\n",
        "sc = MinMaxScaler(feature_range = (0, 1))\n",
        "training_set_scaled = sc.fit_transform(training_set)\n",
        "\n",
        "print('The following is the SCALED training_set: ', '\\n', training_set_scaled, '\\n')\n",
        "\n",
        "# Creating a data structure with 60 timesteps and 1 output (importand step for RNN)\n",
        "# 20 stock days in a month x 3 is 60 days (60 timesteps)\n",
        "X_train = []\n",
        "y_train = []\n",
        "for i in range(60, 1258):   # we have 1287 indexes\n",
        "  X_train.append(training_set_scaled[i-60:i, 0])  # Choose only indexes up to firt 60\n",
        "  y_train.append(training_set_scaled[i, 0])\n",
        "# change them to a numpy array\n",
        "X_train, y_train = np.array(X_train), np.array(y_train)\n",
        "\n",
        "print('The following is the y_train (stoch_prices) after converted to numpy array: ', '\\n', y_train, '\\n')\n",
        "print('The following is the X_train (stock prices) after converted to numpy array: ', '\\n', X_train, '\\n')\n",
        "\n",
        "# Reshaping the data to add more dimensionality (Unit)\n",
        "X_train = np.reshape(X_train, (X_train.shape[0], X_train.shape[1], 1))\n",
        "\n",
        "print('The following is X_train after reshaped with three diminsions:')\n",
        "print('X_train.shape[0] corresponds to the number of stuck prices which is columns 1 which is 0')\n",
        "print('X_train.shape[1] corresponds to the number of time stamps which is [1]')\n",
        "print('The third diminsion 1, corresponds to the number of indicators')\n",
        "print(X_train)"
      ],
      "execution_count": null,
      "outputs": [
        {
          "output_type": "stream",
          "text": [
            "The following is the Training data dataset: \n",
            "             Date    Open    High     Low   Close      Volume\n",
            "0       1/3/2012  325.25  332.83  324.97  663.59   7,380,500\n",
            "1       1/4/2012  331.27  333.87  329.08  666.45   5,749,400\n",
            "2       1/5/2012  329.83  330.75  326.89  657.21   6,590,300\n",
            "3       1/6/2012  328.34  328.77  323.68  648.24   5,405,900\n",
            "4       1/9/2012  322.04  322.29  309.46  620.76  11,688,800\n",
            "5      1/10/2012  313.70  315.72  307.30  621.43   8,824,000\n",
            "6      1/11/2012  310.59  313.52  309.40  624.25   4,817,800\n",
            "7      1/12/2012  314.43  315.26  312.08  627.92   3,764,400\n",
            "8      1/13/2012  311.96  312.30  309.37  623.28   4,631,800\n",
            "9      1/17/2012  314.81  314.81  311.67  626.86   3,832,800\n",
            "10     1/18/2012  312.14  315.82  309.90  631.18   5,544,000\n",
            "11     1/19/2012  319.30  319.30  314.55  637.82  12,657,800\n",
            "12     1/20/2012  294.16  294.40  289.76  584.39  21,231,800\n",
            "13     1/23/2012  291.91  293.23  290.49  583.92   6,851,300\n",
            "14     1/24/2012  292.07  292.74  287.92  579.34   6,134,400\n",
            "15     1/25/2012  287.68  288.27  282.13  567.93  10,012,700\n",
            "16     1/26/2012  284.92  286.17  281.22  566.54   6,476,500\n",
            "17     1/27/2012  284.32  289.08  283.60  578.39   7,262,000\n",
            "18     1/30/2012  287.95  288.92  285.63  576.11   4,678,400\n",
            "19     1/31/2012  290.41  290.91  286.50  578.52   4,300,700\n",
            "20      2/1/2012  291.38  291.66  288.49  579.24   4,658,700\n",
            "21      2/2/2012  291.34  292.11  289.95  583.51   4,847,400\n",
            "22      2/3/2012  294.23  297.42  292.93   594.7   6,360,700\n",
            "23      2/6/2012  296.39  304.27  295.90  607.42   7,386,700\n",
            "24      2/7/2012  302.44  303.56  300.75  605.11   4,199,700\n",
            "25      2/8/2012  303.18  304.53  301.24  608.18   3,686,400\n",
            "26      2/9/2012  304.87  306.10  303.36  609.79   4,546,300\n",
            "27     2/10/2012  302.81  302.93  300.87  604.25   4,667,700\n",
            "28     2/13/2012  304.11  305.77  303.87  610.52   3,646,100\n",
            "29     2/14/2012  304.63  304.86  301.25  608.09   3,620,900\n",
            "...          ...     ...     ...     ...     ...         ...\n",
            "1228  11/17/2016  766.92  772.70  764.23  771.23   1,304,000\n",
            "1229  11/18/2016  771.37  775.00  760.00  760.54   1,547,100\n",
            "1230  11/21/2016  762.61  769.70  760.60   769.2   1,330,600\n",
            "1231  11/22/2016  772.63  776.96  767.00  768.27   1,593,100\n",
            "1232  11/23/2016  767.73  768.28  755.25  760.99   1,478,400\n",
            "1233  11/25/2016  764.26  765.00  760.52  761.68     587,400\n",
            "1234  11/28/2016  760.00  779.53  759.80  768.24   2,188,200\n",
            "1235  11/29/2016  771.53  778.50  768.24  770.84   1,616,600\n",
            "1236  11/30/2016  770.07  772.99  754.83  758.04   2,392,900\n",
            "1237   12/1/2016  757.44  759.85  737.03  747.92   3,017,900\n",
            "1238   12/2/2016  744.59  754.00  743.10   750.5   1,452,500\n",
            "1239   12/5/2016  757.71  763.90  752.90  762.52   1,394,200\n",
            "1240   12/6/2016  764.73  768.83  757.34  759.11   1,690,700\n",
            "1241   12/7/2016  761.00  771.36  755.80  771.19   1,761,000\n",
            "1242   12/8/2016  772.48  778.18  767.23  776.42   1,488,100\n",
            "1243   12/9/2016  780.00  789.43  779.02  789.29   1,821,900\n",
            "1244  12/12/2016  785.04  791.25  784.35  789.27   2,104,100\n",
            "1245  12/13/2016  793.90  804.38  793.34   796.1   2,145,200\n",
            "1246  12/14/2016  797.40  804.00  794.01  797.07   1,704,200\n",
            "1247  12/15/2016  797.34  803.00  792.92  797.85   1,626,500\n",
            "1248  12/16/2016  800.40  800.86  790.29   790.8   2,443,800\n",
            "1249  12/19/2016  790.22  797.66  786.27   794.2   1,232,100\n",
            "1250  12/20/2016  796.76  798.65  793.27  796.42     951,000\n",
            "1251  12/21/2016  795.84  796.68  787.10  794.56   1,211,300\n",
            "1252  12/22/2016  792.36  793.32  788.58  791.26     972,200\n",
            "1253  12/23/2016  790.90  792.74  787.28  789.91     623,400\n",
            "1254  12/27/2016  790.68  797.86  787.66  791.55     789,100\n",
            "1255  12/28/2016  793.70  794.23  783.20  785.05   1,153,800\n",
            "1256  12/29/2016  783.33  785.93  778.92  782.79     744,300\n",
            "1257  12/30/2016  782.75  782.78  770.41  771.82   1,770,000\n",
            "\n",
            "[1258 rows x 6 columns] \n",
            "\n",
            "The following is the the Training_set (first column only):  \n",
            " [[325.25]\n",
            " [331.27]\n",
            " [329.83]\n",
            " ...\n",
            " [793.7 ]\n",
            " [783.33]\n",
            " [782.75]] \n",
            "\n",
            "The following is the SCALED training_set:  \n",
            " [[0.08581368]\n",
            " [0.09701243]\n",
            " [0.09433366]\n",
            " ...\n",
            " [0.95725128]\n",
            " [0.93796041]\n",
            " [0.93688146]] \n",
            "\n",
            "The following is the y_train (stoch_prices) after converted to numpy array:  \n",
            " [0.08627874 0.08471612 0.07454052 ... 0.95725128 0.93796041 0.93688146] \n",
            "\n",
            "The following is the X_train (stock prices) after converted to numpy array:  \n",
            " [[0.08581368 0.09701243 0.09433366 ... 0.07846566 0.08034452 0.08497656]\n",
            " [0.09701243 0.09433366 0.09156187 ... 0.08034452 0.08497656 0.08627874]\n",
            " [0.09433366 0.09156187 0.07984225 ... 0.08497656 0.08627874 0.08471612]\n",
            " ...\n",
            " [0.92106928 0.92438053 0.93048218 ... 0.95475854 0.95204256 0.95163331]\n",
            " [0.92438053 0.93048218 0.9299055  ... 0.95204256 0.95163331 0.95725128]\n",
            " [0.93048218 0.9299055  0.93113327 ... 0.95163331 0.95725128 0.93796041]] \n",
            "\n",
            "The following is X_train after reshaped with three diminsions:\n",
            "X_train.shape[0] corresponds to the number of stuck prices which is columns 1 which is 0\n",
            "X_train.shape[1] corresponds to the number of time stamps which is [1]\n",
            "The third diminsion 1, corresponds to the number of indicators\n",
            "[[[0.08581368]\n",
            "  [0.09701243]\n",
            "  [0.09433366]\n",
            "  ...\n",
            "  [0.07846566]\n",
            "  [0.08034452]\n",
            "  [0.08497656]]\n",
            "\n",
            " [[0.09701243]\n",
            "  [0.09433366]\n",
            "  [0.09156187]\n",
            "  ...\n",
            "  [0.08034452]\n",
            "  [0.08497656]\n",
            "  [0.08627874]]\n",
            "\n",
            " [[0.09433366]\n",
            "  [0.09156187]\n",
            "  [0.07984225]\n",
            "  ...\n",
            "  [0.08497656]\n",
            "  [0.08627874]\n",
            "  [0.08471612]]\n",
            "\n",
            " ...\n",
            "\n",
            " [[0.92106928]\n",
            "  [0.92438053]\n",
            "  [0.93048218]\n",
            "  ...\n",
            "  [0.95475854]\n",
            "  [0.95204256]\n",
            "  [0.95163331]]\n",
            "\n",
            " [[0.92438053]\n",
            "  [0.93048218]\n",
            "  [0.9299055 ]\n",
            "  ...\n",
            "  [0.95204256]\n",
            "  [0.95163331]\n",
            "  [0.95725128]]\n",
            "\n",
            " [[0.93048218]\n",
            "  [0.9299055 ]\n",
            "  [0.93113327]\n",
            "  ...\n",
            "  [0.95163331]\n",
            "  [0.95725128]\n",
            "  [0.93796041]]]\n"
          ],
          "name": "stdout"
        }
      ]
    },
    {
      "cell_type": "markdown",
      "metadata": {
        "id": "9aWlk2d9k4Yy"
      },
      "source": [
        "# Part 2 - Building the RNN"
      ]
    },
    {
      "cell_type": "code",
      "metadata": {
        "id": "7lBiP2zwWyCh",
        "colab": {
          "base_uri": "https://localhost:8080/",
          "height": 3505
        },
        "outputId": "68fcd6b9-6cd9-4806-fad1-b6328d64bea7"
      },
      "source": [
        "# Importing the Keras libraries and packages\n",
        "from keras.models import Sequential  # Sequential class Creates and RNN object representing sequence of layers\n",
        "from keras.layers import Dense       # Dense class to add the output layers     \n",
        "from keras.layers import LSTM        # LSTM class to add the LSTM Layers (Long Short-Term Memory)\n",
        "from keras.layers import Dropout     # Dropout class to add the Dropout regularization\n",
        "\n",
        "# Initializing the RNN\n",
        "regressor = Sequential()\n",
        "\n",
        "# Adding the first LSTM and some Dropout regularization to prevent overfitting\n",
        "regressor.add(LSTM(units = 50, return_sequences = True, input_shape = (X_train.shape[1], 1)))\n",
        "regressor.add(Dropout(0.2))  # drop rate is 20%\n",
        "\n",
        "# in LSTM() you need to put three very importand arguments, These are:\n",
        "# 1 - The number of units (the number of LSTM CELS or memory unit you want to add or the number of neurons)\n",
        "# 2 - Return sequences = True, You do not have to set it to default becuase it is the default argument\n",
        "# 3 - input_shape, which is the shape we created in data processing part in 3 diminsions\n",
        "\n",
        "# Adding a second LSTM Layer and some Dropout regularization\n",
        "regressor.add(LSTM(units = 50, return_sequences = True)) # No need to add input_shape after the first layer\n",
        "regressor.add(Dropout(0.2))  # drop rate is 20%\n",
        "\n",
        "# Adding a third LSTM Layer and some Dropout regularization\n",
        "regressor.add(LSTM(units = 50, return_sequences = True)) # No need to add input_shape after the first layer\n",
        "regressor.add(Dropout(0.2))  # drop rate is 20%\n",
        "\n",
        "# Adding a fourth LSTM Layer and some Dropout regularization\n",
        "regressor.add(LSTM(units = 50)) # No need for return_shape here, let it set to default which is False\n",
        "regressor.add(Dropout(0.2))  # drop rate is 20%\n",
        "\n",
        "# Adding the output layer\n",
        "regressor.add(Dense(units = 1))\n",
        "\n",
        "# Compiling the RNN\n",
        "regressor.compile(optimizer = 'adam', loss = 'mean_squared_error')\n",
        "\n",
        "# Fitting the RNN to the Training set\n",
        "regressor.fit(X_train, y_train, epochs = 100, batch_size = 32)"
      ],
      "execution_count": null,
      "outputs": [
        {
          "output_type": "stream",
          "text": [
            "WARNING:tensorflow:From /usr/local/lib/python3.6/dist-packages/tensorflow/python/ops/math_ops.py:3066: to_int32 (from tensorflow.python.ops.math_ops) is deprecated and will be removed in a future version.\n",
            "Instructions for updating:\n",
            "Use tf.cast instead.\n",
            "Epoch 1/100\n",
            "1198/1198 [==============================] - 21s 18ms/step - loss: 0.0529\n",
            "Epoch 2/100\n",
            "1198/1198 [==============================] - 16s 14ms/step - loss: 0.0069\n",
            "Epoch 3/100\n",
            "1198/1198 [==============================] - 16s 14ms/step - loss: 0.0055\n",
            "Epoch 4/100\n",
            "1198/1198 [==============================] - 17s 14ms/step - loss: 0.0057\n",
            "Epoch 5/100\n",
            "1198/1198 [==============================] - 17s 14ms/step - loss: 0.0055\n",
            "Epoch 6/100\n",
            "1198/1198 [==============================] - 17s 14ms/step - loss: 0.0049\n",
            "Epoch 7/100\n",
            "1198/1198 [==============================] - 17s 14ms/step - loss: 0.0047\n",
            "Epoch 8/100\n",
            "1198/1198 [==============================] - 16s 14ms/step - loss: 0.0041\n",
            "Epoch 9/100\n",
            "1198/1198 [==============================] - 16s 14ms/step - loss: 0.0048\n",
            "Epoch 10/100\n",
            "1198/1198 [==============================] - 16s 14ms/step - loss: 0.0045\n",
            "Epoch 11/100\n",
            "1198/1198 [==============================] - 16s 14ms/step - loss: 0.0053\n",
            "Epoch 12/100\n",
            "1198/1198 [==============================] - 16s 14ms/step - loss: 0.0040\n",
            "Epoch 13/100\n",
            "1198/1198 [==============================] - 16s 14ms/step - loss: 0.0039\n",
            "Epoch 14/100\n",
            "1198/1198 [==============================] - 16s 14ms/step - loss: 0.0042\n",
            "Epoch 15/100\n",
            "1198/1198 [==============================] - 16s 14ms/step - loss: 0.0043\n",
            "Epoch 16/100\n",
            "1198/1198 [==============================] - 16s 14ms/step - loss: 0.0039\n",
            "Epoch 17/100\n",
            "1198/1198 [==============================] - 16s 14ms/step - loss: 0.0037\n",
            "Epoch 18/100\n",
            "1198/1198 [==============================] - 16s 14ms/step - loss: 0.0034\n",
            "Epoch 19/100\n",
            "1198/1198 [==============================] - 16s 14ms/step - loss: 0.0036\n",
            "Epoch 20/100\n",
            "1198/1198 [==============================] - 16s 14ms/step - loss: 0.0035\n",
            "Epoch 21/100\n",
            "1198/1198 [==============================] - 16s 14ms/step - loss: 0.0035\n",
            "Epoch 22/100\n",
            "1198/1198 [==============================] - 16s 14ms/step - loss: 0.0034\n",
            "Epoch 23/100\n",
            "1198/1198 [==============================] - 16s 14ms/step - loss: 0.0034\n",
            "Epoch 24/100\n",
            "1198/1198 [==============================] - 16s 14ms/step - loss: 0.0036\n",
            "Epoch 25/100\n",
            "1198/1198 [==============================] - 16s 14ms/step - loss: 0.0034\n",
            "Epoch 26/100\n",
            "1198/1198 [==============================] - 16s 14ms/step - loss: 0.0034\n",
            "Epoch 27/100\n",
            "1198/1198 [==============================] - 16s 14ms/step - loss: 0.0032\n",
            "Epoch 28/100\n",
            "1198/1198 [==============================] - 16s 14ms/step - loss: 0.0034\n",
            "Epoch 29/100\n",
            "1198/1198 [==============================] - 16s 14ms/step - loss: 0.0028\n",
            "Epoch 30/100\n",
            "1198/1198 [==============================] - 16s 14ms/step - loss: 0.0034\n",
            "Epoch 31/100\n",
            "1198/1198 [==============================] - 16s 14ms/step - loss: 0.0031\n",
            "Epoch 32/100\n",
            "1198/1198 [==============================] - 16s 14ms/step - loss: 0.0030\n",
            "Epoch 33/100\n",
            "1198/1198 [==============================] - 16s 14ms/step - loss: 0.0029\n",
            "Epoch 34/100\n",
            "1198/1198 [==============================] - 16s 14ms/step - loss: 0.0026\n",
            "Epoch 35/100\n",
            "1198/1198 [==============================] - 16s 14ms/step - loss: 0.0028\n",
            "Epoch 36/100\n",
            "1198/1198 [==============================] - 16s 14ms/step - loss: 0.0026\n",
            "Epoch 37/100\n",
            "1198/1198 [==============================] - 16s 14ms/step - loss: 0.0027\n",
            "Epoch 38/100\n",
            "1198/1198 [==============================] - 16s 14ms/step - loss: 0.0028\n",
            "Epoch 39/100\n",
            "1198/1198 [==============================] - 16s 14ms/step - loss: 0.0026\n",
            "Epoch 40/100\n",
            "1198/1198 [==============================] - 16s 14ms/step - loss: 0.0027\n",
            "Epoch 41/100\n",
            "1198/1198 [==============================] - 16s 14ms/step - loss: 0.0028\n",
            "Epoch 42/100\n",
            "1198/1198 [==============================] - 16s 14ms/step - loss: 0.0025\n",
            "Epoch 43/100\n",
            "1198/1198 [==============================] - 16s 14ms/step - loss: 0.0024\n",
            "Epoch 44/100\n",
            "1198/1198 [==============================] - 17s 14ms/step - loss: 0.0025\n",
            "Epoch 45/100\n",
            "1198/1198 [==============================] - 16s 14ms/step - loss: 0.0026\n",
            "Epoch 46/100\n",
            "1198/1198 [==============================] - 16s 14ms/step - loss: 0.0026\n",
            "Epoch 47/100\n",
            "1198/1198 [==============================] - 16s 14ms/step - loss: 0.0025\n",
            "Epoch 48/100\n",
            "1198/1198 [==============================] - 16s 14ms/step - loss: 0.0027\n",
            "Epoch 49/100\n",
            "1198/1198 [==============================] - 16s 14ms/step - loss: 0.0023\n",
            "Epoch 50/100\n",
            "1198/1198 [==============================] - 16s 14ms/step - loss: 0.0024\n",
            "Epoch 51/100\n",
            "1198/1198 [==============================] - 16s 14ms/step - loss: 0.0022\n",
            "Epoch 52/100\n",
            "1198/1198 [==============================] - 16s 14ms/step - loss: 0.0022\n",
            "Epoch 53/100\n",
            "1198/1198 [==============================] - 16s 14ms/step - loss: 0.0024\n",
            "Epoch 54/100\n",
            "1198/1198 [==============================] - 16s 14ms/step - loss: 0.0022\n",
            "Epoch 55/100\n",
            "1198/1198 [==============================] - 16s 14ms/step - loss: 0.0023\n",
            "Epoch 56/100\n",
            "1198/1198 [==============================] - 16s 14ms/step - loss: 0.0022\n",
            "Epoch 57/100\n",
            "1198/1198 [==============================] - 16s 14ms/step - loss: 0.0022\n",
            "Epoch 58/100\n",
            "1198/1198 [==============================] - 16s 14ms/step - loss: 0.0021\n",
            "Epoch 59/100\n",
            "1198/1198 [==============================] - 16s 14ms/step - loss: 0.0020\n",
            "Epoch 60/100\n",
            "1198/1198 [==============================] - 16s 14ms/step - loss: 0.0022\n",
            "Epoch 61/100\n",
            "1198/1198 [==============================] - 16s 14ms/step - loss: 0.0021\n",
            "Epoch 62/100\n",
            "1198/1198 [==============================] - 16s 14ms/step - loss: 0.0023\n",
            "Epoch 63/100\n",
            "1198/1198 [==============================] - 16s 14ms/step - loss: 0.0020\n",
            "Epoch 64/100\n",
            "1198/1198 [==============================] - 16s 14ms/step - loss: 0.0021\n",
            "Epoch 65/100\n",
            "1198/1198 [==============================] - 16s 14ms/step - loss: 0.0020\n",
            "Epoch 66/100\n",
            "1198/1198 [==============================] - 16s 14ms/step - loss: 0.0019\n",
            "Epoch 67/100\n",
            "1198/1198 [==============================] - 16s 14ms/step - loss: 0.0020\n",
            "Epoch 68/100\n",
            "1198/1198 [==============================] - 16s 14ms/step - loss: 0.0021\n",
            "Epoch 69/100\n",
            "1198/1198 [==============================] - 16s 14ms/step - loss: 0.0020\n",
            "Epoch 70/100\n",
            "1198/1198 [==============================] - 16s 14ms/step - loss: 0.0018\n",
            "Epoch 71/100\n",
            "1198/1198 [==============================] - 16s 14ms/step - loss: 0.0018\n",
            "Epoch 72/100\n",
            "1198/1198 [==============================] - 16s 14ms/step - loss: 0.0019\n",
            "Epoch 73/100\n",
            "1198/1198 [==============================] - 16s 14ms/step - loss: 0.0017\n",
            "Epoch 74/100\n",
            "1198/1198 [==============================] - 16s 14ms/step - loss: 0.0018\n",
            "Epoch 75/100\n",
            "1198/1198 [==============================] - 16s 14ms/step - loss: 0.0018\n",
            "Epoch 76/100\n",
            "1198/1198 [==============================] - 16s 14ms/step - loss: 0.0017\n",
            "Epoch 77/100\n",
            "1198/1198 [==============================] - 16s 14ms/step - loss: 0.0019\n",
            "Epoch 78/100\n",
            "1198/1198 [==============================] - 16s 14ms/step - loss: 0.0017\n",
            "Epoch 79/100\n",
            "1198/1198 [==============================] - 16s 14ms/step - loss: 0.0017\n",
            "Epoch 80/100\n",
            "1198/1198 [==============================] - 16s 14ms/step - loss: 0.0017\n",
            "Epoch 81/100\n",
            "1198/1198 [==============================] - 16s 14ms/step - loss: 0.0019\n",
            "Epoch 82/100\n",
            "1198/1198 [==============================] - 17s 14ms/step - loss: 0.0018\n",
            "Epoch 83/100\n",
            "1198/1198 [==============================] - 16s 14ms/step - loss: 0.0015\n",
            "Epoch 84/100\n",
            "1198/1198 [==============================] - 16s 14ms/step - loss: 0.0016\n",
            "Epoch 85/100\n",
            "1198/1198 [==============================] - 16s 14ms/step - loss: 0.0014\n",
            "Epoch 86/100\n",
            "1198/1198 [==============================] - 16s 14ms/step - loss: 0.0015\n",
            "Epoch 87/100\n",
            "1198/1198 [==============================] - 16s 14ms/step - loss: 0.0015\n",
            "Epoch 88/100\n",
            "1198/1198 [==============================] - 16s 14ms/step - loss: 0.0016\n",
            "Epoch 89/100\n",
            "1198/1198 [==============================] - 16s 14ms/step - loss: 0.0016\n",
            "Epoch 90/100\n",
            "1198/1198 [==============================] - 16s 14ms/step - loss: 0.0016\n",
            "Epoch 91/100\n",
            "1198/1198 [==============================] - 16s 14ms/step - loss: 0.0017\n",
            "Epoch 92/100\n",
            "1198/1198 [==============================] - 16s 14ms/step - loss: 0.0018\n",
            "Epoch 93/100\n",
            "1198/1198 [==============================] - 16s 14ms/step - loss: 0.0016\n",
            "Epoch 94/100\n",
            "1198/1198 [==============================] - 16s 14ms/step - loss: 0.0014\n",
            "Epoch 95/100\n",
            "1198/1198 [==============================] - 16s 14ms/step - loss: 0.0015\n",
            "Epoch 96/100\n",
            "1198/1198 [==============================] - 16s 14ms/step - loss: 0.0014\n",
            "Epoch 97/100\n",
            "1198/1198 [==============================] - 16s 14ms/step - loss: 0.0015\n",
            "Epoch 98/100\n",
            "1198/1198 [==============================] - 16s 14ms/step - loss: 0.0014\n",
            "Epoch 99/100\n",
            "1198/1198 [==============================] - 16s 14ms/step - loss: 0.0015\n",
            "Epoch 100/100\n",
            "1198/1198 [==============================] - 16s 14ms/step - loss: 0.0015\n"
          ],
          "name": "stdout"
        },
        {
          "output_type": "execute_result",
          "data": {
            "text/plain": [
              "<keras.callbacks.History at 0x7f4f9ccb0dd8>"
            ]
          },
          "metadata": {
            "tags": []
          },
          "execution_count": 40
        }
      ]
    },
    {
      "cell_type": "markdown",
      "metadata": {
        "id": "aLpWPVvIwMFM"
      },
      "source": [
        "# Part 3 - Making the predictions and visualizing the results"
      ]
    },
    {
      "cell_type": "code",
      "metadata": {
        "id": "F1YwufOclZUQ",
        "colab": {
          "base_uri": "https://localhost:8080/",
          "height": 1077
        },
        "outputId": "c32cc086-c567-49d8-b695-a35cb9013b37"
      },
      "source": [
        "# Getting the real stock prices of 2017 (read the test set only)\n",
        "dataset_test = pd.read_csv('Google_Stock_Price_Test.csv')\n",
        "real_stock_price = dataset_test.iloc[:, 1:2].values\n",
        "\n",
        "print('The following is the real_stock_price: ', '\\n', real_stock_price, '\\n\\n')\n",
        "\n",
        "# Getting the predicted stock price of Jan, 2017\n",
        "dataset_total = pd.concat((dataset_train['Open'], dataset_test['Open']), axis = 0)\n",
        "inputs = dataset_total[len(dataset_total) - len(dataset_test) - 60:].values\n",
        "inputs = inputs.reshape(-1, 1)\n",
        "inputs = sc.transform(inputs)\n",
        "X_test = []\n",
        "for i in range(60, 80):   # 60 previous input + 20 first financial days in Jan = 80\n",
        "  X_test.append(inputs[i-60:i, 0])  # Choose only indexes up to firt 60\n",
        "X_test = np.array(X_test)\n",
        "X_test = np.reshape(X_test, (X_test.shape[0], X_test.shape[1], 1))\n",
        "# Prediction (the results)\n",
        "predicted_stock_price = regressor.predict(X_test)\n",
        "# Inverse the scaling of our prediction\n",
        "predicted_stock_price = sc.inverse_transform(predicted_stock_price)\n",
        "\n",
        "print('The following is the predicted_stock_prices: ', '\\n', predicted_stock_price, '\\n\\n')\n",
        "\n",
        "# Visualizing the results\n",
        "plt.plot(real_stock_price, color = 'red', label = 'Real Google Stock Price')\n",
        "plt.plot(predicted_stock_price, color = 'blue', label = 'Predicted Google Stock Price')\n",
        "plt.title('Google Stock Price Prediction')\n",
        "plt.xlabel('Time')\n",
        "plt.ylabel('Google Stock Price')\n",
        "plt.legend()\n",
        "plt.show()"
      ],
      "execution_count": null,
      "outputs": [
        {
          "output_type": "stream",
          "text": [
            "The following is the real_stock_price:  \n",
            " [[778.81]\n",
            " [788.36]\n",
            " [786.08]\n",
            " [795.26]\n",
            " [806.4 ]\n",
            " [807.86]\n",
            " [805.  ]\n",
            " [807.14]\n",
            " [807.48]\n",
            " [807.08]\n",
            " [805.81]\n",
            " [805.12]\n",
            " [806.91]\n",
            " [807.25]\n",
            " [822.3 ]\n",
            " [829.62]\n",
            " [837.81]\n",
            " [834.71]\n",
            " [814.66]\n",
            " [796.86]] \n",
            "\n",
            "\n",
            "The following is the predicted_stock_prices:  \n",
            " [[791.59357]\n",
            " [788.82776]\n",
            " [789.2305 ]\n",
            " [790.76636]\n",
            " [794.155  ]\n",
            " [800.0669 ]\n",
            " [805.3747 ]\n",
            " [807.36615]\n",
            " [807.5891 ]\n",
            " [807.4164 ]\n",
            " [807.3235 ]\n",
            " [807.17316]\n",
            " [807.02496]\n",
            " [807.5515 ]\n",
            " [808.4722 ]\n",
            " [813.1476 ]\n",
            " [820.0989 ]\n",
            " [827.3894 ]\n",
            " [831.0749 ]\n",
            " [826.4271 ]] \n",
            "\n",
            "\n"
          ],
          "name": "stdout"
        },
        {
          "output_type": "display_data",
          "data": {
            "image/png": "[encoded data removed]",
            "text/plain": [
              "<Figure size 432x288 with 1 Axes>"
            ]
          },
          "metadata": {
            "tags": []
          }
        }
      ]
    },
    {
      "cell_type": "markdown",
      "metadata": {
        "id": "sCarpkt39ZiM"
      },
      "source": [
        "# Evaluating the RNN\n",
        "\n",
        "as seen in the practical lectures, the RNN we built was a regressor. Indeed, we were dealing with Regression because we were trying to predict a continuous outcome (the Google Stock Price). For Regression, the way to evaluate the model performance is with a metric called RMSE (Root Mean Squared Error). It is calculated as the root of the mean of the squared differences between the predictions and the real values.\n",
        "\n",
        "However for our specific Stock Price Prediction problem, evaluating the model with the RMSE does not make much sense, since we are more interested in the directions taken by our predictions, rather than the closeness of their values to the real stock price. We want to check if our predictions follow the same directions as the real stock price and we don’t really care whether our predictions are close the real stock price. The predictions could indeed be close but often taking the opposite direction from the real stock price.\n",
        "\n",
        "Nevertheless if you are interested in the code that computes the RMSE for our Stock Price Prediction problem, please find it just below:\n",
        "\n",
        "import math\n",
        "\n",
        "from sklearn.metrics import mean_squared_error\n",
        "rmse = \n",
        "\n",
        "math.sqrt(mean_squared_error(real_stock_price,predicted_stock_price))\n",
        "\n",
        "Then consider dividing this RMSE by the range of the Google Stock Price values of January 2017 (that is around 800) to get a relative error, as opposed to an absolute error. It is more relevant since for example if you get an RMSE of 50, then this error would be very big if the stock price values ranged around 100, but it would be very small if the stock price values ranged around 10000.\n",
        "\n"
      ]
    },
    {
      "cell_type": "markdown",
      "metadata": {
        "id": "WRUeFPpy-qyt"
      },
      "source": [
        "# Improving the RNN\n",
        "\n",
        "here are different ways to improve the RNN model:\n",
        "\n",
        "1. Getting more training data: we trained our model on the past 5 years of the Google Stock Price but it would be even better to train it on the past 10 years.\n",
        "2. Increasing the number of timesteps: the model remembered the stock prices from the 60 previous financial days to predict the stock price of the next day. That’s because we chose a number of 60 timesteps (3 months). You could try to increase the number of timesteps, by choosing for example 120 timesteps (6 months).\n",
        "3. Adding some other indicators: if you have the financial instinct that the stock price of some other companies might be correlated to the one of Google, you could add this other stock price as a new indicator in the training data.\n",
        "4. Adding more LSTM layers: we built a RNN with four LSTM layers but you could try with even more.\n",
        "5. Adding more neurones in the LSTM layers: we highlighted the fact that we needed a high number of neurones in the LSTM layers to respond better to the complexity of the problem and we chose to include 50 neurones in each of our 4 LSTM layers. You could try an architecture with even more neurones in each of the 4 (or more) LSTM layers.\n"
      ]
    },
    {
      "cell_type": "markdown",
      "metadata": {
        "id": "p3ECcwLe_QWv"
      },
      "source": [
        "# Tunning the RNN\n",
        "\n",
        "you can do some Parameter Tuning on the RNN model we implemented.\n",
        "\n",
        "Remember, this time we are dealing with a Regression problem because we predict a continuous outcome (the Google Stock Price).\n",
        "\n",
        "Parameter Tuning for Regression is the same as Parameter Tuning for Classification which you learned in Part 1 - Artificial Neural Networks, the only difference is that you have to replace:\n",
        "\n",
        "scoring = 'accuracy'  \n",
        "\n",
        "by:\n",
        "\n",
        "scoring = 'neg_mean_squared_error' \n",
        "\n",
        "in the GridSearchCV class parameters."
      ]
    },
    {
      "cell_type": "markdown",
      "metadata": {
        "id": "-43D-zUV_hMU"
      },
      "source": [
        "# Part 4 - Self Organizing Maps\n",
        "\n",
        "In this part you will learn:\n",
        "\n",
        "1. The Intuition of SOMs\n",
        "\n",
        "2. How to build a SOM\n",
        "\n",
        "3. How to return the specific features (like frauds) detected by the SOM\n",
        "\n",
        "4. How to make a Hybrid Deep Learning Model\n"
      ]
    },
    {
      "cell_type": "code",
      "metadata": {
        "id": "QQ47gAiY5E8x",
        "colab": {
          "base_uri": "https://localhost:8080/",
          "height": 224
        },
        "outputId": "0e7c8e98-e45f-46dc-ae89-3bcc536e03f6"
      },
      "source": [
        "!wget https://sds-platform-private.s3-us-east-2.amazonaws.com/uploads/P16-Self-Organizing-Maps.zip"
      ],
      "execution_count": null,
      "outputs": [
        {
          "output_type": "stream",
          "text": [
            "--2019-03-12 06:38:21--  https://sds-platform-private.s3-us-east-2.amazonaws.com/uploads/P16-Self-Organizing-Maps.zip\n",
            "Resolving sds-platform-private.s3-us-east-2.amazonaws.com (sds-platform-private.s3-us-east-2.amazonaws.com)... 52.219.96.168\n",
            "Connecting to sds-platform-private.s3-us-east-2.amazonaws.com (sds-platform-private.s3-us-east-2.amazonaws.com)|52.219.96.168|:443... connected.\n",
            "HTTP request sent, awaiting response... 200 OK\n",
            "Length: 17004 (17K) [application/zip]\n",
            "Saving to: ‘P16-Self-Organizing-Maps.zip’\n",
            "\n",
            "\r          P16-Self-   0%[                    ]       0  --.-KB/s               \rP16-Self-Organizing 100%[===================>]  16.61K  --.-KB/s    in 0s      \n",
            "\n",
            "2019-03-12 06:38:21 (156 MB/s) - ‘P16-Self-Organizing-Maps.zip’ saved [17004/17004]\n",
            "\n"
          ],
          "name": "stdout"
        }
      ]
    },
    {
      "cell_type": "code",
      "metadata": {
        "id": "FH5qCjoyL8WA",
        "colab": {
          "base_uri": "https://localhost:8080/",
          "height": 119
        },
        "outputId": "4517fe83-3bf7-4098-f424-f7ff6493c4c6"
      },
      "source": [
        "!ls -la"
      ],
      "execution_count": null,
      "outputs": [
        {
          "output_type": "stream",
          "text": [
            "total 40\n",
            "drwxr-xr-x 1 root root  4096 Mar 12 06:38 .\n",
            "drwxr-xr-x 1 root root  4096 Mar 12 06:32 ..\n",
            "drwxr-xr-x 4 root root  4096 Mar  8 17:25 .config\n",
            "-rw-r--r-- 1 root root 17004 Mar  6 17:49 P16-Self-Organizing-Maps.zip\n",
            "drwxr-xr-x 1 root root  4096 Mar  8 17:26 sample_data\n"
          ],
          "name": "stdout"
        }
      ]
    },
    {
      "cell_type": "code",
      "metadata": {
        "id": "aV1fU1JxMANU",
        "colab": {
          "base_uri": "https://localhost:8080/",
          "height": 170
        },
        "outputId": "ce6bd4e4-d1ad-4342-97ce-5ceaed1397a3"
      },
      "source": [
        "!unzip P16-Self-Organizing-Maps.zip"
      ],
      "execution_count": null,
      "outputs": [
        {
          "output_type": "stream",
          "text": [
            "Archive:  P16-Self-Organizing-Maps.zip\n",
            "   creating: Self_Organizing_Maps/\n",
            "  inflating: Self_Organizing_Maps/Credit_Card_Applications.csv  \n",
            "   creating: __MACOSX/\n",
            "   creating: __MACOSX/Self_Organizing_Maps/\n",
            "  inflating: __MACOSX/Self_Organizing_Maps/._Credit_Card_Applications.csv  \n",
            "  inflating: Self_Organizing_Maps/minisom.py  \n",
            "  inflating: Self_Organizing_Maps/som.py  \n",
            "  inflating: __MACOSX/Self_Organizing_Maps/._som.py  \n"
          ],
          "name": "stdout"
        }
      ]
    },
    {
      "cell_type": "code",
      "metadata": {
        "id": "sd49QYNpMDb7"
      },
      "source": [
        "!rm -rf P16-Self-Organizing-Maps.zip"
      ],
      "execution_count": null,
      "outputs": []
    },
    {
      "cell_type": "code",
      "metadata": {
        "id": "3XG8WWbwMFOq"
      },
      "source": [
        "!cd Self_Organizing_Maps/"
      ],
      "execution_count": null,
      "outputs": []
    },
    {
      "cell_type": "code",
      "metadata": {
        "id": "-lq_Z1WoMPzw"
      },
      "source": [
        "!cp /content/Self_Organizing_Maps/minisom.py /content"
      ],
      "execution_count": null,
      "outputs": []
    },
    {
      "cell_type": "code",
      "metadata": {
        "id": "RccnqcWEMYit",
        "colab": {
          "base_uri": "https://localhost:8080/",
          "height": 153
        },
        "outputId": "a685a052-f517-4d4a-a870-fcf7c2a81f18"
      },
      "source": [
        "!ls -la"
      ],
      "execution_count": null,
      "outputs": [
        {
          "output_type": "stream",
          "text": [
            "total 36\n",
            "drwxr-xr-x 1 root root  4096 Mar 12 06:38 .\n",
            "drwxr-xr-x 1 root root  4096 Mar 12 06:32 ..\n",
            "drwxr-xr-x 4 root root  4096 Mar  8 17:25 .config\n",
            "drwxrwxr-x 3 root root  4096 Mar 31  2017 __MACOSX\n",
            "-rwxr-xr-x 1 root root 10989 Mar 12 06:38 minisom.py\n",
            "drwxr-xr-x 1 root root  4096 Mar  8 17:26 sample_data\n",
            "drwxr-xr-x 2 root root  4096 Mar 31  2017 Self_Organizing_Maps\n"
          ],
          "name": "stdout"
        }
      ]
    },
    {
      "cell_type": "code",
      "metadata": {
        "id": "KfzigyJIMmgi",
        "colab": {
          "base_uri": "https://localhost:8080/",
          "height": 34
        },
        "outputId": "9dfcdd26-0001-4b6d-844d-fb358756c421"
      },
      "source": [
        "!pwd"
      ],
      "execution_count": null,
      "outputs": [
        {
          "output_type": "stream",
          "text": [
            "/content\n"
          ],
          "name": "stdout"
        }
      ]
    },
    {
      "cell_type": "code",
      "metadata": {
        "id": "UI0x5BjCMo07",
        "colab": {
          "base_uri": "https://localhost:8080/",
          "height": 3519
        },
        "outputId": "d655dabf-b52a-4db5-fad8-111e83753c99"
      },
      "source": [
        "# Self Organizing Maps\n",
        "\n",
        "# Import the libraries\n",
        "import numpy as np\n",
        "import matplotlib.pyplot as plt\n",
        "import pandas as pd\n",
        "\n",
        "# Import the dataset\n",
        "dataset = pd.read_csv('/content/Self_Organizing_Maps/Credit_Card_Applications.csv')\n",
        "X = dataset.iloc[:, :-1].values\n",
        "y = dataset.iloc[:, -1].values\n",
        "\n",
        "print('The following the original dataset: ', '\\n', dataset, '\\n')\n",
        "print('The following the original dataset after X split: ', '\\n', X, '\\n')\n",
        "print('The following the original dataset after y split: ', '\\n', y, '\\n')\n",
        "\n",
        "\n",
        "# Feature Scaling\n",
        "from sklearn.preprocessing import MinMaxScaler\n",
        "sc = MinMaxScaler(feature_range = (0, 1))\n",
        "# Fit SC object to X so SC can get all the information that has\n",
        "X = sc.fit_transform(X)\n",
        "\n",
        "print('The following is the Min and MAX of SC before fitting it to X', '\\n', sc, '\\n')\n",
        "print('The following is X after fitting SC and transformed to X', '\\n', X, '\\n')\n",
        "\n",
        "# Training the SOM (Self Orginizing Map)\n",
        "from minisom import MiniSom\n",
        "som = MiniSom(x = 10, y = 10, input_len = 15, sigma = 1.0, learning_rate = 0.5)\n",
        "som.random_weights_init(X)\n",
        "# Train SOM on X using train_random method\n",
        "som.train_random(data = X, num_iteration = 100 )\n",
        "\n",
        "# print Self Orginizing map before training\n",
        "print('The following is the Object of SOM before being trained on x and y', '\\n', som, '\\n')\n",
        "\n",
        "print('The following is Visualization the SOM after being trained on x and y', '\\n', som, '\\n')\n",
        "\n",
        "# Visualizing the results of SOM\n",
        "from pylab import bone, pcolor, colorbar, plot, show\n",
        "bone()\n",
        "pcolor(som.distance_map().T)\n",
        "colorbar()\n",
        "markers = ['o', 's']  # o is approved and s is denied credit card\n",
        "colors = ['r', 'g']\n",
        "for i, x in enumerate(X):\n",
        "  w = som.winner(x)\n",
        "  plot(w[0] + 0.5, # 0.5 is for to put the marker in the center of the winning node\n",
        "      w[1] + 0.5,\n",
        "      markers[y[i]],\n",
        "      markeredgecolor = colors[y[i]],\n",
        "      markerfacecolor = 'None',\n",
        "      markersize = 10,\n",
        "      markeredgewidth = 2)\n",
        "  \n",
        "show()\n",
        "\n",
        "# I am not able to execute the following code successfully becaud of frauds index changes with every execution\n",
        "# Finding the frauds\n",
        "'''\n",
        "mappings = som.win_map(X)\n",
        "frauds_mapping = np.concatenate((mappings[(4, 8)],  mappings[(5, 7)]), axis = 0)\n",
        "frauds_original_values = sc.inverse_transform(frauds)\n",
        "\n",
        "print('The following is mappings of all the winning nodes in our SOM ', '\\n', mappings, '\\n')\n",
        "print('The following is a list of all the customer that are cheated when they apply for credit ', \n",
        "      '\\n', frauds_mapping, '\\n')\n",
        "print('The following is a list fo frauds with their original values after applying inverse scaling ', \n",
        "      '\\n', frauds_original_values, '\\n')\n",
        "'''"
      ],
      "execution_count": null,
      "outputs": [
        {
          "output_type": "stream",
          "text": [
            "The following the original dataset:  \n",
            "      CustomerID  A1     A2      A3  A4  A5  A6     A7  A8  A9  A10  A11  A12  \\\n",
            "0      15776156   1  22.08  11.460   2   4   4  1.585   0   0    0    1    2   \n",
            "1      15739548   0  22.67   7.000   2   8   4  0.165   0   0    0    0    2   \n",
            "2      15662854   0  29.58   1.750   1   4   4  1.250   0   0    0    1    2   \n",
            "3      15687688   0  21.67  11.500   1   5   3  0.000   1   1   11    1    2   \n",
            "4      15715750   1  20.17   8.170   2   6   4  1.960   1   1   14    0    2   \n",
            "5      15571121   0  15.83   0.585   2   8   8  1.500   1   1    2    0    2   \n",
            "6      15726466   1  17.42   6.500   2   3   4  0.125   0   0    0    0    2   \n",
            "7      15660390   0  58.67   4.460   2  11   8  3.040   1   1    6    0    2   \n",
            "8      15663942   1  27.83   1.000   1   2   8  3.000   0   0    0    0    2   \n",
            "9      15638610   0  55.75   7.080   2   4   8  6.750   1   1    3    1    2   \n",
            "10     15644446   1  33.50   1.750   2  14   8  4.500   1   1    4    1    2   \n",
            "11     15585892   1  41.42   5.000   2  11   8  5.000   1   1    6    1    2   \n",
            "12     15609356   1  20.67   1.250   1   8   8  1.375   1   1    3    1    2   \n",
            "13     15803378   1  34.92   5.000   2  14   8  7.500   1   1    6    1    2   \n",
            "14     15599440   1  58.58   2.710   2   8   4  2.415   0   0    0    1    2   \n",
            "15     15692408   1  48.08   6.040   2   4   4  0.040   0   0    0    0    2   \n",
            "16     15683168   1  29.58   4.500   2   9   4  7.500   1   1    2    1    2   \n",
            "17     15790254   0  18.92   9.000   2   6   4  0.750   1   1    2    0    2   \n",
            "18     15767729   1  20.00   1.250   1   4   4  0.125   0   0    0    0    2   \n",
            "19     15768600   0  22.42   5.665   2  11   4  2.585   1   1    7    0    2   \n",
            "20     15699839   0  28.17   0.585   2   6   4  0.040   0   0    0    0    2   \n",
            "21     15786237   0  19.17   0.585   1   6   4  0.585   1   0    0    1    2   \n",
            "22     15694530   1  41.17   1.335   2   2   4  0.165   0   0    0    0    2   \n",
            "23     15796813   1  41.58   1.750   2   4   4  0.210   1   0    0    0    2   \n",
            "24     15605791   1  19.50   9.585   2   6   4  0.790   0   0    0    0    2   \n",
            "25     15714087   1  32.75   1.500   2  13   8  5.500   1   1    3    1    2   \n",
            "26     15711446   1  22.50   0.125   1   4   4  0.125   0   0    0    0    2   \n",
            "27     15588123   1  33.17   3.040   1   8   8  2.040   1   1    1    1    2   \n",
            "28     15748552   0  30.67  12.000   2   8   4  2.000   1   1    1    0    2   \n",
            "29     15618410   1  23.08   2.500   2   8   4  1.085   1   1   11    1    2   \n",
            "..          ...  ..    ...     ...  ..  ..  ..    ...  ..  ..  ...  ...  ...   \n",
            "660    15598586   1  26.67   2.710   1  13   4  5.250   1   1    1    0    2   \n",
            "661    15665014   0  22.50   0.415   2   3   4  0.335   0   0    0    1    1   \n",
            "662    15701738   1  39.92   0.540   1   6   4  0.500   1   1    3    0    2   \n",
            "663    15650591   0  26.08   8.665   2   6   4  1.415   1   0    0    0    2   \n",
            "664    15652667   1  20.00   0.000   2   2   4  0.500   0   0    0    0    2   \n",
            "665    15679622   1  31.57   4.000   1   3   4  0.085   0   0    0    1    2   \n",
            "666    15730150   1  26.75   4.500   1   8   5  2.500   0   0    0    0    2   \n",
            "667    15813192   0  24.92   1.250   2   1   1  0.000   1   0    0    0    2   \n",
            "668    15606554   0  32.25   1.500   2   8   4  0.250   0   0    0    1    2   \n",
            "669    15611794   1  17.67   4.460   2   8   4  0.250   0   0    0    0    1   \n",
            "670    15672357   0  37.75   5.500   2  11   4  0.125   1   0    0    1    2   \n",
            "671    15711759   1  22.67   2.540   1   8   8  2.585   1   0    0    0    2   \n",
            "672    15615296   0  17.92  10.210   2   1   1  0.000   0   0    0    0    2   \n",
            "673    15699294   1  24.42  12.335   2  11   8  1.585   1   0    0    1    2   \n",
            "674    15788634   0  25.75   0.500   2   8   8  0.875   1   0    0    1    2   \n",
            "675    15660871   1  26.17  12.500   1   4   8  1.250   0   0    0    1    2   \n",
            "676    15618258   0  22.75   6.165   2   6   4  0.165   0   0    0    0    2   \n",
            "677    15722535   1  23.00   0.750   2   7   4  0.500   1   0    0    1    1   \n",
            "678    15711977   1  25.67   0.290   1   8   4  1.500   0   0    0    1    2   \n",
            "679    15690169   1  48.58   0.205   1   4   4  0.250   1   1   11    0    2   \n",
            "680    15790689   1  21.17   0.000   2   8   4  0.500   0   0    0    1    1   \n",
            "681    15665181   1  35.25  16.500   1   8   4  4.000   1   0    0    0    2   \n",
            "682    15633608   0  22.92  11.585   2  13   4  0.040   1   0    0    0    2   \n",
            "683    15805261   0  48.17   1.335   2   3   7  0.335   0   0    0    0    2   \n",
            "684    15740356   1  43.00   0.290   1  13   8  1.750   1   1    8    0    2   \n",
            "685    15808223   1  31.57  10.500   2  14   4  6.500   1   0    0    0    2   \n",
            "686    15769980   1  20.67   0.415   2   8   4  0.125   0   0    0    0    2   \n",
            "687    15675450   0  18.83   9.540   2   6   4  0.085   1   0    0    0    2   \n",
            "688    15776494   0  27.42  14.500   2  14   8  3.085   1   1    1    0    2   \n",
            "689    15592412   1  41.00   0.040   2  10   4  0.040   0   1    1    0    1   \n",
            "\n",
            "     A13    A14  Class  \n",
            "0    100   1213      0  \n",
            "1    160      1      0  \n",
            "2    280      1      0  \n",
            "3      0      1      1  \n",
            "4     60    159      1  \n",
            "5    100      1      1  \n",
            "6     60    101      0  \n",
            "7     43    561      1  \n",
            "8    176    538      0  \n",
            "9    100     51      0  \n",
            "10   253    858      1  \n",
            "11   470      1      1  \n",
            "12   140    211      0  \n",
            "13     0   1001      1  \n",
            "14   320      1      0  \n",
            "15     0   2691      1  \n",
            "16   330      1      1  \n",
            "17    88    592      1  \n",
            "18   140      5      0  \n",
            "19   129   3258      1  \n",
            "20   260   1005      0  \n",
            "21   160      1      0  \n",
            "22   168      1      0  \n",
            "23   160      1      0  \n",
            "24    80    351      0  \n",
            "25     0      1      1  \n",
            "26   200     71      0  \n",
            "27   180  18028      1  \n",
            "28   220     20      1  \n",
            "29    60   2185      1  \n",
            "..   ...    ...    ...  \n",
            "660  211      1      1  \n",
            "661  144      1      0  \n",
            "662  200   1001      1  \n",
            "663  160    151      1  \n",
            "664  144      1      0  \n",
            "665  411      1      0  \n",
            "666  200   1211      0  \n",
            "667   80      1      0  \n",
            "668  372    123      0  \n",
            "669   80      1      0  \n",
            "670  228      1      1  \n",
            "671    0      1      1  \n",
            "672    0     51      0  \n",
            "673  120      1      1  \n",
            "674  491      1      1  \n",
            "675    0     18      0  \n",
            "676  220   1001      0  \n",
            "677  320      1      0  \n",
            "678  160      1      0  \n",
            "679  380   2733      1  \n",
            "680    0      1      0  \n",
            "681   80      1      0  \n",
            "682   80   1350      1  \n",
            "683    0    121      0  \n",
            "684  100    376      1  \n",
            "685    0      1      1  \n",
            "686    0     45      0  \n",
            "687  100      1      1  \n",
            "688  120     12      1  \n",
            "689  560      1      1  \n",
            "\n",
            "[690 rows x 16 columns] \n",
            "\n",
            "The following the original dataset after X split:  \n",
            " [[1.5776156e+07 1.0000000e+00 2.2080000e+01 ... 2.0000000e+00\n",
            "  1.0000000e+02 1.2130000e+03]\n",
            " [1.5739548e+07 0.0000000e+00 2.2670000e+01 ... 2.0000000e+00\n",
            "  1.6000000e+02 1.0000000e+00]\n",
            " [1.5662854e+07 0.0000000e+00 2.9580000e+01 ... 2.0000000e+00\n",
            "  2.8000000e+02 1.0000000e+00]\n",
            " ...\n",
            " [1.5675450e+07 0.0000000e+00 1.8830000e+01 ... 2.0000000e+00\n",
            "  1.0000000e+02 1.0000000e+00]\n",
            " [1.5776494e+07 0.0000000e+00 2.7420000e+01 ... 2.0000000e+00\n",
            "  1.2000000e+02 1.2000000e+01]\n",
            " [1.5592412e+07 1.0000000e+00 4.1000000e+01 ... 1.0000000e+00\n",
            "  5.6000000e+02 1.0000000e+00]] \n",
            "\n",
            "The following the original dataset after y split:  \n",
            " [0 0 0 1 1 1 0 1 0 0 1 1 0 1 0 1 1 1 0 1 0 0 0 0 0 1 0 1 1 1 1 0 0 1 0 0 1\n",
            " 1 1 1 1 0 1 0 0 1 0 1 0 1 0 0 0 0 0 1 1 0 1 1 0 0 1 0 1 1 0 0 0 1 0 0 0 1\n",
            " 1 0 0 0 0 1 1 0 0 0 0 1 0 1 1 0 0 0 0 1 0 1 0 0 0 1 0 1 1 1 0 1 1 0 1 0 0\n",
            " 0 0 1 0 1 1 1 1 1 1 0 0 1 1 0 1 0 1 1 1 0 0 0 0 0 0 1 1 1 0 0 0 1 0 1 1 0\n",
            " 0 1 1 0 0 0 1 1 1 0 1 0 0 0 1 1 0 0 0 1 0 0 0 1 0 0 1 0 0 0 1 1 0 0 1 1 1\n",
            " 0 0 0 0 0 0 1 0 0 0 1 1 0 0 0 1 0 1 0 1 1 0 0 0 0 1 1 0 0 0 1 0 0 0 1 1 0\n",
            " 1 0 0 0 0 1 1 1 1 0 0 1 1 1 0 0 0 1 1 1 1 0 0 0 0 1 1 1 0 0 1 0 1 1 1 1 0\n",
            " 0 0 1 0 1 1 0 0 1 0 0 0 1 0 1 1 0 0 0 1 1 0 0 0 0 0 1 1 1 0 0 0 0 1 1 1 0\n",
            " 0 0 1 0 1 0 0 0 0 1 0 1 0 0 0 0 0 1 1 0 0 1 0 1 1 1 1 1 1 1 0 0 0 0 1 1 1\n",
            " 0 0 0 1 0 1 0 0 0 1 1 1 1 1 1 1 0 1 0 1 0 0 0 0 0 1 0 1 1 0 0 0 0 0 1 0 1\n",
            " 1 0 0 0 1 1 1 0 0 1 1 0 0 0 1 1 0 1 1 1 1 0 0 1 1 0 0 0 0 0 0 1 0 0 0 1 1\n",
            " 0 1 0 0 0 1 1 1 0 0 1 0 1 1 1 0 1 0 0 1 0 0 0 1 0 0 1 0 1 0 1 1 0 1 0 0 1\n",
            " 0 1 1 0 0 0 0 0 1 1 0 0 1 1 0 1 0 1 0 1 0 1 1 0 1 0 1 1 1 0 0 0 0 0 1 0 1\n",
            " 0 0 0 1 1 1 1 1 0 1 1 0 0 0 1 1 1 1 1 1 0 1 1 1 1 0 0 0 0 0 0 0 1 0 0 1 1\n",
            " 1 0 1 0 0 1 1 0 1 0 0 0 0 0 0 1 0 1 0 1 1 1 0 0 1 0 0 0 0 0 0 0 1 1 0 0 0\n",
            " 0 0 1 0 1 0 1 0 0 1 1 1 0 0 0 0 0 1 0 1 1 0 0 0 0 0 1 1 1 0 1 0 1 1 0 0 1\n",
            " 0 1 0 0 1 1 0 1 0 1 1 1 1 0 0 1 0 1 1 0 1 0 1 1 0 0 0 1 0 1 1 0 1 0 0 0 0\n",
            " 0 1 0 1 0 0 0 0 0 0 1 0 1 1 0 0 0 0 0 0 1 1 0 0 1 0 0 1 0 0 1 1 0 1 1 0 0\n",
            " 0 0 0 0 1 1 0 1 1 0 0 0 0 1 0 0 1 0 1 1 0 1 1 1] \n",
            "\n",
            "The following is the Min and MAX of SC before fitting it to X \n",
            " MinMaxScaler(copy=True, feature_range=(0, 1)) \n",
            "\n",
            "The following is X after fitting SC and transformed to X \n",
            " [[8.42681467e-01 1.00000000e+00 1.25263158e-01 ... 5.00000000e-01\n",
            "  5.00000000e-02 1.21200000e-02]\n",
            " [6.96090562e-01 0.00000000e+00 1.34135338e-01 ... 5.00000000e-01\n",
            "  8.00000000e-02 0.00000000e+00]\n",
            " [3.88981656e-01 0.00000000e+00 2.38045113e-01 ... 5.00000000e-01\n",
            "  1.40000000e-01 0.00000000e+00]\n",
            " ...\n",
            " [4.39420332e-01 0.00000000e+00 7.63909774e-02 ... 5.00000000e-01\n",
            "  5.00000000e-02 0.00000000e+00]\n",
            " [8.44034934e-01 0.00000000e+00 2.05563910e-01 ... 5.00000000e-01\n",
            "  6.00000000e-02 1.10000000e-04]\n",
            " [1.06907888e-01 1.00000000e+00 4.09774436e-01 ... 0.00000000e+00\n",
            "  2.80000000e-01 0.00000000e+00]] \n",
            "\n",
            "The following is the Object of SOM before being trained on x and y \n",
            " <minisom.MiniSom object at 0x7f8b0b1c28d0> \n",
            "\n",
            "The following is Visualization the SOM after being trained on x and y \n",
            " <minisom.MiniSom object at 0x7f8b0b1c28d0> \n",
            "\n"
          ],
          "name": "stdout"
        },
        {
          "output_type": "display_data",
          "data": {
            "image/png": "[encoded data removed]",
            "text/plain": [
              "<Figure size 432x288 with 2 Axes>"
            ]
          },
          "metadata": {
            "tags": []
          }
        },
        {
          "output_type": "execute_result",
          "data": {
            "text/plain": [
              "\"\\nmappings = som.win_map(X)\\nfrauds_mapping = np.concatenate((mappings[(4, 8)],  mappings[(5, 7)]), axis = 0)\\nfrauds_original_values = sc.inverse_transform(frauds)\\n\\nprint('The following is mappings of all the winning nodes in our SOM ', '\\n', mappings, '\\n')\\nprint('The following is a list of all the customer that are cheated when they apply for credit ', \\n      '\\n', frauds_mapping, '\\n')\\nprint('The following is a list fo frauds with their original values after applying inverse scaling ', \\n      '\\n', frauds_original_values, '\\n')\\n\""
            ]
          },
          "metadata": {
            "tags": []
          },
          "execution_count": 10
        }
      ]
    },
    {
      "cell_type": "markdown",
      "metadata": {
        "id": "72ShDiKYjXVg"
      },
      "source": [
        "# Mega Case Study - Make a Hybrid Deep Learning Model"
      ]
    },
    {
      "cell_type": "markdown",
      "metadata": {
        "id": "nBs6tRaLY8W-"
      },
      "source": [
        "# Part 1 - Identify the Frauds with the Self-Organizing Map"
      ]
    },
    {
      "cell_type": "code",
      "metadata": {
        "id": "l9T0xQPrNta5",
        "colab": {
          "base_uri": "https://localhost:8080/",
          "height": 224
        },
        "outputId": "72623ea3-3b8c-4129-8112-560b19e7b2b6"
      },
      "source": [
        "!wget https://sds-platform-private.s3-us-east-2.amazonaws.com/uploads/P16-Mega-Case-Study.zip"
      ],
      "execution_count": null,
      "outputs": [
        {
          "output_type": "stream",
          "text": [
            "--2019-03-12 06:39:45--  https://sds-platform-private.s3-us-east-2.amazonaws.com/uploads/P16-Mega-Case-Study.zip\n",
            "Resolving sds-platform-private.s3-us-east-2.amazonaws.com (sds-platform-private.s3-us-east-2.amazonaws.com)... 52.219.96.56\n",
            "Connecting to sds-platform-private.s3-us-east-2.amazonaws.com (sds-platform-private.s3-us-east-2.amazonaws.com)|52.219.96.56|:443... connected.\n",
            "HTTP request sent, awaiting response... 200 OK\n",
            "Length: 20790 (20K) [application/zip]\n",
            "Saving to: ‘P16-Mega-Case-Study.zip’\n",
            "\n",
            "\rP16-Mega-Case-Study   0%[                    ]       0  --.-KB/s               \rP16-Mega-Case-Study 100%[===================>]  20.30K  --.-KB/s    in 0.03s   \n",
            "\n",
            "2019-03-12 06:39:45 (687 KB/s) - ‘P16-Mega-Case-Study.zip’ saved [20790/20790]\n",
            "\n"
          ],
          "name": "stdout"
        }
      ]
    },
    {
      "cell_type": "code",
      "metadata": {
        "id": "646WiUGHZUQe",
        "colab": {
          "base_uri": "https://localhost:8080/",
          "height": 255
        },
        "outputId": "a1825407-7609-466d-fb83-77b1cf3f8b59"
      },
      "source": [
        "!unzip P16-Mega-Case-Study.zip"
      ],
      "execution_count": null,
      "outputs": [
        {
          "output_type": "stream",
          "text": [
            "Archive:  P16-Mega-Case-Study.zip\n",
            "   creating: Mega_Case_Study/\n",
            "  inflating: Mega_Case_Study/.DS_Store  \n",
            "   creating: __MACOSX/Mega_Case_Study/\n",
            "  inflating: __MACOSX/Mega_Case_Study/._.DS_Store  \n",
            "  inflating: Mega_Case_Study/ann.py  \n",
            "  inflating: __MACOSX/Mega_Case_Study/._ann.py  \n",
            "  inflating: Mega_Case_Study/Credit_Card_Applications.csv  \n",
            "  inflating: __MACOSX/Mega_Case_Study/._Credit_Card_Applications.csv  \n",
            "  inflating: Mega_Case_Study/mega_case_study.py  \n",
            "  inflating: __MACOSX/Mega_Case_Study/._mega_case_study.py  \n",
            "  inflating: Mega_Case_Study/minisom.py  \n",
            "  inflating: Mega_Case_Study/som.py  \n",
            "  inflating: __MACOSX/Mega_Case_Study/._som.py  \n"
          ],
          "name": "stdout"
        }
      ]
    },
    {
      "cell_type": "code",
      "metadata": {
        "id": "squHarBwZW3j"
      },
      "source": [
        "!rm -rf P16-Mega-Case-Study.zip"
      ],
      "execution_count": null,
      "outputs": []
    },
    {
      "cell_type": "code",
      "metadata": {
        "id": "Wis0_y0KZc0c"
      },
      "source": [
        "!ls - Mega_Case_Study/"
      ],
      "execution_count": null,
      "outputs": []
    },
    {
      "cell_type": "code",
      "metadata": {
        "id": "-U9wjodlZjIS",
        "colab": {
          "base_uri": "https://localhost:8080/",
          "height": 170
        },
        "outputId": "af549f4c-ef60-4b4a-937f-90ed08493d12"
      },
      "source": [
        "!ls -la /content/Mega_Case_Study/"
      ],
      "execution_count": null,
      "outputs": [
        {
          "output_type": "stream",
          "text": [
            "total 76\n",
            "drwxr-xr-x 2 root root  4096 Apr 21  2017 .\n",
            "drwxr-xr-x 1 root root  4096 Mar 12 06:39 ..\n",
            "-rw-r--r-- 1 root root  2293 Apr  7  2017 ann.py\n",
            "-rw-r--r-- 1 root root 35641 Feb 20  2017 Credit_Card_Applications.csv\n",
            "-rw-r--r-- 1 root root  6148 Apr 21  2017 .DS_Store\n",
            "-rw-r--r-- 1 root root  2578 Apr  9  2017 mega_case_study.py\n",
            "-rwxr-xr-x 1 root root 10989 Nov  5  2016 minisom.py\n",
            "-rw-r--r-- 1 root root  1173 Mar  7  2017 som.py\n"
          ],
          "name": "stdout"
        }
      ]
    },
    {
      "cell_type": "code",
      "metadata": {
        "id": "SEwbC0HEZoYA",
        "colab": {
          "base_uri": "https://localhost:8080/",
          "height": 51
        },
        "outputId": "d02e1da9-8480-466d-9e7d-39fe3cd210c6"
      },
      "source": [
        "!cp /content/Mega_Case_Study/mega_case_study.py"
      ],
      "execution_count": null,
      "outputs": [
        {
          "output_type": "stream",
          "text": [
            "cp: missing destination file operand after '/content/Mega_Case_Study/mega_case_study.py'\n",
            "Try 'cp --help' for more information.\n"
          ],
          "name": "stdout"
        }
      ]
    },
    {
      "cell_type": "code",
      "metadata": {
        "id": "Lwx5Nc9RZz4t",
        "colab": {
          "base_uri": "https://localhost:8080/",
          "height": 224
        },
        "outputId": "4aa13389-c03e-49ae-ce5b-6f8236965a5a"
      },
      "source": [
        "!wget https://sds-platform-private.s3-us-east-2.amazonaws.com/uploads/P16-Self-Organizing-Maps.zip"
      ],
      "execution_count": null,
      "outputs": [
        {
          "output_type": "stream",
          "text": [
            "--2019-03-12 06:41:42--  https://sds-platform-private.s3-us-east-2.amazonaws.com/uploads/P16-Self-Organizing-Maps.zip\n",
            "Resolving sds-platform-private.s3-us-east-2.amazonaws.com (sds-platform-private.s3-us-east-2.amazonaws.com)... 52.219.84.56\n",
            "Connecting to sds-platform-private.s3-us-east-2.amazonaws.com (sds-platform-private.s3-us-east-2.amazonaws.com)|52.219.84.56|:443... connected.\n",
            "HTTP request sent, awaiting response... 200 OK\n",
            "Length: 17004 (17K) [application/zip]\n",
            "Saving to: ‘P16-Self-Organizing-Maps.zip’\n",
            "\n",
            "\r          P16-Self-   0%[                    ]       0  --.-KB/s               \rP16-Self-Organizing 100%[===================>]  16.61K  --.-KB/s    in 0s      \n",
            "\n",
            "2019-03-12 06:41:42 (49.7 MB/s) - ‘P16-Self-Organizing-Maps.zip’ saved [17004/17004]\n",
            "\n"
          ],
          "name": "stdout"
        }
      ]
    },
    {
      "cell_type": "code",
      "metadata": {
        "id": "1tRTvU_Qa5xY",
        "colab": {
          "base_uri": "https://localhost:8080/",
          "height": 136
        },
        "outputId": "6cfc8a94-3668-47ef-d49b-cff936ceb496"
      },
      "source": [
        "!unzip P16-Self-Organizing-Maps.zip"
      ],
      "execution_count": null,
      "outputs": [
        {
          "output_type": "stream",
          "text": [
            "Archive:  P16-Self-Organizing-Maps.zip\n",
            "replace Self_Organizing_Maps/Credit_Card_Applications.csv? [y]es, [n]o, [A]ll, [N]one, [r]ename: A\n",
            "  inflating: Self_Organizing_Maps/Credit_Card_Applications.csv  \n",
            "  inflating: __MACOSX/Self_Organizing_Maps/._Credit_Card_Applications.csv  \n",
            "  inflating: Self_Organizing_Maps/minisom.py  \n",
            "  inflating: Self_Organizing_Maps/som.py  \n",
            "  inflating: __MACOSX/Self_Organizing_Maps/._som.py  \n"
          ],
          "name": "stdout"
        }
      ]
    },
    {
      "cell_type": "code",
      "metadata": {
        "id": "VzrmG9EpbRZU"
      },
      "source": [
        "!rm -rf P16-Self-Organizing-Maps.zip"
      ],
      "execution_count": null,
      "outputs": []
    },
    {
      "cell_type": "code",
      "metadata": {
        "id": "1C7y8Qt7bWyz",
        "colab": {
          "base_uri": "https://localhost:8080/",
          "height": 3482
        },
        "outputId": "4cb05c81-73e3-4b23-e496-8fff16f80547"
      },
      "source": [
        "# Self Organizing Maps\n",
        "\n",
        "# Import the libraries\n",
        "import numpy as np\n",
        "import matplotlib.pyplot as plt\n",
        "import pandas as pd\n",
        "\n",
        "# Import the dataset\n",
        "dataset = pd.read_csv('/content/Self_Organizing_Maps/Credit_Card_Applications.csv')\n",
        "X = dataset.iloc[:, :-1].values\n",
        "y = dataset.iloc[:, -1].values\n",
        "\n",
        "print('The following the original dataset: ', '\\n', dataset, '\\n')\n",
        "print('The following the original dataset after X split: ', '\\n', X, '\\n')\n",
        "print('The following the original dataset after y split: ', '\\n', y, '\\n')\n",
        "\n",
        "\n",
        "# Feature Scaling\n",
        "from sklearn.preprocessing import MinMaxScaler\n",
        "sc = MinMaxScaler(feature_range = (0, 1))\n",
        "# Fit SC object to X so SC can get all the information that has\n",
        "X = sc.fit_transform(X)\n",
        "\n",
        "print('The following is the Min and MAX of SC before fitting it to X', '\\n', sc, '\\n')\n",
        "print('The following is X after fitting SC and transformed to X', '\\n', X, '\\n')\n",
        "\n",
        "# Training the SOM (Self Orginizing Map)\n",
        "from minisom import MiniSom\n",
        "som = MiniSom(x = 10, y = 10, input_len = 15, sigma = 1.0, learning_rate = 0.5)\n",
        "som.random_weights_init(X)\n",
        "# Train SOM on X using train_random method\n",
        "som.train_random(data = X, num_iteration = 100 )\n",
        "\n",
        "# print Self Orginizing map before training\n",
        "print('The following is the Object of SOM before being trained on x and y', '\\n', som, '\\n')\n",
        "\n",
        "print('The following is Visualization the SOM after being trained on x and y', '\\n', som, '\\n')\n",
        "\n",
        "# Visualizing the results of SOM\n",
        "from pylab import bone, pcolor, colorbar, plot, show\n",
        "bone()\n",
        "pcolor(som.distance_map().T)\n",
        "colorbar()\n",
        "markers = ['o', 's']  # o is approved and s is denied credit card\n",
        "colors = ['r', 'g']\n",
        "for i, x in enumerate(X):\n",
        "  w = som.winner(x)\n",
        "  plot(w[0] + 0.5, # 0.5 is for to put the marker in the center of the winning node\n",
        "      w[1] + 0.5,\n",
        "      markers[y[i]],\n",
        "      markeredgecolor = colors[y[i]],\n",
        "      markerfacecolor = 'None',\n",
        "      markersize = 10,\n",
        "      markeredgewidth = 2)\n",
        "  \n",
        "show()"
      ],
      "execution_count": null,
      "outputs": [
        {
          "output_type": "stream",
          "text": [
            "The following the original dataset:  \n",
            "      CustomerID  A1     A2      A3  A4  A5  A6     A7  A8  A9  A10  A11  A12  \\\n",
            "0      15776156   1  22.08  11.460   2   4   4  1.585   0   0    0    1    2   \n",
            "1      15739548   0  22.67   7.000   2   8   4  0.165   0   0    0    0    2   \n",
            "2      15662854   0  29.58   1.750   1   4   4  1.250   0   0    0    1    2   \n",
            "3      15687688   0  21.67  11.500   1   5   3  0.000   1   1   11    1    2   \n",
            "4      15715750   1  20.17   8.170   2   6   4  1.960   1   1   14    0    2   \n",
            "5      15571121   0  15.83   0.585   2   8   8  1.500   1   1    2    0    2   \n",
            "6      15726466   1  17.42   6.500   2   3   4  0.125   0   0    0    0    2   \n",
            "7      15660390   0  58.67   4.460   2  11   8  3.040   1   1    6    0    2   \n",
            "8      15663942   1  27.83   1.000   1   2   8  3.000   0   0    0    0    2   \n",
            "9      15638610   0  55.75   7.080   2   4   8  6.750   1   1    3    1    2   \n",
            "10     15644446   1  33.50   1.750   2  14   8  4.500   1   1    4    1    2   \n",
            "11     15585892   1  41.42   5.000   2  11   8  5.000   1   1    6    1    2   \n",
            "12     15609356   1  20.67   1.250   1   8   8  1.375   1   1    3    1    2   \n",
            "13     15803378   1  34.92   5.000   2  14   8  7.500   1   1    6    1    2   \n",
            "14     15599440   1  58.58   2.710   2   8   4  2.415   0   0    0    1    2   \n",
            "15     15692408   1  48.08   6.040   2   4   4  0.040   0   0    0    0    2   \n",
            "16     15683168   1  29.58   4.500   2   9   4  7.500   1   1    2    1    2   \n",
            "17     15790254   0  18.92   9.000   2   6   4  0.750   1   1    2    0    2   \n",
            "18     15767729   1  20.00   1.250   1   4   4  0.125   0   0    0    0    2   \n",
            "19     15768600   0  22.42   5.665   2  11   4  2.585   1   1    7    0    2   \n",
            "20     15699839   0  28.17   0.585   2   6   4  0.040   0   0    0    0    2   \n",
            "21     15786237   0  19.17   0.585   1   6   4  0.585   1   0    0    1    2   \n",
            "22     15694530   1  41.17   1.335   2   2   4  0.165   0   0    0    0    2   \n",
            "23     15796813   1  41.58   1.750   2   4   4  0.210   1   0    0    0    2   \n",
            "24     15605791   1  19.50   9.585   2   6   4  0.790   0   0    0    0    2   \n",
            "25     15714087   1  32.75   1.500   2  13   8  5.500   1   1    3    1    2   \n",
            "26     15711446   1  22.50   0.125   1   4   4  0.125   0   0    0    0    2   \n",
            "27     15588123   1  33.17   3.040   1   8   8  2.040   1   1    1    1    2   \n",
            "28     15748552   0  30.67  12.000   2   8   4  2.000   1   1    1    0    2   \n",
            "29     15618410   1  23.08   2.500   2   8   4  1.085   1   1   11    1    2   \n",
            "..          ...  ..    ...     ...  ..  ..  ..    ...  ..  ..  ...  ...  ...   \n",
            "660    15598586   1  26.67   2.710   1  13   4  5.250   1   1    1    0    2   \n",
            "661    15665014   0  22.50   0.415   2   3   4  0.335   0   0    0    1    1   \n",
            "662    15701738   1  39.92   0.540   1   6   4  0.500   1   1    3    0    2   \n",
            "663    15650591   0  26.08   8.665   2   6   4  1.415   1   0    0    0    2   \n",
            "664    15652667   1  20.00   0.000   2   2   4  0.500   0   0    0    0    2   \n",
            "665    15679622   1  31.57   4.000   1   3   4  0.085   0   0    0    1    2   \n",
            "666    15730150   1  26.75   4.500   1   8   5  2.500   0   0    0    0    2   \n",
            "667    15813192   0  24.92   1.250   2   1   1  0.000   1   0    0    0    2   \n",
            "668    15606554   0  32.25   1.500   2   8   4  0.250   0   0    0    1    2   \n",
            "669    15611794   1  17.67   4.460   2   8   4  0.250   0   0    0    0    1   \n",
            "670    15672357   0  37.75   5.500   2  11   4  0.125   1   0    0    1    2   \n",
            "671    15711759   1  22.67   2.540   1   8   8  2.585   1   0    0    0    2   \n",
            "672    15615296   0  17.92  10.210   2   1   1  0.000   0   0    0    0    2   \n",
            "673    15699294   1  24.42  12.335   2  11   8  1.585   1   0    0    1    2   \n",
            "674    15788634   0  25.75   0.500   2   8   8  0.875   1   0    0    1    2   \n",
            "675    15660871   1  26.17  12.500   1   4   8  1.250   0   0    0    1    2   \n",
            "676    15618258   0  22.75   6.165   2   6   4  0.165   0   0    0    0    2   \n",
            "677    15722535   1  23.00   0.750   2   7   4  0.500   1   0    0    1    1   \n",
            "678    15711977   1  25.67   0.290   1   8   4  1.500   0   0    0    1    2   \n",
            "679    15690169   1  48.58   0.205   1   4   4  0.250   1   1   11    0    2   \n",
            "680    15790689   1  21.17   0.000   2   8   4  0.500   0   0    0    1    1   \n",
            "681    15665181   1  35.25  16.500   1   8   4  4.000   1   0    0    0    2   \n",
            "682    15633608   0  22.92  11.585   2  13   4  0.040   1   0    0    0    2   \n",
            "683    15805261   0  48.17   1.335   2   3   7  0.335   0   0    0    0    2   \n",
            "684    15740356   1  43.00   0.290   1  13   8  1.750   1   1    8    0    2   \n",
            "685    15808223   1  31.57  10.500   2  14   4  6.500   1   0    0    0    2   \n",
            "686    15769980   1  20.67   0.415   2   8   4  0.125   0   0    0    0    2   \n",
            "687    15675450   0  18.83   9.540   2   6   4  0.085   1   0    0    0    2   \n",
            "688    15776494   0  27.42  14.500   2  14   8  3.085   1   1    1    0    2   \n",
            "689    15592412   1  41.00   0.040   2  10   4  0.040   0   1    1    0    1   \n",
            "\n",
            "     A13    A14  Class  \n",
            "0    100   1213      0  \n",
            "1    160      1      0  \n",
            "2    280      1      0  \n",
            "3      0      1      1  \n",
            "4     60    159      1  \n",
            "5    100      1      1  \n",
            "6     60    101      0  \n",
            "7     43    561      1  \n",
            "8    176    538      0  \n",
            "9    100     51      0  \n",
            "10   253    858      1  \n",
            "11   470      1      1  \n",
            "12   140    211      0  \n",
            "13     0   1001      1  \n",
            "14   320      1      0  \n",
            "15     0   2691      1  \n",
            "16   330      1      1  \n",
            "17    88    592      1  \n",
            "18   140      5      0  \n",
            "19   129   3258      1  \n",
            "20   260   1005      0  \n",
            "21   160      1      0  \n",
            "22   168      1      0  \n",
            "23   160      1      0  \n",
            "24    80    351      0  \n",
            "25     0      1      1  \n",
            "26   200     71      0  \n",
            "27   180  18028      1  \n",
            "28   220     20      1  \n",
            "29    60   2185      1  \n",
            "..   ...    ...    ...  \n",
            "660  211      1      1  \n",
            "661  144      1      0  \n",
            "662  200   1001      1  \n",
            "663  160    151      1  \n",
            "664  144      1      0  \n",
            "665  411      1      0  \n",
            "666  200   1211      0  \n",
            "667   80      1      0  \n",
            "668  372    123      0  \n",
            "669   80      1      0  \n",
            "670  228      1      1  \n",
            "671    0      1      1  \n",
            "672    0     51      0  \n",
            "673  120      1      1  \n",
            "674  491      1      1  \n",
            "675    0     18      0  \n",
            "676  220   1001      0  \n",
            "677  320      1      0  \n",
            "678  160      1      0  \n",
            "679  380   2733      1  \n",
            "680    0      1      0  \n",
            "681   80      1      0  \n",
            "682   80   1350      1  \n",
            "683    0    121      0  \n",
            "684  100    376      1  \n",
            "685    0      1      1  \n",
            "686    0     45      0  \n",
            "687  100      1      1  \n",
            "688  120     12      1  \n",
            "689  560      1      1  \n",
            "\n",
            "[690 rows x 16 columns] \n",
            "\n",
            "The following the original dataset after X split:  \n",
            " [[1.5776156e+07 1.0000000e+00 2.2080000e+01 ... 2.0000000e+00\n",
            "  1.0000000e+02 1.2130000e+03]\n",
            " [1.5739548e+07 0.0000000e+00 2.2670000e+01 ... 2.0000000e+00\n",
            "  1.6000000e+02 1.0000000e+00]\n",
            " [1.5662854e+07 0.0000000e+00 2.9580000e+01 ... 2.0000000e+00\n",
            "  2.8000000e+02 1.0000000e+00]\n",
            " ...\n",
            " [1.5675450e+07 0.0000000e+00 1.8830000e+01 ... 2.0000000e+00\n",
            "  1.0000000e+02 1.0000000e+00]\n",
            " [1.5776494e+07 0.0000000e+00 2.7420000e+01 ... 2.0000000e+00\n",
            "  1.2000000e+02 1.2000000e+01]\n",
            " [1.5592412e+07 1.0000000e+00 4.1000000e+01 ... 1.0000000e+00\n",
            "  5.6000000e+02 1.0000000e+00]] \n",
            "\n",
            "The following the original dataset after y split:  \n",
            " [0 0 0 1 1 1 0 1 0 0 1 1 0 1 0 1 1 1 0 1 0 0 0 0 0 1 0 1 1 1 1 0 0 1 0 0 1\n",
            " 1 1 1 1 0 1 0 0 1 0 1 0 1 0 0 0 0 0 1 1 0 1 1 0 0 1 0 1 1 0 0 0 1 0 0 0 1\n",
            " 1 0 0 0 0 1 1 0 0 0 0 1 0 1 1 0 0 0 0 1 0 1 0 0 0 1 0 1 1 1 0 1 1 0 1 0 0\n",
            " 0 0 1 0 1 1 1 1 1 1 0 0 1 1 0 1 0 1 1 1 0 0 0 0 0 0 1 1 1 0 0 0 1 0 1 1 0\n",
            " 0 1 1 0 0 0 1 1 1 0 1 0 0 0 1 1 0 0 0 1 0 0 0 1 0 0 1 0 0 0 1 1 0 0 1 1 1\n",
            " 0 0 0 0 0 0 1 0 0 0 1 1 0 0 0 1 0 1 0 1 1 0 0 0 0 1 1 0 0 0 1 0 0 0 1 1 0\n",
            " 1 0 0 0 0 1 1 1 1 0 0 1 1 1 0 0 0 1 1 1 1 0 0 0 0 1 1 1 0 0 1 0 1 1 1 1 0\n",
            " 0 0 1 0 1 1 0 0 1 0 0 0 1 0 1 1 0 0 0 1 1 0 0 0 0 0 1 1 1 0 0 0 0 1 1 1 0\n",
            " 0 0 1 0 1 0 0 0 0 1 0 1 0 0 0 0 0 1 1 0 0 1 0 1 1 1 1 1 1 1 0 0 0 0 1 1 1\n",
            " 0 0 0 1 0 1 0 0 0 1 1 1 1 1 1 1 0 1 0 1 0 0 0 0 0 1 0 1 1 0 0 0 0 0 1 0 1\n",
            " 1 0 0 0 1 1 1 0 0 1 1 0 0 0 1 1 0 1 1 1 1 0 0 1 1 0 0 0 0 0 0 1 0 0 0 1 1\n",
            " 0 1 0 0 0 1 1 1 0 0 1 0 1 1 1 0 1 0 0 1 0 0 0 1 0 0 1 0 1 0 1 1 0 1 0 0 1\n",
            " 0 1 1 0 0 0 0 0 1 1 0 0 1 1 0 1 0 1 0 1 0 1 1 0 1 0 1 1 1 0 0 0 0 0 1 0 1\n",
            " 0 0 0 1 1 1 1 1 0 1 1 0 0 0 1 1 1 1 1 1 0 1 1 1 1 0 0 0 0 0 0 0 1 0 0 1 1\n",
            " 1 0 1 0 0 1 1 0 1 0 0 0 0 0 0 1 0 1 0 1 1 1 0 0 1 0 0 0 0 0 0 0 1 1 0 0 0\n",
            " 0 0 1 0 1 0 1 0 0 1 1 1 0 0 0 0 0 1 0 1 1 0 0 0 0 0 1 1 1 0 1 0 1 1 0 0 1\n",
            " 0 1 0 0 1 1 0 1 0 1 1 1 1 0 0 1 0 1 1 0 1 0 1 1 0 0 0 1 0 1 1 0 1 0 0 0 0\n",
            " 0 1 0 1 0 0 0 0 0 0 1 0 1 1 0 0 0 0 0 0 1 1 0 0 1 0 0 1 0 0 1 1 0 1 1 0 0\n",
            " 0 0 0 0 1 1 0 1 1 0 0 0 0 1 0 0 1 0 1 1 0 1 1 1] \n",
            "\n",
            "The following is the Min and MAX of SC before fitting it to X \n",
            " MinMaxScaler(copy=True, feature_range=(0, 1)) \n",
            "\n",
            "The following is X after fitting SC and transformed to X \n",
            " [[8.42681467e-01 1.00000000e+00 1.25263158e-01 ... 5.00000000e-01\n",
            "  5.00000000e-02 1.21200000e-02]\n",
            " [6.96090562e-01 0.00000000e+00 1.34135338e-01 ... 5.00000000e-01\n",
            "  8.00000000e-02 0.00000000e+00]\n",
            " [3.88981656e-01 0.00000000e+00 2.38045113e-01 ... 5.00000000e-01\n",
            "  1.40000000e-01 0.00000000e+00]\n",
            " ...\n",
            " [4.39420332e-01 0.00000000e+00 7.63909774e-02 ... 5.00000000e-01\n",
            "  5.00000000e-02 0.00000000e+00]\n",
            " [8.44034934e-01 0.00000000e+00 2.05563910e-01 ... 5.00000000e-01\n",
            "  6.00000000e-02 1.10000000e-04]\n",
            " [1.06907888e-01 1.00000000e+00 4.09774436e-01 ... 0.00000000e+00\n",
            "  2.80000000e-01 0.00000000e+00]] \n",
            "\n",
            "The following is the Object of SOM before being trained on x and y \n",
            " <minisom.MiniSom object at 0x7f8b084f9ba8> \n",
            "\n",
            "The following is Visualization the SOM after being trained on x and y \n",
            " <minisom.MiniSom object at 0x7f8b084f9ba8> \n",
            "\n"
          ],
          "name": "stdout"
        },
        {
          "output_type": "display_data",
          "data": {
            "image/png": "[encoded data removed]",
            "text/plain": [
              "<Figure size 432x288 with 2 Axes>"
            ]
          },
          "metadata": {
            "tags": []
          }
        }
      ]
    },
    {
      "cell_type": "code",
      "metadata": {
        "id": "esiCamTvbpe3"
      },
      "source": [
        "# Finding the Frauds\n",
        "mappings = som.win_map(X)\n",
        "frauds = np.concatenate((mappings[(8, 5)],  mappings[(8, 9)]), axis = 0)\n",
        "frauds = sc.inverse_transform(frauds)"
      ],
      "execution_count": null,
      "outputs": []
    },
    {
      "cell_type": "code",
      "metadata": {
        "id": "6wp-dYHvcf3R",
        "colab": {
          "base_uri": "https://localhost:8080/",
          "height": 306
        },
        "outputId": "644c4a47-a81f-4560-89e6-af9880b3b36c"
      },
      "source": [
        "print('The following are the cheaters in Credit card application:', '\\n',frauds, '\\n')"
      ],
      "execution_count": null,
      "outputs": [
        {
          "output_type": "stream",
          "text": [
            "The following are the cheaters in Credit card application: \n",
            " [[1.5717700e+07 0.0000000e+00 2.3580000e+01 8.3000000e-01 2.0000000e+00\n",
            "  1.1000000e+01 4.0000000e+00 4.1500000e-01 0.0000000e+00 1.0000000e+00\n",
            "  1.0000000e+00 1.0000000e+00 2.0000000e+00 2.0000000e+02 1.2000000e+01]\n",
            " [1.5716082e+07 0.0000000e+00 2.2250000e+01 1.2500000e+00 1.0000000e+00\n",
            "  1.0000000e+00 1.0000000e+00 3.2500000e+00 0.0000000e+00 0.0000000e+00\n",
            "  0.0000000e+00 0.0000000e+00 2.0000000e+00 2.8000000e+02 1.0000000e+00]\n",
            " [1.5752344e+07 0.0000000e+00 2.1080000e+01 5.0000000e+00 1.0000000e+00\n",
            "  1.0000000e+00 1.0000000e+00 0.0000000e+00 0.0000000e+00 0.0000000e+00\n",
            "  0.0000000e+00 0.0000000e+00 2.0000000e+00 0.0000000e+00 1.0000000e+00]\n",
            " [1.5779207e+07 0.0000000e+00 2.7330000e+01 1.6650000e+00 2.0000000e+00\n",
            "  1.0000000e+00 1.0000000e+00 0.0000000e+00 0.0000000e+00 0.0000000e+00\n",
            "  0.0000000e+00 0.0000000e+00 2.0000000e+00 3.4000000e+02 2.0000000e+00]\n",
            " [1.5611409e+07 0.0000000e+00 2.3580000e+01 5.8500000e-01 1.0000000e+00\n",
            "  1.0000000e+00 1.0000000e+00 1.2500000e-01 0.0000000e+00 0.0000000e+00\n",
            "  0.0000000e+00 0.0000000e+00 2.0000000e+00 1.2000000e+02 8.8000000e+01]] \n",
            "\n"
          ],
          "name": "stdout"
        }
      ]
    },
    {
      "cell_type": "markdown",
      "metadata": {
        "id": "Z-U-ezdTptdX"
      },
      "source": [
        "# Part 2 - Going from Unsupervised to Supervised Deep Learning"
      ]
    },
    {
      "cell_type": "code",
      "metadata": {
        "id": "RrLAcel0ndQn",
        "colab": {
          "base_uri": "https://localhost:8080/",
          "height": 173
        },
        "outputId": "61b06498-94f3-49ce-cbb7-f35433d731c0"
      },
      "source": [
        "# Creating the matrix of features\n",
        "\n",
        "# Creating the matrix of features\n",
        "customers = dataset.iloc[:, 1:].values\n",
        "\n",
        "# Creating the dependents variable\n",
        "is_fraud = np.zeros(len(dataset))\n",
        "for i in range(len(dataset)):\n",
        "  if dataset.iloc[i, 0] in frauds:\n",
        "    is_fraud[i] = 1\n",
        "    \n",
        "# Feature Scaling\n",
        "from sklearn.preprocessing import StandardScaler\n",
        "sc = StandardScaler()\n",
        "customers = sc.fit_transform(customers)\n",
        "\n",
        "# Importing the keras libraries packages\n",
        "from keras.models import Sequential\n",
        "from keras.layers import Dense\n",
        "\n",
        "# initializing the ANN\n",
        "classifier = Sequential()\n",
        "\n",
        "# Adding the input layer and the first hidden layer\n",
        "classifier.add(Dense(units = 2, kernel_initializer = 'uniform', activation = 'relu', input_dim = 15))\n",
        "\n",
        "# Adding the output layer\n",
        "classifier.add(Dense(units = 1, kernel_initializer = 'uniform', activation = 'sigmoid'))\n",
        "\n",
        "# Compiling the ANN\n",
        "classifier.compile(optimizer = 'adam', loss = 'binary_crossentropy', metrics = ['accuracy'])\n",
        "\n",
        "# Fitting the ANN to the Training net\n",
        "classifier.fit(customers, is_fraud, batch_size = 1, epochs = 2)"
      ],
      "execution_count": null,
      "outputs": [
        {
          "output_type": "stream",
          "text": [
            "WARNING:tensorflow:From /usr/local/lib/python3.6/dist-packages/tensorflow/python/ops/math_ops.py:3066: to_int32 (from tensorflow.python.ops.math_ops) is deprecated and will be removed in a future version.\n",
            "Instructions for updating:\n",
            "Use tf.cast instead.\n",
            "Epoch 1/2\n",
            "690/690 [==============================] - 5s 8ms/step - loss: 0.4404 - acc: 0.9913\n",
            "Epoch 2/2\n",
            "690/690 [==============================] - 3s 4ms/step - loss: 0.1064 - acc: 0.9928\n"
          ],
          "name": "stdout"
        },
        {
          "output_type": "execute_result",
          "data": {
            "text/plain": [
              "<keras.callbacks.History at 0x7f8ac4ba57f0>"
            ]
          },
          "metadata": {
            "tags": []
          },
          "execution_count": 28
        }
      ]
    },
    {
      "cell_type": "markdown",
      "metadata": {
        "id": "sypgRRf7urcg"
      },
      "source": [
        "# Part 3 - Making predictions and evaluating the model"
      ]
    },
    {
      "cell_type": "code",
      "metadata": {
        "id": "E8fLtyRlsvLw",
        "colab": {
          "base_uri": "https://localhost:8080/",
          "height": 12087
        },
        "outputId": "87df7096-d75b-4474-b897-35070100b569"
      },
      "source": [
        "# Predicting the probabilities of frauds\n",
        "y_pred = classifier.predict(customers)\n",
        "print('The following is the model probabilities prediction of frauds', '\\n', y_pred, '\\n')\n",
        "\n",
        "# printing a 2D array of 2 columns (the first is the customer ID, and the second is the predicted probabilities )\n",
        "y_pred = np.concatenate((dataset.iloc[:, 0:1].values, y_pred), axis = 1)\n",
        "print('The following is a concatenated 2D array of CustomerID and its predicted Probability', '\\n', y_pred, '\\n')\n",
        "\n",
        "# Sorting the customers by their predicted probabilities of cheaters\n",
        "y_pred = y_pred[y_pred[:, 1].argsort()]\n",
        "print('The following is sorted list of the customers cheated: ', '\\n', y_pred, '\\n')\n"
      ],
      "execution_count": null,
      "outputs": [
        {
          "output_type": "stream",
          "text": [
            "The following is the model probabilities prediction of frauds \n",
            " [[0.03140417]\n",
            " [0.03594714]\n",
            " [0.03883782]\n",
            " [0.06560621]\n",
            " [0.0420332 ]\n",
            " [0.04656744]\n",
            " [0.02929938]\n",
            " [0.02352315]\n",
            " [0.04145712]\n",
            " [0.05091569]\n",
            " [0.02252764]\n",
            " [0.0261457 ]\n",
            " [0.04595432]\n",
            " [0.0172618 ]\n",
            " [0.0238162 ]\n",
            " [0.04775602]\n",
            " [0.03792891]\n",
            " [0.05793041]\n",
            " [0.03543207]\n",
            " [0.04105765]\n",
            " [0.03703833]\n",
            " [0.04269814]\n",
            " [0.02606943]\n",
            " [0.03046727]\n",
            " [0.03235957]\n",
            " [0.02075464]\n",
            " [0.03510454]\n",
            " [0.0555847 ]\n",
            " [0.04881212]\n",
            " [0.03609172]\n",
            " [0.03553104]\n",
            " [0.03590608]\n",
            " [0.05237967]\n",
            " [0.02806976]\n",
            " [0.05917007]\n",
            " [0.05326027]\n",
            " [0.19863617]\n",
            " [0.02536604]\n",
            " [0.02855557]\n",
            " [0.027771  ]\n",
            " [0.03898102]\n",
            " [0.02924928]\n",
            " [0.04592282]\n",
            " [0.03169051]\n",
            " [0.04222789]\n",
            " [0.03592637]\n",
            " [0.04335788]\n",
            " [0.03455451]\n",
            " [0.04526782]\n",
            " [0.02718675]\n",
            " [0.02274814]\n",
            " [0.0342536 ]\n",
            " [0.0437842 ]\n",
            " [0.03270751]\n",
            " [0.04623955]\n",
            " [0.03951788]\n",
            " [0.04021484]\n",
            " [0.0322291 ]\n",
            " [0.06173626]\n",
            " [0.03123486]\n",
            " [0.02455097]\n",
            " [0.03090572]\n",
            " [0.06064796]\n",
            " [0.02762055]\n",
            " [0.05713999]\n",
            " [0.01716769]\n",
            " [0.02714884]\n",
            " [0.03027248]\n",
            " [0.04761559]\n",
            " [0.02770254]\n",
            " [0.04586866]\n",
            " [0.0396184 ]\n",
            " [0.02900127]\n",
            " [0.05133727]\n",
            " [0.01473001]\n",
            " [0.03461632]\n",
            " [0.02529752]\n",
            " [0.02714971]\n",
            " [0.16622683]\n",
            " [0.03852174]\n",
            " [0.0329828 ]\n",
            " [0.06330645]\n",
            " [0.03909785]\n",
            " [0.02872756]\n",
            " [0.03428233]\n",
            " [0.00228474]\n",
            " [0.03969857]\n",
            " [0.03406614]\n",
            " [0.03016874]\n",
            " [0.02810442]\n",
            " [0.03364691]\n",
            " [0.02632833]\n",
            " [0.03229201]\n",
            " [0.03516182]\n",
            " [0.04650223]\n",
            " [0.03908846]\n",
            " [0.03311452]\n",
            " [0.03243399]\n",
            " [0.08250839]\n",
            " [0.04447636]\n",
            " [0.04195264]\n",
            " [0.03321859]\n",
            " [0.06303841]\n",
            " [0.05921677]\n",
            " [0.05433404]\n",
            " [0.04858392]\n",
            " [0.02852705]\n",
            " [0.0288704 ]\n",
            " [0.0481427 ]\n",
            " [0.02334806]\n",
            " [0.03834194]\n",
            " [0.02288035]\n",
            " [0.05596536]\n",
            " [0.05062741]\n",
            " [0.03558093]\n",
            " [0.06033948]\n",
            " [0.02711973]\n",
            " [0.03040567]\n",
            " [0.02971753]\n",
            " [0.02381077]\n",
            " [0.03444606]\n",
            " [0.03374231]\n",
            " [0.03419492]\n",
            " [0.02833977]\n",
            " [0.02442521]\n",
            " [0.03272238]\n",
            " [0.02337658]\n",
            " [0.02671874]\n",
            " [0.05762643]\n",
            " [0.08232114]\n",
            " [0.03960645]\n",
            " [0.04781923]\n",
            " [0.03727975]\n",
            " [0.04050103]\n",
            " [0.03182954]\n",
            " [0.03328764]\n",
            " [0.0440715 ]\n",
            " [0.03557456]\n",
            " [0.04459462]\n",
            " [0.04080838]\n",
            " [0.03660598]\n",
            " [0.03950581]\n",
            " [0.0268462 ]\n",
            " [0.00941685]\n",
            " [0.03834161]\n",
            " [0.01798412]\n",
            " [0.01212305]\n",
            " [0.03370386]\n",
            " [0.05652577]\n",
            " [0.05081341]\n",
            " [0.0023708 ]\n",
            " [0.02768141]\n",
            " [0.03301004]\n",
            " [0.03992611]\n",
            " [0.03523096]\n",
            " [0.05490208]\n",
            " [0.03364971]\n",
            " [0.02484831]\n",
            " [0.06198442]\n",
            " [0.02118382]\n",
            " [0.02921018]\n",
            " [0.02695319]\n",
            " [0.05539834]\n",
            " [0.06100088]\n",
            " [0.03187856]\n",
            " [0.02326304]\n",
            " [0.03803039]\n",
            " [0.07227299]\n",
            " [0.02945516]\n",
            " [0.04852781]\n",
            " [0.08028552]\n",
            " [0.06366077]\n",
            " [0.02849269]\n",
            " [0.05377218]\n",
            " [0.03114766]\n",
            " [0.03102589]\n",
            " [0.04900375]\n",
            " [0.03022999]\n",
            " [0.02355847]\n",
            " [0.03372556]\n",
            " [0.03310814]\n",
            " [0.04399535]\n",
            " [0.00980133]\n",
            " [0.1519928 ]\n",
            " [0.05478626]\n",
            " [0.06096414]\n",
            " [0.10406041]\n",
            " [0.02596128]\n",
            " [0.02687603]\n",
            " [0.03957671]\n",
            " [0.02259442]\n",
            " [0.03698063]\n",
            " [0.03283969]\n",
            " [0.00169158]\n",
            " [0.02831557]\n",
            " [0.03601402]\n",
            " [0.05234098]\n",
            " [0.03951663]\n",
            " [0.041816  ]\n",
            " [0.03271642]\n",
            " [0.03936765]\n",
            " [0.04224187]\n",
            " [0.05133468]\n",
            " [0.03571367]\n",
            " [0.02551112]\n",
            " [0.04728812]\n",
            " [0.03827935]\n",
            " [0.0580824 ]\n",
            " [0.02581063]\n",
            " [0.02720392]\n",
            " [0.07304755]\n",
            " [0.0621084 ]\n",
            " [0.03113112]\n",
            " [0.04185581]\n",
            " [0.03158668]\n",
            " [0.03092554]\n",
            " [0.00191095]\n",
            " [0.0406051 ]\n",
            " [0.02881235]\n",
            " [0.04322642]\n",
            " [0.03369102]\n",
            " [0.02876723]\n",
            " [0.04061961]\n",
            " [0.03039026]\n",
            " [0.03332886]\n",
            " [0.05568901]\n",
            " [0.05262059]\n",
            " [0.04711005]\n",
            " [0.01682529]\n",
            " [0.02985117]\n",
            " [0.04548228]\n",
            " [0.0274615 ]\n",
            " [0.0541614 ]\n",
            " [0.01415023]\n",
            " [0.05861306]\n",
            " [0.03930876]\n",
            " [0.06144845]\n",
            " [0.04142788]\n",
            " [0.02318147]\n",
            " [0.33197153]\n",
            " [0.08234474]\n",
            " [0.04996309]\n",
            " [0.02905807]\n",
            " [0.02959618]\n",
            " [0.03004152]\n",
            " [0.04978573]\n",
            " [0.03680274]\n",
            " [0.02825344]\n",
            " [0.04128832]\n",
            " [0.04296371]\n",
            " [0.02349514]\n",
            " [0.03473315]\n",
            " [0.01814583]\n",
            " [0.02725136]\n",
            " [0.04749498]\n",
            " [0.04991934]\n",
            " [0.04275268]\n",
            " [0.03359911]\n",
            " [0.03175822]\n",
            " [0.03262496]\n",
            " [0.03242055]\n",
            " [0.04618141]\n",
            " [0.03143021]\n",
            " [0.05873358]\n",
            " [0.06205404]\n",
            " [0.03144288]\n",
            " [0.03918654]\n",
            " [0.05327111]\n",
            " [0.02303785]\n",
            " [0.02193484]\n",
            " [0.03515521]\n",
            " [0.14187354]\n",
            " [0.02641293]\n",
            " [0.05806834]\n",
            " [0.04233813]\n",
            " [0.03239813]\n",
            " [0.0393427 ]\n",
            " [0.05988228]\n",
            " [0.02632064]\n",
            " [0.02956423]\n",
            " [0.02571237]\n",
            " [0.03553087]\n",
            " [0.1436379 ]\n",
            " [0.02209845]\n",
            " [0.03519487]\n",
            " [0.03516245]\n",
            " [0.0121558 ]\n",
            " [0.05218521]\n",
            " [0.03183374]\n",
            " [0.03642058]\n",
            " [0.08874395]\n",
            " [0.04463941]\n",
            " [0.04627183]\n",
            " [0.05476177]\n",
            " [0.03387719]\n",
            " [0.03872368]\n",
            " [0.03637016]\n",
            " [0.03432804]\n",
            " [0.03144735]\n",
            " [0.02925298]\n",
            " [0.02155432]\n",
            " [0.02776659]\n",
            " [0.02957988]\n",
            " [0.02977824]\n",
            " [0.03331682]\n",
            " [0.01828966]\n",
            " [0.036825  ]\n",
            " [0.04512534]\n",
            " [0.03953299]\n",
            " [0.02777794]\n",
            " [0.03933695]\n",
            " [0.03005633]\n",
            " [0.03774902]\n",
            " [0.03330463]\n",
            " [0.03194061]\n",
            " [0.02753365]\n",
            " [0.08312261]\n",
            " [0.03723365]\n",
            " [0.0350835 ]\n",
            " [0.04228923]\n",
            " [0.05808887]\n",
            " [0.04788679]\n",
            " [0.03549382]\n",
            " [0.0459902 ]\n",
            " [0.06871629]\n",
            " [0.03288844]\n",
            " [0.02259654]\n",
            " [0.03204799]\n",
            " [0.02749029]\n",
            " [0.02624786]\n",
            " [0.0371975 ]\n",
            " [0.18127212]\n",
            " [0.03469381]\n",
            " [0.02773118]\n",
            " [0.03339985]\n",
            " [0.0201644 ]\n",
            " [0.03920534]\n",
            " [0.03537214]\n",
            " [0.07984048]\n",
            " [0.02551609]\n",
            " [0.0218659 ]\n",
            " [0.03648555]\n",
            " [0.0329183 ]\n",
            " [0.03768045]\n",
            " [0.09054589]\n",
            " [0.05757266]\n",
            " [0.03922978]\n",
            " [0.03200972]\n",
            " [0.05516922]\n",
            " [0.02678937]\n",
            " [0.05168551]\n",
            " [0.02709427]\n",
            " [0.02868935]\n",
            " [0.02774939]\n",
            " [0.02861106]\n",
            " [0.03151014]\n",
            " [0.0670183 ]\n",
            " [0.03054148]\n",
            " [0.02890468]\n",
            " [0.0323323 ]\n",
            " [0.01534975]\n",
            " [0.03802237]\n",
            " [0.02860552]\n",
            " [0.04959106]\n",
            " [0.02968544]\n",
            " [0.02643365]\n",
            " [0.03606474]\n",
            " [0.02554801]\n",
            " [0.08567482]\n",
            " [0.04443866]\n",
            " [0.05318257]\n",
            " [0.04920697]\n",
            " [0.02648926]\n",
            " [0.03085011]\n",
            " [0.16356137]\n",
            " [0.03028902]\n",
            " [0.04981327]\n",
            " [0.03437468]\n",
            " [0.0445917 ]\n",
            " [0.03442144]\n",
            " [0.03619716]\n",
            " [0.02305669]\n",
            " [0.03914487]\n",
            " [0.03465292]\n",
            " [0.0326919 ]\n",
            " [0.02600527]\n",
            " [0.028101  ]\n",
            " [0.03723627]\n",
            " [0.04308096]\n",
            " [0.04236931]\n",
            " [0.03952235]\n",
            " [0.05424342]\n",
            " [0.04153776]\n",
            " [0.02942187]\n",
            " [0.0029681 ]\n",
            " [0.03809866]\n",
            " [0.06063655]\n",
            " [0.02907059]\n",
            " [0.06977031]\n",
            " [0.04480675]\n",
            " [0.0388436 ]\n",
            " [0.050969  ]\n",
            " [0.03137231]\n",
            " [0.03272042]\n",
            " [0.02686396]\n",
            " [0.05109632]\n",
            " [0.05845112]\n",
            " [0.04932222]\n",
            " [0.02505353]\n",
            " [0.0272761 ]\n",
            " [0.03599998]\n",
            " [0.03677264]\n",
            " [0.0382334 ]\n",
            " [0.06027809]\n",
            " [0.07173929]\n",
            " [0.0583871 ]\n",
            " [0.04119995]\n",
            " [0.02659199]\n",
            " [0.07221225]\n",
            " [0.08368629]\n",
            " [0.05458468]\n",
            " [0.04035097]\n",
            " [0.03533962]\n",
            " [0.03564167]\n",
            " [0.03338602]\n",
            " [0.03753093]\n",
            " [0.05695069]\n",
            " [0.03304309]\n",
            " [0.03044569]\n",
            " [0.02693868]\n",
            " [0.03449577]\n",
            " [0.03029838]\n",
            " [0.06168261]\n",
            " [0.03519431]\n",
            " [0.02944645]\n",
            " [0.04927695]\n",
            " [0.03100762]\n",
            " [0.02450103]\n",
            " [0.03864357]\n",
            " [0.02214724]\n",
            " [0.0510647 ]\n",
            " [0.02173385]\n",
            " [0.03007659]\n",
            " [0.0519526 ]\n",
            " [0.02611893]\n",
            " [0.03629124]\n",
            " [0.03789723]\n",
            " [0.02244416]\n",
            " [0.04599881]\n",
            " [0.03370607]\n",
            " [0.04204419]\n",
            " [0.02761006]\n",
            " [0.0026378 ]\n",
            " [0.05303198]\n",
            " [0.05664617]\n",
            " [0.04097125]\n",
            " [0.04211196]\n",
            " [0.02761576]\n",
            " [0.03655452]\n",
            " [0.04990426]\n",
            " [0.0273881 ]\n",
            " [0.05059254]\n",
            " [0.02844268]\n",
            " [0.05273584]\n",
            " [0.05614635]\n",
            " [0.0311338 ]\n",
            " [0.04227155]\n",
            " [0.081898  ]\n",
            " [0.04043517]\n",
            " [0.04458573]\n",
            " [0.03808883]\n",
            " [0.01854408]\n",
            " [0.03273681]\n",
            " [0.05441868]\n",
            " [0.03267381]\n",
            " [0.06997314]\n",
            " [0.02490503]\n",
            " [0.0373354 ]\n",
            " [0.03718093]\n",
            " [0.06967145]\n",
            " [0.03128284]\n",
            " [0.03510827]\n",
            " [0.00175422]\n",
            " [0.05834273]\n",
            " [0.26924166]\n",
            " [0.06264576]\n",
            " [0.02844617]\n",
            " [0.05310082]\n",
            " [0.03788671]\n",
            " [0.06661379]\n",
            " [0.07477191]\n",
            " [0.03347465]\n",
            " [0.03874683]\n",
            " [0.07553223]\n",
            " [0.03414506]\n",
            " [0.04390246]\n",
            " [0.04209697]\n",
            " [0.04677182]\n",
            " [0.21009773]\n",
            " [0.04955554]\n",
            " [0.01091808]\n",
            " [0.03766778]\n",
            " [0.03463078]\n",
            " [0.02119407]\n",
            " [0.0632236 ]\n",
            " [0.0410684 ]\n",
            " [0.03685692]\n",
            " [0.03162873]\n",
            " [0.04702601]\n",
            " [0.0442276 ]\n",
            " [0.02685043]\n",
            " [0.03062007]\n",
            " [0.02316093]\n",
            " [0.02432975]\n",
            " [0.03088441]\n",
            " [0.04007536]\n",
            " [0.06750074]\n",
            " [0.30368283]\n",
            " [0.02950493]\n",
            " [0.03530738]\n",
            " [0.04068249]\n",
            " [0.04509425]\n",
            " [0.04260141]\n",
            " [0.05578324]\n",
            " [0.0309507 ]\n",
            " [0.02715805]\n",
            " [0.06102389]\n",
            " [0.02537507]\n",
            " [0.03277239]\n",
            " [0.03369915]\n",
            " [0.04410154]\n",
            " [0.05104885]\n",
            " [0.04310596]\n",
            " [0.03957713]\n",
            " [0.04309407]\n",
            " [0.04701096]\n",
            " [0.02619728]\n",
            " [0.03016177]\n",
            " [0.02208775]\n",
            " [0.02787992]\n",
            " [0.03346616]\n",
            " [0.02538928]\n",
            " [0.0351555 ]\n",
            " [0.0345526 ]\n",
            " [0.03542387]\n",
            " [0.03725678]\n",
            " [0.02801603]\n",
            " [0.03654748]\n",
            " [0.03295392]\n",
            " [0.07246181]\n",
            " [0.02693054]\n",
            " [0.06223792]\n",
            " [0.03428707]\n",
            " [0.04529181]\n",
            " [0.05506879]\n",
            " [0.03689247]\n",
            " [0.04320472]\n",
            " [0.04484165]\n",
            " [0.04151052]\n",
            " [0.02430344]\n",
            " [0.03952712]\n",
            " [0.02216244]\n",
            " [0.04069805]\n",
            " [0.02651629]\n",
            " [0.02163649]\n",
            " [0.026333  ]\n",
            " [0.05497855]\n",
            " [0.02415341]\n",
            " [0.0468334 ]\n",
            " [0.03244126]\n",
            " [0.01991242]\n",
            " [0.03276119]\n",
            " [0.04651836]\n",
            " [0.02808422]\n",
            " [0.02927861]\n",
            " [0.02480829]\n",
            " [0.04320163]\n",
            " [0.0363152 ]\n",
            " [0.05124846]\n",
            " [0.03090823]\n",
            " [0.03139025]\n",
            " [0.04380831]\n",
            " [0.04277316]\n",
            " [0.0415667 ]\n",
            " [0.03367323]\n",
            " [0.02741867]\n",
            " [0.0477677 ]\n",
            " [0.04547855]\n",
            " [0.06518194]\n",
            " [0.03066066]\n",
            " [0.02127299]\n",
            " [0.02748004]\n",
            " [0.03087738]\n",
            " [0.0395515 ]\n",
            " [0.04004365]\n",
            " [0.03106454]\n",
            " [0.18339214]\n",
            " [0.03421801]\n",
            " [0.04955521]\n",
            " [0.02490076]\n",
            " [0.04271066]\n",
            " [0.03848156]\n",
            " [0.02876076]\n",
            " [0.02941665]\n",
            " [0.02486059]\n",
            " [0.03928193]\n",
            " [0.06514609]\n",
            " [0.0406273 ]\n",
            " [0.02713215]\n",
            " [0.06495166]\n",
            " [0.0295268 ]\n",
            " [0.03529358]\n",
            " [0.03201079]\n",
            " [0.03153017]\n",
            " [0.03533193]\n",
            " [0.05640051]\n",
            " [0.03220186]\n",
            " [0.03781733]\n",
            " [0.03504786]\n",
            " [0.03647333]\n",
            " [0.03775185]\n",
            " [0.04152092]\n",
            " [0.03739211]\n",
            " [0.02201623]\n",
            " [0.05271894]\n",
            " [0.052946  ]\n",
            " [0.03736699]\n",
            " [0.04023728]\n",
            " [0.07734048]\n",
            " [0.02226827]\n",
            " [0.04126748]\n",
            " [0.02698445]\n",
            " [0.18127695]\n",
            " [0.0318588 ]\n",
            " [0.0333299 ]\n",
            " [0.055134  ]\n",
            " [0.02633601]\n",
            " [0.02156797]\n",
            " [0.02257222]\n",
            " [0.19039413]\n",
            " [0.03927994]\n",
            " [0.03619149]\n",
            " [0.02251917]\n",
            " [0.05768362]\n",
            " [0.04033631]\n",
            " [0.02851146]\n",
            " [0.0530318 ]\n",
            " [0.02704543]\n",
            " [0.03549138]\n",
            " [0.03049889]\n",
            " [0.037444  ]\n",
            " [0.03512287]\n",
            " [0.02891701]\n",
            " [0.02014846]\n",
            " [0.03782311]\n",
            " [0.03824601]\n",
            " [0.04532036]\n",
            " [0.02814943]\n",
            " [0.03829667]\n",
            " [0.0350509 ]\n",
            " [0.0534732 ]\n",
            " [0.0307261 ]\n",
            " [0.0751715 ]\n",
            " [0.06341943]\n",
            " [0.02746871]\n",
            " [0.03035387]\n",
            " [0.04730868]\n",
            " [0.04127586]\n",
            " [0.02785525]\n",
            " [0.04052639]\n",
            " [0.0431332 ]\n",
            " [0.05829257]\n",
            " [0.04026467]\n",
            " [0.03901434]\n",
            " [0.04257107]\n",
            " [0.03201255]\n",
            " [0.04053962]\n",
            " [0.05763525]\n",
            " [0.03009352]\n",
            " [0.07743967]\n",
            " [0.03683892]\n",
            " [0.06100768]\n",
            " [0.06279337]\n",
            " [0.02995297]\n",
            " [0.03468761]\n",
            " [0.04390275]\n",
            " [0.02572241]\n",
            " [0.0584988 ]\n",
            " [0.02639341]\n",
            " [0.15020147]] \n",
            "\n",
            "The following is a concatenated 2D array of CustomerID and its predicted Probability \n",
            " [[1.57761560e+07 3.14041674e-02]\n",
            " [1.57395480e+07 3.59471440e-02]\n",
            " [1.56628540e+07 3.88378203e-02]\n",
            " ...\n",
            " [1.56754500e+07 5.84987998e-02]\n",
            " [1.57764940e+07 2.63934080e-02]\n",
            " [1.55924120e+07 1.50201470e-01]] \n",
            "\n",
            "The following is sorted list of the customers cheated:  \n",
            " [[1.56444000e+07 1.69157982e-03]\n",
            " [1.57785890e+07 1.75422430e-03]\n",
            " [1.56844400e+07 1.91095471e-03]\n",
            " ...\n",
            " [1.57845260e+07 2.69241661e-01]\n",
            " [1.57486490e+07 3.03682834e-01]\n",
            " [1.55941330e+07 3.31971526e-01]] \n",
            "\n"
          ],
          "name": "stdout"
        }
      ]
    },
    {
      "cell_type": "markdown",
      "metadata": {
        "id": "GjYhad2kylrZ"
      },
      "source": [
        "# Boltzmann Machines"
      ]
    },
    {
      "cell_type": "markdown",
      "metadata": {
        "id": "Mx5P6GMnzdKU"
      },
      "source": [
        "In this part you will learn:\n",
        "\n",
        "the Intuition of Boltzmann Machines\n",
        "how to build a Boltzmann Machine\n",
        "Boltzmann Machines can be seen from two different points of view:\n",
        "\n",
        "1. An Energy-Based Model\n",
        "2. A Probabilistic Graphical Model\n",
        "\n",
        "In the Intuition Lectures Kirill will focus more on the Energy-Based Model point of view, and then for the Practical Lectures we will focus more on the Probabilistic Graphical Model point of view.\n",
        "\n",
        "In these last two parts (Part 5 - Boltzmann Machines and Part 6 - AutoEncoders) of this course, we will create two types of Recommender Systems:\n",
        "\n",
        "1. One that predicts binary ratings \"Like\" or \"Not Like\". We will build it in this Part 5 with a Boltzmann Machine.\n",
        "2. Another one that predicts ratings from 1 to 5. We will build it in Part 6 with an AutoEncoder.\n",
        "\n",
        "We will implement these two Deep Learning models with PyTorch, a highly advanced Deep Learning platform more powerful than Keras. Every single line of code will be explained in details but I would recommend to have a first look at the PyTorch documentation to start getting familiar with PyTorch:\n",
        "\n",
        "PyTorch Documentation Here:  https://pytorch.org/docs/0.3.1/\n"
      ]
    },
    {
      "cell_type": "code",
      "metadata": {
        "id": "KTs82OyPyRH0",
        "colab": {
          "base_uri": "https://localhost:8080/",
          "height": 224
        },
        "outputId": "0b4fc77f-ea89-492c-c35c-b099edec99d7"
      },
      "source": [
        "!wget https://sds-platform-private.s3-us-east-2.amazonaws.com/uploads/P16-Boltzmann-Machines.zip"
      ],
      "execution_count": null,
      "outputs": [
        {
          "output_type": "stream",
          "text": [
            "--2019-03-13 05:12:08--  https://sds-platform-private.s3-us-east-2.amazonaws.com/uploads/P16-Boltzmann-Machines.zip\n",
            "Resolving sds-platform-private.s3-us-east-2.amazonaws.com (sds-platform-private.s3-us-east-2.amazonaws.com)... 52.219.80.208\n",
            "Connecting to sds-platform-private.s3-us-east-2.amazonaws.com (sds-platform-private.s3-us-east-2.amazonaws.com)|52.219.80.208|:443... connected.\n",
            "HTTP request sent, awaiting response... 200 OK\n",
            "Length: 23195800 (22M) [application/zip]\n",
            "Saving to: ‘P16-Boltzmann-Machines.zip’\n",
            "\n",
            "P16-Boltzmann-Machi 100%[===================>]  22.12M  67.6MB/s    in 0.3s    \n",
            "\n",
            "2019-03-13 05:12:08 (67.6 MB/s) - ‘P16-Boltzmann-Machines.zip’ saved [23195800/23195800]\n",
            "\n"
          ],
          "name": "stdout"
        }
      ]
    },
    {
      "cell_type": "code",
      "metadata": {
        "id": "8NZZm0Npdr2x",
        "colab": {
          "base_uri": "https://localhost:8080/",
          "height": 119
        },
        "outputId": "07560701-78f7-4cc2-ffa0-d1329e7f63f2"
      },
      "source": [
        "!ls -la"
      ],
      "execution_count": null,
      "outputs": [
        {
          "output_type": "stream",
          "text": [
            "total 22676\n",
            "drwxr-xr-x 1 root root     4096 Mar 13 05:12 .\n",
            "drwxr-xr-x 1 root root     4096 Mar 13 04:15 ..\n",
            "drwxr-xr-x 4 root root     4096 Mar  8 17:25 .config\n",
            "-rw-r--r-- 1 root root 23195800 Mar  6 17:45 P16-Boltzmann-Machines.zip\n",
            "drwxr-xr-x 1 root root     4096 Mar  8 17:26 sample_data\n"
          ],
          "name": "stdout"
        }
      ]
    },
    {
      "cell_type": "code",
      "metadata": {
        "id": "hpIi0lY3dzXn",
        "colab": {
          "base_uri": "https://localhost:8080/",
          "height": 1360
        },
        "outputId": "8cc2aba2-9799-4039-9c23-a452ca136cf5"
      },
      "source": [
        "!unzip P16-Boltzmann-Machines.zip"
      ],
      "execution_count": null,
      "outputs": [
        {
          "output_type": "stream",
          "text": [
            "Archive:  P16-Boltzmann-Machines.zip\n",
            "   creating: Boltzmann_Machines/\n",
            "  inflating: Boltzmann_Machines/.DS_Store  \n",
            "   creating: __MACOSX/\n",
            "   creating: __MACOSX/Boltzmann_Machines/\n",
            "  inflating: __MACOSX/Boltzmann_Machines/._.DS_Store  \n",
            "  inflating: Boltzmann_Machines/AItRBM-proof.pdf  \n",
            "  inflating: __MACOSX/Boltzmann_Machines/._AItRBM-proof.pdf  \n",
            "   creating: Boltzmann_Machines/ml-100k/\n",
            "  inflating: Boltzmann_Machines/ml-100k/allbut.pl  \n",
            "   creating: __MACOSX/Boltzmann_Machines/ml-100k/\n",
            "  inflating: __MACOSX/Boltzmann_Machines/ml-100k/._allbut.pl  \n",
            "  inflating: Boltzmann_Machines/ml-100k/mku.sh  \n",
            "  inflating: __MACOSX/Boltzmann_Machines/ml-100k/._mku.sh  \n",
            "  inflating: Boltzmann_Machines/ml-100k/README  \n",
            "  inflating: Boltzmann_Machines/ml-100k/u.data  \n",
            "  inflating: __MACOSX/Boltzmann_Machines/ml-100k/._u.data  \n",
            "  inflating: Boltzmann_Machines/ml-100k/u.genre  \n",
            "  inflating: __MACOSX/Boltzmann_Machines/ml-100k/._u.genre  \n",
            "  inflating: Boltzmann_Machines/ml-100k/u.info  \n",
            "  inflating: __MACOSX/Boltzmann_Machines/ml-100k/._u.info  \n",
            "  inflating: Boltzmann_Machines/ml-100k/u.item  \n",
            "  inflating: __MACOSX/Boltzmann_Machines/ml-100k/._u.item  \n",
            "  inflating: Boltzmann_Machines/ml-100k/u.occupation  \n",
            "  inflating: __MACOSX/Boltzmann_Machines/ml-100k/._u.occupation  \n",
            "  inflating: Boltzmann_Machines/ml-100k/u.user  \n",
            "  inflating: __MACOSX/Boltzmann_Machines/ml-100k/._u.user  \n",
            "  inflating: Boltzmann_Machines/ml-100k/u1.base  \n",
            "  inflating: __MACOSX/Boltzmann_Machines/ml-100k/._u1.base  \n",
            "  inflating: Boltzmann_Machines/ml-100k/u1.test  \n",
            "  inflating: __MACOSX/Boltzmann_Machines/ml-100k/._u1.test  \n",
            "  inflating: Boltzmann_Machines/ml-100k/u2.base  \n",
            "  inflating: __MACOSX/Boltzmann_Machines/ml-100k/._u2.base  \n",
            "  inflating: Boltzmann_Machines/ml-100k/u2.test  \n",
            "  inflating: __MACOSX/Boltzmann_Machines/ml-100k/._u2.test  \n",
            "  inflating: Boltzmann_Machines/ml-100k/u3.base  \n",
            "  inflating: __MACOSX/Boltzmann_Machines/ml-100k/._u3.base  \n",
            "  inflating: Boltzmann_Machines/ml-100k/u3.test  \n",
            "  inflating: __MACOSX/Boltzmann_Machines/ml-100k/._u3.test  \n",
            "  inflating: Boltzmann_Machines/ml-100k/u4.base  \n",
            "  inflating: __MACOSX/Boltzmann_Machines/ml-100k/._u4.base  \n",
            "  inflating: Boltzmann_Machines/ml-100k/u4.test  \n",
            "  inflating: __MACOSX/Boltzmann_Machines/ml-100k/._u4.test  \n",
            "  inflating: Boltzmann_Machines/ml-100k/u5.base  \n",
            "  inflating: __MACOSX/Boltzmann_Machines/ml-100k/._u5.base  \n",
            "  inflating: Boltzmann_Machines/ml-100k/u5.test  \n",
            "  inflating: __MACOSX/Boltzmann_Machines/ml-100k/._u5.test  \n",
            "  inflating: Boltzmann_Machines/ml-100k/ua.base  \n",
            "  inflating: __MACOSX/Boltzmann_Machines/ml-100k/._ua.base  \n",
            "  inflating: Boltzmann_Machines/ml-100k/ua.test  \n",
            "  inflating: __MACOSX/Boltzmann_Machines/ml-100k/._ua.test  \n",
            "  inflating: Boltzmann_Machines/ml-100k/ub.base  \n",
            "  inflating: __MACOSX/Boltzmann_Machines/ml-100k/._ub.base  \n",
            "  inflating: Boltzmann_Machines/ml-100k/ub.test  \n",
            "  inflating: __MACOSX/Boltzmann_Machines/ml-100k/._ub.test  \n",
            "  inflating: __MACOSX/Boltzmann_Machines/._ml-100k  \n",
            "   creating: Boltzmann_Machines/ml-1m/\n",
            "  inflating: Boltzmann_Machines/ml-1m/.DS_Store  \n",
            "   creating: __MACOSX/Boltzmann_Machines/ml-1m/\n",
            "  inflating: __MACOSX/Boltzmann_Machines/ml-1m/._.DS_Store  \n",
            "  inflating: Boltzmann_Machines/ml-1m/.Rhistory  \n",
            "  inflating: Boltzmann_Machines/ml-1m/movies.dat  \n",
            "  inflating: __MACOSX/Boltzmann_Machines/ml-1m/._movies.dat  \n",
            "  inflating: Boltzmann_Machines/ml-1m/ratings.csv  \n",
            "  inflating: __MACOSX/Boltzmann_Machines/ml-1m/._ratings.csv  \n",
            "  inflating: Boltzmann_Machines/ml-1m/ratings.dat  \n",
            "  inflating: __MACOSX/Boltzmann_Machines/ml-1m/._ratings.dat  \n",
            "  inflating: Boltzmann_Machines/ml-1m/README  \n",
            "  inflating: Boltzmann_Machines/ml-1m/test_set.csv  \n",
            "  inflating: __MACOSX/Boltzmann_Machines/ml-1m/._test_set.csv  \n",
            "  inflating: Boltzmann_Machines/ml-1m/Train_Test_Set_Creation.R  \n",
            "  inflating: __MACOSX/Boltzmann_Machines/ml-1m/._Train_Test_Set_Creation.R  \n",
            "  inflating: Boltzmann_Machines/ml-1m/training_set.csv  \n",
            "  inflating: __MACOSX/Boltzmann_Machines/ml-1m/._training_set.csv  \n",
            "  inflating: Boltzmann_Machines/ml-1m/users.dat  \n",
            "  inflating: __MACOSX/Boltzmann_Machines/ml-1m/._users.dat  \n",
            "  inflating: __MACOSX/Boltzmann_Machines/._ml-1m  \n",
            "  inflating: Boltzmann_Machines/rbm.py  \n",
            "  inflating: __MACOSX/Boltzmann_Machines/._rbm.py  \n"
          ],
          "name": "stdout"
        }
      ]
    },
    {
      "cell_type": "code",
      "metadata": {
        "id": "lR_JhPnKd3N2"
      },
      "source": [
        "!rm -rf P16-Boltzmann-Machines.zip"
      ],
      "execution_count": null,
      "outputs": []
    },
    {
      "cell_type": "code",
      "metadata": {
        "id": "eFl5a7BKd6mO"
      },
      "source": [
        "!cd Boltzmann_Machines/"
      ],
      "execution_count": null,
      "outputs": []
    },
    {
      "cell_type": "markdown",
      "metadata": {
        "id": "HJ19fnV7eVjc"
      },
      "source": [
        ""
      ]
    },
    {
      "cell_type": "code",
      "metadata": {
        "id": "DD4VWbqKeQxf",
        "colab": {
          "base_uri": "https://localhost:8080/",
          "height": 34
        },
        "outputId": "1bc9ef8a-66fd-4635-bd1b-9e9d853e7bb6"
      },
      "source": [
        ""
      ],
      "execution_count": null,
      "outputs": [
        {
          "output_type": "stream",
          "text": [
            "/content\n"
          ],
          "name": "stdout"
        }
      ]
    },
    {
      "cell_type": "markdown",
      "metadata": {
        "id": "pM0Mj8RQe0lX"
      },
      "source": [
        "# Boltzmann Machines"
      ]
    },
    {
      "cell_type": "code",
      "metadata": {
        "id": "RG2_fK6LeSy3",
        "colab": {
          "base_uri": "https://localhost:8080/",
          "height": 204
        },
        "outputId": "acf94e9e-6bf0-47a0-f13c-8a262fd54649"
      },
      "source": [
        "!wget http://files.grouplens.org/datasets/movielens/ml-100k.zip"
      ],
      "execution_count": null,
      "outputs": [
        {
          "output_type": "stream",
          "text": [
            "--2019-03-30 05:10:24--  http://files.grouplens.org/datasets/movielens/ml-100k.zip\n",
            "Resolving files.grouplens.org (files.grouplens.org)... 128.101.34.235\n",
            "Connecting to files.grouplens.org (files.grouplens.org)|128.101.34.235|:80... connected.\n",
            "HTTP request sent, awaiting response... 200 OK\n",
            "Length: 4924029 (4.7M) [application/zip]\n",
            "Saving to: ‘ml-100k.zip’\n",
            "\n",
            "ml-100k.zip         100%[===================>]   4.70M  3.46MB/s    in 1.4s    \n",
            "\n",
            "2019-03-30 05:10:26 (3.46 MB/s) - ‘ml-100k.zip’ saved [4924029/4924029]\n",
            "\n"
          ],
          "name": "stdout"
        }
      ]
    },
    {
      "cell_type": "code",
      "metadata": {
        "id": "AvQmVAVZgCvC",
        "colab": {
          "base_uri": "https://localhost:8080/",
          "height": 204
        },
        "outputId": "ea592f53-8106-4610-903d-612f057b7cec"
      },
      "source": [
        "!wget http://files.grouplens.org/datasets/movielens/ml-1m.zip"
      ],
      "execution_count": null,
      "outputs": [
        {
          "output_type": "stream",
          "text": [
            "--2019-03-30 05:10:32--  http://files.grouplens.org/datasets/movielens/ml-1m.zip\n",
            "Resolving files.grouplens.org (files.grouplens.org)... 128.101.34.235\n",
            "Connecting to files.grouplens.org (files.grouplens.org)|128.101.34.235|:80... connected.\n",
            "HTTP request sent, awaiting response... 200 OK\n",
            "Length: 5917549 (5.6M) [application/zip]\n",
            "Saving to: ‘ml-1m.zip’\n",
            "\n",
            "ml-1m.zip           100%[===================>]   5.64M  4.13MB/s    in 1.4s    \n",
            "\n",
            "2019-03-30 05:10:33 (4.13 MB/s) - ‘ml-1m.zip’ saved [5917549/5917549]\n",
            "\n"
          ],
          "name": "stdout"
        }
      ]
    },
    {
      "cell_type": "code",
      "metadata": {
        "id": "m5rZDxgpgJQg",
        "colab": {
          "base_uri": "https://localhost:8080/",
          "height": 136
        },
        "outputId": "377a3215-da67-4430-c8cc-2e5229b5061f"
      },
      "source": [
        "ls -la"
      ],
      "execution_count": null,
      "outputs": [
        {
          "output_type": "stream",
          "text": [
            "total 10612\n",
            "drwxr-xr-x 1 root root    4096 Mar 30 05:10 \u001b[0m\u001b[01;34m.\u001b[0m/\n",
            "drwxr-xr-x 1 root root    4096 Mar 30 05:00 \u001b[01;34m..\u001b[0m/\n",
            "drwxr-xr-x 1 root root    4096 Mar 27 20:25 \u001b[01;34m.config\u001b[0m/\n",
            "-rw-r--r-- 1 root root 4924029 Jan 29  2016 ml-100k.zip\n",
            "-rw-r--r-- 1 root root 5917549 Jan 29  2016 ml-1m.zip\n",
            "drwxr-xr-x 1 root root    4096 Mar 27 20:26 \u001b[01;34msample_data\u001b[0m/\n"
          ],
          "name": "stdout"
        }
      ]
    },
    {
      "cell_type": "code",
      "metadata": {
        "id": "8W98X7lRgK0f",
        "colab": {
          "base_uri": "https://localhost:8080/",
          "height": 442
        },
        "outputId": "1e2e9fa2-bc02-4f2f-c46d-0b8b39ea6385"
      },
      "source": [
        "!unzip ml-100k.zip"
      ],
      "execution_count": null,
      "outputs": [
        {
          "output_type": "stream",
          "text": [
            "Archive:  ml-100k.zip\n",
            "   creating: ml-100k/\n",
            "  inflating: ml-100k/allbut.pl       \n",
            "  inflating: ml-100k/mku.sh          \n",
            "  inflating: ml-100k/README          \n",
            "  inflating: ml-100k/u.data          \n",
            "  inflating: ml-100k/u.genre         \n",
            "  inflating: ml-100k/u.info          \n",
            "  inflating: ml-100k/u.item          \n",
            "  inflating: ml-100k/u.occupation    \n",
            "  inflating: ml-100k/u.user          \n",
            "  inflating: ml-100k/u1.base         \n",
            "  inflating: ml-100k/u1.test         \n",
            "  inflating: ml-100k/u2.base         \n",
            "  inflating: ml-100k/u2.test         \n",
            "  inflating: ml-100k/u3.base         \n",
            "  inflating: ml-100k/u3.test         \n",
            "  inflating: ml-100k/u4.base         \n",
            "  inflating: ml-100k/u4.test         \n",
            "  inflating: ml-100k/u5.base         \n",
            "  inflating: ml-100k/u5.test         \n",
            "  inflating: ml-100k/ua.base         \n",
            "  inflating: ml-100k/ua.test         \n",
            "  inflating: ml-100k/ub.base         \n",
            "  inflating: ml-100k/ub.test         \n"
          ],
          "name": "stdout"
        }
      ]
    },
    {
      "cell_type": "code",
      "metadata": {
        "id": "V-k8La-JgQSm",
        "colab": {
          "base_uri": "https://localhost:8080/",
          "height": 153
        },
        "outputId": "954f3b1d-e6e8-43ad-dab5-b7e3cd0959db"
      },
      "source": [
        "\n",
        "!ls -la"
      ],
      "execution_count": null,
      "outputs": [
        {
          "output_type": "stream",
          "text": [
            "total 10616\n",
            "drwxr-xr-x 1 root root    4096 Mar 30 05:10 .\n",
            "drwxr-xr-x 1 root root    4096 Mar 30 05:00 ..\n",
            "drwxr-xr-x 1 root root    4096 Mar 27 20:25 .config\n",
            "drwxr-x--- 2 root root    4096 Jan 29  2016 ml-100k\n",
            "-rw-r--r-- 1 root root 4924029 Jan 29  2016 ml-100k.zip\n",
            "-rw-r--r-- 1 root root 5917549 Jan 29  2016 ml-1m.zip\n",
            "drwxr-xr-x 1 root root    4096 Mar 27 20:26 sample_data\n"
          ],
          "name": "stdout"
        }
      ]
    },
    {
      "cell_type": "code",
      "metadata": {
        "id": "CQQ9y6CogSI7",
        "colab": {
          "base_uri": "https://localhost:8080/",
          "height": 119
        },
        "outputId": "01eee09d-165f-45a3-92ae-8ec383a999f9"
      },
      "source": [
        "!unzip ml-1m.zip"
      ],
      "execution_count": null,
      "outputs": [
        {
          "output_type": "stream",
          "text": [
            "Archive:  ml-1m.zip\n",
            "   creating: ml-1m/\n",
            "  inflating: ml-1m/movies.dat        \n",
            "  inflating: ml-1m/ratings.dat       \n",
            "  inflating: ml-1m/README            \n",
            "  inflating: ml-1m/users.dat         \n"
          ],
          "name": "stdout"
        }
      ]
    },
    {
      "cell_type": "code",
      "metadata": {
        "id": "yeaeez4XgZwj",
        "colab": {
          "base_uri": "https://localhost:8080/",
          "height": 153
        },
        "outputId": "aa6255c1-98e3-4c58-af32-5ff7bc2ead20"
      },
      "source": [
        "!jupyter notebook --NotebookApp.iopub_data_rate_limit=10000000"
      ],
      "execution_count": null,
      "outputs": [
        {
          "output_type": "stream",
          "text": [
            "|INFO|google.colab serverextension initialized.\n",
            "|INFO|Serving notebooks from local directory: /content\n",
            "|INFO|0 active kernels\n",
            "|INFO|The Jupyter Notebook is running at:\n",
            "|INFO|http://localhost:8888/\n",
            "|INFO|Use Control-C to stop this server and shut down all kernels (twice to skip confirmation).\n",
            "|CRITICAL|received signal 2, stopping\n",
            "|INFO|Shutting down 0 kernels\n"
          ],
          "name": "stdout"
        }
      ]
    },
    {
      "cell_type": "code",
      "metadata": {
        "id": "BYP-V7VqgbrS",
        "colab": {
          "base_uri": "https://localhost:8080/",
          "height": 540
        },
        "outputId": "3fbaa53e-b84b-4137-a7b2-2074d1786bc3"
      },
      "source": [
        "# Importing the libraries\n",
        "import numpy as np\n",
        "import pandas as pd\n",
        "import torch\n",
        "import torch.nn as nn\n",
        "import torch.nn.parallel\n",
        "import torch.optim as optim\n",
        "from torch.autograd import Variable\n",
        "\n",
        "# Importing the dataset\n",
        "movies = pd.read_csv('/content/ml-1m/movies.dat', sep = '::', \n",
        "                     header = None, engine = 'python', encoding = 'latin-1')\n",
        "users = pd.read_csv('/content/ml-1m/users.dat', sep = '::', \n",
        "                     header = None, engine = 'python', encoding = 'latin-1')\n",
        "ratings = pd.read_csv('/content/ml-1m/ratings.dat', sep = '::', \n",
        "                     header = None, engine = 'python', encoding = 'latin-1')\n",
        "\n",
        "#print('The folloing is the original movies dataset', '\\n', movies, '\\n')\n",
        "#print('The folloing is the original users dataset', '\\n', users, '\\n')\n",
        "#print('The folloing is the original rating dataset', '\\n', ratings, '\\n')\n",
        "\n",
        "# Preparing the training set and the test set\n",
        "training_set = pd.read_csv('/content/ml-100k/u1.base', delimiter = '\\t')\n",
        "test_set = pd.read_csv('/content/ml-100k/u1.test', delimiter = '\\t')\n",
        "\n",
        "#print('The folloing is the taining dataset before converted to an array', '\\n', training_set, '\\n')\n",
        "#print('The folloing is the taining dataset before converted to an array', '\\n', test_set, '\\n')\n",
        "\n",
        "# Convert the training_set and test_set to array\n",
        "training_set = np.array(training_set, dtype = 'int')\n",
        "test_set = np.array(test_set, dtype = 'int')\n",
        "\n",
        "#print('The folloing is the taining dataset after being converted to an array', '\\n', training_set, '\\n')\n",
        "#print('The folloing is the test dataset after being converted to an array', '\\n', test_set, '\\n')\n",
        "\n",
        "# Getting the number of users and movies to have the same numbers of users to match the numbers\n",
        "# of training_set matrix and test_set matrix to have the same numbers of rows and columns\n",
        "nb_users = int(max(max(training_set[:, 0]), max(test_set[:, 0])))\n",
        "nb_movies = int(max(max(training_set[:, 1]), max(test_set[:, 1])))\n",
        "\n",
        "#print('The following is the Total number of users (all the rows in col 1 ): ', '\\n', nb_users, '\\n')\n",
        "#print('The following is the Total number of users (all the rows in col 2 ): ', '\\n', nb_movies, '\\n')\n",
        "\n",
        "# Converting the data into an array with users in lines and movies in columns\n",
        "def convert(data):\n",
        "  \n",
        "  # Create an array where the rows are going to be the users and the columns will be the movies\n",
        "  # Create a list of lists (several list, one list for each line. That is one list for each users, 943 lists)\n",
        "  # Whate we will get from each users? The rating of 1682 movies for corresponding users\n",
        "  \n",
        "  new_data = []  # initialize the lis\n",
        "  for id_users in range(1, nb_users + 1):  # to get to up to 943 users\n",
        "    id_movies = data[:, 1][data[:, 0] == id_users]\n",
        "    id_ratings = data[:, 2][data[:, 0] == id_users]\n",
        "    ratings = np.zeros(nb_movies)\n",
        "    ratings[id_movies - 1] = id_ratings\n",
        "    new_data.append(list(ratings))\n",
        "  return new_data\n",
        "\n",
        "training_set = convert(training_set)\n",
        "test_set = convert(test_set)\n",
        "print(training_set, '\\n')\n",
        "print(test_set)\n",
        "\n",
        "    # data[:, 1] Takes the whole columns of the movies ID from the training_set index 1 (2nd colums)\n",
        "    # [data[:, 0] == id_users]  Condition that takes all the movies IDs where the first user equat 1\n",
        "    # id_ratings = data[:, 2][data[:, 0] == id_users]  Gets all the rating for that same user (index 2)\n",
        "    # ratings = np.zeros(nb_movies) Initialize a list of 1682 users elements and set them to a list of zeros (1682 zeros)\n",
        "    # ratings[id_movies - 1] = id_ratings replaces the rating for the movies that the users rated, -1 is to start from \n",
        "    # the first index 0 and  = id_ratings is to get all the REAL rating into ratings[id_movies - 1]\n",
        "    # new_data.append(list(ratings)) appends this list of rating corresponding to one user \"rating[id_movies - 1]\" \n",
        "    # to new_data = [] which contains all the raings for all users.\n",
        "    \n",
        "    # training_set = convert(training_set) # Applies the original training set and converted to the new_dataset\n",
        "    # test_set = convert(test_set) # Applies the original training set and converted to the new_dataset\n",
        "    \n",
        "# Converting the data into Torch tensors\n",
        "training_set = torch.FloatTensor(training_set)\n",
        "test_set = torch.FloatTensor(test_set)\n",
        "\n",
        "# Converting the ratings inot binary ratings 1 (liked) or 0 (Not Liked)\n",
        "training_set[training_set == 0] = -1\n",
        "training_set[training_set == 1] = 0\n",
        "training_set[training_set == 2] = 0\n",
        "training_set[training_set >= 3] = 1\n",
        "test_set[test_set == 0] = -1\n",
        "test_set[test_set == 1] = 0\n",
        "test_set[test_set == 2] = 0\n",
        "test_set[test_set >= 3] = 1\n",
        "\n",
        "# Creating the architecture of the Neural Network\n",
        "class RBM():\n",
        "  def __init__(self, nv, nh):\n",
        "    self.W = torch.randn(nh, nv)\n",
        "    self.a = torch.randn(1, nh)\n",
        "    self.b = torch.randn(1, nv)\n",
        "  def sample_h(self, x):\n",
        "    wx = torch.mm(x, self.W.t())\n",
        "    activation = wx + self.a.expand_as(wx)\n",
        "    p_h_given_v = torch.sigmoid(activation)\n",
        "    return p_h_given_v, torch.bernoulli(p_h_given_v)\n",
        "  def sample_v(self, y):\n",
        "    wy = torch.mm(y, self.W)\n",
        "    activation = wy + self.b.expand_as(wy)\n",
        "    p_v_given_h = torch.sigmoid(activation)\n",
        "    return p_v_given_h, torch.bernoulli(p_v_given_h)\n",
        "  def train(self, v0, vk, ph0, phk):\n",
        "    self.W += torch.mm(v0.t(), ph0) - torch.mm(vk.t(), phk)\n",
        "    self.b += torch.sum((v0 - vk), 0)\n",
        "    self.a += torch.sum((ph0 - phk), 0)\n",
        "\n",
        "nv = len(training_set[0])\n",
        "nh = 100\n",
        "batch_size = 100\n",
        "rbm = RBM(nv, nh)\n",
        "\n",
        "# Training the RBM\n",
        "nb_epoch = 10\n",
        "for epoch in range(1, nb_epoch + 1):\n",
        "    train_loss = 0\n",
        "    s = 0.\n",
        "    for id_user in range(0, nb_users - batch_size, batch_size):\n",
        "        vk = training_set[id_user:id_user+batch_size]\n",
        "        v0 = training_set[id_user:id_user+batch_size]\n",
        "        ph0,_ = rbm.sample_h(v0)\n",
        "        for k in range(10):\n",
        "            _,hk = rbm.sample_h(vk)\n",
        "            _,vk = rbm.sample_v(hk)\n",
        "            vk[v0<0] = v0[v0<0]\n",
        "        phk,_ = rbm.sample_h(vk)\n",
        "        rbm.train(v0, vk, ph0, phk)\n",
        "        train_loss += np.sqrt(torch.mean((v0[v0>=0] - vk[v0>=0])**2)) # RMSE here\n",
        "        s += 1.\n",
        "    print('epoch: '+str(epoch)+' loss: '+str(train_loss/s))\n",
        "  \n",
        "# Testing the RBM\n",
        "test_loss = 0\n",
        "s = 0.\n",
        "for id_user in range(nb_users):\n",
        "    v = training_set[id_user:id_user+1]\n",
        "    vt = test_set[id_user:id_user+1]\n",
        "    if len(vt[vt>=0]) > 0:\n",
        "        _,h = rbm.sample_h(v)\n",
        "        _,v = rbm.sample_v(h)\n",
        "        test_loss += np.sqrt(torch.mean((vt[vt>=0] - v[vt>=0])**2)) # RMSE here\n",
        "        s += 1.\n",
        "print('test loss: '+str(test_loss/s))"
      ],
      "execution_count": null,
      "outputs": [
        {
          "output_type": "stream",
          "text": [
            "IOPub data rate exceeded.\n",
            "The notebook server will temporarily stop sending output\n",
            "to the client in order to avoid crashing it.\n",
            "To change this limit, set the config variable\n",
            "`--NotebookApp.iopub_data_rate_limit`.\n",
            "\n",
            "Current values:\n",
            "NotebookApp.iopub_data_rate_limit=1000000.0 (bytes/sec)\n",
            "NotebookApp.rate_limit_window=3.0 (secs)\n",
            "\n"
          ],
          "name": "stderr"
        },
        {
          "output_type": "error",
          "ename": "RuntimeError",
          "evalue": "ignored",
          "traceback": [
            "\u001b[0;31m---------------------------------------------------------------------------\u001b[0m",
            "\u001b[0;31mRuntimeError\u001b[0m                              Traceback (most recent call last)",
            "\u001b[0;32m<ipython-input-11-2f97425b868c>\u001b[0m in \u001b[0;36m<module>\u001b[0;34m()\u001b[0m\n\u001b[1;32m    128\u001b[0m             \u001b[0mvk\u001b[0m\u001b[0;34m[\u001b[0m\u001b[0mv0\u001b[0m\u001b[0;34m<\u001b[0m\u001b[0;36m0\u001b[0m\u001b[0;34m]\u001b[0m \u001b[0;34m=\u001b[0m \u001b[0mv0\u001b[0m\u001b[0;34m[\u001b[0m\u001b[0mv0\u001b[0m\u001b[0;34m<\u001b[0m\u001b[0;36m0\u001b[0m\u001b[0;34m]\u001b[0m\u001b[0;34m\u001b[0m\u001b[0;34m\u001b[0m\u001b[0m\n\u001b[1;32m    129\u001b[0m         \u001b[0mphk\u001b[0m\u001b[0;34m,\u001b[0m\u001b[0m_\u001b[0m \u001b[0;34m=\u001b[0m \u001b[0mrbm\u001b[0m\u001b[0;34m.\u001b[0m\u001b[0msample_h\u001b[0m\u001b[0;34m(\u001b[0m\u001b[0mvk\u001b[0m\u001b[0;34m)\u001b[0m\u001b[0;34m\u001b[0m\u001b[0;34m\u001b[0m\u001b[0m\n\u001b[0;32m--> 130\u001b[0;31m         \u001b[0mrbm\u001b[0m\u001b[0;34m.\u001b[0m\u001b[0mtrain\u001b[0m\u001b[0;34m(\u001b[0m\u001b[0mv0\u001b[0m\u001b[0;34m,\u001b[0m \u001b[0mvk\u001b[0m\u001b[0;34m,\u001b[0m \u001b[0mph0\u001b[0m\u001b[0;34m,\u001b[0m \u001b[0mphk\u001b[0m\u001b[0;34m)\u001b[0m\u001b[0;34m\u001b[0m\u001b[0;34m\u001b[0m\u001b[0m\n\u001b[0m\u001b[1;32m    131\u001b[0m         \u001b[0mtrain_loss\u001b[0m \u001b[0;34m+=\u001b[0m \u001b[0mnp\u001b[0m\u001b[0;34m.\u001b[0m\u001b[0msqrt\u001b[0m\u001b[0;34m(\u001b[0m\u001b[0mtorch\u001b[0m\u001b[0;34m.\u001b[0m\u001b[0mmean\u001b[0m\u001b[0;34m(\u001b[0m\u001b[0;34m(\u001b[0m\u001b[0mv0\u001b[0m\u001b[0;34m[\u001b[0m\u001b[0mv0\u001b[0m\u001b[0;34m>=\u001b[0m\u001b[0;36m0\u001b[0m\u001b[0;34m]\u001b[0m \u001b[0;34m-\u001b[0m \u001b[0mvk\u001b[0m\u001b[0;34m[\u001b[0m\u001b[0mv0\u001b[0m\u001b[0;34m>=\u001b[0m\u001b[0;36m0\u001b[0m\u001b[0;34m]\u001b[0m\u001b[0;34m)\u001b[0m\u001b[0;34m**\u001b[0m\u001b[0;36m2\u001b[0m\u001b[0;34m)\u001b[0m\u001b[0;34m)\u001b[0m \u001b[0;31m# RMSE here\u001b[0m\u001b[0;34m\u001b[0m\u001b[0;34m\u001b[0m\u001b[0m\n\u001b[1;32m    132\u001b[0m         \u001b[0ms\u001b[0m \u001b[0;34m+=\u001b[0m \u001b[0;36m1.\u001b[0m\u001b[0;34m\u001b[0m\u001b[0;34m\u001b[0m\u001b[0m\n",
            "\u001b[0;32m<ipython-input-11-2f97425b868c>\u001b[0m in \u001b[0;36mtrain\u001b[0;34m(self, v0, vk, ph0, phk)\u001b[0m\n\u001b[1;32m    105\u001b[0m     \u001b[0;32mreturn\u001b[0m \u001b[0mp_v_given_h\u001b[0m\u001b[0;34m,\u001b[0m \u001b[0mtorch\u001b[0m\u001b[0;34m.\u001b[0m\u001b[0mbernoulli\u001b[0m\u001b[0;34m(\u001b[0m\u001b[0mp_v_given_h\u001b[0m\u001b[0;34m)\u001b[0m\u001b[0;34m\u001b[0m\u001b[0;34m\u001b[0m\u001b[0m\n\u001b[1;32m    106\u001b[0m   \u001b[0;32mdef\u001b[0m \u001b[0mtrain\u001b[0m\u001b[0;34m(\u001b[0m\u001b[0mself\u001b[0m\u001b[0;34m,\u001b[0m \u001b[0mv0\u001b[0m\u001b[0;34m,\u001b[0m \u001b[0mvk\u001b[0m\u001b[0;34m,\u001b[0m \u001b[0mph0\u001b[0m\u001b[0;34m,\u001b[0m \u001b[0mphk\u001b[0m\u001b[0;34m)\u001b[0m\u001b[0;34m:\u001b[0m\u001b[0;34m\u001b[0m\u001b[0;34m\u001b[0m\u001b[0m\n\u001b[0;32m--> 107\u001b[0;31m     \u001b[0mself\u001b[0m\u001b[0;34m.\u001b[0m\u001b[0mW\u001b[0m \u001b[0;34m+=\u001b[0m \u001b[0mtorch\u001b[0m\u001b[0;34m.\u001b[0m\u001b[0mmm\u001b[0m\u001b[0;34m(\u001b[0m\u001b[0mv0\u001b[0m\u001b[0;34m.\u001b[0m\u001b[0mt\u001b[0m\u001b[0;34m(\u001b[0m\u001b[0;34m)\u001b[0m\u001b[0;34m,\u001b[0m \u001b[0mph0\u001b[0m\u001b[0;34m)\u001b[0m \u001b[0;34m-\u001b[0m \u001b[0mtorch\u001b[0m\u001b[0;34m.\u001b[0m\u001b[0mmm\u001b[0m\u001b[0;34m(\u001b[0m\u001b[0mvk\u001b[0m\u001b[0;34m.\u001b[0m\u001b[0mt\u001b[0m\u001b[0;34m(\u001b[0m\u001b[0;34m)\u001b[0m\u001b[0;34m,\u001b[0m \u001b[0mphk\u001b[0m\u001b[0;34m)\u001b[0m\u001b[0;34m\u001b[0m\u001b[0;34m\u001b[0m\u001b[0m\n\u001b[0m\u001b[1;32m    108\u001b[0m     \u001b[0mself\u001b[0m\u001b[0;34m.\u001b[0m\u001b[0mb\u001b[0m \u001b[0;34m+=\u001b[0m \u001b[0mtorch\u001b[0m\u001b[0;34m.\u001b[0m\u001b[0msum\u001b[0m\u001b[0;34m(\u001b[0m\u001b[0;34m(\u001b[0m\u001b[0mv0\u001b[0m \u001b[0;34m-\u001b[0m \u001b[0mvk\u001b[0m\u001b[0;34m)\u001b[0m\u001b[0;34m,\u001b[0m \u001b[0;36m0\u001b[0m\u001b[0;34m)\u001b[0m\u001b[0;34m\u001b[0m\u001b[0;34m\u001b[0m\u001b[0m\n\u001b[1;32m    109\u001b[0m     \u001b[0mself\u001b[0m\u001b[0;34m.\u001b[0m\u001b[0ma\u001b[0m \u001b[0;34m+=\u001b[0m \u001b[0mtorch\u001b[0m\u001b[0;34m.\u001b[0m\u001b[0msum\u001b[0m\u001b[0;34m(\u001b[0m\u001b[0;34m(\u001b[0m\u001b[0mph0\u001b[0m \u001b[0;34m-\u001b[0m \u001b[0mphk\u001b[0m\u001b[0;34m)\u001b[0m\u001b[0;34m,\u001b[0m \u001b[0;36m0\u001b[0m\u001b[0;34m)\u001b[0m\u001b[0;34m\u001b[0m\u001b[0;34m\u001b[0m\u001b[0m\n",
            "\u001b[0;31mRuntimeError\u001b[0m: The size of tensor a (1682) must match the size of tensor b (100) at non-singleton dimension 1"
          ]
        }
      ]
    },
    {
      "cell_type": "code",
      "metadata": {
        "id": "VC8KTlKIAQn3",
        "colab": {
          "base_uri": "https://localhost:8080/",
          "height": 102
        },
        "outputId": "11a0d279-7279-4569-a822-5ed67f78c482"
      },
      "source": [
        "!ls -la"
      ],
      "execution_count": null,
      "outputs": [
        {
          "output_type": "stream",
          "text": [
            "total 16\n",
            "drwxr-xr-x 1 root root 4096 Mar 27 20:26 .\n",
            "drwxr-xr-x 1 root root 4096 Mar 30 05:00 ..\n",
            "drwxr-xr-x 1 root root 4096 Mar 27 20:25 .config\n",
            "drwxr-xr-x 1 root root 4096 Mar 27 20:26 sample_data\n"
          ],
          "name": "stdout"
        }
      ]
    },
    {
      "cell_type": "code",
      "metadata": {
        "id": "cQgjaEuAhAqS"
      },
      "source": [
        ""
      ],
      "execution_count": null,
      "outputs": []
    },
    {
      "cell_type": "code",
      "metadata": {
        "id": "TKp-j6UV-UQ0"
      },
      "source": [
        ""
      ],
      "execution_count": null,
      "outputs": []
    }
  ]
}