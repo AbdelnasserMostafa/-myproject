{
  "nbformat": 4,
  "nbformat_minor": 0,
  "metadata": {
    "colab": {
      "name": "100 numpy exercises.ipynb",
      "provenance": [],
      "collapsed_sections": [],
      "include_colab_link": true
    },
    "kernelspec": {
      "name": "python3",
      "display_name": "Python 3"
    },
    "accelerator": "GPU"
  },
  "cells": [
    {
      "cell_type": "markdown",
      "metadata": {
        "id": "view-in-github",
        "colab_type": "text"
      },
      "source": [
        "<a href=\"https://colab.research.google.com/github/AbdelnasserMostafa/-myproject/blob/master/100_numpy_exercises.ipynb\" target=\"_parent\"><img src=\"https://colab.research.google.com/assets/colab-badge.svg\" alt=\"Open In Colab\"/></a>"
      ]
    },
    {
      "cell_type": "code",
      "metadata": {
        "id": "74c4BlBPsbP9"
      },
      "source": [
        "# Reference: https://github.com/rougier/numpy-100/blob/master/100_Numpy_exercises.md"
      ],
      "execution_count": null,
      "outputs": []
    },
    {
      "cell_type": "code",
      "metadata": {
        "id": "qJq1YCGDsoB2"
      },
      "source": [
        "# This is a collection of exercises that have been collected in the numpy mailing list, on stack overflow and in the numpy \n",
        "# documentation. The goal of this collection is to offer a quick reference for both old and new users but also to provide a \n",
        "# set of exercises for those who teach.\n",
        "\n",
        "# If you find an error or think you've a better way to solve some of them, feel free to open an issue at\n",
        "# https://github.com/rougier/numpy-100"
      ],
      "execution_count": null,
      "outputs": []
    },
    {
      "cell_type": "code",
      "metadata": {
        "id": "BkGNICsfs0io"
      },
      "source": [
        "# 1. Import the numpy package under the name np\n",
        "\n",
        "import numpy as np"
      ],
      "execution_count": null,
      "outputs": []
    },
    {
      "cell_type": "code",
      "metadata": {
        "id": "k_3GjIj6tgxK",
        "colab": {
          "base_uri": "https://localhost:8080/",
          "height": 476
        },
        "outputId": "24f1a386-01b6-4bef-8d14-d68c83738553"
      },
      "source": [
        "# 2. Print the numpy version and the configuration\n",
        "\n",
        "print(np.__version__)\n",
        "np.show_config()"
      ],
      "execution_count": null,
      "outputs": [
        {
          "output_type": "stream",
          "text": [
            "1.14.6\n",
            "blas_mkl_info:\n",
            "  NOT AVAILABLE\n",
            "blis_info:\n",
            "  NOT AVAILABLE\n",
            "openblas_info:\n",
            "    libraries = ['openblas', 'openblas']\n",
            "    library_dirs = ['/usr/local/lib']\n",
            "    language = c\n",
            "    define_macros = [('HAVE_CBLAS', None)]\n",
            "blas_opt_info:\n",
            "    libraries = ['openblas', 'openblas']\n",
            "    library_dirs = ['/usr/local/lib']\n",
            "    language = c\n",
            "    define_macros = [('HAVE_CBLAS', None)]\n",
            "lapack_mkl_info:\n",
            "  NOT AVAILABLE\n",
            "openblas_lapack_info:\n",
            "    libraries = ['openblas', 'openblas']\n",
            "    library_dirs = ['/usr/local/lib']\n",
            "    language = c\n",
            "    define_macros = [('HAVE_CBLAS', None)]\n",
            "lapack_opt_info:\n",
            "    libraries = ['openblas', 'openblas']\n",
            "    library_dirs = ['/usr/local/lib']\n",
            "    language = c\n",
            "    define_macros = [('HAVE_CBLAS', None)]\n"
          ],
          "name": "stdout"
        }
      ]
    },
    {
      "cell_type": "code",
      "metadata": {
        "id": "_AQgEOf5wzjD",
        "colab": {
          "base_uri": "https://localhost:8080/",
          "height": 34
        },
        "outputId": "290f1e32-a640-4569-cff9-41fd7a99fc29"
      },
      "source": [
        "# 3. Create a null vector of size 10\n",
        "\n",
        "Z = np.zeros(10)\n",
        "print(Z)"
      ],
      "execution_count": null,
      "outputs": [
        {
          "output_type": "stream",
          "text": [
            "[0. 0. 0. 0. 0. 0. 0. 0. 0. 0.]\n"
          ],
          "name": "stdout"
        }
      ]
    },
    {
      "cell_type": "code",
      "metadata": {
        "id": "wKZhltBD2hZy",
        "colab": {
          "base_uri": "https://localhost:8080/",
          "height": 34
        },
        "outputId": "09e8ffe9-6816-4a96-a6c8-dbc9b123191b"
      },
      "source": [
        "# 4. How to find the memory size of any array?\n",
        "\n",
        "Z = np.zeros((10, 10))\n",
        "print('%d bytes' % (Z.size * Z.itemsize))"
      ],
      "execution_count": null,
      "outputs": [
        {
          "output_type": "stream",
          "text": [
            "800 bytes\n"
          ],
          "name": "stdout"
        }
      ]
    },
    {
      "cell_type": "code",
      "metadata": {
        "id": "P_IlyIeV2wp3",
        "colab": {
          "base_uri": "https://localhost:8080/",
          "height": 34
        },
        "outputId": "229a3d3b-08e3-4cae-c6aa-8d06a7b9195a"
      },
      "source": [
        "# 5. How to get the documentation of the numpy add function from the comman line?\n",
        "\n",
        "%run 'python -C \"inport numpy; numpy.info(numpy.add)\"'"
      ],
      "execution_count": null,
      "outputs": [
        {
          "output_type": "stream",
          "text": [
            "ERROR:root:File `'python -C \"inport numpy; numpy.info(numpy.add)\".py'` not found.\n"
          ],
          "name": "stderr"
        }
      ]
    },
    {
      "cell_type": "code",
      "metadata": {
        "id": "kdjJrLHF3F07",
        "colab": {
          "base_uri": "https://localhost:8080/",
          "height": 34
        },
        "outputId": "f0f46cd6-82fe-412f-f2f2-55e43b0597be"
      },
      "source": [
        "# 6. Create a null vector of size 10 but the fifth value which is 1\n",
        "\n",
        "Z = np.zeros(10)\n",
        "Z[4] = 1\n",
        "print(Z)"
      ],
      "execution_count": null,
      "outputs": [
        {
          "output_type": "stream",
          "text": [
            "[0. 0. 0. 0. 1. 0. 0. 0. 0. 0.]\n"
          ],
          "name": "stdout"
        }
      ]
    },
    {
      "cell_type": "code",
      "metadata": {
        "id": "LfgBiQ8P3ZJW",
        "colab": {
          "base_uri": "https://localhost:8080/",
          "height": 51
        },
        "outputId": "9f06f02a-1770-407b-8470-6430e98fee4f"
      },
      "source": [
        "# 7. Create a vector with values ranging from 10 to 49\n",
        "\n",
        "Z = np.arange(10, 50)\n",
        "print(Z)"
      ],
      "execution_count": null,
      "outputs": [
        {
          "output_type": "stream",
          "text": [
            "[10 11 12 13 14 15 16 17 18 19 20 21 22 23 24 25 26 27 28 29 30 31 32 33\n",
            " 34 35 36 37 38 39 40 41 42 43 44 45 46 47 48 49]\n"
          ],
          "name": "stdout"
        }
      ]
    },
    {
      "cell_type": "code",
      "metadata": {
        "id": "fD8_eOYM3k7Q",
        "colab": {
          "base_uri": "https://localhost:8080/",
          "height": 68
        },
        "outputId": "81d61454-9dbc-4208-e151-a5cf38c147bb"
      },
      "source": [
        "# 8. Reverse a vector (first element becomes last)\n",
        "\n",
        "Z = np.arange(50)\n",
        "Z = Z[::-1]\n",
        "print(Z)"
      ],
      "execution_count": null,
      "outputs": [
        {
          "output_type": "stream",
          "text": [
            "[49 48 47 46 45 44 43 42 41 40 39 38 37 36 35 34 33 32 31 30 29 28 27 26\n",
            " 25 24 23 22 21 20 19 18 17 16 15 14 13 12 11 10  9  8  7  6  5  4  3  2\n",
            "  1  0]\n"
          ],
          "name": "stdout"
        }
      ]
    },
    {
      "cell_type": "code",
      "metadata": {
        "id": "82I8Zngd3yFN",
        "colab": {
          "base_uri": "https://localhost:8080/",
          "height": 68
        },
        "outputId": "4c2e3c4d-7b39-4820-b298-3b8363c90c9c"
      },
      "source": [
        "# 9. Create a 3x3 matrix with values ranging from 0 to 8\n",
        "\n",
        "Z = np.arange(9).reshape(3,3)\n",
        "print(Z)"
      ],
      "execution_count": null,
      "outputs": [
        {
          "output_type": "stream",
          "text": [
            "[[0 1 2]\n",
            " [3 4 5]\n",
            " [6 7 8]]\n"
          ],
          "name": "stdout"
        }
      ]
    },
    {
      "cell_type": "code",
      "metadata": {
        "id": "sjqiHzJ24CSn",
        "colab": {
          "base_uri": "https://localhost:8080/",
          "height": 34
        },
        "outputId": "4974a337-0cdc-4c50-d166-1632f8913197"
      },
      "source": [
        "# 10. Find indices of non-zero elements from [1,2,0,0,4,0]\n",
        "nz = np.nonzero([1,2,0,0,4,0])\n",
        "print(nz)"
      ],
      "execution_count": null,
      "outputs": [
        {
          "output_type": "stream",
          "text": [
            "(array([0, 1, 4]),)\n"
          ],
          "name": "stdout"
        }
      ]
    },
    {
      "cell_type": "code",
      "metadata": {
        "id": "cfYIyCrk4ViR",
        "colab": {
          "base_uri": "https://localhost:8080/",
          "height": 68
        },
        "outputId": "c4ad9899-9781-4f12-b567-806af5979260"
      },
      "source": [
        "# 11. Create a 3x3 identity matrix\n",
        "\n",
        "Z = np.eye(3)\n",
        "print(Z)"
      ],
      "execution_count": null,
      "outputs": [
        {
          "output_type": "stream",
          "text": [
            "[[1. 0. 0.]\n",
            " [0. 1. 0.]\n",
            " [0. 0. 1.]]\n"
          ],
          "name": "stdout"
        }
      ]
    },
    {
      "cell_type": "code",
      "metadata": {
        "id": "SliHsAQJ4miN",
        "colab": {
          "base_uri": "https://localhost:8080/",
          "height": 204
        },
        "outputId": "10e33b70-fdab-4320-a2cf-60e0d2c7c4d0"
      },
      "source": [
        "# 12. Create a 3x3x3 array with random values\n",
        "\n",
        "Z = np.random.random((3,3,3))\n",
        "print(Z)"
      ],
      "execution_count": null,
      "outputs": [
        {
          "output_type": "stream",
          "text": [
            "[[[0.88761779 0.61430757 0.75578568]\n",
            "  [0.25932005 0.00952632 0.26513548]\n",
            "  [0.63439178 0.02537388 0.83530201]]\n",
            "\n",
            " [[0.52554773 0.36838704 0.29313099]\n",
            "  [0.96932679 0.0525967  0.30358949]\n",
            "  [0.08527143 0.66585194 0.78255896]]\n",
            "\n",
            " [[0.59844677 0.55298979 0.82995324]\n",
            "  [0.63342606 0.6137553  0.40466476]\n",
            "  [0.38938889 0.89195237 0.09476187]]]\n"
          ],
          "name": "stdout"
        }
      ]
    },
    {
      "cell_type": "code",
      "metadata": {
        "id": "f7xBtx7z48m5",
        "colab": {
          "base_uri": "https://localhost:8080/",
          "height": 51
        },
        "outputId": "576bd95c-0087-4da5-a4b3-5487f14a0dfc"
      },
      "source": [
        "# 13. Create a 10x10 array with random values and find the minimum and maximum values\n",
        "\n",
        "Z = np.random.random((10, 10))\n",
        "Zmin, Zmax = Z.min(), Z.max()\n",
        "print('Minimum Value: ', Zmin)\n",
        "print('Maximum Value: ', Zmax)\n",
        "\n"
      ],
      "execution_count": null,
      "outputs": [
        {
          "output_type": "stream",
          "text": [
            "Minimum Value:  0.0157977441924686\n",
            "Maximum Value:  0.9999090795014783\n"
          ],
          "name": "stdout"
        }
      ]
    },
    {
      "cell_type": "code",
      "metadata": {
        "id": "to4X3eLn6U5B",
        "colab": {
          "base_uri": "https://localhost:8080/",
          "height": 34
        },
        "outputId": "a1b8fa43-986f-4d26-80cc-e02c2f776971"
      },
      "source": [
        "# 14. Create a random vector of size 30 and find the mean value\n",
        "\n",
        "Z = np.random.random(30)\n",
        "m = Z.mean()\n",
        "print(m)"
      ],
      "execution_count": null,
      "outputs": [
        {
          "output_type": "stream",
          "text": [
            "0.4701257045908227\n"
          ],
          "name": "stdout"
        }
      ]
    },
    {
      "cell_type": "code",
      "metadata": {
        "id": "F3fL3RH26pkF",
        "colab": {
          "base_uri": "https://localhost:8080/",
          "height": 187
        },
        "outputId": "c88ae5d4-fbbe-4ca1-e223-2e3879cc98c1"
      },
      "source": [
        "# .15 Create a 2d array with 1 on the border and 0 inside\n",
        "\n",
        "Z = np.ones((10, 10))\n",
        "Z[1:-1, 1:-1] = 0\n",
        "print(Z)"
      ],
      "execution_count": null,
      "outputs": [
        {
          "output_type": "stream",
          "text": [
            "[[1. 1. 1. 1. 1. 1. 1. 1. 1. 1.]\n",
            " [1. 0. 0. 0. 0. 0. 0. 0. 0. 1.]\n",
            " [1. 0. 0. 0. 0. 0. 0. 0. 0. 1.]\n",
            " [1. 0. 0. 0. 0. 0. 0. 0. 0. 1.]\n",
            " [1. 0. 0. 0. 0. 0. 0. 0. 0. 1.]\n",
            " [1. 0. 0. 0. 0. 0. 0. 0. 0. 1.]\n",
            " [1. 0. 0. 0. 0. 0. 0. 0. 0. 1.]\n",
            " [1. 0. 0. 0. 0. 0. 0. 0. 0. 1.]\n",
            " [1. 0. 0. 0. 0. 0. 0. 0. 0. 1.]\n",
            " [1. 1. 1. 1. 1. 1. 1. 1. 1. 1.]]\n"
          ],
          "name": "stdout"
        }
      ]
    },
    {
      "cell_type": "code",
      "metadata": {
        "id": "eoySdxmN7FDx",
        "colab": {
          "base_uri": "https://localhost:8080/",
          "height": 221
        },
        "outputId": "cf2f2d87-2540-4453-fa88-2b83d44dde56"
      },
      "source": [
        "# .16 How to add a border (filled with 0's) around an existing array?\n",
        "\n",
        "Z = np.ones((10, 10))\n",
        "Z = np.pad(Z, pad_width=1, mode='constant', constant_values=0)\n",
        "print(Z)"
      ],
      "execution_count": null,
      "outputs": [
        {
          "output_type": "stream",
          "text": [
            "[[0. 0. 0. 0. 0. 0. 0. 0. 0. 0. 0. 0.]\n",
            " [0. 1. 1. 1. 1. 1. 1. 1. 1. 1. 1. 0.]\n",
            " [0. 1. 1. 1. 1. 1. 1. 1. 1. 1. 1. 0.]\n",
            " [0. 1. 1. 1. 1. 1. 1. 1. 1. 1. 1. 0.]\n",
            " [0. 1. 1. 1. 1. 1. 1. 1. 1. 1. 1. 0.]\n",
            " [0. 1. 1. 1. 1. 1. 1. 1. 1. 1. 1. 0.]\n",
            " [0. 1. 1. 1. 1. 1. 1. 1. 1. 1. 1. 0.]\n",
            " [0. 1. 1. 1. 1. 1. 1. 1. 1. 1. 1. 0.]\n",
            " [0. 1. 1. 1. 1. 1. 1. 1. 1. 1. 1. 0.]\n",
            " [0. 1. 1. 1. 1. 1. 1. 1. 1. 1. 1. 0.]\n",
            " [0. 1. 1. 1. 1. 1. 1. 1. 1. 1. 1. 0.]\n",
            " [0. 0. 0. 0. 0. 0. 0. 0. 0. 0. 0. 0.]]\n"
          ],
          "name": "stdout"
        }
      ]
    },
    {
      "cell_type": "code",
      "metadata": {
        "id": "OO9b7ilF7the",
        "colab": {
          "base_uri": "https://localhost:8080/",
          "height": 119
        },
        "outputId": "f2c3b50c-1f68-4c80-a92c-c3ce1e7d7ae0"
      },
      "source": [
        "# .17 What is the result of the following expression?\n",
        "\n",
        "print(0 * np.nan)\n",
        "print(np.nan == np.nan)\n",
        "print(np.inf > np.nan)\n",
        "print(np.nan - np.nan)\n",
        "print(np.nan in set([np.nan]))\n",
        "print(0.3 == 3 * 0.1)"
      ],
      "execution_count": null,
      "outputs": [
        {
          "output_type": "stream",
          "text": [
            "nan\n",
            "False\n",
            "False\n",
            "nan\n",
            "True\n",
            "False\n"
          ],
          "name": "stdout"
        }
      ]
    },
    {
      "cell_type": "code",
      "metadata": {
        "id": "88ir-JVd8Ufk",
        "colab": {
          "base_uri": "https://localhost:8080/",
          "height": 102
        },
        "outputId": "50e2054c-0e0e-4360-f3bd-279c381f68e4"
      },
      "source": [
        "# 18. Create a 5x5 matrix values 1,2,3,4 just below the diagonal\n",
        "\n",
        "Z = np.diag(1+np.arange(4), k=-1)\n",
        "print(Z)"
      ],
      "execution_count": null,
      "outputs": [
        {
          "output_type": "stream",
          "text": [
            "[[0 0 0 0 0]\n",
            " [1 0 0 0 0]\n",
            " [0 2 0 0 0]\n",
            " [0 0 3 0 0]\n",
            " [0 0 0 4 0]]\n"
          ],
          "name": "stdout"
        }
      ]
    },
    {
      "cell_type": "code",
      "metadata": {
        "id": "Us98GI5H81oI",
        "colab": {
          "base_uri": "https://localhost:8080/",
          "height": 153
        },
        "outputId": "ef61fe0e-c038-4db5-eb8d-267cf3a3dd4b"
      },
      "source": [
        "# 19. Create a 8x8 matrix and fill it with a checkerboard patterh\n",
        "\n",
        "Z = np.zeros((8,8),dtype=int)\n",
        "Z[1::2,::2] = 1\n",
        "Z[::2,1::2] = 1\n",
        "print(Z)"
      ],
      "execution_count": null,
      "outputs": [
        {
          "output_type": "stream",
          "text": [
            "[[0 1 0 1 0 1 0 1]\n",
            " [1 0 1 0 1 0 1 0]\n",
            " [0 1 0 1 0 1 0 1]\n",
            " [1 0 1 0 1 0 1 0]\n",
            " [0 1 0 1 0 1 0 1]\n",
            " [1 0 1 0 1 0 1 0]\n",
            " [0 1 0 1 0 1 0 1]\n",
            " [1 0 1 0 1 0 1 0]]\n"
          ],
          "name": "stdout"
        }
      ]
    },
    {
      "cell_type": "code",
      "metadata": {
        "id": "vbA7YQg49gLR",
        "colab": {
          "base_uri": "https://localhost:8080/",
          "height": 34
        },
        "outputId": "cabf0460-54f1-4ccc-c23f-ed6d3305396a"
      },
      "source": [
        "# 20. Consider a (6,7,8) shape array, what is the index (x, y, z) of the 100th element?\n",
        "\n",
        "print(np.unravel_index(99,(6,7,8)))"
      ],
      "execution_count": null,
      "outputs": [
        {
          "output_type": "stream",
          "text": [
            "(1, 5, 3)\n"
          ],
          "name": "stdout"
        }
      ]
    },
    {
      "cell_type": "code",
      "metadata": {
        "id": "vlny5fUH-MBJ",
        "colab": {
          "base_uri": "https://localhost:8080/",
          "height": 153
        },
        "outputId": "eda05134-6b41-48f8-ec8d-8a39f44df6ed"
      },
      "source": [
        "# 21. Create a checkerboard 8x8 matrix using the tile function\n",
        "\n",
        "Z = np.tile(np.array([[0,1],[1,0]]), (4,4))\n",
        "print(Z)"
      ],
      "execution_count": null,
      "outputs": [
        {
          "output_type": "stream",
          "text": [
            "[[0 1 0 1 0 1 0 1]\n",
            " [1 0 1 0 1 0 1 0]\n",
            " [0 1 0 1 0 1 0 1]\n",
            " [1 0 1 0 1 0 1 0]\n",
            " [0 1 0 1 0 1 0 1]\n",
            " [1 0 1 0 1 0 1 0]\n",
            " [0 1 0 1 0 1 0 1]\n",
            " [1 0 1 0 1 0 1 0]]\n"
          ],
          "name": "stdout"
        }
      ]
    },
    {
      "cell_type": "code",
      "metadata": {
        "id": "cKmYsQVs-rAF",
        "colab": {
          "base_uri": "https://localhost:8080/",
          "height": 102
        },
        "outputId": "cda9a178-25bc-41e5-c40d-db4e5f08543a"
      },
      "source": [
        "# 22. Normalize a 5x5 random matrix\n",
        "\n",
        "Z = np.random.random((5,5))\n",
        "Z = (Z - np.mean (Z)) / (np.std (Z))\n",
        "print(Z)"
      ],
      "execution_count": null,
      "outputs": [
        {
          "output_type": "stream",
          "text": [
            "[[ 1.63063891 -0.06700242 -0.48615906  0.98615022 -0.79216177]\n",
            " [-0.60067366 -0.04741761 -1.29428565 -1.04382818 -1.20167258]\n",
            " [-0.64083935  1.77627548  1.66293846  0.74884018 -0.63391111]\n",
            " [ 0.65994731 -0.76035439 -1.13117849  0.48922977  0.39525759]\n",
            " [ 0.30946237  0.23476316 -1.2615815  -0.81407213  1.88163443]]\n"
          ],
          "name": "stdout"
        }
      ]
    },
    {
      "cell_type": "code",
      "metadata": {
        "id": "srOTHjor_GCE",
        "colab": {
          "base_uri": "https://localhost:8080/",
          "height": 34
        },
        "outputId": "08ba5c3a-d5dd-4f8a-8c2e-93cb3ebd4fbe"
      },
      "source": [
        "# 23. Create a custom dtype that describes a color as four unsigned bytes(RGBA)\n",
        "\n",
        "color = np.dtype([('r', np.ubyte, 1),\n",
        "                 ('g', np.ubyte, 1),\n",
        "                 ('b', np.ubyte, 1),\n",
        "                 ('a', np.ubyte, 1)])\n",
        "print(color)"
      ],
      "execution_count": null,
      "outputs": [
        {
          "output_type": "stream",
          "text": [
            "[('r', 'u1'), ('g', 'u1'), ('b', 'u1'), ('a', 'u1')]\n"
          ],
          "name": "stdout"
        }
      ]
    },
    {
      "cell_type": "code",
      "metadata": {
        "id": "j12BV5_X_6_M",
        "colab": {
          "base_uri": "https://localhost:8080/",
          "height": 102
        },
        "outputId": "1bc21ea2-5df5-46ff-e140-268c4854deef"
      },
      "source": [
        "# 24. Multiply a 5x3 matrix by a 3x2 matrix (real matrix product)\n",
        "\n",
        "Z = np.dot(np.ones((5,3)), np.ones((3,2)))\n",
        "print(Z)"
      ],
      "execution_count": null,
      "outputs": [
        {
          "output_type": "stream",
          "text": [
            "[[3. 3.]\n",
            " [3. 3.]\n",
            " [3. 3.]\n",
            " [3. 3.]\n",
            " [3. 3.]]\n"
          ],
          "name": "stdout"
        }
      ]
    },
    {
      "cell_type": "code",
      "metadata": {
        "id": "dQeuUXZPAY_u",
        "colab": {
          "base_uri": "https://localhost:8080/",
          "height": 34
        },
        "outputId": "99a27510-2d5d-4392-afcf-6a38f1a7a540"
      },
      "source": [
        "# 25. Given a 1D array, negate all elements which are between 3 and 8, in place\n",
        "# Author: Evgeni Burovski\n",
        "\n",
        "Z = np.arange(11)\n",
        "Z[(3 < Z) & (Z <= 8)] *= -1\n",
        "print(Z)"
      ],
      "execution_count": null,
      "outputs": [
        {
          "output_type": "stream",
          "text": [
            "[ 0  1  2  3 -4 -5 -6 -7 -8  9 10]\n"
          ],
          "name": "stdout"
        }
      ]
    },
    {
      "cell_type": "code",
      "metadata": {
        "id": "yHAUAphAA4Om",
        "colab": {
          "base_uri": "https://localhost:8080/",
          "height": 51
        },
        "outputId": "bf961b56-f248-403f-f790-7e4d26a1de9d"
      },
      "source": [
        "# 26. What is the output of the following script?\n",
        "# Author: Jake VanderPlas\n",
        "\n",
        "print(sum(range(5), -1))\n",
        "from numpy import *\n",
        "print(sum(range(5), -1))"
      ],
      "execution_count": null,
      "outputs": [
        {
          "output_type": "stream",
          "text": [
            "9\n",
            "10\n"
          ],
          "name": "stdout"
        }
      ]
    },
    {
      "cell_type": "code",
      "metadata": {
        "id": "JCVqHk4zF12c",
        "colab": {
          "base_uri": "https://localhost:8080/",
          "height": 34
        },
        "outputId": "170face9-354c-47a1-fc14-3ed9b1728d13"
      },
      "source": [
        "# 27. Consider an integer vector Z, which of these expressions are legal?\n",
        "\n",
        "#Z**Z          # Not a legal expression\n",
        "2 << Z >> 2\n",
        "Z <- Z\n",
        "1j*Z\n",
        "Z/1/1\n",
        "#Z<Z>Z         # Not a legal expression"
      ],
      "execution_count": null,
      "outputs": [
        {
          "output_type": "execute_result",
          "data": {
            "text/plain": [
              "array([ 0.,  1.,  2.,  3., -4., -5., -6., -7., -8.,  9., 10.])"
            ]
          },
          "metadata": {
            "tags": []
          },
          "execution_count": 49
        }
      ]
    },
    {
      "cell_type": "code",
      "metadata": {
        "id": "2zqaz3-ZGc8y",
        "colab": {
          "base_uri": "https://localhost:8080/",
          "height": 68
        },
        "outputId": "b4754702-ac17-4679-f9b2-82790b81bab1"
      },
      "source": [
        "# 28. What are the result of the following expressions?\n",
        "\n",
        "print(np.array(0) / np.array(0))\n",
        "print(np.array(0) // np.array(0))\n",
        "print(np.array([np.nan]).astype(int).astype(float))"
      ],
      "execution_count": null,
      "outputs": [
        {
          "output_type": "stream",
          "text": [
            "nan\n",
            "0\n",
            "[-9.22337204e+18]\n"
          ],
          "name": "stdout"
        }
      ]
    },
    {
      "cell_type": "code",
      "metadata": {
        "id": "5_W5PPGwHNKL",
        "colab": {
          "base_uri": "https://localhost:8080/",
          "height": 34
        },
        "outputId": "8b709b9d-814a-437b-f580-636020891f52"
      },
      "source": [
        "# 29. How to round away from zero a float array?\n",
        "# Author: Charles R Harris\n",
        "\n",
        "Z = np.random.uniform(-10,+10,10)\n",
        "print(np.copysign(np.ceil(np.abs(Z)), Z))"
      ],
      "execution_count": null,
      "outputs": [
        {
          "output_type": "stream",
          "text": [
            "[-1. -8. -6. -8. 10.  3. -8. -3. -6. -2.]\n"
          ],
          "name": "stdout"
        }
      ]
    },
    {
      "cell_type": "code",
      "metadata": {
        "id": "dkEgvVlUHtIk",
        "colab": {
          "base_uri": "https://localhost:8080/",
          "height": 34
        },
        "outputId": "f4f0a8c9-62c9-49e9-b364-2d28856b9c11"
      },
      "source": [
        "# 30. How to find common values between two arrays?\n",
        "\n",
        "Z1 = np.random.randint(0,10,10)\n",
        "Z2 = np.random.randint(0,10,10)\n",
        "print(np.intersect1d(Z1,Z2))"
      ],
      "execution_count": null,
      "outputs": [
        {
          "output_type": "stream",
          "text": [
            "[1 6 7 8]\n"
          ],
          "name": "stdout"
        }
      ]
    },
    {
      "cell_type": "code",
      "metadata": {
        "id": "1Mea3I4QIF_q"
      },
      "source": [
        "# 31. How to ignore all numpy warnings (not recommended)?\n",
        "\n",
        "# Suicide mode on\n",
        "defaults = np.seterr(all='ignore')\n",
        "Z = np.ones(1) / 0\n",
        "\n",
        "# Back to sanity\n",
        "_ = np.seterr(**defaults)"
      ],
      "execution_count": null,
      "outputs": []
    },
    {
      "cell_type": "code",
      "metadata": {
        "id": "W5HvOqIMIi71"
      },
      "source": [
        "# An equivalent way, with a context manager:\n",
        "\n",
        "with np.errstate(divide='ignore'):\n",
        "  Z = np.ones(1) / 0"
      ],
      "execution_count": null,
      "outputs": []
    },
    {
      "cell_type": "code",
      "metadata": {
        "id": "920sDj1OIwmU",
        "colab": {
          "base_uri": "https://localhost:8080/",
          "height": 34
        },
        "outputId": "a82667b0-49f6-4718-db3e-09cce4290f16"
      },
      "source": [
        "# 32. Is the following expression true?\n",
        "\n",
        "np.sqrt(-1) == np.emath.sqrt(-1)"
      ],
      "execution_count": null,
      "outputs": [
        {
          "output_type": "execute_result",
          "data": {
            "text/plain": [
              "False"
            ]
          },
          "metadata": {
            "tags": []
          },
          "execution_count": 55
        }
      ]
    },
    {
      "cell_type": "code",
      "metadata": {
        "id": "cu7Hu-SNI74l",
        "colab": {
          "base_uri": "https://localhost:8080/",
          "height": 68
        },
        "outputId": "ce443c6f-2c44-49a5-ec04-698d9acd98a1"
      },
      "source": [
        "# 33. How to get the dates of yesterday, today, and tomorrow?\n",
        "\n",
        "yesterday = np.datetime64('today', 'D') - np.timedelta64(1, 'D')\n",
        "today     = np.datetime64('today', 'D')\n",
        "tomorrow  = np.datetime64('today', 'D') + np.timedelta64(1, 'D')\n",
        "print(yesterday)\n",
        "print(today)\n",
        "print(tomorrow)"
      ],
      "execution_count": null,
      "outputs": [
        {
          "output_type": "stream",
          "text": [
            "2019-01-05\n",
            "2019-01-06\n",
            "2019-01-07\n"
          ],
          "name": "stdout"
        }
      ]
    },
    {
      "cell_type": "code",
      "metadata": {
        "id": "ytdZgrBBJMhb",
        "colab": {
          "base_uri": "https://localhost:8080/",
          "height": 136
        },
        "outputId": "3cf903e5-e0cd-4fb8-cce2-6ae48d45ce67"
      },
      "source": [
        "# 34. How to get all the dates corresponding to the month of July 2016?\n",
        "\n",
        "Z = np.arange('2016-07', '2016-08', dtype='datetime64[D]')\n",
        "print(Z)"
      ],
      "execution_count": null,
      "outputs": [
        {
          "output_type": "stream",
          "text": [
            "['2016-07-01' '2016-07-02' '2016-07-03' '2016-07-04' '2016-07-05'\n",
            " '2016-07-06' '2016-07-07' '2016-07-08' '2016-07-09' '2016-07-10'\n",
            " '2016-07-11' '2016-07-12' '2016-07-13' '2016-07-14' '2016-07-15'\n",
            " '2016-07-16' '2016-07-17' '2016-07-18' '2016-07-19' '2016-07-20'\n",
            " '2016-07-21' '2016-07-22' '2016-07-23' '2016-07-24' '2016-07-25'\n",
            " '2016-07-26' '2016-07-27' '2016-07-28' '2016-07-29' '2016-07-30'\n",
            " '2016-07-31']\n"
          ],
          "name": "stdout"
        }
      ]
    },
    {
      "cell_type": "code",
      "metadata": {
        "id": "3DFzdXZgJ7hH",
        "colab": {
          "base_uri": "https://localhost:8080/",
          "height": 34
        },
        "outputId": "25753a28-384c-4e35-cec7-75664aa2fdd5"
      },
      "source": [
        "# 35. How to compute((A+B)*(-A/2)) in place(without copy)?\n",
        "\n",
        "A = np.ones(3)*1\n",
        "B = np.ones(3)*2\n",
        "C = np.ones(3)*3\n",
        "np.add(A,B,out=B)\n",
        "np.divide(A,2,out=A)\n",
        "np.negative(A,out=A)\n",
        "np.multiply(A,B,out=A)\n"
      ],
      "execution_count": null,
      "outputs": [
        {
          "output_type": "execute_result",
          "data": {
            "text/plain": [
              "array([-1.5, -1.5, -1.5])"
            ]
          },
          "metadata": {
            "tags": []
          },
          "execution_count": 59
        }
      ]
    },
    {
      "cell_type": "code",
      "metadata": {
        "id": "KYk6PtOVKpBM",
        "colab": {
          "base_uri": "https://localhost:8080/",
          "height": 102
        },
        "outputId": "8a168c0a-4ca9-401a-e9d9-3f4c010dd62d"
      },
      "source": [
        "# 36. Extract the integer part of a random array using 5 different methods.\n",
        "\n",
        "Z = np.random.uniform(0,10,10)\n",
        "\n",
        "print(Z - Z%1)\n",
        "print(np.floor(Z))\n",
        "print(np.ceil(Z)-1)\n",
        "print(Z.astype(int))\n",
        "print(np.trunc(Z))"
      ],
      "execution_count": null,
      "outputs": [
        {
          "output_type": "stream",
          "text": [
            "[7. 5. 2. 2. 9. 4. 7. 1. 9. 4.]\n",
            "[7. 5. 2. 2. 9. 4. 7. 1. 9. 4.]\n",
            "[7. 5. 2. 2. 9. 4. 7. 1. 9. 4.]\n",
            "[7 5 2 2 9 4 7 1 9 4]\n",
            "[7. 5. 2. 2. 9. 4. 7. 1. 9. 4.]\n"
          ],
          "name": "stdout"
        }
      ]
    },
    {
      "cell_type": "code",
      "metadata": {
        "id": "8I_PrZq0LIIN",
        "colab": {
          "base_uri": "https://localhost:8080/",
          "height": 102
        },
        "outputId": "518a5397-8872-471a-cfa2-d4c53d09801b"
      },
      "source": [
        "# 37. Create a 5x5 matrix with row value ranging from 0 to 4.\n",
        "\n",
        "Z = np.zeros((5,5))\n",
        "Z += np.arange(5)\n",
        "print(Z)"
      ],
      "execution_count": null,
      "outputs": [
        {
          "output_type": "stream",
          "text": [
            "[[0. 1. 2. 3. 4.]\n",
            " [0. 1. 2. 3. 4.]\n",
            " [0. 1. 2. 3. 4.]\n",
            " [0. 1. 2. 3. 4.]\n",
            " [0. 1. 2. 3. 4.]]\n"
          ],
          "name": "stdout"
        }
      ]
    },
    {
      "cell_type": "code",
      "metadata": {
        "id": "WTuCUDaZLngR",
        "colab": {
          "base_uri": "https://localhost:8080/",
          "height": 34
        },
        "outputId": "e07925cb-4026-4092-bb77-ecabe6735618"
      },
      "source": [
        "# 38. Consider a generator function that generates 10 integers and use it to build an array.\n",
        "\n",
        "def generate():\n",
        "  for x in range(10):\n",
        "    yield x\n",
        "\n",
        "Z = np.fromiter(generate(), dtype=float, count=-1)\n",
        "print(Z)"
      ],
      "execution_count": null,
      "outputs": [
        {
          "output_type": "stream",
          "text": [
            "[0. 1. 2. 3. 4. 5. 6. 7. 8. 9.]\n"
          ],
          "name": "stdout"
        }
      ]
    },
    {
      "cell_type": "code",
      "metadata": {
        "id": "qJTaBBDGMJA6",
        "colab": {
          "base_uri": "https://localhost:8080/",
          "height": 51
        },
        "outputId": "73a82718-f0f4-4441-e4f9-bfcdd685d16f"
      },
      "source": [
        "# 39. Create a vector of size 10 with values ranging from 0 to 1, both excluded.\n",
        "\n",
        "Z = np.linspace(0,1,11,endpoint=False)[1:]\n",
        "print(Z)"
      ],
      "execution_count": null,
      "outputs": [
        {
          "output_type": "stream",
          "text": [
            "[0.09090909 0.18181818 0.27272727 0.36363636 0.45454545 0.54545455\n",
            " 0.63636364 0.72727273 0.81818182 0.90909091]\n"
          ],
          "name": "stdout"
        }
      ]
    },
    {
      "cell_type": "code",
      "metadata": {
        "id": "dse5aEBnMfT2",
        "colab": {
          "base_uri": "https://localhost:8080/",
          "height": 51
        },
        "outputId": "5c10deb8-2889-4ea5-8f23-1cf87497d494"
      },
      "source": [
        "# 40. Create a random vector of size 10 and sort it.\n",
        "\n",
        "Z = np.random.random(10)\n",
        "Z.sort()\n",
        "print(Z)"
      ],
      "execution_count": null,
      "outputs": [
        {
          "output_type": "stream",
          "text": [
            "[0.03681298 0.15348244 0.29919    0.3532031  0.48369204 0.60506448\n",
            " 0.70567768 0.76815049 0.89552161 0.98075202]\n"
          ],
          "name": "stdout"
        }
      ]
    },
    {
      "cell_type": "code",
      "metadata": {
        "id": "e0-Lfd0QMuii",
        "colab": {
          "base_uri": "https://localhost:8080/",
          "height": 34
        },
        "outputId": "d6758603-a9f4-4d19-e0a9-1d90dc6e8be5"
      },
      "source": [
        "# 41. How to sum a small array than np.sum?\n",
        "# Author: Evgeni Burovski\n",
        "\n",
        "Z = np.arange(10)\n",
        "np.add.reduce(Z)"
      ],
      "execution_count": null,
      "outputs": [
        {
          "output_type": "execute_result",
          "data": {
            "text/plain": [
              "45"
            ]
          },
          "metadata": {
            "tags": []
          },
          "execution_count": 65
        }
      ]
    },
    {
      "cell_type": "code",
      "metadata": {
        "id": "ZaLtr_2qNDog",
        "colab": {
          "base_uri": "https://localhost:8080/",
          "height": 51
        },
        "outputId": "9e8d6870-d339-4b97-a1ae-ed3f5eef5026"
      },
      "source": [
        "# 42. Consider two random array A and B, check if they are equal.\n",
        "\n",
        "A = np.random.randint(0,2,5)\n",
        "B = np.random.randint(0,2,5)\n",
        "\n",
        "# Assuming identical shape of the arrays and a tolerance for the comparison of values\n",
        "equal = np.allclose(A,B)\n",
        "print(equal)\n",
        "\n",
        "# Checking both the shape and the element values no tolerence (values have to be exactly equal)\n",
        "equal = np.array_equal(A,B)\n",
        "print(equal)"
      ],
      "execution_count": null,
      "outputs": [
        {
          "output_type": "stream",
          "text": [
            "False\n",
            "False\n"
          ],
          "name": "stdout"
        }
      ]
    },
    {
      "cell_type": "code",
      "metadata": {
        "id": "MHzP6tclOCIh",
        "colab": {
          "base_uri": "https://localhost:8080/",
          "height": 197
        },
        "outputId": "93a2d251-feba-4dbf-a13d-b2651637d8de"
      },
      "source": [
        "# 43. Make an array immutable (read-only).\n",
        "\n",
        "Z = np.zeros(10)\n",
        "Z.flags.writeable = False\n",
        "Z[0] = 1"
      ],
      "execution_count": null,
      "outputs": [
        {
          "output_type": "error",
          "ename": "ValueError",
          "evalue": "ignored",
          "traceback": [
            "\u001b[0;31m---------------------------------------------------------------------------\u001b[0m",
            "\u001b[0;31mValueError\u001b[0m                                Traceback (most recent call last)",
            "\u001b[0;32m<ipython-input-69-6ca30a0734ab>\u001b[0m in \u001b[0;36m<module>\u001b[0;34m()\u001b[0m\n\u001b[1;32m      2\u001b[0m \u001b[0mZ\u001b[0m \u001b[0;34m=\u001b[0m \u001b[0mnp\u001b[0m\u001b[0;34m.\u001b[0m\u001b[0mzeros\u001b[0m\u001b[0;34m(\u001b[0m\u001b[0;36m10\u001b[0m\u001b[0;34m)\u001b[0m\u001b[0;34m\u001b[0m\u001b[0;34m\u001b[0m\u001b[0m\n\u001b[1;32m      3\u001b[0m \u001b[0mZ\u001b[0m\u001b[0;34m.\u001b[0m\u001b[0mflags\u001b[0m\u001b[0;34m.\u001b[0m\u001b[0mwriteable\u001b[0m \u001b[0;34m=\u001b[0m \u001b[0;32mFalse\u001b[0m\u001b[0;34m\u001b[0m\u001b[0;34m\u001b[0m\u001b[0m\n\u001b[0;32m----> 4\u001b[0;31m \u001b[0mZ\u001b[0m\u001b[0;34m[\u001b[0m\u001b[0;36m0\u001b[0m\u001b[0;34m]\u001b[0m \u001b[0;34m=\u001b[0m \u001b[0;36m1\u001b[0m\u001b[0;34m\u001b[0m\u001b[0;34m\u001b[0m\u001b[0m\n\u001b[0m",
            "\u001b[0;31mValueError\u001b[0m: assignment destination is read-only"
          ]
        }
      ]
    },
    {
      "cell_type": "code",
      "metadata": {
        "id": "wPUGRqi2Oeg7",
        "colab": {
          "base_uri": "https://localhost:8080/",
          "height": 85
        },
        "outputId": "99f38d0c-7fd2-42fb-b87d-17d708637164"
      },
      "source": [
        "# 44. Consider a random 10x2 matrix representing cartesian coordinates, convert them to polar coordinates.\n",
        "\n",
        "Z = np.random.random((10, 2))\n",
        "X, Y = Z[:,0], Z[:,1]\n",
        "R = np.sqrt(X**2+Y**2)\n",
        "T = np.arctan2(Y,X)\n",
        "print(R)\n",
        "print(T)"
      ],
      "execution_count": null,
      "outputs": [
        {
          "output_type": "stream",
          "text": [
            "[1.01188139 0.89083418 0.79705998 0.37484308 0.78343568 1.08548049\n",
            " 0.73641538 1.01986216 0.72072215 0.91577372]\n",
            "[0.34303204 0.28647093 1.22991196 0.29842132 0.78401001 0.94471198\n",
            " 0.96746145 0.75926659 1.37795492 0.86910241]\n"
          ],
          "name": "stdout"
        }
      ]
    },
    {
      "cell_type": "code",
      "metadata": {
        "id": "NeaOTXYHPRSq",
        "colab": {
          "base_uri": "https://localhost:8080/",
          "height": 51
        },
        "outputId": "1c287cce-b552-4ac7-a2bb-2d11d61d35f9"
      },
      "source": [
        "# 45. Create random vector of size 10 and replace the maximum value by 0\n",
        "\n",
        "Z = np.random.random(10)\n",
        "Z[Z.argmax()] = 0\n",
        "print(Z)"
      ],
      "execution_count": null,
      "outputs": [
        {
          "output_type": "stream",
          "text": [
            "[0.2547219  0.         0.52814911 0.59735263 0.60724688 0.4450062\n",
            " 0.44478537 0.08870526 0.04349877 0.54978547]\n"
          ],
          "name": "stdout"
        }
      ]
    },
    {
      "cell_type": "code",
      "metadata": {
        "id": "EBVIbsDaPlaD",
        "colab": {
          "base_uri": "https://localhost:8080/",
          "height": 102
        },
        "outputId": "9f5583c6-0c92-4c94-ab94-721133c7aa59"
      },
      "source": [
        "# 46. Create a structured array with x and y coordinates covering the [0,1]x[0,1] area.\n",
        "\n",
        "Z = np.zeros((5,5), [('x',float),('y',float)])\n",
        "Z['x'], Z['y'] = np.meshgrid(np.linspace(0,1,5), np.linspace(0,1,5))\n",
        "print(Z)"
      ],
      "execution_count": null,
      "outputs": [
        {
          "output_type": "stream",
          "text": [
            "[[(0.  , 0.  ) (0.25, 0.  ) (0.5 , 0.  ) (0.75, 0.  ) (1.  , 0.  )]\n",
            " [(0.  , 0.25) (0.25, 0.25) (0.5 , 0.25) (0.75, 0.25) (1.  , 0.25)]\n",
            " [(0.  , 0.5 ) (0.25, 0.5 ) (0.5 , 0.5 ) (0.75, 0.5 ) (1.  , 0.5 )]\n",
            " [(0.  , 0.75) (0.25, 0.75) (0.5 , 0.75) (0.75, 0.75) (1.  , 0.75)]\n",
            " [(0.  , 1.  ) (0.25, 1.  ) (0.5 , 1.  ) (0.75, 1.  ) (1.  , 1.  )]]\n"
          ],
          "name": "stdout"
        }
      ]
    },
    {
      "cell_type": "code",
      "metadata": {
        "id": "2QRlMEJQQKes",
        "colab": {
          "base_uri": "https://localhost:8080/",
          "height": 34
        },
        "outputId": "ae99b4e6-d342-4bae-c6ca-c708662d41cd"
      },
      "source": [
        "# 47. Given two arrays, X and Y, construct the Cauchy matrix C(Cij =1/(xi - yj))\n",
        "# Author: Evgeni Burovski\n",
        "\n",
        "X = np.arange(8)\n",
        "Y = X + 0.5\n",
        "C = 1.0 / np.subtract.outer(X, Y)\n",
        "print(np.linalg.det(C))"
      ],
      "execution_count": null,
      "outputs": [
        {
          "output_type": "stream",
          "text": [
            "3638.163637117973\n"
          ],
          "name": "stdout"
        }
      ]
    },
    {
      "cell_type": "code",
      "metadata": {
        "id": "b_mwAJxfQ5gV",
        "colab": {
          "base_uri": "https://localhost:8080/",
          "height": 221
        },
        "outputId": "ea83023e-dcbe-4bbc-d0b6-c1475661b663"
      },
      "source": [
        "# 48. Print the minimum and maximum representable value for each numpy scalar type.\n",
        "\n",
        "for dtype in [np.int8, np.int32, np.int64]:\n",
        "  print(np.iinfo(dtype).min)\n",
        "  print(np.iinfo(dtype).max)\n",
        "for dtype in [np.float32, np.float64]:\n",
        "  print(np.finfo(dtype).min)\n",
        "  print(np.finfo(dtype).max)\n",
        "  print(np.finfo(dtype).eps)"
      ],
      "execution_count": null,
      "outputs": [
        {
          "output_type": "stream",
          "text": [
            "-128\n",
            "127\n",
            "-2147483648\n",
            "2147483647\n",
            "-9223372036854775808\n",
            "9223372036854775807\n",
            "-3.4028235e+38\n",
            "3.4028235e+38\n",
            "1.1920929e-07\n",
            "-1.7976931348623157e+308\n",
            "1.7976931348623157e+308\n",
            "2.220446049250313e-16\n"
          ],
          "name": "stdout"
        }
      ]
    },
    {
      "cell_type": "code",
      "metadata": {
        "id": "5qXw8VDpRm-b",
        "colab": {
          "base_uri": "https://localhost:8080/",
          "height": 289
        },
        "outputId": "ae2c36a7-1990-4163-a9ca-4fbf63bfe7a2"
      },
      "source": [
        "# 49. How to print all the values of an array\n",
        "\n",
        "np.set_printoptions(threshold=np.nan)\n",
        "Z = np.zeros((16, 16))\n",
        "print(Z)"
      ],
      "execution_count": null,
      "outputs": [
        {
          "output_type": "stream",
          "text": [
            "[[0. 0. 0. 0. 0. 0. 0. 0. 0. 0. 0. 0. 0. 0. 0. 0.]\n",
            " [0. 0. 0. 0. 0. 0. 0. 0. 0. 0. 0. 0. 0. 0. 0. 0.]\n",
            " [0. 0. 0. 0. 0. 0. 0. 0. 0. 0. 0. 0. 0. 0. 0. 0.]\n",
            " [0. 0. 0. 0. 0. 0. 0. 0. 0. 0. 0. 0. 0. 0. 0. 0.]\n",
            " [0. 0. 0. 0. 0. 0. 0. 0. 0. 0. 0. 0. 0. 0. 0. 0.]\n",
            " [0. 0. 0. 0. 0. 0. 0. 0. 0. 0. 0. 0. 0. 0. 0. 0.]\n",
            " [0. 0. 0. 0. 0. 0. 0. 0. 0. 0. 0. 0. 0. 0. 0. 0.]\n",
            " [0. 0. 0. 0. 0. 0. 0. 0. 0. 0. 0. 0. 0. 0. 0. 0.]\n",
            " [0. 0. 0. 0. 0. 0. 0. 0. 0. 0. 0. 0. 0. 0. 0. 0.]\n",
            " [0. 0. 0. 0. 0. 0. 0. 0. 0. 0. 0. 0. 0. 0. 0. 0.]\n",
            " [0. 0. 0. 0. 0. 0. 0. 0. 0. 0. 0. 0. 0. 0. 0. 0.]\n",
            " [0. 0. 0. 0. 0. 0. 0. 0. 0. 0. 0. 0. 0. 0. 0. 0.]\n",
            " [0. 0. 0. 0. 0. 0. 0. 0. 0. 0. 0. 0. 0. 0. 0. 0.]\n",
            " [0. 0. 0. 0. 0. 0. 0. 0. 0. 0. 0. 0. 0. 0. 0. 0.]\n",
            " [0. 0. 0. 0. 0. 0. 0. 0. 0. 0. 0. 0. 0. 0. 0. 0.]\n",
            " [0. 0. 0. 0. 0. 0. 0. 0. 0. 0. 0. 0. 0. 0. 0. 0.]]\n"
          ],
          "name": "stdout"
        }
      ]
    },
    {
      "cell_type": "code",
      "metadata": {
        "id": "e9g-z40tSZa7",
        "colab": {
          "base_uri": "https://localhost:8080/",
          "height": 34
        },
        "outputId": "4d4371d4-6e4e-4e65-ac51-13e5bff73b10"
      },
      "source": [
        "# 50. How to find the colosest value (to a given scalar) in a vector?\n",
        "\n",
        "Z = np.arange(100)\n",
        "V = np.random.uniform(0, 100)\n",
        "index = (np.abs(Z-V)).argmin()\n",
        "print(Z[index])"
      ],
      "execution_count": null,
      "outputs": [
        {
          "output_type": "stream",
          "text": [
            "4\n"
          ],
          "name": "stdout"
        }
      ]
    },
    {
      "cell_type": "code",
      "metadata": {
        "id": "PTV-xiM_Sx89",
        "colab": {
          "base_uri": "https://localhost:8080/",
          "height": 102
        },
        "outputId": "1c267715-3405-4673-89e1-6a6ff6f0c8ee"
      },
      "source": [
        "# 51. Create a structured array representing a position(x,y) and color(r,g,b)\n",
        "\n",
        "Z = np.zeros(10, [ ('position', [ ('x', float, 1),\n",
        "                                  ('y', float, 1)]),\n",
        "                   ('color',    [ ('r', float, 1),\n",
        "                                  ('g', float, 1),\n",
        "                                  ('b', float, 1)])])\n",
        "print(Z)\n",
        "                  "
      ],
      "execution_count": null,
      "outputs": [
        {
          "output_type": "stream",
          "text": [
            "[((0., 0.), (0., 0., 0.)) ((0., 0.), (0., 0., 0.))\n",
            " ((0., 0.), (0., 0., 0.)) ((0., 0.), (0., 0., 0.))\n",
            " ((0., 0.), (0., 0., 0.)) ((0., 0.), (0., 0., 0.))\n",
            " ((0., 0.), (0., 0., 0.)) ((0., 0.), (0., 0., 0.))\n",
            " ((0., 0.), (0., 0., 0.)) ((0., 0.), (0., 0., 0.))]\n"
          ],
          "name": "stdout"
        }
      ]
    },
    {
      "cell_type": "code",
      "metadata": {
        "id": "ezj3oTe1XWko",
        "colab": {
          "base_uri": "https://localhost:8080/",
          "height": 357
        },
        "outputId": "cd8eaf3c-a276-4044-f5a8-a480740b79fd"
      },
      "source": [
        "# 52. Consider a random vector with shape (100, 2) representing coordinates, find point by point distances\n",
        "\n",
        "Z = np.random.random((10, 2))\n",
        "X, Y = np.atleast_2d(Z[:,0], Z[:,1])\n",
        "D = np.sqrt((X-X.T)**2 + (Y-Y.T)**2)\n",
        "print(D)"
      ],
      "execution_count": null,
      "outputs": [
        {
          "output_type": "stream",
          "text": [
            "[[0.         0.42885022 0.50304387 0.52634184 0.78174213 0.45604521\n",
            "  0.30265828 0.47829555 0.4299435  0.27196193]\n",
            " [0.42885022 0.         0.16946478 0.32848937 0.3558552  0.73669541\n",
            "  0.15991971 0.51712606 0.04823667 0.59709714]\n",
            " [0.50304387 0.16946478 0.         0.17734885 0.31967382 0.70103412\n",
            "  0.30637154 0.41829599 0.12450926 0.59688744]\n",
            " [0.52634184 0.32848937 0.17734885 0.         0.45393306 0.59474505\n",
            "  0.42705852 0.27002499 0.28026284 0.53291488]\n",
            " [0.78174213 0.3558552  0.31967382 0.45393306 0.         1.02036886\n",
            "  0.50857463 0.7215368  0.3523246  0.9131665 ]\n",
            " [0.45604521 0.73669541 0.70103412 0.59474505 1.02036886 0.\n",
            "  0.68619995 0.346232   0.70888582 0.18464286]\n",
            " [0.30265828 0.15991971 0.30637154 0.42705852 0.50857463 0.68619995\n",
            "  0.         0.54295681 0.18798662 0.52239261]\n",
            " [0.47829555 0.51712606 0.41829599 0.27002499 0.7215368  0.346232\n",
            "  0.54295681 0.         0.4751604  0.34816023]\n",
            " [0.4299435  0.04823667 0.12450926 0.28026284 0.3523246  0.70888582\n",
            "  0.18798662 0.4751604  0.         0.57734719]\n",
            " [0.27196193 0.59709714 0.59688744 0.53291488 0.9131665  0.18464286\n",
            "  0.52239261 0.34816023 0.57734719 0.        ]]\n"
          ],
          "name": "stdout"
        }
      ]
    },
    {
      "cell_type": "code",
      "metadata": {
        "id": "2NyTVffLYTcW",
        "colab": {
          "base_uri": "https://localhost:8080/",
          "height": 357
        },
        "outputId": "c740f65c-c904-4290-8d86-8961c732c8eb"
      },
      "source": [
        "# Much faster with Scipy\n",
        "\n",
        "import scipy\n",
        "# Thanks Gavin Heverly-Coulson (#issue 1)\n",
        "import scipy.spatial\n",
        "\n",
        "Z = np.random.random((10, 2))\n",
        "D = scipy.spatial.distance.cdist(Z,Z)\n",
        "print(D)"
      ],
      "execution_count": null,
      "outputs": [
        {
          "output_type": "stream",
          "text": [
            "[[0.         0.81588116 0.78225878 0.79342858 0.66471352 0.70609621\n",
            "  0.12087727 0.82912881 0.64630242 0.45708817]\n",
            " [0.81588116 0.         0.31409996 0.29753113 0.4871919  0.38116988\n",
            "  0.7805268  0.88377236 0.38052278 0.41607584]\n",
            " [0.78225878 0.31409996 0.         0.02100278 0.21261869 0.63709355\n",
            "  0.70426424 0.58492896 0.14739192 0.32636794]\n",
            " [0.79342858 0.29753113 0.02100278 0.         0.2333937  0.6277961\n",
            "  0.71755886 0.60528191 0.16445423 0.33665434]\n",
            " [0.66471352 0.4871919  0.21261869 0.2333937  0.         0.73214717\n",
            "  0.56614463 0.39882385 0.11038345 0.26270111]\n",
            " [0.70609621 0.38116988 0.63709355 0.6277961  0.73214717 0.\n",
            "  0.73016317 1.11512539 0.62627716 0.52251094]\n",
            " [0.12087727 0.7805268  0.70426424 0.71755886 0.56614463 0.73016317\n",
            "  0.         0.70857907 0.56192447 0.38868172]\n",
            " [0.82912881 0.88377236 0.58492896 0.60528191 0.39882385 1.11512539\n",
            "  0.70857907 0.         0.50888664 0.60128795]\n",
            " [0.64630242 0.38052278 0.14739192 0.16445423 0.11038345 0.62627716\n",
            "  0.56192447 0.50888664 0.         0.20135739]\n",
            " [0.45708817 0.41607584 0.32636794 0.33665434 0.26270111 0.52251094\n",
            "  0.38868172 0.60128795 0.20135739 0.        ]]\n"
          ],
          "name": "stdout"
        }
      ]
    },
    {
      "cell_type": "code",
      "metadata": {
        "id": "R57VaWFNYrVm",
        "colab": {
          "base_uri": "https://localhost:8080/",
          "height": 34
        },
        "outputId": "3b346860-ce29-4033-97d1-5597c59dad74"
      },
      "source": [
        "# 53. How to convert a float (32 bits) array into an integer (32 bits) in place?\n",
        "\n",
        "Z = np.arange(10, dtype=np.float32)\n",
        "Z = Z.astype(np.int32, copy=False)\n",
        "print(Z)"
      ],
      "execution_count": null,
      "outputs": [
        {
          "output_type": "stream",
          "text": [
            "[0 1 2 3 4 5 6 7 8 9]\n"
          ],
          "name": "stdout"
        }
      ]
    },
    {
      "cell_type": "code",
      "metadata": {
        "id": "SwL7DC8IZHIo",
        "colab": {
          "base_uri": "https://localhost:8080/",
          "height": 68
        },
        "outputId": "e3c3b284-4606-45b3-ca05-e524b6849b6f"
      },
      "source": [
        "# How to read the following file?\n",
        "\n",
        "from io import StringIO\n",
        "\n",
        "# Fake file\n",
        "s = StringIO(\"\"\"1, 2, 3, 4, 5\\n\n",
        "                6,  ,  , 7, 8\\n\n",
        "                 ,  , 9,10,11\\n\"\"\")\n",
        "Z = np.genfromtxt(s, delimiter=\",\", dtype=np.int)\n",
        "print(Z)"
      ],
      "execution_count": null,
      "outputs": [
        {
          "output_type": "stream",
          "text": [
            "[[ 1  2  3  4  5]\n",
            " [ 6 -1 -1  7  8]\n",
            " [-1 -1  9 10 11]]\n"
          ],
          "name": "stdout"
        }
      ]
    },
    {
      "cell_type": "code",
      "metadata": {
        "id": "qvyreCYTZ7U6",
        "colab": {
          "base_uri": "https://localhost:8080/",
          "height": 323
        },
        "outputId": "d02dfd6b-2405-43ac-9228-d095c6539a83"
      },
      "source": [
        "# 55. What is the equivalent of enumerate for numpy arrays?\n",
        "\n",
        "Z = np.arange(9).reshape(3,3)\n",
        "for index, value in np.ndenumerate(Z):\n",
        "  print(index, value)\n",
        "for index in np.ndindex(Z.shape):\n",
        "  print(index, Z[index])"
      ],
      "execution_count": null,
      "outputs": [
        {
          "output_type": "stream",
          "text": [
            "(0, 0) 0\n",
            "(0, 1) 1\n",
            "(0, 2) 2\n",
            "(1, 0) 3\n",
            "(1, 1) 4\n",
            "(1, 2) 5\n",
            "(2, 0) 6\n",
            "(2, 1) 7\n",
            "(2, 2) 8\n",
            "(0, 0) 0\n",
            "(0, 1) 1\n",
            "(0, 2) 2\n",
            "(1, 0) 3\n",
            "(1, 1) 4\n",
            "(1, 2) 5\n",
            "(2, 0) 6\n",
            "(2, 1) 7\n",
            "(2, 2) 8\n"
          ],
          "name": "stdout"
        }
      ]
    },
    {
      "cell_type": "code",
      "metadata": {
        "id": "brSfz0EKabvm",
        "colab": {
          "base_uri": "https://localhost:8080/",
          "height": 357
        },
        "outputId": "d5cd4aef-e17a-4641-b13c-52249052213a"
      },
      "source": [
        "# 56. Generate a generic 2D Gaussian-like array\n",
        "\n",
        "import numpy as np\n",
        "\n",
        "X, Y = np.meshgrid(np.linspace(-1,1,10), np.linspace(-1,1,10))\n",
        "D = np.sqrt(X*X+Y*Y)\n",
        "sigma, mu = 1.0, 0.0\n",
        "G = np.exp(-( (D-mu)**2 / (2.0 * sigma**2)))\n",
        "print(G)"
      ],
      "execution_count": null,
      "outputs": [
        {
          "output_type": "stream",
          "text": [
            "[[0.36787944 0.44822088 0.51979489 0.57375342 0.60279818 0.60279818\n",
            "  0.57375342 0.51979489 0.44822088 0.36787944]\n",
            " [0.44822088 0.54610814 0.63331324 0.69905581 0.73444367 0.73444367\n",
            "  0.69905581 0.63331324 0.54610814 0.44822088]\n",
            " [0.51979489 0.63331324 0.73444367 0.81068432 0.85172308 0.85172308\n",
            "  0.81068432 0.73444367 0.63331324 0.51979489]\n",
            " [0.57375342 0.69905581 0.81068432 0.89483932 0.9401382  0.9401382\n",
            "  0.89483932 0.81068432 0.69905581 0.57375342]\n",
            " [0.60279818 0.73444367 0.85172308 0.9401382  0.98773022 0.98773022\n",
            "  0.9401382  0.85172308 0.73444367 0.60279818]\n",
            " [0.60279818 0.73444367 0.85172308 0.9401382  0.98773022 0.98773022\n",
            "  0.9401382  0.85172308 0.73444367 0.60279818]\n",
            " [0.57375342 0.69905581 0.81068432 0.89483932 0.9401382  0.9401382\n",
            "  0.89483932 0.81068432 0.69905581 0.57375342]\n",
            " [0.51979489 0.63331324 0.73444367 0.81068432 0.85172308 0.85172308\n",
            "  0.81068432 0.73444367 0.63331324 0.51979489]\n",
            " [0.44822088 0.54610814 0.63331324 0.69905581 0.73444367 0.73444367\n",
            "  0.69905581 0.63331324 0.54610814 0.44822088]\n",
            " [0.36787944 0.44822088 0.51979489 0.57375342 0.60279818 0.60279818\n",
            "  0.57375342 0.51979489 0.44822088 0.36787944]]\n"
          ],
          "name": "stdout"
        }
      ]
    },
    {
      "cell_type": "code",
      "metadata": {
        "id": "vcMIa2D18yq1",
        "colab": {
          "base_uri": "https://localhost:8080/",
          "height": 187
        },
        "outputId": "b9777d5e-4360-4277-d7b1-35ab6c825245"
      },
      "source": [
        "# 57. How to randomly place p elements in a 2D array?\n",
        "# Author: Divakar\n",
        "\n",
        "n = 10\n",
        "p = 3\n",
        "Z = np.zeros((n,n))\n",
        "np.put(Z, np.random.choice(range(n*n), p, replace=False), 1)\n",
        "print(Z)"
      ],
      "execution_count": null,
      "outputs": [
        {
          "output_type": "stream",
          "text": [
            "[[0. 0. 0. 0. 0. 0. 0. 0. 0. 0.]\n",
            " [0. 0. 0. 0. 0. 0. 0. 0. 0. 0.]\n",
            " [0. 0. 0. 0. 0. 0. 0. 0. 0. 0.]\n",
            " [0. 0. 0. 0. 0. 0. 0. 0. 0. 0.]\n",
            " [0. 0. 0. 0. 0. 1. 0. 0. 0. 0.]\n",
            " [0. 0. 0. 0. 0. 0. 0. 0. 0. 0.]\n",
            " [0. 0. 0. 0. 0. 0. 0. 0. 0. 0.]\n",
            " [0. 0. 0. 0. 0. 1. 0. 0. 0. 0.]\n",
            " [0. 1. 0. 0. 0. 0. 0. 0. 0. 0.]\n",
            " [0. 0. 0. 0. 0. 0. 0. 0. 0. 0.]]\n"
          ],
          "name": "stdout"
        }
      ]
    },
    {
      "cell_type": "code",
      "metadata": {
        "id": "cAU1F62a9wwe",
        "colab": {
          "base_uri": "https://localhost:8080/",
          "height": 187
        },
        "outputId": "dee0b798-fd94-4ea0-bb4f-d8a7da3511e3"
      },
      "source": [
        "# 58. Subtract the mean of each row of a matrix.\n",
        "# Author: Warren Weckesser\n",
        "\n",
        "X = np.random.rand(5, 10)\n",
        "\n",
        "# Recent versions of numpy\n",
        "Y = X - X.mean(axis=1, keepdims=True)\n",
        "\n",
        "# Older versions of numpy\n",
        "#Y = X - X.mean(axis=1).reshape(-1, 1)\n",
        "\n",
        "print(Y)"
      ],
      "execution_count": null,
      "outputs": [
        {
          "output_type": "stream",
          "text": [
            "[[-0.30004139 -0.02790917 -0.36575245 -0.29615618  0.36573422  0.20444547\n",
            "   0.25765407 -0.00868743 -0.18229831  0.35301117]\n",
            " [ 0.20589744  0.12642899 -0.06606854  0.36662437  0.2758665  -0.39836993\n",
            "  -0.27369525  0.35642668 -0.58859902 -0.00451126]\n",
            " [ 0.05300886 -0.35072224  0.37593585  0.50125718  0.26930833 -0.08792212\n",
            "  -0.12940547  0.06966247 -0.3727926  -0.32833027]\n",
            " [-0.22812769 -0.00565641  0.31118718 -0.42303761 -0.01174177 -0.05352086\n",
            "  -0.08344151  0.21085099 -0.0444271   0.32791478]\n",
            " [-0.51810041 -0.23041858 -0.38680887  0.14340295 -0.04454819  0.43607311\n",
            "   0.2108065   0.14557626  0.3985707  -0.15455347]]\n"
          ],
          "name": "stdout"
        }
      ]
    },
    {
      "cell_type": "code",
      "metadata": {
        "id": "wytvRbV9-yBN",
        "colab": {
          "base_uri": "https://localhost:8080/",
          "height": 136
        },
        "outputId": "9f6f5858-ac34-4497-a709-2087fdf7d39b"
      },
      "source": [
        "# 59. How to sort an array by the nth column?\n",
        "# Author: Steve Tjoa\n",
        "\n",
        "Z = np.random.randint(0,10,(3,3))\n",
        "print(Z)\n",
        "print()\n",
        "print(Z[Z[:,1].argsort()])"
      ],
      "execution_count": null,
      "outputs": [
        {
          "output_type": "stream",
          "text": [
            "[[2 9 4]\n",
            " [7 6 2]\n",
            " [7 2 7]]\n",
            "\n",
            "[[7 2 7]\n",
            " [7 6 2]\n",
            " [2 9 4]]\n"
          ],
          "name": "stdout"
        }
      ]
    },
    {
      "cell_type": "code",
      "metadata": {
        "id": "7sdJ0OzA_fFK",
        "colab": {
          "base_uri": "https://localhost:8080/",
          "height": 34
        },
        "outputId": "4139177d-975e-41bc-9d63-4a346e877c5f"
      },
      "source": [
        "# 60. How to tell if a given 2D array has null columns?\n",
        "# Author: Warren Weckesser\n",
        "\n",
        "Z = np.random.randint(0,3,(3,10))\n",
        "print((~Z.any(axis=0)).any())"
      ],
      "execution_count": null,
      "outputs": [
        {
          "output_type": "stream",
          "text": [
            "False\n"
          ],
          "name": "stdout"
        }
      ]
    },
    {
      "cell_type": "code",
      "metadata": {
        "id": "OJPjDl7aARnQ",
        "colab": {
          "base_uri": "https://localhost:8080/",
          "height": 34
        },
        "outputId": "33491830-2935-4c2f-8590-f0f49371237e"
      },
      "source": [
        "# 61. Find the nearest value from a given value in an array\n",
        "\n",
        "Z = np.random.uniform(0,1,10)\n",
        "z = 0.5\n",
        "m = Z.flat[np.abs(Z - z).argmin()]\n",
        "print(m)"
      ],
      "execution_count": null,
      "outputs": [
        {
          "output_type": "stream",
          "text": [
            "0.5289062463042858\n"
          ],
          "name": "stdout"
        }
      ]
    },
    {
      "cell_type": "code",
      "metadata": {
        "id": "HrebHXuaA9BC",
        "colab": {
          "base_uri": "https://localhost:8080/",
          "height": 68
        },
        "outputId": "0b748c35-4cfe-4cc4-a1c3-4c65c14564d4"
      },
      "source": [
        "# 62. Considering two arrays with shape (1,3) and (3,1), how to compute their sum using an iterator?\n",
        "\n",
        "A = np.arange(3).reshape(3, 1)\n",
        "B = np.arange(3).reshape(1, 3)\n",
        "it = np.nditer([A,B,None])\n",
        "for x,y,z in it: z[...] = x + y\n",
        "print (it.operands[2])"
      ],
      "execution_count": null,
      "outputs": [
        {
          "output_type": "stream",
          "text": [
            "[[0 1 2]\n",
            " [1 2 3]\n",
            " [2 3 4]]\n"
          ],
          "name": "stdout"
        }
      ]
    },
    {
      "cell_type": "code",
      "metadata": {
        "id": "3PLrj5gcBykT",
        "colab": {
          "base_uri": "https://localhost:8080/",
          "height": 34
        },
        "outputId": "f0b7a8ef-54ed-4840-9846-e7ee17e2781f"
      },
      "source": [
        "# 63. Create an array class that has a name attribute\n",
        "\n",
        "class NamedArray(np.ndarray):\n",
        "  def __new__(cls, array, name='no name'):\n",
        "    obj = np.asarray(array).view(cls)\n",
        "    obj.name = name\n",
        "    return obj\n",
        "  def __array_finalize__(self, obj):\n",
        "    if obj is None: return\n",
        "    self.info = getattr(obj, 'name', 'no name')\n",
        "    \n",
        "Z = NamedArray(np.arange(10), 'range_10')\n",
        "print(Z.name)"
      ],
      "execution_count": null,
      "outputs": [
        {
          "output_type": "stream",
          "text": [
            "range_10\n"
          ],
          "name": "stdout"
        }
      ]
    },
    {
      "cell_type": "code",
      "metadata": {
        "id": "BABnHl4TC98f",
        "colab": {
          "base_uri": "https://localhost:8080/",
          "height": 34
        },
        "outputId": "46964238-ac2a-41c6-8327-3113b0ecdc59"
      },
      "source": [
        "# 64. Consider a given vector, how to add 1 to each element indexed by a second vector (be careful with repeated indices)?\n",
        "# Author: Brett Olsen\n",
        "\n",
        "Z = np.ones(10)\n",
        "I = np.random.randint(0,len(Z),20)\n",
        "Z += np.bincount(I, minlength=len(Z))\n",
        "print(Z)"
      ],
      "execution_count": null,
      "outputs": [
        {
          "output_type": "stream",
          "text": [
            "[3. 3. 1. 2. 5. 3. 1. 3. 6. 3.]\n"
          ],
          "name": "stdout"
        }
      ]
    },
    {
      "cell_type": "code",
      "metadata": {
        "id": "sY_5WDQfDyb6",
        "colab": {
          "base_uri": "https://localhost:8080/",
          "height": 34
        },
        "outputId": "62237526-92a6-45be-83c5-31fbfbfd44f3"
      },
      "source": [
        "# 65. How to accumulate elements of a vector (X) to an array (F) based on an index list(I)?\n",
        "# Author: Alan G Isaac\n",
        "\n",
        "X = [1,2,3,4,5,6]\n",
        "I = [1,3,9,3,4,1]\n",
        "F = np.bincount(I,X)\n",
        "print(F)"
      ],
      "execution_count": null,
      "outputs": [
        {
          "output_type": "stream",
          "text": [
            "[0. 7. 0. 6. 5. 0. 0. 0. 0. 3.]\n"
          ],
          "name": "stdout"
        }
      ]
    },
    {
      "cell_type": "code",
      "metadata": {
        "id": "Uw4NPaCwEkWS",
        "colab": {
          "base_uri": "https://localhost:8080/",
          "height": 68
        },
        "outputId": "a59976f8-10bc-4618-cddb-7751e924161b"
      },
      "source": [
        "# 66. Considering a (w,h,3) image of dtype=ubyte, compute the number of unique colors\n",
        "# Author: Nadav Horesh\n",
        "\n",
        "w,h = 16,16\n",
        "I = np.random.randint(0,2,(h,w,3)).astype(np.ubyte)\n",
        "F = I[...,0]*256*256 + I[...,1]*256 + I[...,2]\n",
        "n = len(np.unique(F))\n",
        "print(np.unique(I))\n",
        "print(np.unique(F))\n",
        "print(np.unique(n))"
      ],
      "execution_count": null,
      "outputs": [
        {
          "output_type": "stream",
          "text": [
            "[0 1]\n",
            "[  0   1 256 257]\n",
            "[4]\n"
          ],
          "name": "stdout"
        }
      ]
    },
    {
      "cell_type": "code",
      "metadata": {
        "id": "o_zzjGxVFshq",
        "colab": {
          "base_uri": "https://localhost:8080/",
          "height": 136
        },
        "outputId": "d4e819c6-3d43-48b4-b0f8-af631d15bed9"
      },
      "source": [
        "# 67. Considering a four dimensions array, how to get sum over the last two axis at once?\n",
        "\n",
        "A = np.random.randint(0,10,(3,4,3,4))\n",
        "# Solution by passing a tuple of axes (introduced in numpy 1.7.0)\n",
        "sum = A.sum(axis=(-2, -1))\n",
        "print(sum)\n",
        "print()\n",
        "\n",
        "# Solutiong by flattening the last two dimensions into one\n",
        "# (useful for functions that don't accept tuples for axis argument)\n",
        "sum = A.reshape(A.shape[:-2] + (-1,)).sum(axis=-1)\n",
        "print(sum)"
      ],
      "execution_count": null,
      "outputs": [
        {
          "output_type": "stream",
          "text": [
            "[[52 42 57 65]\n",
            " [51 64 59 67]\n",
            " [31 42 43 54]]\n",
            "\n",
            "[[52 42 57 65]\n",
            " [51 64 59 67]\n",
            " [31 42 43 54]]\n"
          ],
          "name": "stdout"
        }
      ]
    },
    {
      "cell_type": "code",
      "metadata": {
        "id": "tLwjIuzYHJWh",
        "colab": {
          "base_uri": "https://localhost:8080/",
          "height": 255
        },
        "outputId": "57dd3328-8161-4dae-a0c4-299d54cda480"
      },
      "source": [
        "# 68. Considering a one-dimensional vector D, how to compute means of subsets of D using a vector S of same size\n",
        "# describing subset indices?\n",
        "# Author: Jaime Fernandez del Rio\n",
        "\n",
        "D = np.random.uniform(0,1,100)\n",
        "S = np.random.randint(0,10,100)\n",
        "D_sums = np.bincount(S, weights=D)\n",
        "D_counts = np.bincount(S)\n",
        "D_means = D_sums / D_counts\n",
        "print(D_means)\n",
        "print()\n",
        "\n",
        "# Pandas solution as reference due to more intuitive code\n",
        "import pandas as pd\n",
        "print(pd.Series(D).groupby(S).mean())\n"
      ],
      "execution_count": null,
      "outputs": [
        {
          "output_type": "stream",
          "text": [
            "[0.44879532 0.49494299 0.45730336 0.53982461 0.34021102 0.47344753\n",
            " 0.59223577 0.52023352 0.51123321 0.50070744]\n",
            "\n",
            "0    0.448795\n",
            "1    0.494943\n",
            "2    0.457303\n",
            "3    0.539825\n",
            "4    0.340211\n",
            "5    0.473448\n",
            "6    0.592236\n",
            "7    0.520234\n",
            "8    0.511233\n",
            "9    0.500707\n",
            "dtype: float64\n"
          ],
          "name": "stdout"
        }
      ]
    },
    {
      "cell_type": "code",
      "metadata": {
        "id": "aLeDiDlaJnsu",
        "colab": {
          "base_uri": "https://localhost:8080/",
          "height": 34
        },
        "outputId": "21e9922f-2a08-4987-9c69-ec0e4ba55f54"
      },
      "source": [
        "# 69. How to get the diagonal of a dot product?\n",
        "# Author: Mathieu Blondel\n",
        "\n",
        "A = np.random.uniform(0,1,(5,5))\n",
        "B = np.random.uniform(0,1,(5,5))\n",
        "\n",
        "# Slow version\n",
        "np.diag(np.dot(A, B))\n",
        "\n",
        "# Fast version\n",
        "np.sum(A * B.T, axis=1)\n",
        "\n",
        "# Faster version\n",
        "np.einsum('ij,ji->', A, B)"
      ],
      "execution_count": null,
      "outputs": [
        {
          "output_type": "execute_result",
          "data": {
            "text/plain": [
              "7.854309222732696"
            ]
          },
          "metadata": {
            "tags": []
          },
          "execution_count": 32
        }
      ]
    },
    {
      "cell_type": "code",
      "metadata": {
        "id": "R5c491qrKzE5",
        "colab": {
          "base_uri": "https://localhost:8080/",
          "height": 34
        },
        "outputId": "37733b3e-4a3d-49ce-df99-fc67989922e3"
      },
      "source": [
        "# 70. Consider the vector [1,2,3,4,5], how to build a new vector with 3 consecutive zeros interleaved between each value\n",
        "# Author: Warren Weckesser\n",
        "\n",
        "Z = np.array([1,2,3,4,5])\n",
        "nz = 3\n",
        "Z0 = np.zeros(len(Z) + (len(Z)-1)*(nz))\n",
        "Z0[::nz+1] = Z\n",
        "print(Z0)"
      ],
      "execution_count": null,
      "outputs": [
        {
          "output_type": "stream",
          "text": [
            "[1. 0. 0. 0. 2. 0. 0. 0. 3. 0. 0. 0. 4. 0. 0. 0. 5.]\n"
          ],
          "name": "stdout"
        }
      ]
    },
    {
      "cell_type": "code",
      "metadata": {
        "id": "SgpNB2YjLrXO",
        "colab": {
          "base_uri": "https://localhost:8080/",
          "height": 510
        },
        "outputId": "be6118e2-e1fd-49e8-d79e-8135b2b24d23"
      },
      "source": [
        "# 71. Consider an array of dimension (5,5,3), how to multiply it by an array with dimensions(5,5)\n",
        "\n",
        "A = np.ones((5,5,3))\n",
        "B = 2*np.ones((5,5))\n",
        "print(A * B[:,:,None])"
      ],
      "execution_count": null,
      "outputs": [
        {
          "output_type": "stream",
          "text": [
            "[[[2. 2. 2.]\n",
            "  [2. 2. 2.]\n",
            "  [2. 2. 2.]\n",
            "  [2. 2. 2.]\n",
            "  [2. 2. 2.]]\n",
            "\n",
            " [[2. 2. 2.]\n",
            "  [2. 2. 2.]\n",
            "  [2. 2. 2.]\n",
            "  [2. 2. 2.]\n",
            "  [2. 2. 2.]]\n",
            "\n",
            " [[2. 2. 2.]\n",
            "  [2. 2. 2.]\n",
            "  [2. 2. 2.]\n",
            "  [2. 2. 2.]\n",
            "  [2. 2. 2.]]\n",
            "\n",
            " [[2. 2. 2.]\n",
            "  [2. 2. 2.]\n",
            "  [2. 2. 2.]\n",
            "  [2. 2. 2.]\n",
            "  [2. 2. 2.]]\n",
            "\n",
            " [[2. 2. 2.]\n",
            "  [2. 2. 2.]\n",
            "  [2. 2. 2.]\n",
            "  [2. 2. 2.]\n",
            "  [2. 2. 2.]]]\n"
          ],
          "name": "stdout"
        }
      ]
    },
    {
      "cell_type": "code",
      "metadata": {
        "id": "0NTYyO_FMp_G",
        "colab": {
          "base_uri": "https://localhost:8080/",
          "height": 102
        },
        "outputId": "39d13337-eb19-4cef-dd96-b5bb119fd16a"
      },
      "source": [
        "# 72. How to swap two rows of an array?\n",
        "# Author: Eelco Hoogendoorn\n",
        "\n",
        "A = np.arange(25).reshape(5,5)\n",
        "A[[0,1]] = A[[1,0]]\n",
        "print(A)"
      ],
      "execution_count": null,
      "outputs": [
        {
          "output_type": "stream",
          "text": [
            "[[ 5  6  7  8  9]\n",
            " [ 0  1  2  3  4]\n",
            " [10 11 12 13 14]\n",
            " [15 16 17 18 19]\n",
            " [20 21 22 23 24]]\n"
          ],
          "name": "stdout"
        }
      ]
    },
    {
      "cell_type": "code",
      "metadata": {
        "id": "Grao_DAZNkMI",
        "colab": {
          "base_uri": "https://localhost:8080/",
          "height": 85
        },
        "outputId": "5a680a74-6f74-47b1-d2a7-576d4d335009"
      },
      "source": [
        "# 73. Consider a set of 10 triplets describing 10 traingles (with shared vertices), find the set of unique line \n",
        "# segment composing all the triangles\n",
        "# Author: Nicolas P. Rougier\n",
        "\n",
        "faces = np.random.randint(0,100,(10,3))\n",
        "F = np.roll(faces.repeat(2,axis=1),-1,axis=1)\n",
        "F = F.reshape(len(F)*3,2)\n",
        "F = np.sort(F,axis=1)\n",
        "G = F.view( dtype=[('p0',F.dtype),('p1',F.dtype)])\n",
        "G = np.unique(G)\n",
        "print(G)"
      ],
      "execution_count": null,
      "outputs": [
        {
          "output_type": "stream",
          "text": [
            "[( 8, 12) ( 8, 81) (10, 15) (10, 37) (12, 81) (13, 16) (13, 95) (14, 80)\n",
            " (14, 97) (15, 37) (16, 25) (16, 95) (20, 56) (20, 82) (25, 95) (40, 53)\n",
            " (40, 62) (41, 76) (41, 91) (47, 52) (47, 67) (52, 67) (53, 62) (55, 65)\n",
            " (55, 71) (56, 82) (65, 71) (76, 91) (80, 97)]\n"
          ],
          "name": "stdout"
        }
      ]
    },
    {
      "cell_type": "code",
      "metadata": {
        "id": "F0ULh_i9PRJJ",
        "colab": {
          "base_uri": "https://localhost:8080/",
          "height": 34
        },
        "outputId": "7afbc981-8fcd-43ef-c3f4-716910fcb975"
      },
      "source": [
        "# 74. Given an array C that is a bincount, how to produce an array A such that np.bincount(A) == C?\n",
        "# Author: Jaime Fernandez del Rio\n",
        "\n",
        "C = np.bincount([1,1,2,3,4,4,6])\n",
        "A = np.repeat(np.arange(len(C)), C)\n",
        "print(A)"
      ],
      "execution_count": null,
      "outputs": [
        {
          "output_type": "stream",
          "text": [
            "[1 1 2 3 4 4 6]\n"
          ],
          "name": "stdout"
        }
      ]
    },
    {
      "cell_type": "code",
      "metadata": {
        "id": "Td936a9gQIl5",
        "colab": {
          "base_uri": "https://localhost:8080/",
          "height": 34
        },
        "outputId": "0e823757-1328-4bf3-a1c6-9853ab07d5c1"
      },
      "source": [
        "# 75. How to compute averages using a sliding window over an array?\n",
        "# Author: Jaime Fernandes del Rio\n",
        "\n",
        "def moving_average(a, n=3):\n",
        "  ret = np.cumsum(a, dtype=float)\n",
        "  ret[n:] = ret[n:] - ret[:-n]\n",
        "  return ret[n - 1:] / n\n",
        "Z = np.arange(20)\n",
        "print(moving_average(Z, n=3))"
      ],
      "execution_count": null,
      "outputs": [
        {
          "output_type": "stream",
          "text": [
            "[ 1.  2.  3.  4.  5.  6.  7.  8.  9. 10. 11. 12. 13. 14. 15. 16. 17. 18.]\n"
          ],
          "name": "stdout"
        }
      ]
    },
    {
      "cell_type": "code",
      "metadata": {
        "id": "Pk2MWKW4Q_V0",
        "colab": {
          "base_uri": "https://localhost:8080/",
          "height": 153
        },
        "outputId": "947ad28e-0001-41dc-fbc7-55cd78c917a0"
      },
      "source": [
        "# 76. Consider a one-dimensional array Z, build a two-dimensional array whose first row is (Z[0],Z[1],Z[2])\n",
        "# and each end subsequent row is shifted by 1 (last row should be (Z[-3],Z[-2],Z[-1]))\n",
        "# Author: Joe Kington / Erik Rigtorp\n",
        "\n",
        "from numpy.lib import stride_tricks\n",
        "\n",
        "def rolling(a, window):\n",
        "  shape = (a.size - window + 1, window)\n",
        "  strides = (a.itemsize, a.itemsize)\n",
        "  return stride_tricks.as_strided(a, shape=shape, strides=strides)\n",
        "Z = rolling(np.arange(10), 3)\n",
        "print(Z)"
      ],
      "execution_count": null,
      "outputs": [
        {
          "output_type": "stream",
          "text": [
            "[[0 1 2]\n",
            " [1 2 3]\n",
            " [2 3 4]\n",
            " [3 4 5]\n",
            " [4 5 6]\n",
            " [5 6 7]\n",
            " [6 7 8]\n",
            " [7 8 9]]\n"
          ],
          "name": "stdout"
        }
      ]
    },
    {
      "cell_type": "code",
      "metadata": {
        "id": "fiIbGEzmSpdc",
        "colab": {
          "base_uri": "https://localhost:8080/",
          "height": 357
        },
        "outputId": "0b783e63-33a4-4545-eed6-6c2a6b7fcaff"
      },
      "source": [
        "# 77. How to negate a boolean, or to change the sign of a float inplace?\n",
        "# Author: Nathaniel J. Smith\n",
        "\n",
        "Z = np.random.randint(0,2,100)\n",
        "np.logical_not(Z, out=Z)\n",
        "\n",
        "Z = np.random.uniform(-1.0,1.0,100)\n",
        "np.negative(Z, out=Z)"
      ],
      "execution_count": null,
      "outputs": [
        {
          "output_type": "execute_result",
          "data": {
            "text/plain": [
              "array([-0.61203784, -0.29097382, -0.6934161 , -0.01323629, -0.29442477,\n",
              "        0.23963033, -0.22226193,  0.35601958,  0.48371757,  0.53398636,\n",
              "       -0.50934294,  0.50768161,  0.15561137, -0.15409346, -0.65112746,\n",
              "       -0.37744204,  0.26708508,  0.11228892,  0.31377959,  0.71331309,\n",
              "        0.19278053, -0.86881481,  0.72289148, -0.66606095,  0.7621094 ,\n",
              "       -0.41597817,  0.97626635,  0.23348007, -0.231715  , -0.45774825,\n",
              "        0.76342663, -0.53038559, -0.73928087, -0.09769654, -0.98801697,\n",
              "        0.44444826,  0.66461768, -0.65860034, -0.30201019,  0.32380555,\n",
              "       -0.23736878,  0.026365  ,  0.71736931,  0.69117886,  0.79375539,\n",
              "        0.57309566, -0.64188138, -0.47203761,  0.74864674, -0.36330895,\n",
              "       -0.80552386, -0.00366996, -0.85632348, -0.34056147,  0.64656188,\n",
              "       -0.76594292, -0.18982262,  0.4573423 , -0.94898712,  0.17986113,\n",
              "        0.28164133,  0.69471036, -0.26935009, -0.27288312,  0.19469986,\n",
              "       -0.07213298, -0.64814492,  0.86185395,  0.45819305, -0.42701909,\n",
              "       -0.8260039 , -0.7530809 ,  0.33640115, -0.37945126, -0.01466344,\n",
              "        0.71063227,  0.73295552,  0.72625178,  0.63074455,  0.12726646,\n",
              "        0.37565015,  0.6874695 , -0.78157062, -0.11246851,  0.88539653,\n",
              "        0.67828351, -0.13776562, -0.47617555,  0.92354185,  0.86970791,\n",
              "       -0.13857229,  0.90412276,  0.46600692,  0.09992988, -0.06562968,\n",
              "       -0.92281688, -0.10396754,  0.3416586 , -0.38352055,  0.13831741])"
            ]
          },
          "metadata": {
            "tags": []
          },
          "execution_count": 41
        }
      ]
    },
    {
      "cell_type": "code",
      "metadata": {
        "id": "mmHOVh34TcN9",
        "colab": {
          "base_uri": "https://localhost:8080/",
          "height": 51
        },
        "outputId": "be702461-c9e7-48cf-8ffc-178dc61dd883"
      },
      "source": [
        "# 78. Cosider 2 sets of points P0,P1 describing lines (2d) and point p, how to compute distance from p to each line i\n",
        "# (P0[i],P1[i])?\n",
        "\n",
        "def distance(P0, P1, p):\n",
        "  T = P1 - P0\n",
        "  L = (T**2).sum(axis=1)\n",
        "  U = -((P0[:,0]-p[...,0])*T[:,0] + (P0[:,1]-p[...,1])*T[:,1]) / L\n",
        "  U = U.reshape(len(U),1)\n",
        "  D = P0 + U*T - p\n",
        "  return np.sqrt((D**2).sum(axis=1))\n",
        "\n",
        "P0 = np.random.uniform(-10,10,(10,2))\n",
        "P1 = np.random.uniform(-10,10,(10,2))\n",
        "p  = np.random.uniform(-10,10,( 1,2))\n",
        "print(distance(P0, P1, p))"
      ],
      "execution_count": null,
      "outputs": [
        {
          "output_type": "stream",
          "text": [
            "[ 0.43164318 12.63028768  9.12587225  8.88996745  0.7811208  12.62077045\n",
            "  3.83793154 14.32444721  6.22939622  9.22912742]\n"
          ],
          "name": "stdout"
        }
      ]
    },
    {
      "cell_type": "code",
      "metadata": {
        "id": "Bl1geB12VikE",
        "colab": {
          "base_uri": "https://localhost:8080/",
          "height": 527
        },
        "outputId": "9661d8e0-e6b5-4c3f-c011-334bdeb07ded"
      },
      "source": [
        "# 79. Consider 2 sets of points P0,P1 describing lines (2d) and a set of points P, how to compute distance from each point j\n",
        "# (P[j] to each line i (P0[i],P1[i]))?\n",
        "# Author: Italmassov Kuanysh\n",
        "\n",
        "# based on distance function from previous question\n",
        "P0 = np.random.uniform(-10, 10, (10,2))\n",
        "P1 = np.random.uniform(-10, 10, (10,2))\n",
        "p  = np.random.uniform(-10, 10, (10,2))\n",
        "print(np.array([distance(P0,P1,p_i) for p_i in p]))"
      ],
      "execution_count": null,
      "outputs": [
        {
          "output_type": "stream",
          "text": [
            "[[2.85288684e+00 2.92059397e+00 1.04204127e+01 1.14443263e-02\n",
            "  4.09484706e+00 1.00445635e+01 1.43837312e+00 4.55670203e+00\n",
            "  3.08858546e+00 6.21497610e-01]\n",
            " [1.87363619e+00 4.30961429e+00 9.61142181e+00 8.17307309e+00\n",
            "  1.42349136e+01 1.71408323e+01 7.29713565e+00 1.35832209e+00\n",
            "  5.31622133e-01 9.35929851e+00]\n",
            " [1.10459835e+01 8.65434614e+00 3.16452672e-01 8.65332917e+00\n",
            "  4.35467300e+00 4.14716145e+00 6.53631512e+00 1.17236272e+01\n",
            "  7.74190758e+00 2.86088940e+00]\n",
            " [1.65648876e+01 1.78215361e+01 1.92231185e+00 3.30613119e+00\n",
            "  9.38691145e+00 4.82143626e+00 6.12815723e+00 1.89593132e+01\n",
            "  1.69114487e+00 1.43070321e+01]\n",
            " [1.28171122e+01 9.39780524e+00 3.52305811e+00 1.21840196e+01\n",
            "  5.71208450e+00 3.33944935e+00 9.94667348e+00 1.30477683e+01\n",
            "  1.13310831e+01 2.76277461e+00]\n",
            " [1.21171530e+00 3.20370890e+00 9.89139446e+00 6.71717308e+00\n",
            "  1.25699471e+01 1.60591192e+01 5.75636929e+00 4.87581327e-01\n",
            "  2.10239779e-01 7.97546907e+00]\n",
            " [5.83710980e+00 7.51949049e+00 1.09917183e+01 5.25525839e+00\n",
            "  2.39630411e+00 5.53220693e+00 7.06904444e+00 8.30670719e+00\n",
            "  5.45959567e+00 4.95351528e+00]\n",
            " [1.09259020e+01 1.18084553e+01 5.62215861e+00 2.32674487e+00\n",
            "  4.14390386e+00 1.18396078e+00 4.58999098e+00 1.30884509e+01\n",
            "  5.63436795e-01 8.36477755e+00]\n",
            " [1.87231472e+01 1.92552482e+01 1.04296913e+00 7.72582319e-01\n",
            "  9.11726491e+00 6.30272256e+00 3.76666888e+00 2.08124401e+01\n",
            "  4.73711419e+00 1.50928062e+01]\n",
            " [2.23880466e+00 2.75518321e+00 1.16970959e+01 1.52227568e+00\n",
            "  3.38191635e+00 1.02376287e+01 2.93482165e+00 4.13952264e+00\n",
            "  4.56537849e+00 4.29039238e-01]]\n"
          ],
          "name": "stdout"
        }
      ]
    },
    {
      "cell_type": "code",
      "metadata": {
        "id": "rzfodJpCXH6r",
        "colab": {
          "base_uri": "https://localhost:8080/",
          "height": 289
        },
        "outputId": "fd12d872-3cc6-4522-87d0-7817e40ba730"
      },
      "source": [
        "# 80. Cibsuder an arbitrary array, write a function that extract a subpart with a fixed shape and centered on a given\n",
        "# element (pad with a fill value when necessary)\n",
        "# Author: Nicolas Rougier\n",
        "\n",
        "import numpy as np\n",
        "\n",
        "Z = np.random.randint(0,10,(10,10))\n",
        "shape = (5,5)\n",
        "fill = 0\n",
        "position = (1, 1)\n",
        "\n",
        "R = np.ones(shape, dtype=Z.dtype)*fill\n",
        "P = np.array(list(position)).astype(int)\n",
        "Rs= np.array(list(R.shape)).astype(int)\n",
        "Zs= np.array(list(Z.shape)).astype(int)\n",
        "\n",
        "R_start = np.zeros((len(shape),)).astype(int)\n",
        "R_stop  = np.array(list(shape)).astype(int)\n",
        "Z_start = (P-Rs//2)\n",
        "Z_stop  = (P+Rs//2)+Rs%2\n",
        "\n",
        "R_start = (R_start - np.minimum(Z_start,0)).tolist()\n",
        "Z_start = (np.maximum(Z_start,0)).tolist()\n",
        "R_stop  = np.maximum(R_start, (R_stop - np.maximum(Z_stop-Zs,0))).tolist()\n",
        "Z_stop  = (np.minimum(Z_stop,Zs)).tolist()\n",
        "\n",
        "r = [slice(start,stop) for start, stop in zip(R_start,R_stop)]\n",
        "z = [slice(start,stop) for start, stop in zip(Z_start,Z_stop)]\n",
        "R[r] = Z[z]\n",
        "print(Z)\n",
        "print()\n",
        "print(R)"
      ],
      "execution_count": null,
      "outputs": [
        {
          "output_type": "stream",
          "text": [
            "[[2 2 9 6 5 0 6 5 8 8]\n",
            " [1 6 3 2 0 4 9 7 9 4]\n",
            " [0 6 4 5 0 7 2 4 5 8]\n",
            " [3 4 5 4 2 7 9 7 9 3]\n",
            " [8 3 0 5 3 5 4 8 9 5]\n",
            " [1 5 8 9 8 9 8 3 3 2]\n",
            " [0 0 2 1 8 3 8 6 9 2]\n",
            " [7 2 8 8 3 3 1 5 7 3]\n",
            " [1 2 7 4 6 1 6 5 2 8]\n",
            " [7 7 8 2 2 2 1 0 8 8]]\n",
            "\n",
            "[[0 0 0 0 0]\n",
            " [0 2 2 9 6]\n",
            " [0 1 6 3 2]\n",
            " [0 0 6 4 5]\n",
            " [0 3 4 5 4]]\n"
          ],
          "name": "stdout"
        }
      ]
    },
    {
      "cell_type": "code",
      "metadata": {
        "id": "WLIu-5FfB-Yx"
      },
      "source": [
        "# 81. Consider an array Z = [1,2,3,4,5,6,7,8,9,10,11,12,13,14], how to generate an array R = [[1,2,3,4],[2,3,4,5],[3,4,5,6],\n",
        "# ....,[11,12,13,14]]?\n",
        "# Author: Stefan Van der Walt\n",
        "\n",
        "Z = np.arange(1,15,dtype=np.uint32)\n",
        "R = stride_tricks.as_strided(Z,(11,4),(4,4))\n",
        "print(R)"
      ],
      "execution_count": null,
      "outputs": []
    },
    {
      "cell_type": "code",
      "metadata": {
        "id": "T-aWrxxsDIcM",
        "colab": {
          "base_uri": "https://localhost:8080/",
          "height": 34
        },
        "outputId": "a358fdf8-5943-43c6-a3e0-32e1bacfc7d0"
      },
      "source": [
        "# 82. Compute a matrix rank\n",
        "# Author: Stefan van der Walt\n",
        "\n",
        "Z = np.random.uniform(0,1,(10,10))\n",
        "U, S, V = np.linalg.svd(Z)       # Singular Value Decomposition\n",
        "rank = np.sum(S > 1e-10)\n",
        "print(rank)"
      ],
      "execution_count": null,
      "outputs": [
        {
          "output_type": "stream",
          "text": [
            "10\n"
          ],
          "name": "stdout"
        }
      ]
    },
    {
      "cell_type": "code",
      "metadata": {
        "id": "-ftluSAnEAdq",
        "colab": {
          "base_uri": "https://localhost:8080/",
          "height": 34
        },
        "outputId": "66949b25-bfc0-4281-aecd-eb5f5f8287a3"
      },
      "source": [
        "# 83. How to find the most frequent value in an array\n",
        "\n",
        "Z = np.random.randint(0,10,50)\n",
        "print(np.bincount(Z).argmax())"
      ],
      "execution_count": null,
      "outputs": [
        {
          "output_type": "stream",
          "text": [
            "0\n"
          ],
          "name": "stdout"
        }
      ]
    },
    {
      "cell_type": "code",
      "metadata": {
        "id": "ceJH88v6EPz6"
      },
      "source": [
        "# 84. Extract all the contiguous 3x3 blocks from a random 10x10 matrix\n",
        "# Author: Chris Barker\n",
        "\n",
        "Z = np.random.randint(0,5,(10,10))\n",
        "n = 3\n",
        "i = 1 + (Z.shape[0]-3)\n",
        "j = 1 + (Z.shape[1]-3)\n",
        "C = stride_tricks.as_strided(Z, shape=(i, j, n, n), strides=Z.strides + Z.strides)\n",
        "print(C)"
      ],
      "execution_count": null,
      "outputs": []
    },
    {
      "cell_type": "code",
      "metadata": {
        "id": "MYdpRdsxFHo6",
        "colab": {
          "base_uri": "https://localhost:8080/",
          "height": 102
        },
        "outputId": "2c947533-93ab-4270-ebfd-d06f2399281d"
      },
      "source": [
        "# 85. Create a 2D array subclass such that Z[i,j] == Z[j,i]\n",
        "# Author: Eric O. Lebigot\n",
        "# Note: only works for 2d array and value setting using indices\n",
        "\n",
        "class Symetric(np.ndarray):\n",
        "  def __setitem__(self, index, value):\n",
        "    i,j = index\n",
        "    super(Symetric, self).__setitem__((i,j), value)\n",
        "    super(Symetric, self).__setitem__((j,i), value)\n",
        "    \n",
        "def symetric(Z):\n",
        "  return np.asarray(Z + Z.T - np.diag(Z.diagonal())).view(Symetric)\n",
        "\n",
        "S = symetric(np.random.randint(0,10,(5,5)))\n",
        "S[2,3] = 42\n",
        "print(S)"
      ],
      "execution_count": null,
      "outputs": [
        {
          "output_type": "stream",
          "text": [
            "[[ 8  2  9  9 13]\n",
            " [ 2  8  7 11 15]\n",
            " [ 9  7  2 42  8]\n",
            " [ 9 11 42  3 12]\n",
            " [13 15  8 12  9]]\n"
          ],
          "name": "stdout"
        }
      ]
    },
    {
      "cell_type": "code",
      "metadata": {
        "id": "yrro8m_5Gp5V",
        "colab": {
          "base_uri": "https://localhost:8080/",
          "height": 357
        },
        "outputId": "ed76f5bd-ba9d-400a-e118-56512581b107"
      },
      "source": [
        "# 86. Consider a set of p matrices wich shape (n,n) and a set of p vectors with shape (n,1). How to compute the sume of the\n",
        "# p matrix products at once? (result has shape (n,1))\n",
        "# Author: Stefan van der Walt\n",
        "\n",
        "p, n = 10, 20\n",
        "M = np.ones((p,n,n))\n",
        "V = np.ones((p,n,1))\n",
        "S = np.tensordot(M, V, axes=[[0, 2], [0, 1]])\n",
        "print(S)"
      ],
      "execution_count": null,
      "outputs": [
        {
          "output_type": "stream",
          "text": [
            "[[200.]\n",
            " [200.]\n",
            " [200.]\n",
            " [200.]\n",
            " [200.]\n",
            " [200.]\n",
            " [200.]\n",
            " [200.]\n",
            " [200.]\n",
            " [200.]\n",
            " [200.]\n",
            " [200.]\n",
            " [200.]\n",
            " [200.]\n",
            " [200.]\n",
            " [200.]\n",
            " [200.]\n",
            " [200.]\n",
            " [200.]\n",
            " [200.]]\n"
          ],
          "name": "stdout"
        }
      ]
    },
    {
      "cell_type": "code",
      "metadata": {
        "id": "uslK831eH6nX",
        "colab": {
          "base_uri": "https://localhost:8080/",
          "height": 85
        },
        "outputId": "d1b09d3c-0836-49b4-b1cc-f7e78d1413fa"
      },
      "source": [
        "# 87. Consider a 16x16 array, how to get the block-sum (block size is 4x4)?\n",
        "# Author: Robert Kern\n",
        "\n",
        "Z = np.ones((16,16))\n",
        "K = 4\n",
        "S = np.add.reduceat(np.add.reduceat(Z, np.arange(0, Z.shape[0], K), axis=0),\n",
        "                   np.arange(0, Z.shape[1], K), axis=1)\n",
        "print(S)"
      ],
      "execution_count": null,
      "outputs": [
        {
          "output_type": "stream",
          "text": [
            "[[16. 16. 16. 16.]\n",
            " [16. 16. 16. 16.]\n",
            " [16. 16. 16. 16.]\n",
            " [16. 16. 16. 16.]]\n"
          ],
          "name": "stdout"
        }
      ]
    },
    {
      "cell_type": "code",
      "metadata": {
        "id": "h6LpwAZHI0y9",
        "colab": {
          "base_uri": "https://localhost:8080/",
          "height": 136
        },
        "outputId": "1c0adff5-4c08-44ef-dda0-c4971c02319e"
      },
      "source": [
        "# 88. How to implement the Game of Life using numpy arrays?\n",
        "# Author: Nicolas Rougier\n",
        "\n",
        "def iterate(Z):\n",
        "    # Count neighbours\n",
        "    N = (Z[0:-2,0:-2] + Z[0:-2,1:-1] + Z[0:-2,2:] +\n",
        "         Z[1:-1,0:-2]                + Z[1:-1,2:] +\n",
        "         Z[2:  ,0:-2] + Z[2:  ,1:-1] + Z[2:  ,2:])\n",
        "\n",
        "    # Apply rules\n",
        "    birth = (N==3) & (Z[1:-1,1:-1]==0)\n",
        "    survive = ((N==2) | (N==3)) & (Z[1:-1,1:-1]==1)\n",
        "    Z[...] = 0\n",
        "    Z[1:-1,1:-1][birth | survive] = 1\n",
        "    return Z\n",
        "\n",
        "Z = np.random.randint(0,2,(50,50))\n",
        "for i in range(100): Z = iterate(Z)\n",
        "print(Z)"
      ],
      "execution_count": null,
      "outputs": [
        {
          "output_type": "stream",
          "text": [
            "[[0 0 0 ... 0 0 0]\n",
            " [0 0 1 ... 0 0 0]\n",
            " [0 1 0 ... 0 0 0]\n",
            " ...\n",
            " [0 0 0 ... 0 0 0]\n",
            " [0 0 0 ... 0 0 0]\n",
            " [0 0 0 ... 0 0 0]]\n"
          ],
          "name": "stdout"
        }
      ]
    },
    {
      "cell_type": "code",
      "metadata": {
        "id": "esP3hnvXLEVt",
        "colab": {
          "base_uri": "https://localhost:8080/",
          "height": 51
        },
        "outputId": "0fa105e7-f0da-4306-b735-cc6b1b725bb7"
      },
      "source": [
        "# 89. How to get the n largest values of an array\n",
        "\n",
        "Z = np.arange(10000)\n",
        "np.random.shuffle(Z)\n",
        "n = 5\n",
        "\n",
        "# Slow\n",
        "print(Z[np.argsort(Z)[-n:]])\n",
        "\n",
        "# Fast\n",
        "print(Z[np.argpartition(-Z,n)[:n]])"
      ],
      "execution_count": null,
      "outputs": [
        {
          "output_type": "stream",
          "text": [
            "[9995 9996 9997 9998 9999]\n",
            "[9996 9997 9998 9999 9995]\n"
          ],
          "name": "stdout"
        }
      ]
    },
    {
      "cell_type": "code",
      "metadata": {
        "id": "HLt5H-qOLuNY",
        "colab": {
          "base_uri": "https://localhost:8080/",
          "height": 221
        },
        "outputId": "4192050b-a8c6-477b-8261-ccbf7ddf53c6"
      },
      "source": [
        "# 90. Given an arbitrary number of vectors, build the cartesian product(every combinations of every item)\n",
        "# Author: Stefan Van der Walt\n",
        "\n",
        "def cartesian(arrays):\n",
        "  arrays = [np.asarray(a) for a in arrays]\n",
        "  shape = (len(x) for x in arrays)\n",
        "  \n",
        "  ix = np.indices(shape, dtype=int)\n",
        "  ix = ix.reshape(len(arrays), -1).T\n",
        "  \n",
        "  for n, arr in enumerate(arrays):\n",
        "    ix[:, n] = arrays[n][ix[:, n]]\n",
        "    \n",
        "  return ix\n",
        "\n",
        "print(cartesian(([1,2,3], [4,5], [6,7])))"
      ],
      "execution_count": null,
      "outputs": [
        {
          "output_type": "stream",
          "text": [
            "[[1 4 6]\n",
            " [1 4 7]\n",
            " [1 5 6]\n",
            " [1 5 7]\n",
            " [2 4 6]\n",
            " [2 4 7]\n",
            " [2 5 6]\n",
            " [2 5 7]\n",
            " [3 4 6]\n",
            " [3 4 7]\n",
            " [3 5 6]\n",
            " [3 5 7]]\n"
          ],
          "name": "stdout"
        }
      ]
    },
    {
      "cell_type": "code",
      "metadata": {
        "id": "2u2S93gxM1SJ",
        "colab": {
          "base_uri": "https://localhost:8080/",
          "height": 34
        },
        "outputId": "dea4c6ab-5070-433e-fd47-033d879da0c7"
      },
      "source": [
        "# 91. How to create a record array from a regular array\n",
        "\n",
        "Z = np.array([(\"Hello\", 2.5, 3),\n",
        "              (\"World\", 3.6, 2)])\n",
        "R = np.core.records.fromarrays(Z.T,\n",
        "                               names='col1, col2, col3',\n",
        "                               formats = 'S8, f8, i8')\n",
        "print(R)"
      ],
      "execution_count": null,
      "outputs": [
        {
          "output_type": "stream",
          "text": [
            "[(b'Hello', 2.5, 3) (b'World', 3.6, 2)]\n"
          ],
          "name": "stdout"
        }
      ]
    },
    {
      "cell_type": "code",
      "metadata": {
        "id": "ENnbAMQIN4Ef"
      },
      "source": [
        "# 92. Consider a larg vector Z, compute Z to the power of 3 using 3 different methods.\n",
        "# Author: Ryan G.\n",
        "\n",
        "x = np.random.rand(5e7)\n",
        "\n",
        "%timeit np.power(x,3)\n",
        "%timeit x*x*x\n",
        "%timeit np.einsum('i,i,i->i',x,x,x)\n",
        "print(x)"
      ],
      "execution_count": null,
      "outputs": []
    },
    {
      "cell_type": "code",
      "metadata": {
        "id": "EJX2eGuROorM",
        "colab": {
          "base_uri": "https://localhost:8080/",
          "height": 238
        },
        "outputId": "d3023fb9-5e2f-4062-c007-03487ac5c720"
      },
      "source": [
        "# 93. Consider two arrays A and B of shape (8,3) and (2,2). How to find rows of A that contain elements of each row of B\n",
        "# regardless of the order of the elements in B?\n",
        "# Author: Gabe Schwartz\n",
        "\n",
        "A = np.random.randint(0,5,(8,3))\n",
        "B = np.random.randint(0,5,(2,2))\n",
        "\n",
        "C = (A[..., np.newaxis, np.newaxis] == B)\n",
        "rows = np.where(C.any((3,1)).all(1))[0]\n",
        "print(rows)\n",
        "print()\n",
        "print(A)\n",
        "print()\n",
        "print(B)"
      ],
      "execution_count": null,
      "outputs": [
        {
          "output_type": "stream",
          "text": [
            "[0 2 4 5]\n",
            "\n",
            "[[1 4 0]\n",
            " [2 2 1]\n",
            " [4 0 3]\n",
            " [3 3 2]\n",
            " [3 3 1]\n",
            " [1 0 0]\n",
            " [3 2 0]\n",
            " [3 2 2]]\n",
            "\n",
            "[[0 3]\n",
            " [1 4]]\n"
          ],
          "name": "stdout"
        }
      ]
    },
    {
      "cell_type": "code",
      "metadata": {
        "id": "LSCIOqC9PnC3",
        "colab": {
          "base_uri": "https://localhost:8080/",
          "height": 561
        },
        "outputId": "35fda764-acd6-4b55-b83f-5f0aecef60cd"
      },
      "source": [
        "# 94. Considering a 10x3 matrix, extract rows with unequal values (e,g.[2,2,3])\n",
        "# Author: Robert Kert\n",
        "\n",
        "Z = np.random.randint(0,5,(10,3))\n",
        "print(Z)\n",
        "print()\n",
        "\n",
        "# Solution for arrays of all dtypes (including string arrays and record arrays)\n",
        "E = np.all(Z[:,1:] == Z[:,:-1], axis=1)\n",
        "U = Z[~E]\n",
        "print(U)\n",
        "print()\n",
        "\n",
        "# Solution for numerical arrays only, will work for any number of columns in Z\n",
        "U = Z[Z.max(axis=1) != Z.min(axis=1),:]\n",
        "print(U)"
      ],
      "execution_count": null,
      "outputs": [
        {
          "output_type": "stream",
          "text": [
            "[[1 0 4]\n",
            " [2 0 3]\n",
            " [3 0 0]\n",
            " [2 4 4]\n",
            " [0 3 2]\n",
            " [3 2 2]\n",
            " [2 0 0]\n",
            " [3 0 1]\n",
            " [0 2 3]\n",
            " [1 0 1]]\n",
            "\n",
            "[[1 0 4]\n",
            " [2 0 3]\n",
            " [3 0 0]\n",
            " [2 4 4]\n",
            " [0 3 2]\n",
            " [3 2 2]\n",
            " [2 0 0]\n",
            " [3 0 1]\n",
            " [0 2 3]\n",
            " [1 0 1]]\n",
            "\n",
            "[[1 0 4]\n",
            " [2 0 3]\n",
            " [3 0 0]\n",
            " [2 4 4]\n",
            " [0 3 2]\n",
            " [3 2 2]\n",
            " [2 0 0]\n",
            " [3 0 1]\n",
            " [0 2 3]\n",
            " [1 0 1]]\n"
          ],
          "name": "stdout"
        }
      ]
    },
    {
      "cell_type": "code",
      "metadata": {
        "id": "uCSPu2i-RY8S",
        "colab": {
          "base_uri": "https://localhost:8080/",
          "height": 340
        },
        "outputId": "464608d7-b2f5-46f1-82c1-ef044014029b"
      },
      "source": [
        "# 95. Convert a vector of ints into a matrix binary representation\n",
        "# Author: Warren Weckesser\n",
        "\n",
        "I = np.array([0,1,2,3,15,16,32,64,128])\n",
        "B = ((I.reshape(-1,1) & (2**np.arange(8))) != 0).astype(int)\n",
        "print(B[:,::-1])\n",
        "print()\n",
        "\n",
        "# Auther: Daniel T. McDonald\n",
        "I = np.array([0,1,2,3,15,16,32,64,128], dtype=np.uint8)\n",
        "print(np.unpackbits(I[:, np.newaxis], axis=1))"
      ],
      "execution_count": null,
      "outputs": [
        {
          "output_type": "stream",
          "text": [
            "[[0 0 0 0 0 0 0 0]\n",
            " [0 0 0 0 0 0 0 1]\n",
            " [0 0 0 0 0 0 1 0]\n",
            " [0 0 0 0 0 0 1 1]\n",
            " [0 0 0 0 1 1 1 1]\n",
            " [0 0 0 1 0 0 0 0]\n",
            " [0 0 1 0 0 0 0 0]\n",
            " [0 1 0 0 0 0 0 0]\n",
            " [1 0 0 0 0 0 0 0]]\n",
            "\n",
            "[[0 0 0 0 0 0 0 0]\n",
            " [0 0 0 0 0 0 0 1]\n",
            " [0 0 0 0 0 0 1 0]\n",
            " [0 0 0 0 0 0 1 1]\n",
            " [0 0 0 0 1 1 1 1]\n",
            " [0 0 0 1 0 0 0 0]\n",
            " [0 0 1 0 0 0 0 0]\n",
            " [0 1 0 0 0 0 0 0]\n",
            " [1 0 0 0 0 0 0 0]]\n"
          ],
          "name": "stdout"
        }
      ]
    },
    {
      "cell_type": "code",
      "metadata": {
        "id": "1uw6Fa8TSsD-",
        "colab": {
          "base_uri": "https://localhost:8080/",
          "height": 170
        },
        "outputId": "d6837171-4d86-47fe-947b-e9e061007840"
      },
      "source": [
        "# 96. Given a two dimensional array, how to extract unique rows?\n",
        "# Author: Jaime Fernandez del Rio\n",
        "\n",
        "Z = np.random.randint(0,2,(6,3))\n",
        "T = np.ascontiguousarray(Z).view(np.dtype((np.void, Z.dtype.itemsize * Z.shape[1])))\n",
        "_, idx = np.unique(T, return_index=True)\n",
        "uZ = Z[idx]\n",
        "print(uZ)\n",
        "print()\n",
        "\n",
        "# Author: Andreas Kouzelis\n",
        "# Numpy >= 1.13\n",
        "uZ = np.unique(Z, axis=0)\n",
        "print(uZ)"
      ],
      "execution_count": null,
      "outputs": [
        {
          "output_type": "stream",
          "text": [
            "[[0 0 0]\n",
            " [0 1 0]\n",
            " [1 1 0]\n",
            " [1 1 1]]\n",
            "\n",
            "[[0 0 0]\n",
            " [0 1 0]\n",
            " [1 1 0]\n",
            " [1 1 1]]\n"
          ],
          "name": "stdout"
        }
      ]
    },
    {
      "cell_type": "code",
      "metadata": {
        "id": "H8XEGuTUUFsP",
        "colab": {
          "base_uri": "https://localhost:8080/",
          "height": 357
        },
        "outputId": "8b70d8e5-60df-4998-ea96-607e431667d9"
      },
      "source": [
        "# 97. Considering 2 vectors A & B, write the einsum equivalent of inner, outer, sum, and mul function\n",
        "# Auther: Alex Riley\n",
        "# Make sure to read: http://ajcr.net/Basic-guide-to-einsum/\n",
        "\n",
        "A = np.random.uniform(0,1,10)\n",
        "B = np.random.uniform(0,1,10)\n",
        "\n",
        "np.einsum('i->', A)       # np.sum(A)\n",
        "np.einsum('i,i->i', A, B) # A * B\n",
        "np.einsum('i,i', A, B)    # np.inner(A, B)\n",
        "np.einsum('i,j->ij', A, B)    # np.outer(A, B)\n"
      ],
      "execution_count": null,
      "outputs": [
        {
          "output_type": "execute_result",
          "data": {
            "text/plain": [
              "array([[0.02776685, 0.02531497, 0.0239223 , 0.01173566, 0.01284355,\n",
              "        0.00415973, 0.00400533, 0.027874  , 0.00816466, 0.00094197],\n",
              "       [0.90454074, 0.82466772, 0.77929983, 0.38230419, 0.41839509,\n",
              "        0.13550849, 0.1304787 , 0.90803143, 0.26597427, 0.03068592],\n",
              "       [0.83433422, 0.7606606 , 0.71881397, 0.3526314 , 0.38592108,\n",
              "        0.12499091, 0.12035151, 0.83755397, 0.24533051, 0.02830422],\n",
              "       [0.81611486, 0.74405005, 0.70311722, 0.34493098, 0.37749372,\n",
              "        0.12226148, 0.11772339, 0.8192643 , 0.23997322, 0.02768614],\n",
              "       [0.79345325, 0.72338951, 0.68359329, 0.33535305, 0.36701159,\n",
              "        0.11886656, 0.11445448, 0.79651523, 0.23330972, 0.02691736],\n",
              "       [0.63321889, 0.57730421, 0.54554466, 0.26762999, 0.29289523,\n",
              "        0.09486199, 0.09134091, 0.63566253, 0.18619386, 0.02148152],\n",
              "       [0.90623425, 0.82621169, 0.78075886, 0.38301995, 0.41917842,\n",
              "        0.13576219, 0.13072298, 0.90973147, 0.26647224, 0.03074338],\n",
              "       [0.54975931, 0.5012143 , 0.47364073, 0.2323558 , 0.25429103,\n",
              "        0.08235898, 0.07930199, 0.55188087, 0.16165312, 0.01865021],\n",
              "       [0.11009079, 0.10036952, 0.09484784, 0.04652988, 0.05092247,\n",
              "        0.01649261, 0.01588044, 0.11051564, 0.03237148, 0.00373475],\n",
              "       [0.82699567, 0.75397006, 0.71249149, 0.34952976, 0.38252663,\n",
              "        0.12389152, 0.11929293, 0.8301871 , 0.24317265, 0.02805526]])"
            ]
          },
          "metadata": {
            "tags": []
          },
          "execution_count": 33
        }
      ]
    },
    {
      "cell_type": "code",
      "metadata": {
        "id": "Yrb8kIH8Vjjw"
      },
      "source": [
        "# 98. Considering a path described by two vectors (X,Y), how to sample it using equidistant samples?\n",
        "# Author: Bas Swinckels\n",
        "\n",
        "phi = np.arange(0, 10*np.pi, 0.1)\n",
        "a = 1\n",
        "x = a*phi*np.cos(phi)\n",
        "y = a*phi*np.sin(phi)\n",
        "\n",
        "dr = (np.diff(x)**2 + np.diff(y)**2)**.5  # Segment length\n",
        "r = np.zeros_like(x)\n",
        "r[1:] = np.cumsum(dr)              # integrate path\n",
        "r_int = np.linspace(0, r.max(), 200) # regular spaced path\n",
        "x_int = np.interp(r_int, r, x)     # integrate path\n",
        "y_int = np.interp(r_int, r, y)"
      ],
      "execution_count": null,
      "outputs": []
    },
    {
      "cell_type": "code",
      "metadata": {
        "id": "MjH7Z1NWW8Ue",
        "colab": {
          "base_uri": "https://localhost:8080/",
          "height": 34
        },
        "outputId": "4dcc9afd-809c-4572-dacf-9961b59efdcb"
      },
      "source": [
        "# 99. Given an integer n and a 2D array X, select from X the rows which can be interpreted as draws from multinomial\n",
        "# distribution with n degrees, i.e., the rows which only contain integers and which sum to n\n",
        "# Author: Evgeni Burovski\n",
        "\n",
        "X = np.asarray([[1.0, 0.0, 3.0, 8.0],\n",
        "               [2.0, 0.0, 1.0, 1.0],\n",
        "               [1.5, 2.5, 1.0, 0.0]])\n",
        "n = 4\n",
        "M = np.logical_and.reduce(np.mod(X, 1) == 0, axis=-1)\n",
        "M &= (X.sum(axis=-1) == n)\n",
        "print(X[M])"
      ],
      "execution_count": null,
      "outputs": [
        {
          "output_type": "stream",
          "text": [
            "[[2. 0. 1. 1.]]\n"
          ],
          "name": "stdout"
        }
      ]
    },
    {
      "cell_type": "code",
      "metadata": {
        "id": "voxG7KiXYHib",
        "colab": {
          "base_uri": "https://localhost:8080/",
          "height": 34
        },
        "outputId": "3a1d99f9-8e9e-4fa1-d459-7639699008b1"
      },
      "source": [
        "# 100. Compute bootstrapped 95% confidence intervals for the mean of a 1D array X(i.e., resample the elements of an array\n",
        "# with replacement N times, compute the mean of each sample, and then compute percentiles over the mean)\n",
        "# Author: Jessica B. Hamrick\n",
        "\n",
        "X = np.random.randn(100)   # random 1D array\n",
        "N = 1000                   # number of bootstrap samples\n",
        "idx = np.random.randint(0, X.size, (N, X.size))\n",
        "means = X[idx].mean(axis=1)\n",
        "confint = np.percentile(means, [2.5, 97.5])\n",
        "print(confint)"
      ],
      "execution_count": null,
      "outputs": [
        {
          "output_type": "stream",
          "text": [
            "[-0.25782112  0.08256956]\n"
          ],
          "name": "stdout"
        }
      ]
    },
    {
      "cell_type": "code",
      "metadata": {
        "id": "21PmrORQZVhD"
      },
      "source": [
        ""
      ],
      "execution_count": null,
      "outputs": []
    }
  ]
}