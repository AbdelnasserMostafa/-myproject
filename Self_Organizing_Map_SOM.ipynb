{
  "nbformat": 4,
  "nbformat_minor": 0,
  "metadata": {
    "colab": {
      "name": "Self-Organizing Map SOM.ipynb",
      "provenance": [],
      "collapsed_sections": [],
      "include_colab_link": true
    },
    "kernelspec": {
      "name": "python3",
      "display_name": "Python 3"
    }
  },
  "cells": [
    {
      "cell_type": "markdown",
      "metadata": {
        "id": "view-in-github",
        "colab_type": "text"
      },
      "source": [
        "<a href=\"https://colab.research.google.com/github/AbdelnasserMostafa/-myproject/blob/master/Self_Organizing_Map_SOM.ipynb\" target=\"_parent\"><img src=\"https://colab.research.google.com/assets/colab-badge.svg\" alt=\"Open In Colab\"/></a>"
      ]
    },
    {
      "cell_type": "code",
      "metadata": {
        "id": "otueVma1MReI"
      },
      "source": [
        "# Clustering using a Self-Organizing Map\n",
        "# Setting up the SOM (Self-Organizing Map) algorithm\n",
        "\n",
        "import tensorflow as tf\n",
        "import numpy as np\n",
        "\n",
        "class SOM:\n",
        "  def __init__(self, width, height, dim):\n",
        "    self.num_iters = 100\n",
        "    self.width = width\n",
        "    self.height = height\n",
        "    self.dim = dim\n",
        "    self.node_locs = self.get_locs()\n",
        "    \n",
        "    # Each node is a vector of dimension 'dim'. For a 2D grid, there are 'width * hight' nodes\n",
        "    nodes = tf.Variable(tf.random_normal([width*height, dim]))\n",
        "    self.nodes = nodes\n",
        "    \n",
        "    # Thes two ops are inputs at each iteration\n",
        "    x = tf.placeholder(tf.floar32, [dim])\n",
        "    iter = tf.placeholder(tf.float32)\n",
        "    \n",
        "    # We'll need to access them from another method\n",
        "    self.x = x\n",
        "    self.iter = iter\n",
        "    \n",
        "    # Find the node that matches closest to the input\n",
        "    bmu_loc = self.get_bmu_loc(x)\n",
        "    \n",
        "    # Update the values of the neighbors\n",
        "    self.propagate_nodes = self.get_propagation(bmu_loc, x, iter)\n",
        "    \n",
        "# Defining how to update the values of neighbors\n",
        "\n",
        "def get_propagation(self, bmu_loc, x, iter):\n",
        "  num_nodes = self.width * self.height\n",
        "  \n",
        "  # The rate decreases as iter increases. This value influences alpha and sigma parameters.\n",
        "  rate = 1.0 - tf.div(iter, self.num_iters)\n",
        "  alpha = rate * 0.5\n",
        "  sigma = rate * tf.to_float(tf.maximum(self.width, self.height)) / 2.\n",
        "  \n",
        "  # Expand bmu_loc, so we can efficiently compare it pairwise with each element of note_locs\n",
        "  expanded_bmu_loc = tf.expand_dims(tf.to_float(bmu_loc), 0)\n",
        "  sqr_dists_from_bmu = tf.reduce_sum(\n",
        "    tf.square(tf.subtract(expanded_bmu_loc, self.node_locs)), 1)\n",
        "  \n",
        "  # Ensure that nodes closer to the bmu charge more dramatically\n",
        "  neigh_factor = tf.exp(-tf.div(sqr_dists_from_bmu, 2 * tf.square(sigma)))\n",
        "  rate = tf.multiply(alpha, neigh_factor)\n",
        "  rate_factor = tf.stack([tf.tile(tf.slice(rate, [i], [i]),\n",
        "                                 [self.dim]) for i in range(num_nodes)])\n",
        "  nodes_diff = tf.multiply(rate_factor,\n",
        "                          tf.subtract(tf.stack([x for i in range(num_nodes)]), self.nodes))\n",
        "  \n",
        "  # Define the updates\n",
        "  update_nodes = tf.add(self.nodes, nodes_diff)\n",
        "  \n",
        "  # Return an op to perform the updates\n",
        "  return tf.assign(self.nodes, update_nodes)\n",
        "\n",
        "# Get the node location of the closest match\n",
        "\n",
        "def get_bmu_loc(self, x):\n",
        "  expanded_x = tf.expand_dims(x, 0)\n",
        "  sqr_diff = tf.square(tf.subtract(expanded_x, self.nodes))\n",
        "  dists = tf.reduce_sum(sqr_diff, 1)\n",
        "  bmu_idx = tf.argmin(dists, 0)\n",
        "  bmu_loc = tf.stack([tf.mod(bmu_idx, self.width), tf.div(bmu_idx, self.width)])\n",
        "  return bmu_loc\n",
        "\n",
        "# Generate a matrix of points\n",
        "\n",
        "def get_locs(self):\n",
        "  locs = [[x, y]\n",
        "         for y in range(self.height)\n",
        "         for x in range(self.width)]\n",
        "  return tf.to_float(locs)\n",
        "\n",
        "# Run the SOM (Self-Organized MAP) algorithm\n",
        "\n",
        "def train(self, data):\n",
        "  with tf.Session() as sess:\n",
        "    sess.run(tf.global_variables_initializer())\n",
        "    for i in range(self.num_iters):\n",
        "      for data_x in data:\n",
        "        sess.run(self.propagate_nodes, feed_dict={self.x: data_x, self.iter: i})\n",
        "    centroid_grid = [[] for i in range(self.width)]\n",
        "    self.nodes_val = list(sess.run(self.nodes))\n",
        "    self.locs_val = list(sess.run(self.node_locs))\n",
        "    for i, l in enumerate(self.locs_val):\n",
        "      centroid_grid[int(1[0])].append(self.nodes_val[i])\n",
        "    self.centroid_grid = centroid_grid\n",
        "    \n",
        "# Test out and visualize results\n",
        "\n",
        "from matplotlib import pyplot as plt\n",
        "import numpy as np\n",
        "from som import SOM\n",
        "\n",
        "colors = np.array( \n",
        "    [[0., 0., 1.],\n",
        "     [0., 0., 0.95],\n",
        "     [0., 0.05, 1.], \n",
        "     [0., 1., 0.], \n",
        "     [0., 0.95, 0.], \n",
        "     [0., 1, 0.05], \n",
        "     [1., 0., 0.], \n",
        "     [1., 0.05, 0.], \n",
        "     [1., 0., 0.05], \n",
        "     [1., 1., 0.]])\n",
        "\n",
        "# The grid size is 4 x 4, and the Input dimension is 3\n",
        "som = SOM(4, 4, 3)\n",
        "som.train(colors)\n",
        "\n",
        "plt.imshow(som.centroid_grid)\n",
        "plt.show()"
      ],
      "execution_count": null,
      "outputs": []
    },
    {
      "cell_type": "code",
      "metadata": {
        "id": "PLEKCqVoMuYn"
      },
      "source": [
        ""
      ],
      "execution_count": null,
      "outputs": []
    },
    {
      "cell_type": "code",
      "metadata": {
        "id": "QhnlsKOFNZ12"
      },
      "source": [
        ""
      ],
      "execution_count": null,
      "outputs": []
    }
  ]
}