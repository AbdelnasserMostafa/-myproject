{
  "nbformat": 4,
  "nbformat_minor": 0,
  "metadata": {
    "colab": {
      "name": "Data_Visualization_Using_Plotly_InPython.ipynb",
      "provenance": [],
      "include_colab_link": true
    },
    "kernelspec": {
      "name": "python3",
      "display_name": "Python 3"
    },
    "accelerator": "GPU"
  },
  "cells": [
    {
      "cell_type": "markdown",
      "metadata": {
        "id": "view-in-github",
        "colab_type": "text"
      },
      "source": [
        "<a href=\"https://colab.research.google.com/github/AbdelnasserMostafa/-myproject/blob/master/Data_Visualization_Using_Plotly_InPython.ipynb\" target=\"_parent\"><img src=\"https://colab.research.google.com/assets/colab-badge.svg\" alt=\"Open In Colab\"/></a>"
      ]
    },
    {
      "cell_type": "code",
      "metadata": {
        "id": "8aTJofqIBTbO",
        "colab": {
          "base_uri": "https://localhost:8080/",
          "height": 165
        },
        "outputId": "5d52f99a-84a7-4ce9-b546-8bb0d63a34ba"
      },
      "source": [
        "!git clone https://github.com/santosjorge/cufflinks.git"
      ],
      "execution_count": null,
      "outputs": [
        {
          "output_type": "stream",
          "text": [
            "Cloning into 'cufflinks'...\n",
            "remote: Enumerating objects: 7, done.\u001b[K\n",
            "remote: Counting objects: 100% (7/7), done.\u001b[K\n",
            "remote: Compressing objects: 100% (7/7), done.\u001b[K\n",
            "remote: Total 1778 (delta 2), reused 0 (delta 0), pack-reused 1771\u001b[K\n",
            "Receiving objects: 100% (1778/1778), 17.26 MiB | 14.43 MiB/s, done.\n",
            "Resolving deltas: 100% (1183/1183), done.\n"
          ],
          "name": "stdout"
        }
      ]
    },
    {
      "cell_type": "code",
      "metadata": {
        "id": "WWYEExdVB6Ok",
        "colab": {
          "base_uri": "https://localhost:8080/",
          "height": 148
        },
        "outputId": "834960ed-1fad-4753-a721-04bfdb110514"
      },
      "source": [
        "ls -la"
      ],
      "execution_count": null,
      "outputs": [
        {
          "output_type": "stream",
          "text": [
            "total 20\n",
            "drwxr-xr-x 1 root root 4096 Feb 10 07:06 \u001b[0m\u001b[01;34m.\u001b[0m/\n",
            "drwxr-xr-x 1 root root 4096 Feb 10 06:29 \u001b[01;34m..\u001b[0m/\n",
            "drwxr-xr-x 1 root root 4096 Feb  6 17:30 \u001b[01;34m.config\u001b[0m/\n",
            "drwxr-xr-x 8 root root 4096 Feb 10 07:06 \u001b[01;34mcufflinks\u001b[0m/\n",
            "drwxr-xr-x 1 root root 4096 Feb  6 17:31 \u001b[01;34msample_data\u001b[0m/\n"
          ],
          "name": "stdout"
        }
      ]
    },
    {
      "cell_type": "code",
      "metadata": {
        "id": "gn4mMGgkCP3R",
        "colab": {
          "base_uri": "https://localhost:8080/",
          "height": 34
        },
        "outputId": "c11fb169-aead-4bc0-f1bd-47ccbd016b5c"
      },
      "source": [
        "cd cufflinks/"
      ],
      "execution_count": null,
      "outputs": [
        {
          "output_type": "stream",
          "text": [
            "/content/cufflinks\n"
          ],
          "name": "stdout"
        }
      ]
    },
    {
      "cell_type": "code",
      "metadata": {
        "id": "pI_4-C2YHpNH",
        "colab": {
          "base_uri": "https://localhost:8080/",
          "height": 437
        },
        "outputId": "1bdb0832-0c29-4b74-93fe-2baffad5fc95"
      },
      "source": [
        "ls -la"
      ],
      "execution_count": null,
      "outputs": [
        {
          "output_type": "stream",
          "text": [
            "total 51144\n",
            "drwxr-xr-x 8 root root     4096 Feb 10 07:06  \u001b[0m\u001b[01;34m.\u001b[0m/\n",
            "drwxr-xr-x 1 root root     4096 Feb 10 07:06  \u001b[01;34m..\u001b[0m/\n",
            "drwxr-xr-x 2 root root     4096 Feb 10 07:06  \u001b[01;34m.circleci\u001b[0m/\n",
            "drwxr-xr-x 2 root root     4096 Feb 10 07:06  \u001b[01;34mcufflinks\u001b[0m/\n",
            "-rw-r--r-- 1 root root 12507590 Feb 10 07:06 'Cufflinks Tutorial - Chart Gallery.ipynb'\n",
            "-rw-r--r-- 1 root root    83462 Feb 10 07:06 'Cufflinks Tutorial - Colors.ipynb'\n",
            "-rw-r--r-- 1 root root 11635502 Feb 10 07:06 'Cufflinks Tutorial - Offline.ipynb'\n",
            "-rw-r--r-- 1 root root 15814030 Feb 10 07:06 'Cufflinks Tutorial - Pandas Like.ipynb'\n",
            "-rw-r--r-- 1 root root 12019966 Feb 10 07:06 'Cufflinks Tutorial - Plotly.ipynb'\n",
            "-rw-r--r-- 1 root root   222255 Feb 10 07:06 'Cufflinks Tutorial - Quantfig.ipynb'\n",
            "drwxr-xr-x 2 root root     4096 Feb 10 07:06  \u001b[01;34mdata\u001b[0m/\n",
            "drwxr-xr-x 8 root root     4096 Feb 10 07:06  \u001b[01;34m.git\u001b[0m/\n",
            "-rw-r--r-- 1 root root      770 Feb 10 07:06  .gitignore\n",
            "drwxr-xr-x 2 root root     4096 Feb 10 07:06  \u001b[01;34mhelper\u001b[0m/\n",
            "drwxr-xr-x 2 root root     4096 Feb 10 07:06  \u001b[01;34mimg\u001b[0m/\n",
            "-rw-r--r-- 1 root root     1051 Feb 10 07:06  license.txt\n",
            "-rw-r--r-- 1 root root       67 Feb 10 07:06  MANIFEST.in\n",
            "-rw-r--r-- 1 root root     8341 Feb 10 07:06  README.md\n",
            "-rw-r--r-- 1 root root      135 Feb 10 07:06  requirements.txt\n",
            "-rw-r--r-- 1 root root       39 Feb 10 07:06  setup.cfg\n",
            "-rw-r--r-- 1 root root      692 Feb 10 07:06  setup.py\n",
            "-rw-r--r-- 1 root root     6423 Feb 10 07:06  tests.py\n"
          ],
          "name": "stdout"
        }
      ]
    },
    {
      "cell_type": "code",
      "metadata": {
        "id": "DSpa5NdRO54K",
        "colab": {
          "base_uri": "https://localhost:8080/",
          "height": 5984
        },
        "outputId": "683d31d4-c2d5-4108-a1a0-bac12065a729"
      },
      "source": [
        "!python setup.py install"
      ],
      "execution_count": null,
      "outputs": [
        {
          "output_type": "stream",
          "text": [
            "running install\n",
            "running bdist_egg\n",
            "running egg_info\n",
            "creating cufflinks.egg-info\n",
            "writing cufflinks.egg-info/PKG-INFO\n",
            "writing dependency_links to cufflinks.egg-info/dependency_links.txt\n",
            "writing requirements to cufflinks.egg-info/requires.txt\n",
            "writing top-level names to cufflinks.egg-info/top_level.txt\n",
            "writing manifest file 'cufflinks.egg-info/SOURCES.txt'\n",
            "reading manifest template 'MANIFEST.in'\n",
            "writing manifest file 'cufflinks.egg-info/SOURCES.txt'\n",
            "installing library code to build/bdist.linux-x86_64/egg\n",
            "running install_lib\n",
            "running build_py\n",
            "creating build\n",
            "creating build/lib\n",
            "creating build/lib/cufflinks\n",
            "copying cufflinks/tools.py -> build/lib/cufflinks\n",
            "copying cufflinks/ta.py -> build/lib/cufflinks\n",
            "copying cufflinks/__init__.py -> build/lib/cufflinks\n",
            "copying cufflinks/quant_figure.py -> build/lib/cufflinks\n",
            "copying cufflinks/extract.py -> build/lib/cufflinks\n",
            "copying cufflinks/plotlytools.py -> build/lib/cufflinks\n",
            "copying cufflinks/offline.py -> build/lib/cufflinks\n",
            "copying cufflinks/helper.py -> build/lib/cufflinks\n",
            "copying cufflinks/date_tools.py -> build/lib/cufflinks\n",
            "copying cufflinks/colors.py -> build/lib/cufflinks\n",
            "copying cufflinks/pandastools.py -> build/lib/cufflinks\n",
            "copying cufflinks/auth.py -> build/lib/cufflinks\n",
            "copying cufflinks/exceptions.py -> build/lib/cufflinks\n",
            "copying cufflinks/utils.py -> build/lib/cufflinks\n",
            "copying cufflinks/themes.py -> build/lib/cufflinks\n",
            "copying cufflinks/datagen.py -> build/lib/cufflinks\n",
            "copying cufflinks/version.py -> build/lib/cufflinks\n",
            "creating build/lib/helper\n",
            "copying cufflinks/../helper/params.json -> build/lib/cufflinks/../helper\n",
            "creating build/bdist.linux-x86_64\n",
            "creating build/bdist.linux-x86_64/egg\n",
            "creating build/bdist.linux-x86_64/egg/cufflinks\n",
            "copying build/lib/cufflinks/tools.py -> build/bdist.linux-x86_64/egg/cufflinks\n",
            "copying build/lib/cufflinks/ta.py -> build/bdist.linux-x86_64/egg/cufflinks\n",
            "copying build/lib/cufflinks/__init__.py -> build/bdist.linux-x86_64/egg/cufflinks\n",
            "copying build/lib/cufflinks/quant_figure.py -> build/bdist.linux-x86_64/egg/cufflinks\n",
            "copying build/lib/cufflinks/extract.py -> build/bdist.linux-x86_64/egg/cufflinks\n",
            "copying build/lib/cufflinks/plotlytools.py -> build/bdist.linux-x86_64/egg/cufflinks\n",
            "copying build/lib/cufflinks/offline.py -> build/bdist.linux-x86_64/egg/cufflinks\n",
            "copying build/lib/cufflinks/helper.py -> build/bdist.linux-x86_64/egg/cufflinks\n",
            "copying build/lib/cufflinks/date_tools.py -> build/bdist.linux-x86_64/egg/cufflinks\n",
            "copying build/lib/cufflinks/colors.py -> build/bdist.linux-x86_64/egg/cufflinks\n",
            "copying build/lib/cufflinks/pandastools.py -> build/bdist.linux-x86_64/egg/cufflinks\n",
            "copying build/lib/cufflinks/auth.py -> build/bdist.linux-x86_64/egg/cufflinks\n",
            "copying build/lib/cufflinks/exceptions.py -> build/bdist.linux-x86_64/egg/cufflinks\n",
            "copying build/lib/cufflinks/utils.py -> build/bdist.linux-x86_64/egg/cufflinks\n",
            "copying build/lib/cufflinks/themes.py -> build/bdist.linux-x86_64/egg/cufflinks\n",
            "copying build/lib/cufflinks/datagen.py -> build/bdist.linux-x86_64/egg/cufflinks\n",
            "copying build/lib/cufflinks/version.py -> build/bdist.linux-x86_64/egg/cufflinks\n",
            "creating build/bdist.linux-x86_64/egg/helper\n",
            "copying build/lib/helper/params.json -> build/bdist.linux-x86_64/egg/helper\n",
            "byte-compiling build/bdist.linux-x86_64/egg/cufflinks/tools.py to tools.cpython-36.pyc\n",
            "byte-compiling build/bdist.linux-x86_64/egg/cufflinks/ta.py to ta.cpython-36.pyc\n",
            "byte-compiling build/bdist.linux-x86_64/egg/cufflinks/__init__.py to __init__.cpython-36.pyc\n",
            "byte-compiling build/bdist.linux-x86_64/egg/cufflinks/quant_figure.py to quant_figure.cpython-36.pyc\n",
            "byte-compiling build/bdist.linux-x86_64/egg/cufflinks/extract.py to extract.cpython-36.pyc\n",
            "byte-compiling build/bdist.linux-x86_64/egg/cufflinks/plotlytools.py to plotlytools.cpython-36.pyc\n",
            "byte-compiling build/bdist.linux-x86_64/egg/cufflinks/offline.py to offline.cpython-36.pyc\n",
            "byte-compiling build/bdist.linux-x86_64/egg/cufflinks/helper.py to helper.cpython-36.pyc\n",
            "byte-compiling build/bdist.linux-x86_64/egg/cufflinks/date_tools.py to date_tools.cpython-36.pyc\n",
            "byte-compiling build/bdist.linux-x86_64/egg/cufflinks/colors.py to colors.cpython-36.pyc\n",
            "byte-compiling build/bdist.linux-x86_64/egg/cufflinks/pandastools.py to pandastools.cpython-36.pyc\n",
            "byte-compiling build/bdist.linux-x86_64/egg/cufflinks/auth.py to auth.cpython-36.pyc\n",
            "byte-compiling build/bdist.linux-x86_64/egg/cufflinks/exceptions.py to exceptions.cpython-36.pyc\n",
            "byte-compiling build/bdist.linux-x86_64/egg/cufflinks/utils.py to utils.cpython-36.pyc\n",
            "byte-compiling build/bdist.linux-x86_64/egg/cufflinks/themes.py to themes.cpython-36.pyc\n",
            "byte-compiling build/bdist.linux-x86_64/egg/cufflinks/datagen.py to datagen.cpython-36.pyc\n",
            "byte-compiling build/bdist.linux-x86_64/egg/cufflinks/version.py to version.cpython-36.pyc\n",
            "creating build/bdist.linux-x86_64/egg/EGG-INFO\n",
            "copying cufflinks.egg-info/PKG-INFO -> build/bdist.linux-x86_64/egg/EGG-INFO\n",
            "copying cufflinks.egg-info/SOURCES.txt -> build/bdist.linux-x86_64/egg/EGG-INFO\n",
            "copying cufflinks.egg-info/dependency_links.txt -> build/bdist.linux-x86_64/egg/EGG-INFO\n",
            "copying cufflinks.egg-info/not-zip-safe -> build/bdist.linux-x86_64/egg/EGG-INFO\n",
            "copying cufflinks.egg-info/requires.txt -> build/bdist.linux-x86_64/egg/EGG-INFO\n",
            "copying cufflinks.egg-info/top_level.txt -> build/bdist.linux-x86_64/egg/EGG-INFO\n",
            "creating dist\n",
            "creating 'dist/cufflinks-0.14.6-py3.6.egg' and adding 'build/bdist.linux-x86_64/egg' to it\n",
            "removing 'build/bdist.linux-x86_64/egg' (and everything under it)\n",
            "Processing cufflinks-0.14.6-py3.6.egg\n",
            "creating /usr/local/lib/python3.6/dist-packages/cufflinks-0.14.6-py3.6.egg\n",
            "Extracting cufflinks-0.14.6-py3.6.egg to /usr/local/lib/python3.6/dist-packages\n",
            "Adding cufflinks 0.14.6 to easy-install.pth file\n",
            "\n",
            "Installed /usr/local/lib/python3.6/dist-packages/cufflinks-0.14.6-py3.6.egg\n",
            "Processing dependencies for cufflinks==0.14.6\n",
            "Searching for ipywidgets==7.4.2\n",
            "Best match: ipywidgets 7.4.2\n",
            "Adding ipywidgets 7.4.2 to easy-install.pth file\n",
            "\n",
            "Using /usr/local/lib/python3.6/dist-packages\n",
            "Searching for nose==1.3.7\n",
            "Best match: nose 1.3.7\n",
            "Adding nose 1.3.7 to easy-install.pth file\n",
            "Installing nosetests script to /usr/local/bin\n",
            "Installing nosetests-3.4 script to /usr/local/bin\n",
            "\n",
            "Using /usr/local/lib/python3.6/dist-packages\n",
            "Searching for ipython==5.5.0\n",
            "Best match: ipython 5.5.0\n",
            "Adding ipython 5.5.0 to easy-install.pth file\n",
            "Installing iptest script to /usr/local/bin\n",
            "Installing iptest3 script to /usr/local/bin\n",
            "Installing ipython script to /usr/local/bin\n",
            "Installing ipython3 script to /usr/local/bin\n",
            "\n",
            "Using /usr/local/lib/python3.6/dist-packages\n",
            "Searching for setuptools==40.8.0\n",
            "Best match: setuptools 40.8.0\n",
            "Adding setuptools 40.8.0 to easy-install.pth file\n",
            "Installing easy_install script to /usr/local/bin\n",
            "Installing easy_install-3.6 script to /usr/local/bin\n",
            "\n",
            "Using /usr/local/lib/python3.6/dist-packages\n",
            "Searching for colorlover==0.3.0\n",
            "Best match: colorlover 0.3.0\n",
            "Adding colorlover 0.3.0 to easy-install.pth file\n",
            "\n",
            "Using /usr/local/lib/python3.6/dist-packages\n",
            "Searching for six==1.11.0\n",
            "Best match: six 1.11.0\n",
            "Adding six 1.11.0 to easy-install.pth file\n",
            "\n",
            "Using /usr/local/lib/python3.6/dist-packages\n",
            "Searching for plotly==3.6.1\n",
            "Best match: plotly 3.6.1\n",
            "Adding plotly 3.6.1 to easy-install.pth file\n",
            "\n",
            "Using /usr/local/lib/python3.6/dist-packages\n",
            "Searching for pandas==0.22.0\n",
            "Best match: pandas 0.22.0\n",
            "Adding pandas 0.22.0 to easy-install.pth file\n",
            "\n",
            "Using /usr/local/lib/python3.6/dist-packages\n",
            "Searching for numpy==1.14.6\n",
            "Best match: numpy 1.14.6\n",
            "Adding numpy 1.14.6 to easy-install.pth file\n",
            "\n",
            "Using /usr/local/lib/python3.6/dist-packages\n",
            "Searching for widgetsnbextension==3.4.2\n",
            "Best match: widgetsnbextension 3.4.2\n",
            "Adding widgetsnbextension 3.4.2 to easy-install.pth file\n",
            "\n",
            "Using /usr/local/lib/python3.6/dist-packages\n",
            "Searching for ipykernel==4.6.1\n",
            "Best match: ipykernel 4.6.1\n",
            "Adding ipykernel 4.6.1 to easy-install.pth file\n",
            "\n",
            "Using /usr/local/lib/python3.6/dist-packages\n",
            "Searching for nbformat==4.4.0\n",
            "Best match: nbformat 4.4.0\n",
            "Adding nbformat 4.4.0 to easy-install.pth file\n",
            "Installing jupyter-trust script to /usr/local/bin\n",
            "\n",
            "Using /usr/local/lib/python3.6/dist-packages\n",
            "Searching for traitlets==4.3.2\n",
            "Best match: traitlets 4.3.2\n",
            "Adding traitlets 4.3.2 to easy-install.pth file\n",
            "\n",
            "Using /usr/local/lib/python3.6/dist-packages\n",
            "Searching for pexpect==4.6.0\n",
            "Best match: pexpect 4.6.0\n",
            "Adding pexpect 4.6.0 to easy-install.pth file\n",
            "\n",
            "Using /usr/local/lib/python3.6/dist-packages\n",
            "Searching for pickleshare==0.7.5\n",
            "Best match: pickleshare 0.7.5\n",
            "Adding pickleshare 0.7.5 to easy-install.pth file\n",
            "\n",
            "Using /usr/local/lib/python3.6/dist-packages\n",
            "Searching for Pygments==2.1.3\n",
            "Best match: Pygments 2.1.3\n",
            "Adding Pygments 2.1.3 to easy-install.pth file\n",
            "Installing pygmentize script to /usr/local/bin\n",
            "\n",
            "Using /usr/local/lib/python3.6/dist-packages\n",
            "Searching for decorator==4.3.2\n",
            "Best match: decorator 4.3.2\n",
            "Adding decorator 4.3.2 to easy-install.pth file\n",
            "\n",
            "Using /usr/local/lib/python3.6/dist-packages\n",
            "Searching for prompt-toolkit==1.0.15\n",
            "Best match: prompt-toolkit 1.0.15\n",
            "Adding prompt-toolkit 1.0.15 to easy-install.pth file\n",
            "\n",
            "Using /usr/local/lib/python3.6/dist-packages\n",
            "Searching for simplegeneric==0.8.1\n",
            "Best match: simplegeneric 0.8.1\n",
            "Adding simplegeneric 0.8.1 to easy-install.pth file\n",
            "\n",
            "Using /usr/local/lib/python3.6/dist-packages\n",
            "Searching for retrying==1.3.3\n",
            "Best match: retrying 1.3.3\n",
            "Adding retrying 1.3.3 to easy-install.pth file\n",
            "\n",
            "Using /usr/local/lib/python3.6/dist-packages\n",
            "Searching for requests==2.18.4\n",
            "Best match: requests 2.18.4\n",
            "Adding requests 2.18.4 to easy-install.pth file\n",
            "\n",
            "Using /usr/local/lib/python3.6/dist-packages\n",
            "Searching for pytz==2018.9\n",
            "Best match: pytz 2018.9\n",
            "Adding pytz 2018.9 to easy-install.pth file\n",
            "\n",
            "Using /usr/local/lib/python3.6/dist-packages\n",
            "Searching for python-dateutil==2.5.3\n",
            "Best match: python-dateutil 2.5.3\n",
            "Adding python-dateutil 2.5.3 to easy-install.pth file\n",
            "\n",
            "Using /usr/local/lib/python3.6/dist-packages\n",
            "Searching for notebook==5.2.2\n",
            "Best match: notebook 5.2.2\n",
            "Adding notebook 5.2.2 to easy-install.pth file\n",
            "Installing jupyter-bundlerextension script to /usr/local/bin\n",
            "Installing jupyter-nbextension script to /usr/local/bin\n",
            "Installing jupyter-notebook script to /usr/local/bin\n",
            "Installing jupyter-serverextension script to /usr/local/bin\n",
            "\n",
            "Using /usr/local/lib/python3.6/dist-packages\n",
            "Searching for tornado==4.5.3\n",
            "Best match: tornado 4.5.3\n",
            "Adding tornado 4.5.3 to easy-install.pth file\n",
            "\n",
            "Using /usr/local/lib/python3.6/dist-packages\n",
            "Searching for jupyter-client==5.2.4\n",
            "Best match: jupyter-client 5.2.4\n",
            "Adding jupyter-client 5.2.4 to easy-install.pth file\n",
            "Installing jupyter-kernel script to /usr/local/bin\n",
            "Installing jupyter-kernelspec script to /usr/local/bin\n",
            "Installing jupyter-run script to /usr/local/bin\n",
            "\n",
            "Using /usr/local/lib/python3.6/dist-packages\n",
            "Searching for jupyter-core==4.4.0\n",
            "Best match: jupyter-core 4.4.0\n",
            "Adding jupyter-core 4.4.0 to easy-install.pth file\n",
            "Installing jupyter script to /usr/local/bin\n",
            "Installing jupyter-migrate script to /usr/local/bin\n",
            "Installing jupyter-troubleshoot script to /usr/local/bin\n",
            "\n",
            "Using /usr/local/lib/python3.6/dist-packages\n",
            "Searching for ipython-genutils==0.2.0\n",
            "Best match: ipython-genutils 0.2.0\n",
            "Adding ipython-genutils 0.2.0 to easy-install.pth file\n",
            "\n",
            "Using /usr/local/lib/python3.6/dist-packages\n",
            "Searching for jsonschema==2.6.0\n",
            "Best match: jsonschema 2.6.0\n",
            "Adding jsonschema 2.6.0 to easy-install.pth file\n",
            "Installing jsonschema script to /usr/local/bin\n",
            "\n",
            "Using /usr/local/lib/python3.6/dist-packages\n",
            "Searching for ptyprocess==0.6.0\n",
            "Best match: ptyprocess 0.6.0\n",
            "Adding ptyprocess 0.6.0 to easy-install.pth file\n",
            "\n",
            "Using /usr/local/lib/python3.6/dist-packages\n",
            "Searching for wcwidth==0.1.7\n",
            "Best match: wcwidth 0.1.7\n",
            "Adding wcwidth 0.1.7 to easy-install.pth file\n",
            "\n",
            "Using /usr/local/lib/python3.6/dist-packages\n",
            "Searching for certifi==2018.11.29\n",
            "Best match: certifi 2018.11.29\n",
            "Adding certifi 2018.11.29 to easy-install.pth file\n",
            "\n",
            "Using /usr/local/lib/python3.6/dist-packages\n",
            "Searching for idna==2.6\n",
            "Best match: idna 2.6\n",
            "Adding idna 2.6 to easy-install.pth file\n",
            "\n",
            "Using /usr/local/lib/python3.6/dist-packages\n",
            "Searching for chardet==3.0.4\n",
            "Best match: chardet 3.0.4\n",
            "Adding chardet 3.0.4 to easy-install.pth file\n",
            "Installing chardetect script to /usr/local/bin\n",
            "\n",
            "Using /usr/local/lib/python3.6/dist-packages\n",
            "Searching for urllib3==1.22\n",
            "Best match: urllib3 1.22\n",
            "Adding urllib3 1.22 to easy-install.pth file\n",
            "\n",
            "Using /usr/local/lib/python3.6/dist-packages\n",
            "Searching for nbconvert==5.4.0\n",
            "Best match: nbconvert 5.4.0\n",
            "Adding nbconvert 5.4.0 to easy-install.pth file\n",
            "Installing jupyter-nbconvert script to /usr/local/bin\n",
            "\n",
            "Using /usr/local/lib/python3.6/dist-packages\n",
            "Searching for terminado==0.8.1\n",
            "Best match: terminado 0.8.1\n",
            "Adding terminado 0.8.1 to easy-install.pth file\n",
            "\n",
            "Using /usr/local/lib/python3.6/dist-packages\n",
            "Searching for Jinja2==2.10\n",
            "Best match: Jinja2 2.10\n",
            "Adding Jinja2 2.10 to easy-install.pth file\n",
            "\n",
            "Using /usr/local/lib/python3.6/dist-packages\n",
            "Searching for pyzmq==17.0.0\n",
            "Best match: pyzmq 17.0.0\n",
            "Adding pyzmq 17.0.0 to easy-install.pth file\n",
            "\n",
            "Using /usr/local/lib/python3.6/dist-packages\n",
            "Searching for pandocfilters==1.4.2\n",
            "Best match: pandocfilters 1.4.2\n",
            "Adding pandocfilters 1.4.2 to easy-install.pth file\n",
            "\n",
            "Using /usr/local/lib/python3.6/dist-packages\n",
            "Searching for mistune==0.8.4\n",
            "Best match: mistune 0.8.4\n",
            "Adding mistune 0.8.4 to easy-install.pth file\n",
            "\n",
            "Using /usr/local/lib/python3.6/dist-packages\n",
            "Searching for defusedxml==0.5.0\n",
            "Best match: defusedxml 0.5.0\n",
            "Adding defusedxml 0.5.0 to easy-install.pth file\n",
            "\n",
            "Using /usr/local/lib/python3.6/dist-packages\n",
            "Searching for testpath==0.4.2\n",
            "Best match: testpath 0.4.2\n",
            "Adding testpath 0.4.2 to easy-install.pth file\n",
            "\n",
            "Using /usr/local/lib/python3.6/dist-packages\n",
            "Searching for entrypoints==0.3\n",
            "Best match: entrypoints 0.3\n",
            "Adding entrypoints 0.3 to easy-install.pth file\n",
            "\n",
            "Using /usr/local/lib/python3.6/dist-packages\n",
            "Searching for bleach==3.1.0\n",
            "Best match: bleach 3.1.0\n",
            "Adding bleach 3.1.0 to easy-install.pth file\n",
            "\n",
            "Using /usr/local/lib/python3.6/dist-packages\n",
            "Searching for MarkupSafe==1.1.0\n",
            "Best match: MarkupSafe 1.1.0\n",
            "Adding MarkupSafe 1.1.0 to easy-install.pth file\n",
            "\n",
            "Using /usr/local/lib/python3.6/dist-packages\n",
            "Searching for webencodings==0.5.1\n",
            "Best match: webencodings 0.5.1\n",
            "Adding webencodings 0.5.1 to easy-install.pth file\n",
            "\n",
            "Using /usr/local/lib/python3.6/dist-packages\n",
            "Finished processing dependencies for cufflinks==0.14.6\n"
          ],
          "name": "stdout"
        }
      ]
    },
    {
      "cell_type": "code",
      "metadata": {
        "id": "KFfJxV23PR03"
      },
      "source": [
        "from plotly.graph_objs import Figure, Layout, Bar, Box, Scatter, Scatter3d, Histogram, Heatmap, Surface, Pie"
      ],
      "execution_count": null,
      "outputs": []
    },
    {
      "cell_type": "code",
      "metadata": {
        "id": "Sk10e8EmPZYL",
        "colab": {
          "base_uri": "https://localhost:8080/",
          "height": 17
        },
        "outputId": "df1e403d-edc1-406f-cffc-b8e5c2d329ab"
      },
      "source": [
        "# Using plotly + cufflinks in offline mode\n",
        "#import cufflinks\n",
        "#cufflinks.go_offline(connected=True)\n",
        "init_notebook_mode(connected=True)"
      ],
      "execution_count": null,
      "outputs": [
        {
          "output_type": "display_data",
          "data": {
            "text/html": [
              "<script>requirejs.config({paths: { 'plotly': ['https://cdn.plot.ly/plotly-latest.min']},});if(!window.Plotly) {{require(['plotly'],function(plotly) {window.Plotly=plotly;});}}</script>"
            ],
            "text/plain": [
              "<IPython.core.display.HTML object>"
            ]
          },
          "metadata": {
            "tags": []
          }
        }
      ]
    },
    {
      "cell_type": "code",
      "metadata": {
        "id": "qudPqfKbPxsk",
        "colab": {
          "base_uri": "https://localhost:8080/",
          "height": 181
        },
        "outputId": "b8ce2a1a-b3d8-4d1d-c372-d337b393a420"
      },
      "source": [
        "df['claps'].iplot(kind='hist', xTitle='claps',\n",
        "                  yTitle='count', title='Claps Distribution')"
      ],
      "execution_count": null,
      "outputs": [
        {
          "output_type": "error",
          "ename": "NameError",
          "evalue": "ignored",
          "traceback": [
            "\u001b[0;31m---------------------------------------------------------------------------\u001b[0m",
            "\u001b[0;31mNameError\u001b[0m                                 Traceback (most recent call last)",
            "\u001b[0;32m<ipython-input-22-3d2140613f48>\u001b[0m in \u001b[0;36m<module>\u001b[0;34m()\u001b[0m\n\u001b[0;32m----> 1\u001b[0;31m df['claps'].iplot(kind='hist', xTitle='claps',\n\u001b[0m\u001b[1;32m      2\u001b[0m                   yTitle='count', title='Claps Distribution')\n",
            "\u001b[0;31mNameError\u001b[0m: name 'df' is not defined"
          ]
        }
      ]
    },
    {
      "cell_type": "code",
      "metadata": {
        "id": "fNwG_Tu0P5KT"
      },
      "source": [
        ""
      ],
      "execution_count": null,
      "outputs": []
    }
  ]
}